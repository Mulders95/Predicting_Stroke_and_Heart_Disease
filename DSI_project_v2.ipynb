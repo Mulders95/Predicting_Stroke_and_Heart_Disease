{
 "cells": [
  {
   "cell_type": "markdown",
   "metadata": {},
   "source": [
    "At this point the summary statistics for all the variables in the dataset have been generated. Data Transformation of the categorical variables using the Label Encoder\n",
    "\n",
    "function in scikit-learn has also been done. Finally, the missing values for the bmi variable have been imputed using the grouped means of the values of the other variables.\n",
    "\n",
    "Note also that the only variable in this dataset with missing values is the bmi variable."
   ]
  },
  {
   "cell_type": "markdown",
   "metadata": {},
   "source": [
    "The dataset has been obtained from https://www.kaggle.com/datasets/fedesoriano/stroke-prediction-dataset"
   ]
  },
  {
   "cell_type": "markdown",
   "metadata": {},
   "source": [
    "Notes for version 3 of this file:\n",
    "\n",
    "This .ipynb is an improvement on the previous iteration of DSI_project.ipynb. To avoid confusion the file name is not being changed this time since we are relying on git/github for the version control.\n",
    "\n",
    "The new features in this file are as follows. First, although we have defined a lower cut-off value for the Age variable in each of the three dataframes (one each for stroke, hypertension, and heart disease we \n",
    "\n",
    "created) we had not defined an upper cut-off value. We do this here. We also define lower cut-off and upper cut-off values for the avg_glucose_level and bmi variables. The identification of lower cut-off and upper \n",
    "\n",
    "cut-off values for any of these three numerical variables may be explained by considering the age variable. The exact same procedure is being followed for avg_glucose_level and bmi.\n",
    "\n",
    "The lower cut-off value for age is the smallest value of age for which we have an observation with stroke = 1. The upper cut-off value for age is the largest value of age for which we have an observation with stroke \n",
    "\n",
    "= 1. We do this for all three numerical variables (age, avg_glucose_level, and bmi) for each of the three new dataframes we created (one each for stroke, heart_disease and hypertension). A check is performed on each \n",
    "\n",
    "of the three newly created dataframes to see if any of the category variables have a level with no observation. If such a level exists it is dropped from that category variable."
   ]
  },
  {
   "cell_type": "markdown",
   "metadata": {},
   "source": [
    "Notes for version 2 of this file: \n",
    "\n",
    "This .ipynb file is an improved version of the DSI_project.ipynb. The following are the main differences:\n",
    "\n",
    " Grouped Median values have been used to do the BMI missing value imputation (and not Grouped Means which was used earlier). This is because the median is resistant to extreme values, while the mean \n",
    "\n",
    " is sensitive to extreme values, and as seen in the boxplot of the BMI values we do have extreme values present in the BMI variable.\n",
    "\n",
    "Only two classes, based on the median value, were used for constructing the categorical age and avg_glucose_level variables. This was done to prevent any need for a second round of imputation of \n",
    "\n",
    "missing values.\n",
    "\n",
    "All observations corresponding to work_type = children were removed from the dataset. The rationale for doing this is that there are 687 such observations whereas there are only 3 such observations \n",
    "\n",
    "representing people with one of the three diseases (stroke, hypertension or heart disease) under consideration. No model will be able to classify a binary outcome \n",
    "\n",
    "variable with this kind of class disparity. One other thing to keep in mind is that stroke, heart disease, and hypertensions are diseases typically affecting the elderly. Children, in particular, \n",
    "\n",
    "are unlikely to get these diseases unless they have some abnormality, for example, some genetic abnormality. Since we do not have any genetic information in this dataset, and since the number of \n",
    "\n",
    "children with the diseases of interest is very small it is best to get rid of all such observations.\n",
    "\n",
    "The single observation corresponding to Gender = Other was removed from the dataset. This observation is uninteresting because the person corresponding to it does not have any of the three diseases \n",
    "\n",
    "under consideration and because by being an 'orphan observation' no model will be able to classify such a model correctly. \n",
    "\n",
    "Finally, three different dataframes were created--one each for stroke, hypertension, and heart disease. The dataframe for stroke comprised of all observations in the original dataframe, once the \n",
    "\n",
    "work_type = children observations have been removed, with the additional condition that only those observations were retained where the age was equal to or greater than the minimum age of anyone \n",
    "\n",
    "with stroke in the dataset. A similar procedure was adopted in the creation of the hypertension and heart disease dataframes.\n",
    "\n",
    "All three dataframes were then written to .csv files (one .csv file per dataframe) to be used for further analysis. \n",
    "\n",
    "\n",
    "\n"
   ]
  },
  {
   "cell_type": "code",
   "execution_count": 1,
   "metadata": {},
   "outputs": [],
   "source": [
    "import numpy as np\n",
    "import pandas as pd\n",
    "import seaborn as sns\n",
    "import matplotlib.pyplot as plt\n",
    "\n",
    "from sklearn.preprocessing import LabelEncoder"
   ]
  },
  {
   "cell_type": "code",
   "execution_count": 2,
   "metadata": {},
   "outputs": [
    {
     "name": "stdout",
     "output_type": "stream",
     "text": [
      "      id  gender   age  hypertension  heart_disease ever_married  \\\n",
      "0   9046    Male  67.0             0              1          Yes   \n",
      "1  51676  Female  61.0             0              0          Yes   \n",
      "2  31112    Male  80.0             0              1          Yes   \n",
      "3  60182  Female  49.0             0              0          Yes   \n",
      "4   1665  Female  79.0             1              0          Yes   \n",
      "5  56669    Male  81.0             0              0          Yes   \n",
      "\n",
      "       work_type Residence_type  avg_glucose_level   bmi   smoking_status  \\\n",
      "0        Private          Urban             228.69  36.6  formerly smoked   \n",
      "1  Self-employed          Rural             202.21   NaN     never smoked   \n",
      "2        Private          Rural             105.92  32.5     never smoked   \n",
      "3        Private          Urban             171.23  34.4           smokes   \n",
      "4  Self-employed          Rural             174.12  24.0     never smoked   \n",
      "5        Private          Urban             186.21  29.0  formerly smoked   \n",
      "\n",
      "   stroke  \n",
      "0       1  \n",
      "1       1  \n",
      "2       1  \n",
      "3       1  \n",
      "4       1  \n",
      "5       1  \n"
     ]
    }
   ],
   "source": [
    "df = pd.read_csv(\"healthcare-dataset-stroke-data.csv\")\n",
    "print (df.head(6))"
   ]
  },
  {
   "cell_type": "code",
   "execution_count": 3,
   "metadata": {},
   "outputs": [
    {
     "name": "stdout",
     "output_type": "stream",
     "text": [
      "id                     0\n",
      "gender                 0\n",
      "age                    0\n",
      "hypertension           0\n",
      "heart_disease          0\n",
      "ever_married           0\n",
      "work_type              0\n",
      "Residence_type         0\n",
      "avg_glucose_level      0\n",
      "bmi                  201\n",
      "smoking_status         0\n",
      "stroke                 0\n",
      "dtype: int64\n"
     ]
    }
   ],
   "source": [
    "#checking for missing values\n",
    "print (df.isnull().sum())"
   ]
  },
  {
   "cell_type": "code",
   "execution_count": 4,
   "metadata": {},
   "outputs": [
    {
     "name": "stdout",
     "output_type": "stream",
     "text": [
      "   gender   age  hypertension  heart_disease ever_married      work_type  \\\n",
      "0    Male  67.0             0              1          Yes        Private   \n",
      "1  Female  61.0             0              0          Yes  Self-employed   \n",
      "2    Male  80.0             0              1          Yes        Private   \n",
      "3  Female  49.0             0              0          Yes        Private   \n",
      "4  Female  79.0             1              0          Yes  Self-employed   \n",
      "5    Male  81.0             0              0          Yes        Private   \n",
      "\n",
      "  Residence_type  avg_glucose_level   bmi   smoking_status  stroke  \n",
      "0          Urban             228.69  36.6  formerly smoked       1  \n",
      "1          Rural             202.21   NaN     never smoked       1  \n",
      "2          Rural             105.92  32.5     never smoked       1  \n",
      "3          Urban             171.23  34.4           smokes       1  \n",
      "4          Rural             174.12  24.0     never smoked       1  \n",
      "5          Urban             186.21  29.0  formerly smoked       1  \n"
     ]
    }
   ],
   "source": [
    "#select all columns except the first since the id variable is irrelevant for meaningful predictions of any appropriate outcome variable in this dataset\n",
    "\n",
    "df = df.iloc[:, 1:] \n",
    "print (df.head(6))"
   ]
  },
  {
   "cell_type": "code",
   "execution_count": 5,
   "metadata": {},
   "outputs": [
    {
     "name": "stdout",
     "output_type": "stream",
     "text": [
      "gender                object\n",
      "age                  float64\n",
      "hypertension           int64\n",
      "heart_disease          int64\n",
      "ever_married          object\n",
      "work_type             object\n",
      "Residence_type        object\n",
      "avg_glucose_level    float64\n",
      "bmi                  float64\n",
      "smoking_status        object\n",
      "stroke                 int64\n",
      "dtype: object\n"
     ]
    }
   ],
   "source": [
    "print (df.dtypes)"
   ]
  },
  {
   "cell_type": "code",
   "execution_count": 6,
   "metadata": {},
   "outputs": [
    {
     "name": "stdout",
     "output_type": "stream",
     "text": [
      "gender               category\n",
      "age                   float64\n",
      "hypertension            int64\n",
      "heart_disease           int64\n",
      "ever_married         category\n",
      "work_type            category\n",
      "Residence_type       category\n",
      "avg_glucose_level     float64\n",
      "bmi                   float64\n",
      "smoking_status       category\n",
      "stroke                  int64\n",
      "dtype: object\n"
     ]
    }
   ],
   "source": [
    "# Convert multiple object columns to category\n",
    "df[['gender', 'ever_married', 'work_type', 'Residence_type', 'smoking_status']] = df[['gender', 'ever_married', 'work_type', 'Residence_type', 'smoking_status']].astype('category')\n",
    "\n",
    "# Check the data types\n",
    "print(df.dtypes)"
   ]
  },
  {
   "cell_type": "code",
   "execution_count": 7,
   "metadata": {},
   "outputs": [
    {
     "name": "stdout",
     "output_type": "stream",
     "text": [
      "\n",
      "Count of each level in 'gender':\n",
      "Female: 2994\n",
      "Male: 2115\n",
      "Other: 1\n",
      "\n",
      "Count of each level in 'ever_married':\n",
      "Yes: 3353\n",
      "No: 1757\n",
      "\n",
      "Count of each level in 'work_type':\n",
      "Private: 2925\n",
      "Self-employed: 819\n",
      "children: 687\n",
      "Govt_job: 657\n",
      "Never_worked: 22\n",
      "\n",
      "Count of each level in 'Residence_type':\n",
      "Urban: 2596\n",
      "Rural: 2514\n",
      "\n",
      "Count of each level in 'smoking_status':\n",
      "never smoked: 1892\n",
      "Unknown: 1544\n",
      "formerly smoked: 885\n",
      "smokes: 789\n"
     ]
    }
   ],
   "source": [
    "# Select all category variables in this dataset and obtain the counts of each levels of those variables.\n",
    "category_columns = df.select_dtypes(include='category').columns\n",
    "\n",
    "for col in category_columns:\n",
    "    print(f\"\\nCount of each level in '{col}':\")\n",
    "    counts = df[col].value_counts()\n",
    "    for category, count in counts.items():\n",
    "        print(f\"{category}: {count}\")"
   ]
  },
  {
   "cell_type": "code",
   "execution_count": 8,
   "metadata": {},
   "outputs": [
    {
     "name": "stdout",
     "output_type": "stream",
     "text": [
      "               age  avg_glucose_level          bmi\n",
      "count  5110.000000        5110.000000  4909.000000\n",
      "mean     43.226614         106.147677    28.893237\n",
      "std      22.612647          45.283560     7.854067\n",
      "min       0.080000          55.120000    10.300000\n",
      "25%      25.000000          77.245000    23.500000\n",
      "50%      45.000000          91.885000    28.100000\n",
      "75%      61.000000         114.090000    33.100000\n",
      "max      82.000000         271.740000    97.600000\n"
     ]
    }
   ],
   "source": [
    "#select all numerical variables in this dataset and obtain their summary statistics\n",
    "\n",
    "numeric_columns = df.select_dtypes(include=['float64']).columns\n",
    "print(df[numeric_columns].describe())\n"
   ]
  },
  {
   "cell_type": "code",
   "execution_count": 9,
   "metadata": {},
   "outputs": [
    {
     "name": "stdout",
     "output_type": "stream",
     "text": [
      "Frequency counts for 'stroke':\n",
      "stroke\n",
      "0    4861\n",
      "1     249\n",
      "Name: count, dtype: int64\n",
      "\n",
      "Frequency counts for 'hypertension':\n",
      "hypertension\n",
      "0    4612\n",
      "1     498\n",
      "Name: count, dtype: int64\n",
      "\n",
      "Frequency counts for 'heart_disease':\n",
      "heart_disease\n",
      "0    4834\n",
      "1     276\n",
      "Name: count, dtype: int64\n",
      "\n"
     ]
    }
   ],
   "source": [
    "#Obtain the count information for the values in the stroke, hypertension, and  heart_disease variables\n",
    "\n",
    "def get_counts(df, column_name):\n",
    "    # Convert the column_name type to int64, handling potential errors\n",
    "    df[column_name] = pd.to_numeric(df[column_name], errors='raise').astype('int64')\n",
    "    \n",
    "    #calculate the value counts and sort by index which will be the column_name values.\n",
    "    value_counts = df[column_name].value_counts().sort_index()\n",
    "    print(f\"Frequency counts for '{column_name}':\\n{value_counts}\\n\")\n",
    "\n",
    "get_counts(df,'stroke')\n",
    "get_counts(df, 'hypertension')\n",
    "get_counts(df, 'heart_disease')"
   ]
  },
  {
   "cell_type": "code",
   "execution_count": 10,
   "metadata": {},
   "outputs": [
    {
     "data": {
      "text/plain": [
       "\"\\n# Define the bins and labels\\nbins = [50, 120, 190, float('inf')]\\nlabels = [1, 2, 3]\\n\\n# Create the 'avg_glucose_level_temp' column using pd.cut\\ndf['avg_glucose_level_temp_cat'] = pd.cut(df['avg_glucose_level'], bins=bins, labels=labels, right=False)\\n\\n# Initialize LabelEncoder\\nlabel_encoder = LabelEncoder()\\n\\n# Fit and transform the categorical column\\ndf['avg_glucose_level_temp'] = label_encoder.fit_transform(df['avg_glucose_level_temp_cat']) + 1 # +1 to match the original labels\\n\\ndf.drop('avg_glucose_level_temp_cat', axis=1, inplace=True)\\n# Print the DataFrame with the new categorical column\\nprint(df.head(3))'\\n\""
      ]
     },
     "execution_count": 10,
     "metadata": {},
     "output_type": "execute_result"
    }
   ],
   "source": [
    "#avg_glucose_level\n",
    "'''\n",
    "# Define the bins and labels\n",
    "bins = [50, 120, 190, float('inf')]\n",
    "labels = [1, 2, 3]\n",
    "\n",
    "# Create the 'avg_glucose_level_temp' column using pd.cut\n",
    "df['avg_glucose_level_temp_cat'] = pd.cut(df['avg_glucose_level'], bins=bins, labels=labels, right=False)\n",
    "\n",
    "# Initialize LabelEncoder\n",
    "label_encoder = LabelEncoder()\n",
    "\n",
    "# Fit and transform the categorical column\n",
    "df['avg_glucose_level_temp'] = label_encoder.fit_transform(df['avg_glucose_level_temp_cat']) + 1 # +1 to match the original labels\n",
    "\n",
    "df.drop('avg_glucose_level_temp_cat', axis=1, inplace=True)\n",
    "# Print the DataFrame with the new categorical column\n",
    "print(df.head(3))'\n",
    "'''\n"
   ]
  },
  {
   "cell_type": "code",
   "execution_count": 11,
   "metadata": {},
   "outputs": [
    {
     "data": {
      "text/plain": [
       "\"\\nget_counts(df,'Age_temp')\\nget_counts(df, 'avg_glucose_level_temp')'\\n\""
      ]
     },
     "execution_count": 11,
     "metadata": {},
     "output_type": "execute_result"
    }
   ],
   "source": [
    "#Obtain the frequency counts of the newly created variables Age_temp and avg_glucose_level_temp\n",
    "'''\n",
    "get_counts(df,'Age_temp')\n",
    "get_counts(df, 'avg_glucose_level_temp')'\n",
    "'''"
   ]
  },
  {
   "cell_type": "code",
   "execution_count": 12,
   "metadata": {},
   "outputs": [
    {
     "name": "stdout",
     "output_type": "stream",
     "text": [
      "Frequency counts for 'gender_encoded':\n",
      "gender_encoded\n",
      "0    2994\n",
      "1    2115\n",
      "2       1\n",
      "Name: count, dtype: int64\n",
      "\n",
      "Gender Mapping:\n",
      "Female: 0\n",
      "Male: 1\n",
      "Other: 2\n"
     ]
    }
   ],
   "source": [
    "#Gender variable\n",
    "#Transform the Gender variable into a numerical variable using the label encoder method\n",
    "\n",
    "# Initialize LabelEncoder\n",
    "label_encoder = LabelEncoder()\n",
    "\n",
    "# Fit and transform the 'gender' column\n",
    "df['gender_encoded'] = label_encoder.fit_transform(df['gender'])\n",
    "get_counts(df,'gender_encoded')\n",
    "\n",
    "# Get the unique classes and their corresponding labels\n",
    "class_labels = dict(zip(label_encoder.classes_, label_encoder.transform(label_encoder.classes_)))\n",
    "\n",
    "# Print the mapping\n",
    "print(\"Gender Mapping:\")\n",
    "for key, value in class_labels.items():\n",
    "    print(f\"{key}: {value}\")"
   ]
  },
  {
   "cell_type": "code",
   "execution_count": 13,
   "metadata": {},
   "outputs": [
    {
     "name": "stdout",
     "output_type": "stream",
     "text": [
      "     gender   age  hypertension  heart_disease ever_married work_type  \\\n",
      "3116  Other  26.0             0              0           No   Private   \n",
      "\n",
      "     Residence_type  avg_glucose_level   bmi   smoking_status  stroke  \\\n",
      "3116          Rural             143.33  22.4  formerly smoked       0   \n",
      "\n",
      "      gender_encoded  \n",
      "3116               2  \n"
     ]
    }
   ],
   "source": [
    "#Filtering\n",
    "# Filter rows where Gender is 'Other'\n",
    "other_gender_rows = df[df['gender'] == 'Other']\n",
    "print (other_gender_rows)"
   ]
  },
  {
   "cell_type": "markdown",
   "metadata": {},
   "source": [
    "To simplify our problem we can assume that our prediction model will only work for males and females. This is necessary because we do not have a single positive outcome variable (presence of \n",
    "\n",
    "stroke, heart disease, or hypertension) in our dataset for people who identify as 'Other' when it comes to gender. On this basis we drop the observation corresponding to 'Other' as gender."
   ]
  },
  {
   "cell_type": "code",
   "execution_count": 14,
   "metadata": {},
   "outputs": [
    {
     "name": "stdout",
     "output_type": "stream",
     "text": [
      "Frequency counts for 'gender_encoded':\n",
      "gender_encoded\n",
      "0    2994\n",
      "1    2115\n",
      "Name: count, dtype: int64\n",
      "\n"
     ]
    }
   ],
   "source": [
    "df = df.drop(df[df['gender'] == 'Other'].index) #Drop rows where Gender is 'Other'\n",
    "get_counts(df,'gender_encoded')\n"
   ]
  },
  {
   "cell_type": "code",
   "execution_count": 15,
   "metadata": {},
   "outputs": [
    {
     "name": "stdout",
     "output_type": "stream",
     "text": [
      "Index(['Female', 'Male'], dtype='object')\n"
     ]
    }
   ],
   "source": [
    "#print (df['gender'].cat.categories)\n",
    "#drop the Gender = Other category from the gender variable\n",
    "df['gender'] = df['gender'].cat.remove_categories('Other')\n",
    "print (df['gender'].cat.categories)\n"
   ]
  },
  {
   "cell_type": "code",
   "execution_count": 16,
   "metadata": {},
   "outputs": [
    {
     "name": "stdout",
     "output_type": "stream",
     "text": [
      "   gender   age  hypertension  heart_disease ever_married      work_type  \\\n",
      "0    Male  67.0             0              1          Yes        Private   \n",
      "1  Female  61.0             0              0          Yes  Self-employed   \n",
      "2    Male  80.0             0              1          Yes        Private   \n",
      "\n",
      "  Residence_type  avg_glucose_level   bmi   smoking_status  stroke  \\\n",
      "0          Urban             228.69  36.6  formerly smoked       1   \n",
      "1          Rural             202.21   NaN     never smoked       1   \n",
      "2          Rural             105.92  32.5     never smoked       1   \n",
      "\n",
      "   gender_encoded  ever_married_encoded  \n",
      "0               1                     1  \n",
      "1               0                     1  \n",
      "2               1                     1  \n",
      "ever_married Mapping:\n",
      "No: 0\n",
      "Yes: 1\n"
     ]
    }
   ],
   "source": [
    "#ever_married\n",
    "#Transform the ever_married variable into a numerical variable using the label encoder method\n",
    "\n",
    "# Initialize LabelEncoder\n",
    "label_encoder = LabelEncoder()\n",
    "\n",
    "# Fit and transform the 'ever_married' column\n",
    "df['ever_married_encoded'] = label_encoder.fit_transform(df['ever_married'])\n",
    "\n",
    "# Print the DataFrame with the new encoded column\n",
    "print(df.head(3))\n",
    "\n",
    "# Get the unique classes and their corresponding labels\n",
    "class_labels = dict(zip(label_encoder.classes_, label_encoder.transform(label_encoder.classes_)))\n",
    "\n",
    "# Print the mapping\n",
    "print(\"ever_married Mapping:\")\n",
    "for key, value in class_labels.items():\n",
    "    print(f\"{key}: {value}\")\n"
   ]
  },
  {
   "cell_type": "code",
   "execution_count": 17,
   "metadata": {},
   "outputs": [
    {
     "name": "stdout",
     "output_type": "stream",
     "text": [
      "Index(['Govt_job', 'Never_worked', 'Private', 'Self-employed', 'children'], dtype='object')\n",
      "      gender    age  hypertension  heart_disease ever_married work_type  \\\n",
      "162   Female   1.32             0              0           No  children   \n",
      "245   Female  14.00             0              0           No  children   \n",
      "3031    Male   2.00             0              1           No  children   \n",
      "\n",
      "     Residence_type  avg_glucose_level   bmi smoking_status  stroke  \\\n",
      "162           Urban              70.37   NaN        Unknown       1   \n",
      "245           Rural              57.93  30.9        Unknown       1   \n",
      "3031          Urban              62.89  29.4        Unknown       0   \n",
      "\n",
      "      gender_encoded  ever_married_encoded  \n",
      "162                0                     0  \n",
      "245                0                     0  \n",
      "3031               1                     0  \n"
     ]
    }
   ],
   "source": [
    "#Worktype\n",
    "print (df['work_type'].cat.categories)\n",
    "df_children = df[ (df['work_type'] == 'children')] \n",
    "df_children.to_csv('stroke_data_children.csv', index = False)\n",
    "\n",
    "#show all observations when work_type is children and any of hypertension, heart_disease, and 'stroke' is 1\n",
    "filtered_df = df[\n",
    "    (df['work_type'] == 'children') &\n",
    "   ( (df['stroke'] == 1) |\n",
    "    (df['hypertension'] == 1) |\n",
    "    (df['heart_disease'] == 1)\n",
    "   )\n",
    "]\n",
    "\n",
    "# Print the filtered observations\n",
    "print(filtered_df)\n",
    "\n"
   ]
  },
  {
   "cell_type": "code",
   "execution_count": 18,
   "metadata": {},
   "outputs": [
    {
     "name": "stdout",
     "output_type": "stream",
     "text": [
      "Empty DataFrame\n",
      "Columns: [gender, age, hypertension, heart_disease, ever_married, work_type, Residence_type, avg_glucose_level, bmi, smoking_status, stroke, gender_encoded, ever_married_encoded]\n",
      "Index: []\n"
     ]
    }
   ],
   "source": [
    "#Remove the children level from variable work_type\n",
    "df = df.drop(df[df['work_type'] == 'children'].index)\n",
    "print (df[df['work_type'] == 'children'])\n"
   ]
  },
  {
   "cell_type": "code",
   "execution_count": 19,
   "metadata": {},
   "outputs": [
    {
     "name": "stdout",
     "output_type": "stream",
     "text": [
      "Index(['Govt_job', 'Never_worked', 'Private', 'Self-employed'], dtype='object')\n"
     ]
    }
   ],
   "source": [
    "# Drop the 'children' level from the 'work_type' category\n",
    "df['work_type'] = df['work_type'].cat.remove_categories('children')\n",
    "print (df['work_type'].cat.categories)"
   ]
  },
  {
   "cell_type": "code",
   "execution_count": 20,
   "metadata": {},
   "outputs": [
    {
     "name": "stdout",
     "output_type": "stream",
     "text": [
      "(4422, 13)\n"
     ]
    }
   ],
   "source": [
    "print (df.shape) #4,422 observations at this time in df dataframe"
   ]
  },
  {
   "cell_type": "code",
   "execution_count": 21,
   "metadata": {},
   "outputs": [
    {
     "name": "stdout",
     "output_type": "stream",
     "text": [
      "   gender   age  hypertension  heart_disease ever_married      work_type  \\\n",
      "0    Male  67.0             0              1          Yes        Private   \n",
      "1  Female  61.0             0              0          Yes  Self-employed   \n",
      "2    Male  80.0             0              1          Yes        Private   \n",
      "\n",
      "  Residence_type  avg_glucose_level   bmi   smoking_status  stroke  \\\n",
      "0          Urban             228.69  36.6  formerly smoked       1   \n",
      "1          Rural             202.21   NaN     never smoked       1   \n",
      "2          Rural             105.92  32.5     never smoked       1   \n",
      "\n",
      "   gender_encoded  ever_married_encoded  work_type_encoded  \n",
      "0               1                     1                  2  \n",
      "1               0                     1                  3  \n",
      "2               1                     1                  2  \n",
      "work_type Mapping:\n",
      "Govt_job: 0\n",
      "Never_worked: 1\n",
      "Private: 2\n",
      "Self-employed: 3\n"
     ]
    }
   ],
   "source": [
    "#Work type encoding\n",
    "\n",
    "#Transform the Work type variable into a numerical variable using the label encoder method\n",
    "\n",
    "# Initialize LabelEncoder\n",
    "label_encoder = LabelEncoder()\n",
    "\n",
    "# Fit and transform the 'work_type' column\n",
    "df['work_type_encoded'] = label_encoder.fit_transform(df['work_type'])\n",
    "\n",
    "# Print the DataFrame with the new encoded column\n",
    "print(df.head(3))\n",
    "\n",
    "\n",
    "\n",
    "# Get the unique classes and their corresponding labels\n",
    "class_labels = dict(zip(label_encoder.classes_, label_encoder.transform(label_encoder.classes_)))\n",
    "\n",
    "print(\"work_type Mapping:\")\n",
    "for key, value in class_labels.items():\n",
    "    print(f\"{key}: {value}\")\n",
    "\n",
    "\n"
   ]
  },
  {
   "cell_type": "code",
   "execution_count": 22,
   "metadata": {},
   "outputs": [
    {
     "name": "stdout",
     "output_type": "stream",
     "text": [
      "   gender   age  hypertension  heart_disease ever_married      work_type  \\\n",
      "0    Male  67.0             0              1          Yes        Private   \n",
      "1  Female  61.0             0              0          Yes  Self-employed   \n",
      "2    Male  80.0             0              1          Yes        Private   \n",
      "\n",
      "  Residence_type  avg_glucose_level   bmi   smoking_status  stroke  \\\n",
      "0          Urban             228.69  36.6  formerly smoked       1   \n",
      "1          Rural             202.21   NaN     never smoked       1   \n",
      "2          Rural             105.92  32.5     never smoked       1   \n",
      "\n",
      "   gender_encoded  ever_married_encoded  work_type_encoded  \\\n",
      "0               1                     1                  2   \n",
      "1               0                     1                  3   \n",
      "2               1                     1                  2   \n",
      "\n",
      "   Residence_type_encoded  \n",
      "0                       1  \n",
      "1                       0  \n",
      "2                       0  \n",
      "Residence_type Mapping:\n",
      "Rural: 0\n",
      "Urban: 1\n"
     ]
    }
   ],
   "source": [
    "#Residence type\n",
    "\n",
    "#Transform the Residence type variable into a numerical variable using the label encoder method\n",
    "\n",
    "# Initialize LabelEncoder\n",
    "label_encoder = LabelEncoder()\n",
    "\n",
    "# Fit and transform the 'Residence_type' column\n",
    "df['Residence_type_encoded'] = label_encoder.fit_transform(df['Residence_type'])\n",
    "\n",
    "# Print the DataFrame with the new encoded column\n",
    "print(df.head(3))\n",
    "\n",
    "# Get the unique classes and their corresponding labels\n",
    "class_labels = dict(zip(label_encoder.classes_, label_encoder.transform(label_encoder.classes_)))\n",
    "\n",
    "print(\"Residence_type Mapping:\")\n",
    "for key, value in class_labels.items():\n",
    "    print(f\"{key}: {value}\")\n",
    "\n"
   ]
  },
  {
   "cell_type": "code",
   "execution_count": 23,
   "metadata": {},
   "outputs": [
    {
     "name": "stdout",
     "output_type": "stream",
     "text": [
      "   gender   age  hypertension  heart_disease ever_married      work_type  \\\n",
      "0    Male  67.0             0              1          Yes        Private   \n",
      "1  Female  61.0             0              0          Yes  Self-employed   \n",
      "2    Male  80.0             0              1          Yes        Private   \n",
      "\n",
      "  Residence_type  avg_glucose_level   bmi   smoking_status  stroke  \\\n",
      "0          Urban             228.69  36.6  formerly smoked       1   \n",
      "1          Rural             202.21   NaN     never smoked       1   \n",
      "2          Rural             105.92  32.5     never smoked       1   \n",
      "\n",
      "   gender_encoded  ever_married_encoded  work_type_encoded  \\\n",
      "0               1                     1                  2   \n",
      "1               0                     1                  3   \n",
      "2               1                     1                  2   \n",
      "\n",
      "   Residence_type_encoded  smoking_status_encoded  \n",
      "0                       1                       1  \n",
      "1                       0                       2  \n",
      "2                       0                       2  \n",
      "Residence_type Mapping:\n",
      "Unknown: 0\n",
      "formerly smoked: 1\n",
      "never smoked: 2\n",
      "smokes: 3\n"
     ]
    }
   ],
   "source": [
    "#smoking status\n",
    "#Transform the smoking status variable into a numerical variable using the label encoder method\n",
    "\n",
    "# Initialize LabelEncoder\n",
    "label_encoder = LabelEncoder()\n",
    "\n",
    "# Fit and transform the 'smoking_status' column\n",
    "df['smoking_status_encoded'] = label_encoder.fit_transform(df['smoking_status'])\n",
    "\n",
    "# Print the DataFrame with the new encoded column\n",
    "print(df.head(3))\n",
    "\n",
    "# Get the unique classes and their corresponding labels\n",
    "class_labels = dict(zip(label_encoder.classes_, label_encoder.transform(label_encoder.classes_)))\n",
    "\n",
    "print(\"Residence_type Mapping:\")\n",
    "for key, value in class_labels.items():\n",
    "    print(f\"{key}: {value}\")\n"
   ]
  },
  {
   "cell_type": "code",
   "execution_count": 24,
   "metadata": {},
   "outputs": [
    {
     "name": "stdout",
     "output_type": "stream",
     "text": [
      "gender                    category\n",
      "age                        float64\n",
      "hypertension                 int64\n",
      "heart_disease                int64\n",
      "ever_married              category\n",
      "work_type                 category\n",
      "Residence_type            category\n",
      "avg_glucose_level          float64\n",
      "bmi                        float64\n",
      "smoking_status            category\n",
      "stroke                       int64\n",
      "gender_encoded               int64\n",
      "ever_married_encoded         int64\n",
      "work_type_encoded            int64\n",
      "Residence_type_encoded       int64\n",
      "smoking_status_encoded       int64\n",
      "dtype: object\n"
     ]
    }
   ],
   "source": [
    "print (df.dtypes)"
   ]
  },
  {
   "cell_type": "code",
   "execution_count": 25,
   "metadata": {},
   "outputs": [
    {
     "name": "stdout",
     "output_type": "stream",
     "text": [
      "count    4422.000000\n",
      "mean       48.883311\n",
      "std        18.706121\n",
      "min         7.000000\n",
      "25%        34.000000\n",
      "50%        49.000000\n",
      "75%        63.000000\n",
      "max        82.000000\n",
      "Name: age, dtype: float64\n",
      "\n"
     ]
    }
   ],
   "source": [
    "#Age\n",
    "#Give summary statistics for ALL people in this dataset\n",
    "print(df['age'].describe())\n",
    "print()\n",
    "\n",
    "\n"
   ]
  },
  {
   "cell_type": "code",
   "execution_count": 26,
   "metadata": {},
   "outputs": [
    {
     "name": "stdout",
     "output_type": "stream",
     "text": [
      "      gender   age  hypertension  heart_disease ever_married work_type  \\\n",
      "2128    Male  17.0             1              0           No   Private   \n",
      "2387  Female  19.0             1              0           No   Private   \n",
      "1554  Female  22.0             1              0           No   Private   \n",
      "928   Female  23.0             1              0           No   Private   \n",
      "2083  Female  24.0             1              0           No   Private   \n",
      "1746    Male  24.0             1              0          Yes   Private   \n",
      "2949  Female  26.0             1              0          Yes   Private   \n",
      "3667  Female  28.0             1              0          Yes  Govt_job   \n",
      "3885  Female  28.0             0              1          Yes   Private   \n",
      "715   Female  28.0             1              0           No   Private   \n",
      "\n",
      "     Residence_type  avg_glucose_level   bmi smoking_status  stroke  \\\n",
      "2128          Rural              61.67  97.6        Unknown       0   \n",
      "2387          Rural              65.96  29.0   never smoked       0   \n",
      "1554          Urban              71.22  40.0   never smoked       0   \n",
      "928           Urban              70.03  78.0         smokes       0   \n",
      "2083          Urban             107.22  35.3         smokes       0   \n",
      "1746          Rural              80.63  28.2         smokes       0   \n",
      "2949          Urban             107.59  33.1         smokes       0   \n",
      "3667          Rural              83.66  36.4   never smoked       0   \n",
      "3885          Rural             111.27  19.1         smokes       0   \n",
      "715           Rural              80.40  57.5   never smoked       0   \n",
      "\n",
      "      gender_encoded  ever_married_encoded  work_type_encoded  \\\n",
      "2128               1                     0                  2   \n",
      "2387               0                     0                  2   \n",
      "1554               0                     0                  2   \n",
      "928                0                     0                  2   \n",
      "2083               0                     0                  2   \n",
      "1746               1                     1                  2   \n",
      "2949               0                     1                  2   \n",
      "3667               0                     1                  0   \n",
      "3885               0                     1                  2   \n",
      "715                0                     0                  2   \n",
      "\n",
      "      Residence_type_encoded  smoking_status_encoded  \n",
      "2128                       0                       0  \n",
      "2387                       0                       2  \n",
      "1554                       1                       2  \n",
      "928                        1                       3  \n",
      "2083                       1                       3  \n",
      "1746                       0                       3  \n",
      "2949                       1                       3  \n",
      "3667                       0                       2  \n",
      "3885                       0                       3  \n",
      "715                        0                       2  \n"
     ]
    }
   ],
   "source": [
    "#obtain and print the 10 youngest people in this dataset with EITHER hypertension, heart disease OR stroke\n",
    "df_disease = df[ ((df['stroke'] == 1) | (df['heart_disease'] == 1) | (df['hypertension'] == 1))]\n",
    "age_disease_youngest_10 = df_disease.nsmallest(10, 'age')\n",
    "#print observations for youngest 10 with any of the three diseases\n",
    "print ( df_disease.sort_values(by='age').head(10))"
   ]
  },
  {
   "cell_type": "code",
   "execution_count": 27,
   "metadata": {},
   "outputs": [
    {
     "name": "stdout",
     "output_type": "stream",
     "text": [
      "(498, 16)\n"
     ]
    }
   ],
   "source": [
    "#Hypertension\n",
    "#df_hypertension_only contains all the observations in the df dataframe (after the removal of work_type = children) with the condition\n",
    "#that hypertension = 1 (present)\n",
    "df_hypertension_only = df_disease[df_disease['hypertension'] == 1]\n",
    "print (df_hypertension_only.shape)"
   ]
  },
  {
   "cell_type": "code",
   "execution_count": 28,
   "metadata": {},
   "outputs": [
    {
     "name": "stdout",
     "output_type": "stream",
     "text": [
      "17.0\n"
     ]
    }
   ],
   "source": [
    "hypertension_min_age = df_hypertension_only['age'].min()\n",
    "print (hypertension_min_age)\n",
    "#print (df_hypertension_only.head(3))\n"
   ]
  },
  {
   "cell_type": "code",
   "execution_count": 29,
   "metadata": {},
   "outputs": [
    {
     "name": "stdout",
     "output_type": "stream",
     "text": [
      "(4313, 16)\n"
     ]
    }
   ],
   "source": [
    "#df_hypertension_full contains all the observations in the df dataframe (after the removal of work_type = children) with the condition\n",
    "#that the age value should be greater or equal to the minimum age of any person in this dataset with hypertension.\n",
    "df_hypertension_full = df[df['age'] >= hypertension_min_age].copy() #making an explicit copy of the sliced dataframe\n",
    "print (df_hypertension_full.shape) "
   ]
  },
  {
   "cell_type": "code",
   "execution_count": 30,
   "metadata": {},
   "outputs": [
    {
     "name": "stdout",
     "output_type": "stream",
     "text": [
      "(275, 16)\n"
     ]
    }
   ],
   "source": [
    "#Heart disease\n",
    "#df_heart_disease_only contains all the observations in the df dataframe (after the removal of work_type = children) with the condition\n",
    "#that heart_disease = 1 (present)\n",
    "df_heart_disease_only = df_disease[df_disease['heart_disease'] == 1]\n",
    "print (df_heart_disease_only.shape)"
   ]
  },
  {
   "cell_type": "code",
   "execution_count": 31,
   "metadata": {},
   "outputs": [
    {
     "name": "stdout",
     "output_type": "stream",
     "text": [
      "28.0\n"
     ]
    }
   ],
   "source": [
    "heart_disease_min_age = df_heart_disease_only['age'].min()\n",
    "print (heart_disease_min_age)\n"
   ]
  },
  {
   "cell_type": "code",
   "execution_count": 32,
   "metadata": {},
   "outputs": [
    {
     "name": "stdout",
     "output_type": "stream",
     "text": [
      "(3700, 16)\n"
     ]
    }
   ],
   "source": [
    "#df_heart_disease_full contains all the observations in the df dataframe (after the removal of work_type = children) with the condition\n",
    "#that the age value should be greater or equal to the minimum age of any person in this dataset with heart disease.\n",
    "df_heart_disease_full = df[df['age'] >= heart_disease_min_age].copy() #making an explicit copy of the sliced dataframe\n",
    "print (df_heart_disease_full.shape) "
   ]
  },
  {
   "cell_type": "code",
   "execution_count": 33,
   "metadata": {},
   "outputs": [
    {
     "name": "stdout",
     "output_type": "stream",
     "text": [
      "(247, 16)\n"
     ]
    }
   ],
   "source": [
    "#Stroke\n",
    "#df_stroke_only contains all the observations in the df dataframe (after the removal of work_type = children) with the condition\n",
    "#that stroke = 1 (present)\n",
    "df_stroke_only = df_disease[df_disease['stroke'] == 1]\n",
    "print (df_stroke_only.shape)"
   ]
  },
  {
   "cell_type": "code",
   "execution_count": 34,
   "metadata": {},
   "outputs": [
    {
     "name": "stdout",
     "output_type": "stream",
     "text": [
      "32.0\n"
     ]
    }
   ],
   "source": [
    "stroke_min_age = df_stroke_only['age'].min()\n",
    "print (stroke_min_age)"
   ]
  },
  {
   "cell_type": "code",
   "execution_count": 35,
   "metadata": {},
   "outputs": [
    {
     "name": "stdout",
     "output_type": "stream",
     "text": [
      "(3461, 16)\n"
     ]
    }
   ],
   "source": [
    "#df_stroke_full contains all the observations in the df dataframe (after the removal of work_type = children) with the condition\n",
    "#that the age value should be greater or equal to the minimum age of any person in this dataset with stroke.\n",
    "df_stroke_full = df[df['age'] >= stroke_min_age].copy() #making an explicit copy of the sliced dataframe\n",
    "print (df_stroke_full.shape) "
   ]
  },
  {
   "cell_type": "code",
   "execution_count": 36,
   "metadata": {},
   "outputs": [],
   "source": [
    "#This function creates a categorical age variable based on the median age with the dataframe it receives as an argument.\n",
    "#(One of the variables in the dataframe argument must be age.) It then returns the modified dataframe.\n",
    "def create_age_category(df, age_column='age', category_name='Age_temp_cat'):\n",
    "    median_age = round(df[age_column].median())\n",
    "    print(\"Median Age:\", median_age)\n",
    "\n",
    "    bins = [0, median_age, df[age_column].max() + 1]\n",
    "    labels = [0, 1]\n",
    "\n",
    "    df[category_name] = pd.cut(df[age_column], bins=bins, labels=labels, right=False)\n",
    "    return df\n",
    "\n"
   ]
  },
  {
   "cell_type": "code",
   "execution_count": 37,
   "metadata": {},
   "outputs": [],
   "source": [
    "#This function encodes a categorical age variable in a dataframe using LabelEncoder.\n",
    "#It then drops the categorical age variable and returns the modified dataframe.\n",
    "def encode_age_category(df, category_name='Age_temp_cat', encoded_name='Age_temp'):\n",
    "    encoder = LabelEncoder()\n",
    "    df[encoded_name] = encoder.fit_transform(df[category_name])\n",
    "    df.drop(category_name, axis=1, inplace=True)\n",
    "    return df"
   ]
  },
  {
   "cell_type": "code",
   "execution_count": 38,
   "metadata": {},
   "outputs": [],
   "source": [
    "#Creates a categorical glucose level column based on the median glucose level and \n",
    "#returns the modified dataframe\n",
    "def create_glucose_category(df, glucose_column='avg_glucose_level', category_name='avg_glucose_level_temp_cat'):\n",
    "    median_glucose = round(df[glucose_column].median())\n",
    "    print(\"Median Avg Glucose Level:\", median_glucose)\n",
    "\n",
    "    bins = [0, median_glucose, df[glucose_column].max() + 1]\n",
    "    labels = [0, 1]\n",
    "\n",
    "    df[category_name] = pd.cut(df[glucose_column], bins=bins, labels=labels, right=False)\n",
    "    return df\n",
    "\n"
   ]
  },
  {
   "cell_type": "code",
   "execution_count": 39,
   "metadata": {},
   "outputs": [],
   "source": [
    "# Encodes the categorical glucose level column using LabelEncoder and\n",
    "# returns the modified dataframe\n",
    "def encode_glucose_category(df, category_name='avg_glucose_level_temp_cat', encoded_name='avg_glucose_level_temp'):\n",
    "    label_encoder = LabelEncoder()\n",
    "    df[encoded_name] = label_encoder.fit_transform(df[category_name]) + 1  # +1 to match the original labels\n",
    "    df.drop(category_name, axis=1, inplace=True)\n",
    "    return df"
   ]
  },
  {
   "cell_type": "code",
   "execution_count": 40,
   "metadata": {},
   "outputs": [],
   "source": [
    "#  Imputes missing BMI values using grouped medians based on other relevant variables in this dataframe. \n",
    "def impute_bmi_with_grouped_medians(df):\n",
    "     # Identify the variables to group by\n",
    "    grouping_columns = [\n",
    "                         'gender_encoded',\n",
    "                         'work_type_encoded',\n",
    "                        'Residence_type_encoded', 'smoking_status_encoded',\n",
    "                        'Age_temp' , 'avg_glucose_level_temp'\n",
    "                        ]\n",
    "    # Calculate grouped medians\n",
    "    grouped_medians = df.groupby(grouping_columns)['bmi'].transform('median')\n",
    "\n",
    "     # Impute missing values\n",
    "    df['bmi'] = df['bmi'].fillna(grouped_medians)\n",
    "    return (df)\n"
   ]
  },
  {
   "cell_type": "code",
   "execution_count": 41,
   "metadata": {},
   "outputs": [],
   "source": [
    " #prints observations with missing BMI values in a DataFrame.\n",
    "def print_missing_bmi_rows(df, bmi_column='bmi'):\n",
    "    missing_bmi_rows = df[df[bmi_column].isnull()]\n",
    "    if not missing_bmi_rows.empty:\n",
    "        print(\"Rows with missing BMI values:\")\n",
    "        print(missing_bmi_rows)\n",
    "    else:\n",
    "        print(\"No missing BMI values found.\")"
   ]
  },
  {
   "cell_type": "code",
   "execution_count": 42,
   "metadata": {},
   "outputs": [],
   "source": [
    "#computes the minimum and maximum values of a numerical variable in a pandas dataframe and returns them\n",
    "def get_min_max_values(df, numerical_variable):\n",
    "    if numerical_variable not in df.columns:\n",
    "        print(f\"Error: Column '{numerical_variable}' not found in the dataframe\")\n",
    "        \n",
    "\n",
    "    try:\n",
    "        min_value = df[numerical_variable].min()\n",
    "        max_value = df[numerical_variable].max()\n",
    "        return min_value, max_value\n",
    "    except TypeError:\n",
    "        print(f\"Error: Column '{numerical_variable}' is not numeric.\")\n",
    "        \n"
   ]
  },
  {
   "cell_type": "markdown",
   "metadata": {},
   "source": [
    "**Code relevant to Stroke Dataframe only follows:**"
   ]
  },
  {
   "cell_type": "code",
   "execution_count": 43,
   "metadata": {},
   "outputs": [
    {
     "name": "stdout",
     "output_type": "stream",
     "text": [
      "Median Age: 55\n",
      "   gender   age  hypertension  heart_disease ever_married      work_type  \\\n",
      "0    Male  67.0             0              1          Yes        Private   \n",
      "1  Female  61.0             0              0          Yes  Self-employed   \n",
      "2    Male  80.0             0              1          Yes        Private   \n",
      "\n",
      "  Residence_type  avg_glucose_level   bmi   smoking_status  stroke  \\\n",
      "0          Urban             228.69  36.6  formerly smoked       1   \n",
      "1          Rural             202.21   NaN     never smoked       1   \n",
      "2          Rural             105.92  32.5     never smoked       1   \n",
      "\n",
      "   gender_encoded  ever_married_encoded  work_type_encoded  \\\n",
      "0               1                     1                  2   \n",
      "1               0                     1                  3   \n",
      "2               1                     1                  2   \n",
      "\n",
      "   Residence_type_encoded  smoking_status_encoded  Age_temp  \n",
      "0                       1                       1         1  \n",
      "1                       0                       2         1  \n",
      "2                       0                       2         1  \n"
     ]
    }
   ],
   "source": [
    "# Create the Age_temp_cat column\n",
    "df_stroke_full = create_age_category(df_stroke_full)\n",
    "\n",
    "# Encode the Age_temp_cat column\n",
    "df_stroke_full = encode_age_category(df_stroke_full)\n",
    "\n",
    "print (df_stroke_full.head(3))\n"
   ]
  },
  {
   "cell_type": "code",
   "execution_count": 44,
   "metadata": {},
   "outputs": [
    {
     "name": "stdout",
     "output_type": "stream",
     "text": [
      "Median Avg Glucose Level: 94\n"
     ]
    }
   ],
   "source": [
    "# Create the avg_glucose_level_temp_cat column\n",
    "df_stroke_full = create_glucose_category(df_stroke_full)\n",
    "\n",
    "# Encode the avg_glucose_level_temp_cat column\n",
    "df_stroke_full = encode_glucose_category(df_stroke_full)"
   ]
  },
  {
   "cell_type": "code",
   "execution_count": 45,
   "metadata": {},
   "outputs": [
    {
     "name": "stdout",
     "output_type": "stream",
     "text": [
      "   gender   age  hypertension  heart_disease ever_married      work_type  \\\n",
      "0    Male  67.0             0              1          Yes        Private   \n",
      "1  Female  61.0             0              0          Yes  Self-employed   \n",
      "2    Male  80.0             0              1          Yes        Private   \n",
      "\n",
      "  Residence_type  avg_glucose_level   bmi   smoking_status  stroke  \\\n",
      "0          Urban             228.69  36.6  formerly smoked       1   \n",
      "1          Rural             202.21  28.8     never smoked       1   \n",
      "2          Rural             105.92  32.5     never smoked       1   \n",
      "\n",
      "   gender_encoded  ever_married_encoded  work_type_encoded  \\\n",
      "0               1                     1                  2   \n",
      "1               0                     1                  3   \n",
      "2               1                     1                  2   \n",
      "\n",
      "   Residence_type_encoded  smoking_status_encoded  Age_temp  \\\n",
      "0                       1                       1         1   \n",
      "1                       0                       2         1   \n",
      "2                       0                       2         1   \n",
      "\n",
      "   avg_glucose_level_temp  \n",
      "0                       2  \n",
      "1                       2  \n",
      "2                       2  \n"
     ]
    }
   ],
   "source": [
    "\n",
    "\n",
    "# Impute missing BMI values\n",
    "df_stroke_full = impute_bmi_with_grouped_medians(df_stroke_full)\n",
    "print (df_stroke_full.head(3))\n",
    "\n",
    "\n",
    "    \n",
    "\n"
   ]
  },
  {
   "cell_type": "code",
   "execution_count": 46,
   "metadata": {},
   "outputs": [
    {
     "name": "stdout",
     "output_type": "stream",
     "text": [
      "gender                    0\n",
      "age                       0\n",
      "hypertension              0\n",
      "heart_disease             0\n",
      "ever_married              0\n",
      "work_type                 0\n",
      "Residence_type            0\n",
      "avg_glucose_level         0\n",
      "bmi                       0\n",
      "smoking_status            0\n",
      "stroke                    0\n",
      "gender_encoded            0\n",
      "ever_married_encoded      0\n",
      "work_type_encoded         0\n",
      "Residence_type_encoded    0\n",
      "smoking_status_encoded    0\n",
      "Age_temp                  0\n",
      "avg_glucose_level_temp    0\n",
      "dtype: int64\n"
     ]
    }
   ],
   "source": [
    "#checking for presence of missing values\n",
    "print (df_stroke_full.isnull().sum())"
   ]
  },
  {
   "cell_type": "code",
   "execution_count": 47,
   "metadata": {},
   "outputs": [
    {
     "name": "stdout",
     "output_type": "stream",
     "text": [
      "No missing BMI values found.\n"
     ]
    }
   ],
   "source": [
    "# Print observations with missing BMI values\n",
    "print_missing_bmi_rows(df_stroke_full)\n"
   ]
  },
  {
   "cell_type": "markdown",
   "metadata": {},
   "source": [
    "We will now do further filtering on the stroke dataframe to improve the quality of the data in this dataframe. The basis of this further filtering will be that we only wish to retain observations that are within the  \n",
    "\n",
    "**feature space** of stroke = 1. Let us consider the age variable to begin with. We will only retain observations that are within the smallest and largest values of age for which we have a positive observation with\n",
    "\n",
    " respect to stroke (stroke = 1). We already ensured that the cut-off criterion for the lowest age is being satisfied. Now let us ensure that the cut-off criterion for the largest age value is also being satisfied.\n",
    "\n"
   ]
  },
  {
   "cell_type": "code",
   "execution_count": 48,
   "metadata": {},
   "outputs": [
    {
     "name": "stdout",
     "output_type": "stream",
     "text": [
      "gender                    category\n",
      "age                        float64\n",
      "hypertension                 int64\n",
      "heart_disease                int64\n",
      "ever_married              category\n",
      "work_type                 category\n",
      "Residence_type            category\n",
      "avg_glucose_level          float64\n",
      "bmi                        float64\n",
      "smoking_status            category\n",
      "stroke                       int64\n",
      "gender_encoded               int64\n",
      "ever_married_encoded         int64\n",
      "work_type_encoded            int64\n",
      "Residence_type_encoded       int64\n",
      "smoking_status_encoded       int64\n",
      "Age_temp                     int64\n",
      "avg_glucose_level_temp       int64\n",
      "dtype: object\n"
     ]
    }
   ],
   "source": [
    "print (df_stroke_full.dtypes)"
   ]
  },
  {
   "cell_type": "code",
   "execution_count": 49,
   "metadata": {},
   "outputs": [
    {
     "name": "stdout",
     "output_type": "stream",
     "text": [
      "32.0 82.0\n"
     ]
    }
   ],
   "source": [
    "#Obtain minimum and maximum values of age in df_stroke_full\n",
    "stroke_all_min_age, stroke_all_max_age = get_min_max_values(df_stroke_full, 'age')\n",
    "print (stroke_all_min_age, stroke_all_max_age)"
   ]
  },
  {
   "cell_type": "code",
   "execution_count": 50,
   "metadata": {},
   "outputs": [
    {
     "name": "stdout",
     "output_type": "stream",
     "text": [
      "\n",
      "\n",
      "32.0\n"
     ]
    }
   ],
   "source": [
    "#checking for minimum age criterion\n",
    "#stroke_all_min_age = df_stroke_full['age'].min()\n",
    "#print (stroke_all_min_age)\n",
    "print()\n",
    "print()\n",
    "stroke_yes_min_age = df_stroke_full[df_stroke_full['stroke'] == 1]['age'].min()\n",
    "print (stroke_yes_min_age)\n"
   ]
  },
  {
   "cell_type": "code",
   "execution_count": 51,
   "metadata": {},
   "outputs": [
    {
     "name": "stdout",
     "output_type": "stream",
     "text": [
      "\n",
      "\n",
      "82.0\n"
     ]
    }
   ],
   "source": [
    "#checking for maximum age criterion\n",
    "\n",
    "#stroke_all_max_age = df_stroke_full['age'].max()\n",
    "#print (stroke_all_max_age)\n",
    "print()\n",
    "print()\n",
    "stroke_yes_max_age = df_stroke_full[df_stroke_full['stroke'] == 1]['age'].max()\n",
    "print (stroke_yes_max_age)\n"
   ]
  },
  {
   "cell_type": "code",
   "execution_count": 52,
   "metadata": {},
   "outputs": [
    {
     "data": {
      "text/plain": [
       "(3461, 18)"
      ]
     },
     "execution_count": 52,
     "metadata": {},
     "output_type": "execute_result"
    }
   ],
   "source": [
    "#After checking for the age cut-off\n",
    "df_stroke_full.shape"
   ]
  },
  {
   "cell_type": "markdown",
   "metadata": {},
   "source": [
    "We have confirmed that the cut-offs for the minimum and maximum age values in the df_stroke_full data are being satisfied with respect to the feature space of the age predictor. Let us now perform a similar check on \n",
    "\n",
    "the avg_glucose_level predictor. "
   ]
  },
  {
   "cell_type": "code",
   "execution_count": 53,
   "metadata": {},
   "outputs": [
    {
     "name": "stdout",
     "output_type": "stream",
     "text": [
      "55.22 271.74\n"
     ]
    }
   ],
   "source": [
    "#Obtain minimum and maximum values of avg_glucose_level in df_stroke_full\n",
    "stroke_all_min_avg_glucose_level, stroke_all_max_avg_glucose_level = get_min_max_values(df_stroke_full, 'avg_glucose_level')\n",
    "print (stroke_all_min_avg_glucose_level, stroke_all_max_avg_glucose_level)"
   ]
  },
  {
   "cell_type": "code",
   "execution_count": 54,
   "metadata": {},
   "outputs": [
    {
     "name": "stdout",
     "output_type": "stream",
     "text": [
      "\n",
      "\n",
      "56.11\n"
     ]
    }
   ],
   "source": [
    "#checking for minimum avg_glucose_level\n",
    "#stroke_all_min_avg_glucose_level = df_stroke_full['avg_glucose_level'].min()\n",
    "#print (stroke_all_min_avg_glucose_level)\n",
    "print()\n",
    "print()\n",
    "stroke_yes_min_avg_glucose_level = df_stroke_full[df_stroke_full['stroke'] == 1]['avg_glucose_level'].min()\n",
    "print (stroke_yes_min_avg_glucose_level)\n"
   ]
  },
  {
   "cell_type": "code",
   "execution_count": 55,
   "metadata": {},
   "outputs": [
    {
     "name": "stdout",
     "output_type": "stream",
     "text": [
      "\n",
      "\n",
      "271.74\n"
     ]
    }
   ],
   "source": [
    "#checking for maximum avg_glucose_level\n",
    "#stroke_all_max_avg_glucose_level = df_stroke_full['avg_glucose_level'].max()\n",
    "#print (stroke_all_max_avg_glucose_level)\n",
    "print()\n",
    "print()\n",
    "stroke_yes_max_avg_glucose_level = df_stroke_full[df_stroke_full['stroke'] == 1]['avg_glucose_level'].max()\n",
    "print (stroke_yes_max_avg_glucose_level)"
   ]
  },
  {
   "cell_type": "markdown",
   "metadata": {},
   "source": [
    "While the maximum avg_glucose_level cut-off is being satisfied, the minimum avg_glucose_level cut-off is not being satisfied. We will have to do filtering to ensure that the minimum age value of any observation in \n",
    "\n",
    "the stroke dataframe for avg_glucose_level is 56.11."
   ]
  },
  {
   "cell_type": "markdown",
   "metadata": {},
   "source": [
    "Let us now perform a similar check on the BMI values"
   ]
  },
  {
   "cell_type": "code",
   "execution_count": 56,
   "metadata": {},
   "outputs": [
    {
     "name": "stdout",
     "output_type": "stream",
     "text": [
      "11.3 92.0\n"
     ]
    }
   ],
   "source": [
    "stroke_all_min_bmi, stroke_all_max_bmi = get_min_max_values(df_stroke_full, 'bmi')\n",
    "print (stroke_all_min_bmi, stroke_all_max_bmi)"
   ]
  },
  {
   "cell_type": "code",
   "execution_count": 57,
   "metadata": {},
   "outputs": [
    {
     "name": "stdout",
     "output_type": "stream",
     "text": [
      "\n",
      "\n",
      "16.9\n"
     ]
    }
   ],
   "source": [
    "#checking for minimum bmi\n",
    "#stroke_all_min_bmi = df_stroke_full['bmi'].min()\n",
    "#print (stroke_all_min_bmi)\n",
    "print()\n",
    "print()\n",
    "stroke_yes_min_bmi = df_stroke_full[df_stroke_full['stroke'] == 1]['bmi'].min()\n",
    "print (stroke_yes_min_bmi)"
   ]
  },
  {
   "cell_type": "code",
   "execution_count": 58,
   "metadata": {},
   "outputs": [
    {
     "name": "stdout",
     "output_type": "stream",
     "text": [
      "\n",
      "\n",
      "56.6\n"
     ]
    }
   ],
   "source": [
    "#checking for maximum bmi\n",
    "#stroke_all_max_bmi = df_stroke_full['bmi'].max()\n",
    "#print (stroke_all_max_bmi)\n",
    "print()\n",
    "print()\n",
    "stroke_yes_max_bmi = df_stroke_full[df_stroke_full['stroke'] == 1]['bmi'].max()\n",
    "print (stroke_yes_max_bmi)"
   ]
  },
  {
   "cell_type": "markdown",
   "metadata": {},
   "source": [
    "We note that the lower and upper cut-off values for bmi in the df_stroke_full dataframe for observations with stroke = 1 is 16.9 and 56.6 while the lower and upper cut-off values for all observations in this \n",
    "\n",
    "dataframe is 11.3 and 92. We will need to ensure that the stroke dataframe has bmi values between 16.9 and 56.6. Let us filter the df_stroke_full dataframe to improve its quality for the purpose of modelling."
   ]
  },
  {
   "cell_type": "code",
   "execution_count": 59,
   "metadata": {},
   "outputs": [
    {
     "name": "stdout",
     "output_type": "stream",
     "text": [
      "(3413, 18)\n"
     ]
    }
   ],
   "source": [
    "df_stroke_full = df_stroke_full[\n",
    "    (df_stroke_full['bmi'] >= stroke_yes_min_bmi) & (df_stroke_full['bmi'] <= stroke_yes_max_bmi) & \n",
    "    (df_stroke_full['avg_glucose_level'] >= stroke_yes_min_avg_glucose_level) &\n",
    "    (df_stroke_full['avg_glucose_level'] <= stroke_yes_max_avg_glucose_level)\n",
    "\n",
    "]\n",
    "print (df_stroke_full.shape)"
   ]
  },
  {
   "cell_type": "markdown",
   "metadata": {},
   "source": [
    "Let's take a final look at the levels of all category variables in the df_stroke_full dataframe. We will drop any level with no values."
   ]
  },
  {
   "cell_type": "code",
   "execution_count": 60,
   "metadata": {},
   "outputs": [
    {
     "name": "stdout",
     "output_type": "stream",
     "text": [
      "\n",
      "Count of each level in 'gender':\n",
      "Female: 2026\n",
      "Male: 1387\n",
      "\n",
      "Count of each level in 'ever_married':\n",
      "Yes: 3051\n",
      "No: 362\n",
      "\n",
      "Count of each level in 'work_type':\n",
      "Private: 2090\n",
      "Self-employed: 753\n",
      "Govt_job: 570\n",
      "Never_worked: 0\n",
      "\n",
      "Count of each level in 'Residence_type':\n",
      "Urban: 1729\n",
      "Rural: 1684\n",
      "\n",
      "Count of each level in 'smoking_status':\n",
      "never smoked: 1371\n",
      "formerly smoked: 773\n",
      "Unknown: 661\n",
      "smokes: 608\n"
     ]
    }
   ],
   "source": [
    "#print (df_stroke_full.dtypes)\n",
    "\n",
    "# Select all category variables in this dataset and obtain the counts of each levels of those variables.\n",
    "category_columns = df_stroke_full.select_dtypes(include='category').columns\n",
    "\n",
    "for col in category_columns:\n",
    "    print(f\"\\nCount of each level in '{col}':\")\n",
    "    counts = df_stroke_full[col].value_counts()\n",
    "    for category, count in counts.items():\n",
    "        print(f\"{category}: {count}\")\n"
   ]
  },
  {
   "cell_type": "code",
   "execution_count": 61,
   "metadata": {},
   "outputs": [
    {
     "name": "stdout",
     "output_type": "stream",
     "text": [
      "Index(['Govt_job', 'Private', 'Self-employed'], dtype='object')\n"
     ]
    }
   ],
   "source": [
    "#Dropping the Never_worked level for the work_type category variable\n",
    "df_stroke_full['work_type'] = df_stroke_full['work_type'].cat.remove_categories('Never_worked')\n",
    "print (df_stroke_full['work_type'].cat.categories)"
   ]
  },
  {
   "cell_type": "code",
   "execution_count": 62,
   "metadata": {},
   "outputs": [
    {
     "name": "stdout",
     "output_type": "stream",
     "text": [
      "\n",
      "Count of each level in 'gender':\n",
      "Female: 2026\n",
      "Male: 1387\n",
      "\n",
      "Count of each level in 'ever_married':\n",
      "Yes: 3051\n",
      "No: 362\n",
      "\n",
      "Count of each level in 'work_type':\n",
      "Private: 2090\n",
      "Self-employed: 753\n",
      "Govt_job: 570\n",
      "\n",
      "Count of each level in 'Residence_type':\n",
      "Urban: 1729\n",
      "Rural: 1684\n",
      "\n",
      "Count of each level in 'smoking_status':\n",
      "never smoked: 1371\n",
      "formerly smoked: 773\n",
      "Unknown: 661\n",
      "smokes: 608\n"
     ]
    }
   ],
   "source": [
    "# Select all category variables in this dataset and obtain the counts of each levels of those variables.\n",
    "category_columns = df_stroke_full.select_dtypes(include='category').columns\n",
    "\n",
    "for col in category_columns:\n",
    "    print(f\"\\nCount of each level in '{col}':\")\n",
    "    counts = df_stroke_full[col].value_counts()\n",
    "    for category, count in counts.items():\n",
    "        print(f\"{category}: {count}\")"
   ]
  },
  {
   "cell_type": "code",
   "execution_count": 63,
   "metadata": {},
   "outputs": [],
   "source": [
    "# Write the cleaned df_stroke_full dataframe to a csv file. \n",
    "df.to_csv('stroke_full_data_cleaned.csv', index=False)"
   ]
  },
  {
   "cell_type": "markdown",
   "metadata": {},
   "source": [
    "**Code relevant to heart disease dataframe only follows:**"
   ]
  },
  {
   "cell_type": "code",
   "execution_count": 64,
   "metadata": {},
   "outputs": [
    {
     "name": "stdout",
     "output_type": "stream",
     "text": [
      "Median Age: 54\n"
     ]
    }
   ],
   "source": [
    "# Create the Age_temp_cat column\n",
    "df_heart_disease_full = create_age_category(df_heart_disease_full)\n",
    "\n",
    "# Encode the Age_temp_cat column\n",
    "df_heart_disease_full = encode_age_category(df_heart_disease_full)\n",
    "\n",
    "#print (df_heart_disease_full.head(3))"
   ]
  },
  {
   "cell_type": "code",
   "execution_count": 65,
   "metadata": {},
   "outputs": [
    {
     "name": "stdout",
     "output_type": "stream",
     "text": [
      "Median Avg Glucose Level: 93\n"
     ]
    }
   ],
   "source": [
    "# Create the avg_glucose_level_temp_cat column\n",
    "df_heart_disease_full = create_glucose_category(df_heart_disease_full)\n",
    "\n",
    "# Encode the avg_glucose_level_temp_cat column\n",
    "df_heart_disease_full = encode_glucose_category(df_heart_disease_full)"
   ]
  },
  {
   "cell_type": "code",
   "execution_count": 66,
   "metadata": {},
   "outputs": [],
   "source": [
    "# Impute missing BMI values\n",
    "df_heart_disease_full = impute_bmi_with_grouped_medians(df_heart_disease_full)\n",
    "#print (df_heart_disease_full.head(3))"
   ]
  },
  {
   "cell_type": "code",
   "execution_count": 67,
   "metadata": {},
   "outputs": [
    {
     "name": "stdout",
     "output_type": "stream",
     "text": [
      "No missing BMI values found.\n"
     ]
    }
   ],
   "source": [
    "# Print observations with missing BMI values\n",
    "print_missing_bmi_rows(df_heart_disease_full)"
   ]
  },
  {
   "cell_type": "markdown",
   "metadata": {},
   "source": [
    "We will now adopt the same procedure we used in filtering the df_stroke_full dataframe. (For explanation and rationale of this step please see the comments given for this step for the df_stroke_full dataframe.)"
   ]
  },
  {
   "cell_type": "code",
   "execution_count": 68,
   "metadata": {},
   "outputs": [],
   "source": [
    "#print (df_heart_disease_full.dtypes)"
   ]
  },
  {
   "cell_type": "code",
   "execution_count": 69,
   "metadata": {},
   "outputs": [
    {
     "name": "stdout",
     "output_type": "stream",
     "text": [
      "28.0 82.0\n"
     ]
    }
   ],
   "source": [
    "#Obtain minimum and maximum values of age in df_heart_disease_full\n",
    "heart_disease_all_min_age, heart_disease_all_max_age = get_min_max_values(df_heart_disease_full, 'age')\n",
    "print (heart_disease_all_min_age, heart_disease_all_max_age)"
   ]
  },
  {
   "cell_type": "code",
   "execution_count": 70,
   "metadata": {},
   "outputs": [
    {
     "name": "stdout",
     "output_type": "stream",
     "text": [
      "28.0 82.0\n"
     ]
    }
   ],
   "source": [
    "#Identifying minimum age criterion and maximum age criterion in df_heart_disease_full\n",
    "heart_disease_yes_min_age = df_heart_disease_full[df_heart_disease_full['heart_disease'] == 1]['age'].min()\n",
    "heart_disease_yes_max_age = df_heart_disease_full[df_heart_disease_full['heart_disease'] == 1]['age'].max()\n",
    "print (heart_disease_yes_min_age, heart_disease_yes_max_age)"
   ]
  },
  {
   "cell_type": "markdown",
   "metadata": {},
   "source": [
    "No difference in age between the minimum age and the lower cut-off age and between the maximum age and the maximum cut-off age in df_heart_disease_full"
   ]
  },
  {
   "cell_type": "code",
   "execution_count": 71,
   "metadata": {},
   "outputs": [
    {
     "name": "stdout",
     "output_type": "stream",
     "text": [
      "55.22 271.74\n"
     ]
    }
   ],
   "source": [
    "#Obtain minimum and maximum values of avg_glucose_level  in df_heart_disease_full\n",
    "heart_disease_all_min_avg_glucose_level, heart_disease_all_max_avg_glucose_level = get_min_max_values(df_heart_disease_full, 'avg_glucose_level')\n",
    "print (heart_disease_all_min_avg_glucose_level, heart_disease_all_max_avg_glucose_level)\n"
   ]
  },
  {
   "cell_type": "code",
   "execution_count": 72,
   "metadata": {},
   "outputs": [
    {
     "name": "stdout",
     "output_type": "stream",
     "text": [
      "56.31 271.74\n"
     ]
    }
   ],
   "source": [
    "#Identifying minimum avg_glucose_level criterion and maximum avg_glucose_level criterion in df_heart_disease_full\n",
    "heart_disease_yes_min_avg_glucose_level = df_heart_disease_full[df_heart_disease_full['heart_disease'] == 1]['avg_glucose_level'].min()\n",
    "heart_disease_yes_max_avg_glucose_level = df_heart_disease_full[df_heart_disease_full['heart_disease'] == 1]['avg_glucose_level'].max()\n",
    "\n",
    "print (heart_disease_yes_min_avg_glucose_level,heart_disease_yes_max_avg_glucose_level )"
   ]
  },
  {
   "cell_type": "markdown",
   "metadata": {},
   "source": [
    "The maximum value of avg_glucose_level in df_heart_disease_full is equal  to the upper cut-off value. However, the minimum value of avg_glucose_level in df_heart_disease_full is lower than the lower cut-off value. \n",
    "\n",
    "Consequently, we will have to filter this dataframe appropriately. We move on to bmi for now."
   ]
  },
  {
   "cell_type": "code",
   "execution_count": 73,
   "metadata": {},
   "outputs": [
    {
     "name": "stdout",
     "output_type": "stream",
     "text": [
      "11.3 92.0\n"
     ]
    }
   ],
   "source": [
    "#Obtain minimum and maximum values of bmi in df_heart_disease_full\n",
    "heart_disease_all_min_bmi, heart_disease_all_max_bmi = get_min_max_values(df_heart_disease_full, 'bmi')\n",
    "print (heart_disease_all_min_bmi, heart_disease_all_max_bmi)"
   ]
  },
  {
   "cell_type": "code",
   "execution_count": 74,
   "metadata": {},
   "outputs": [
    {
     "name": "stdout",
     "output_type": "stream",
     "text": [
      "19.1 54.7\n"
     ]
    }
   ],
   "source": [
    "#Identifying minimum bmi criterion and maximum bmi criterion in df_heart_disease_full\n",
    "heart_disease_yes_min_bmi = df_heart_disease_full[df_heart_disease_full['heart_disease'] == 1]['bmi'].min()\n",
    "heart_disease_yes_max_bmi = df_heart_disease_full[df_heart_disease_full['heart_disease'] == 1]['bmi'].max()\n",
    "\n",
    "print (heart_disease_yes_min_bmi,heart_disease_yes_max_bmi )"
   ]
  },
  {
   "cell_type": "markdown",
   "metadata": {},
   "source": [
    "The maximum value of bmi in df_heart_disease_full is greater than the maximum cut_off value and the minimum value of bmi in df_heart_disease_full is less than the minimum cut_off value. We will have to filter for \n",
    "\n",
    "this appropriately."
   ]
  },
  {
   "cell_type": "code",
   "execution_count": 75,
   "metadata": {},
   "outputs": [
    {
     "name": "stdout",
     "output_type": "stream",
     "text": [
      "(3604, 18)\n"
     ]
    }
   ],
   "source": [
    "df_heart_disease_full = df_heart_disease_full[\n",
    "    (df_heart_disease_full['bmi'] >= heart_disease_yes_min_bmi) & (df_heart_disease_full['bmi'] <= heart_disease_yes_max_bmi) & \n",
    "    (df_heart_disease_full['avg_glucose_level'] >= heart_disease_yes_min_avg_glucose_level) &\n",
    "    (df_heart_disease_full['avg_glucose_level'] <= heart_disease_yes_max_avg_glucose_level)\n",
    "\n",
    "]\n",
    "print (df_heart_disease_full.shape)"
   ]
  },
  {
   "cell_type": "code",
   "execution_count": 76,
   "metadata": {},
   "outputs": [
    {
     "name": "stdout",
     "output_type": "stream",
     "text": [
      "\n",
      "Count of each level in 'gender':\n",
      "Female: 2149\n",
      "Male: 1455\n",
      "\n",
      "Count of each level in 'ever_married':\n",
      "Yes: 3154\n",
      "No: 450\n",
      "\n",
      "Count of each level in 'work_type':\n",
      "Private: 2247\n",
      "Self-employed: 766\n",
      "Govt_job: 591\n",
      "Never_worked: 0\n",
      "\n",
      "Count of each level in 'Residence_type':\n",
      "Urban: 1845\n",
      "Rural: 1759\n",
      "\n",
      "Count of each level in 'smoking_status':\n",
      "never smoked: 1450\n",
      "formerly smoked: 792\n",
      "Unknown: 700\n",
      "smokes: 662\n"
     ]
    }
   ],
   "source": [
    "# Select all category variables in this dataset and obtain the counts of each levels of those variables.\n",
    "category_columns = df_heart_disease_full.select_dtypes(include='category').columns\n",
    "\n",
    "for col in category_columns:\n",
    "    print(f\"\\nCount of each level in '{col}':\")\n",
    "    counts = df_heart_disease_full[col].value_counts()\n",
    "    for category, count in counts.items():\n",
    "        print(f\"{category}: {count}\")"
   ]
  },
  {
   "cell_type": "code",
   "execution_count": 77,
   "metadata": {},
   "outputs": [
    {
     "name": "stdout",
     "output_type": "stream",
     "text": [
      "Index(['Govt_job', 'Private', 'Self-employed'], dtype='object')\n"
     ]
    }
   ],
   "source": [
    "#Dropping the Never_worked level for the work_type category variable\n",
    "df_heart_disease_full['work_type'] = df_heart_disease_full['work_type'].cat.remove_categories('Never_worked')\n",
    "print (df_heart_disease_full['work_type'].cat.categories)"
   ]
  },
  {
   "cell_type": "code",
   "execution_count": 78,
   "metadata": {},
   "outputs": [
    {
     "name": "stdout",
     "output_type": "stream",
     "text": [
      "\n",
      "Count of each level in 'gender':\n",
      "Female: 2149\n",
      "Male: 1455\n",
      "\n",
      "Count of each level in 'ever_married':\n",
      "Yes: 3154\n",
      "No: 450\n",
      "\n",
      "Count of each level in 'work_type':\n",
      "Private: 2247\n",
      "Self-employed: 766\n",
      "Govt_job: 591\n",
      "\n",
      "Count of each level in 'Residence_type':\n",
      "Urban: 1845\n",
      "Rural: 1759\n",
      "\n",
      "Count of each level in 'smoking_status':\n",
      "never smoked: 1450\n",
      "formerly smoked: 792\n",
      "Unknown: 700\n",
      "smokes: 662\n"
     ]
    }
   ],
   "source": [
    "# Select all category variables in this dataset and obtain the counts of each levels of those variables.\n",
    "category_columns = df_heart_disease_full.select_dtypes(include='category').columns\n",
    "\n",
    "for col in category_columns:\n",
    "    print(f\"\\nCount of each level in '{col}':\")\n",
    "    counts = df_heart_disease_full[col].value_counts()\n",
    "    for category, count in counts.items():\n",
    "        print(f\"{category}: {count}\")"
   ]
  },
  {
   "cell_type": "code",
   "execution_count": 79,
   "metadata": {},
   "outputs": [],
   "source": [
    "# Write the cleaned df_heart_disease_full dataframe to a csv file\n",
    "df.to_csv('heart_disease_full_data_cleaned.csv', index=False)"
   ]
  },
  {
   "cell_type": "markdown",
   "metadata": {},
   "source": [
    "**Code relevant to hypertension dataframe only follows:**"
   ]
  },
  {
   "cell_type": "code",
   "execution_count": 80,
   "metadata": {},
   "outputs": [
    {
     "name": "stdout",
     "output_type": "stream",
     "text": [
      "Median Age: 50\n"
     ]
    }
   ],
   "source": [
    "# Create the Age_temp_cat column\n",
    "df_hypertension_full = create_age_category(df_hypertension_full)\n",
    "\n",
    "# Encode the Age_temp_cat column\n",
    "df_hypertension_full = encode_age_category(df_hypertension_full)\n",
    "\n",
    "#print (df_heart_disease_full.head(3))"
   ]
  },
  {
   "cell_type": "code",
   "execution_count": 81,
   "metadata": {},
   "outputs": [
    {
     "name": "stdout",
     "output_type": "stream",
     "text": [
      "Median Avg Glucose Level: 92\n"
     ]
    }
   ],
   "source": [
    "# Create the avg_glucose_level_temp_cat column\n",
    "df_hypertension_full = create_glucose_category(df_hypertension_full)\n",
    "\n",
    "# Encode the avg_glucose_level_temp_cat column\n",
    "df_hypertension_full = encode_glucose_category(df_hypertension_full)"
   ]
  },
  {
   "cell_type": "code",
   "execution_count": 82,
   "metadata": {},
   "outputs": [],
   "source": [
    "# Impute missing BMI values\n",
    "df_hypertension_full = impute_bmi_with_grouped_medians(df_hypertension_full)\n",
    "#print (df_hypertension_full.head(3))"
   ]
  },
  {
   "cell_type": "code",
   "execution_count": 83,
   "metadata": {},
   "outputs": [
    {
     "name": "stdout",
     "output_type": "stream",
     "text": [
      "No missing BMI values found.\n"
     ]
    }
   ],
   "source": [
    "# Print observations with missing BMI values\n",
    "print_missing_bmi_rows(df_hypertension_full)"
   ]
  },
  {
   "cell_type": "markdown",
   "metadata": {},
   "source": [
    "We will now adopt the same procedure we used in filtering the df_stroke_full and df_heart_disease_full dataframes. For explanation and rationale of this step please see the comments given when doing this step for \n",
    "\n",
    "df_stroke_full.\n",
    "\n"
   ]
  },
  {
   "cell_type": "code",
   "execution_count": 84,
   "metadata": {},
   "outputs": [
    {
     "name": "stdout",
     "output_type": "stream",
     "text": [
      "17.0 82.0\n"
     ]
    }
   ],
   "source": [
    "#Obtain minimum and maximum values of age in df_hypertension_full\n",
    "hypertension_all_min_age, hypertension_all_max_age = get_min_max_values(df_hypertension_full, 'age')\n",
    "print (hypertension_all_min_age, hypertension_all_max_age)"
   ]
  },
  {
   "cell_type": "code",
   "execution_count": 85,
   "metadata": {},
   "outputs": [
    {
     "name": "stdout",
     "output_type": "stream",
     "text": [
      "17.0 82.0\n"
     ]
    }
   ],
   "source": [
    "#Identifying minimum age criterion and maximum age criterion in df_heart_disease_full\n",
    "hypertension_yes_min_age = df_hypertension_full[df_hypertension_full['hypertension'] == 1]['age'].min()\n",
    "hypertension_yes_max_age = df_hypertension_full[df_hypertension_full['hypertension'] == 1]['age'].max()\n",
    "print (hypertension_yes_min_age, hypertension_yes_max_age)"
   ]
  },
  {
   "cell_type": "markdown",
   "metadata": {},
   "source": [
    "No difference in age between the minimum age and the lower cut-off age and between the maximum age and the maximum cut-off age in df_hypertension"
   ]
  },
  {
   "cell_type": "code",
   "execution_count": 86,
   "metadata": {},
   "outputs": [
    {
     "name": "stdout",
     "output_type": "stream",
     "text": [
      "55.12 271.74\n"
     ]
    }
   ],
   "source": [
    "#Obtain minimum and maximum values of avg_glucose_level  in df_hypertension\n",
    "hypertension_all_min_avg_glucose_level, hypertension_all_max_avg_glucose_level = get_min_max_values(df_hypertension_full, 'avg_glucose_level')\n",
    "print (hypertension_all_min_avg_glucose_level, hypertension_all_max_avg_glucose_level)"
   ]
  },
  {
   "cell_type": "code",
   "execution_count": 87,
   "metadata": {},
   "outputs": [
    {
     "name": "stdout",
     "output_type": "stream",
     "text": [
      "56.31 271.74\n"
     ]
    }
   ],
   "source": [
    "#Identifying minimum avg_glucose_level criterion and maximum avg_glucose_level criterion in df_hypertension_full\n",
    "hypertension_yes_min_avg_glucose_level = df_hypertension_full[df_hypertension_full['hypertension'] == 1]['avg_glucose_level'].min()\n",
    "hypertension_yes_max_avg_glucose_level = df_hypertension_full[df_hypertension_full['hypertension'] == 1]['avg_glucose_level'].max()\n",
    "\n",
    "print (heart_disease_yes_min_avg_glucose_level,heart_disease_yes_max_avg_glucose_level )"
   ]
  },
  {
   "cell_type": "markdown",
   "metadata": {},
   "source": [
    "The maximum value of avg_glucose_level in df_hypertension_full is equal  to the upper cut-off value. However, the minimum value of avg_glucose_level in df_hypertension_full is lower than the lower cut-off value. \n",
    "\n",
    "Consequently, we will have to filter this dataframe appropriately. We move on to bmi for now."
   ]
  },
  {
   "cell_type": "code",
   "execution_count": 88,
   "metadata": {},
   "outputs": [
    {
     "name": "stdout",
     "output_type": "stream",
     "text": [
      "11.3 97.6\n"
     ]
    }
   ],
   "source": [
    "#Obtain minimum and maximum values of bmi in df_heart_disease_full\n",
    "hypertension_all_min_bmi, hypertension_all_max_bmi = get_min_max_values(df_hypertension_full, 'bmi')\n",
    "print (hypertension_all_min_bmi, hypertension_all_max_bmi)"
   ]
  },
  {
   "cell_type": "code",
   "execution_count": 89,
   "metadata": {},
   "outputs": [
    {
     "name": "stdout",
     "output_type": "stream",
     "text": [
      "15.0 97.6\n"
     ]
    }
   ],
   "source": [
    "#Identifying minimum bmi criterion and maximum bmi criterion in df_heart_disease_full\n",
    "hypertension_yes_min_bmi = df_hypertension_full[df_hypertension_full['hypertension'] == 1]['bmi'].min()\n",
    "hypertension_yes_max_bmi = df_hypertension_full[df_hypertension_full['hypertension'] == 1]['bmi'].max()\n",
    "\n",
    "print (hypertension_yes_min_bmi,hypertension_yes_max_bmi )"
   ]
  },
  {
   "cell_type": "code",
   "execution_count": 90,
   "metadata": {},
   "outputs": [
    {
     "name": "stdout",
     "output_type": "stream",
     "text": [
      "(4242, 18)\n"
     ]
    }
   ],
   "source": [
    "df_hypertension_full = df_hypertension_full[\n",
    "    (df_hypertension_full['bmi'] >= heart_disease_yes_min_bmi) & (df_hypertension_full['bmi'] <= hypertension_yes_max_bmi) & \n",
    "    (df_hypertension_full['avg_glucose_level'] >= hypertension_yes_min_avg_glucose_level) &\n",
    "    (df_hypertension_full['avg_glucose_level'] <= hypertension_yes_max_avg_glucose_level)\n",
    "\n",
    "]\n",
    "print (df_hypertension_full.shape)"
   ]
  },
  {
   "cell_type": "code",
   "execution_count": 91,
   "metadata": {},
   "outputs": [
    {
     "name": "stdout",
     "output_type": "stream",
     "text": [
      "\n",
      "Count of each level in 'gender':\n",
      "Female: 2560\n",
      "Male: 1682\n",
      "\n",
      "Count of each level in 'ever_married':\n",
      "Yes: 3308\n",
      "No: 934\n",
      "\n",
      "Count of each level in 'work_type':\n",
      "Private: 2787\n",
      "Self-employed: 798\n",
      "Govt_job: 648\n",
      "Never_worked: 9\n",
      "\n",
      "Count of each level in 'Residence_type':\n",
      "Urban: 2160\n",
      "Rural: 2082\n",
      "\n",
      "Count of each level in 'smoking_status':\n",
      "never smoked: 1745\n",
      "Unknown: 874\n",
      "formerly smoked: 850\n",
      "smokes: 773\n"
     ]
    }
   ],
   "source": [
    "# Select all category variables in this dataset and obtain the counts of each levels of those variables.\n",
    "category_columns = df_hypertension_full.select_dtypes(include='category').columns\n",
    "\n",
    "for col in category_columns:\n",
    "    print(f\"\\nCount of each level in '{col}':\")\n",
    "    counts = df_hypertension_full[col].value_counts()\n",
    "    for category, count in counts.items():\n",
    "        print(f\"{category}: {count}\")"
   ]
  },
  {
   "cell_type": "code",
   "execution_count": 92,
   "metadata": {},
   "outputs": [],
   "source": [
    "# Write the cleaned df_hypertension_full dataframe to a csv file\n",
    "df.to_csv('hypertension_full_data_cleaned.csv', index=False)"
   ]
  }
 ],
 "metadata": {
  "kernelspec": {
   "display_name": "dsi_participant",
   "language": "python",
   "name": "python3"
  },
  "language_info": {
   "codemirror_mode": {
    "name": "ipython",
    "version": 3
   },
   "file_extension": ".py",
   "mimetype": "text/x-python",
   "name": "python",
   "nbconvert_exporter": "python",
   "pygments_lexer": "ipython3",
   "version": "3.9.18"
  }
 },
 "nbformat": 4,
 "nbformat_minor": 2
}
