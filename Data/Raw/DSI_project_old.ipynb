{
 "cells": [
  {
   "cell_type": "markdown",
   "metadata": {},
   "source": [
    "At this point the summary statistics for all the variables in the dataset have been generated. Data Transformation of the categorical variables using the Label Encoder\n",
    "\n",
    "function in scikit-learn has also been done. Finally, the missing values for the bmi variable have been imputed using the grouped means of the values of the other variables.\n",
    "\n",
    "Note also that the only variable in this dataset with missing values is the bmi variable."
   ]
  },
  {
   "cell_type": "markdown",
   "metadata": {},
   "source": [
    "The dataset has been obtained from https://www.kaggle.com/datasets/fedesoriano/stroke-prediction-dataset"
   ]
  },
  {
   "cell_type": "code",
   "execution_count": 24,
   "metadata": {},
   "outputs": [],
   "source": [
    "import numpy as np\n",
    "import pandas as pd\n",
    "\n",
    "from sklearn.preprocessing import LabelEncoder"
   ]
  },
  {
   "cell_type": "code",
   "execution_count": 25,
   "metadata": {},
   "outputs": [
    {
     "name": "stdout",
     "output_type": "stream",
     "text": [
      "      id  gender   age  hypertension  heart_disease ever_married  \\\n",
      "0   9046    Male  67.0             0              1          Yes   \n",
      "1  51676  Female  61.0             0              0          Yes   \n",
      "2  31112    Male  80.0             0              1          Yes   \n",
      "3  60182  Female  49.0             0              0          Yes   \n",
      "4   1665  Female  79.0             1              0          Yes   \n",
      "5  56669    Male  81.0             0              0          Yes   \n",
      "\n",
      "       work_type Residence_type  avg_glucose_level   bmi   smoking_status  \\\n",
      "0        Private          Urban             228.69  36.6  formerly smoked   \n",
      "1  Self-employed          Rural             202.21   NaN     never smoked   \n",
      "2        Private          Rural             105.92  32.5     never smoked   \n",
      "3        Private          Urban             171.23  34.4           smokes   \n",
      "4  Self-employed          Rural             174.12  24.0     never smoked   \n",
      "5        Private          Urban             186.21  29.0  formerly smoked   \n",
      "\n",
      "   stroke  \n",
      "0       1  \n",
      "1       1  \n",
      "2       1  \n",
      "3       1  \n",
      "4       1  \n",
      "5       1  \n"
     ]
    }
   ],
   "source": [
    "df = pd.read_csv(\"healthcare-dataset-stroke-data.csv\")\n",
    "print (df.head(6))"
   ]
  },
  {
   "cell_type": "code",
   "execution_count": 26,
   "metadata": {},
   "outputs": [
    {
     "name": "stdout",
     "output_type": "stream",
     "text": [
      "id                     0\n",
      "gender                 0\n",
      "age                    0\n",
      "hypertension           0\n",
      "heart_disease          0\n",
      "ever_married           0\n",
      "work_type              0\n",
      "Residence_type         0\n",
      "avg_glucose_level      0\n",
      "bmi                  201\n",
      "smoking_status         0\n",
      "stroke                 0\n",
      "dtype: int64\n"
     ]
    }
   ],
   "source": [
    "#checking for missing values\n",
    "print (df.isnull().sum())"
   ]
  },
  {
   "cell_type": "code",
   "execution_count": 27,
   "metadata": {},
   "outputs": [
    {
     "name": "stdout",
     "output_type": "stream",
     "text": [
      "   gender   age  hypertension  heart_disease ever_married      work_type  \\\n",
      "0    Male  67.0             0              1          Yes        Private   \n",
      "1  Female  61.0             0              0          Yes  Self-employed   \n",
      "2    Male  80.0             0              1          Yes        Private   \n",
      "3  Female  49.0             0              0          Yes        Private   \n",
      "4  Female  79.0             1              0          Yes  Self-employed   \n",
      "5    Male  81.0             0              0          Yes        Private   \n",
      "\n",
      "  Residence_type  avg_glucose_level   bmi   smoking_status  stroke  \n",
      "0          Urban             228.69  36.6  formerly smoked       1  \n",
      "1          Rural             202.21   NaN     never smoked       1  \n",
      "2          Rural             105.92  32.5     never smoked       1  \n",
      "3          Urban             171.23  34.4           smokes       1  \n",
      "4          Rural             174.12  24.0     never smoked       1  \n",
      "5          Urban             186.21  29.0  formerly smoked       1  \n"
     ]
    }
   ],
   "source": [
    "#select all columns except the first since the id variable is irrelevant for meaningful predictions of any appropriate outcome variable in this dataset\n",
    "\n",
    "df = df.iloc[:, 1:] \n",
    "print (df.head(6))"
   ]
  },
  {
   "cell_type": "code",
   "execution_count": 28,
   "metadata": {},
   "outputs": [
    {
     "name": "stdout",
     "output_type": "stream",
     "text": [
      "gender                object\n",
      "age                  float64\n",
      "hypertension           int64\n",
      "heart_disease          int64\n",
      "ever_married          object\n",
      "work_type             object\n",
      "Residence_type        object\n",
      "avg_glucose_level    float64\n",
      "bmi                  float64\n",
      "smoking_status        object\n",
      "stroke                 int64\n",
      "dtype: object\n"
     ]
    }
   ],
   "source": [
    "print (df.dtypes)"
   ]
  },
  {
   "cell_type": "code",
   "execution_count": 29,
   "metadata": {},
   "outputs": [
    {
     "name": "stdout",
     "output_type": "stream",
     "text": [
      "gender               category\n",
      "age                   float64\n",
      "hypertension            int64\n",
      "heart_disease           int64\n",
      "ever_married         category\n",
      "work_type            category\n",
      "Residence_type       category\n",
      "avg_glucose_level     float64\n",
      "bmi                   float64\n",
      "smoking_status       category\n",
      "stroke                  int64\n",
      "dtype: object\n"
     ]
    }
   ],
   "source": [
    "# Convert multiple object columns to category\n",
    "df[['gender', 'ever_married', 'work_type', 'Residence_type', 'smoking_status']] = df[['gender', 'ever_married', 'work_type', 'Residence_type', 'smoking_status']].astype('category')\n",
    "\n",
    "# Check the data types\n",
    "print(df.dtypes)"
   ]
  },
  {
   "cell_type": "code",
   "execution_count": 30,
   "metadata": {},
   "outputs": [
    {
     "name": "stdout",
     "output_type": "stream",
     "text": [
      "\n",
      "Count of each level in 'gender':\n",
      "Female: 2994\n",
      "Male: 2115\n",
      "Other: 1\n",
      "\n",
      "Count of each level in 'ever_married':\n",
      "Yes: 3353\n",
      "No: 1757\n",
      "\n",
      "Count of each level in 'work_type':\n",
      "Private: 2925\n",
      "Self-employed: 819\n",
      "children: 687\n",
      "Govt_job: 657\n",
      "Never_worked: 22\n",
      "\n",
      "Count of each level in 'Residence_type':\n",
      "Urban: 2596\n",
      "Rural: 2514\n",
      "\n",
      "Count of each level in 'smoking_status':\n",
      "never smoked: 1892\n",
      "Unknown: 1544\n",
      "formerly smoked: 885\n",
      "smokes: 789\n"
     ]
    }
   ],
   "source": [
    "# Select all category variables in this dataset and obtain the counts of each levels of those variables.\n",
    "category_columns = df.select_dtypes(include='category').columns\n",
    "\n",
    "for col in category_columns:\n",
    "    print(f\"\\nCount of each level in '{col}':\")\n",
    "    counts = df[col].value_counts()\n",
    "    for category, count in counts.items():\n",
    "        print(f\"{category}: {count}\")"
   ]
  },
  {
   "cell_type": "code",
   "execution_count": 31,
   "metadata": {},
   "outputs": [
    {
     "name": "stdout",
     "output_type": "stream",
     "text": [
      "               age  avg_glucose_level          bmi\n",
      "count  5110.000000        5110.000000  4909.000000\n",
      "mean     43.226614         106.147677    28.893237\n",
      "std      22.612647          45.283560     7.854067\n",
      "min       0.080000          55.120000    10.300000\n",
      "25%      25.000000          77.245000    23.500000\n",
      "50%      45.000000          91.885000    28.100000\n",
      "75%      61.000000         114.090000    33.100000\n",
      "max      82.000000         271.740000    97.600000\n"
     ]
    }
   ],
   "source": [
    "#select all numerical variables in this dataset and obtain their summary statistics\n",
    "\n",
    "numeric_columns = df.select_dtypes(include=['float64']).columns\n",
    "print(df[numeric_columns].describe())\n"
   ]
  },
  {
   "cell_type": "code",
   "execution_count": 32,
   "metadata": {},
   "outputs": [
    {
     "name": "stdout",
     "output_type": "stream",
     "text": [
      "Frequency counts for 'stroke':\n",
      "stroke\n",
      "0    4861\n",
      "1     249\n",
      "Name: count, dtype: int64\n",
      "\n",
      "Frequency counts for 'hypertension':\n",
      "hypertension\n",
      "0    4612\n",
      "1     498\n",
      "Name: count, dtype: int64\n",
      "\n",
      "Frequency counts for 'heart_disease':\n",
      "heart_disease\n",
      "0    4834\n",
      "1     276\n",
      "Name: count, dtype: int64\n",
      "\n"
     ]
    }
   ],
   "source": [
    "#Obtain the count information for the values in the stroke, hypertension, and  heart_disease variables\n",
    "\n",
    "def get_counts(df, column_name):\n",
    "    # Convert the column_name type to int64, handling potential errors\n",
    "    df[column_name] = pd.to_numeric(df[column_name], errors='raise').astype('int64')\n",
    "    \n",
    "    #calculate the value counts and sort by index which will be the column_name values.\n",
    "    value_counts = df[column_name].value_counts().sort_index()\n",
    "    print(f\"Frequency counts for '{column_name}':\\n{value_counts}\\n\")\n",
    "\n",
    "get_counts(df,'stroke')\n",
    "get_counts(df, 'hypertension')\n",
    "get_counts(df, 'heart_disease')"
   ]
  },
  {
   "cell_type": "code",
   "execution_count": null,
   "metadata": {},
   "outputs": [
    {
     "name": "stdout",
     "output_type": "stream",
     "text": [
      "   gender   age  hypertension  heart_disease ever_married      work_type  \\\n",
      "0    Male  67.0             0              1          Yes        Private   \n",
      "1  Female  61.0             0              0          Yes  Self-employed   \n",
      "2    Male  80.0             0              1          Yes        Private   \n",
      "\n",
      "  Residence_type  avg_glucose_level   bmi   smoking_status  stroke  Age_temp  \n",
      "0          Urban             228.69  36.6  formerly smoked       1         3  \n",
      "1          Rural             202.21   NaN     never smoked       1         3  \n",
      "2          Rural             105.92  32.5     never smoked       1         3  \n"
     ]
    }
   ],
   "source": [
    "#Age \n",
    "#We are creating a new variable Age_temp_cat using the Age variable. The purpose of this new variable \n",
    "#is to help us in imputing the missing values of the bmi variable\n",
    "\n",
    "#bins = [0, 10, 20, 30, 40, 50, 60, 70, 80, float('inf')]\n",
    "#labels = [0, 1, 2, 3, 4, 5, 6,7,8]\n",
    "#bins = [0,15, 30, 45, 60, 75, float ('inf') ]\n",
    "#labels = [0, 1, 2, 3, 4, 5]\n",
    "#bins = [0, 20, 40, 60,  float('inf')]\n",
    "#The bins above were used to play around with the data when determining the optimal bin values \n",
    "#for creating the new variable Age_temp_cat from Age\n",
    "\n",
    "#Note that the minimum value for Age is 0.08 and the maximum value is 82\n",
    "\n",
    "bins = [0, 20, 40, 60,  float('inf')]\n",
    "labels = [0, 1, 2, 3]\n",
    "\n",
    "\n",
    "\n",
    "df['Age_temp_cat'] = pd.cut(df['age'], bins=bins, labels=labels, right=False) \n",
    "df['Age_temp_cat'] = df['Age_temp_cat'].astype('category')\n",
    "\n",
    "# Initialize and fit LabelEncoder\n",
    "encoder = LabelEncoder()\n",
    "df['Age_temp'] = encoder.fit_transform(df['Age_temp_cat'])\n",
    "# Drop the intermediate 'Age_temp_cat' column\n",
    "df.drop('Age_temp_cat', axis=1, inplace=True)\n",
    "print (df.head(3))\n",
    "\n",
    "\n",
    "\n"
   ]
  },
  {
   "cell_type": "code",
   "execution_count": 34,
   "metadata": {},
   "outputs": [
    {
     "name": "stdout",
     "output_type": "stream",
     "text": [
      "   gender   age  hypertension  heart_disease ever_married      work_type  \\\n",
      "0    Male  67.0             0              1          Yes        Private   \n",
      "1  Female  61.0             0              0          Yes  Self-employed   \n",
      "2    Male  80.0             0              1          Yes        Private   \n",
      "\n",
      "  Residence_type  avg_glucose_level   bmi   smoking_status  stroke  Age_temp  \\\n",
      "0          Urban             228.69  36.6  formerly smoked       1         3   \n",
      "1          Rural             202.21   NaN     never smoked       1         3   \n",
      "2          Rural             105.92  32.5     never smoked       1         3   \n",
      "\n",
      "   avg_glucose_level_temp  \n",
      "0                       3  \n",
      "1                       3  \n",
      "2                       1  \n"
     ]
    }
   ],
   "source": [
    "#avg_glucose_level\n",
    "\n",
    "#We are creating a new variable avg_glucose_level_temp_cat using the avg_glucose_level variable. The purpose of this new variable \n",
    "#is to help us in imputing the missing values of the bmi variable\n",
    "\n",
    "#Note that the minimum value for avg_glucose_level is 55.12 and  the maximum value is 271.74\n",
    "\n",
    "# Define the bins and labels\n",
    "#bins = [50, 70, 90, 110, 130, 150, 170, 190, 210, 230, 250, 270, float('inf')]\n",
    "#labels = [1, 2, 3, 4, 5, 6, 7, 8, 9, 10, 11, 12]\n",
    "#bins = [50, 90, 130, 170, 210, float('inf')]\n",
    "#labels = [1, 2, 3, 4, 5]\n",
    "#bins = [50, 100, 150, 200, float('inf')]\n",
    "#labels = [1, 2, 3, 4]\n",
    "#bins = [50, 120, 190, float('inf')]\n",
    "#labels = [1, 2, 3]\n",
    "#bins = [50, 150,float('inf')]\n",
    "#labels = [1, 2]\n",
    "\n",
    "#The bins above were used to play around with the data when determining the optimal bin values \n",
    "#for creating the new variable avg_glucose_level_temp_cat from avg_glucose_level\n",
    "\n",
    "# Define the bins and labels\n",
    "bins = [50, 120, 190, float('inf')]\n",
    "labels = [1, 2, 3]\n",
    "\n",
    "# Create the 'avg_glucose_level_temp' column using pd.cut\n",
    "df['avg_glucose_level_temp_cat'] = pd.cut(df['avg_glucose_level'], bins=bins, labels=labels, right=False)\n",
    "\n",
    "# Initialize LabelEncoder\n",
    "label_encoder = LabelEncoder()\n",
    "\n",
    "# Fit and transform the categorical column\n",
    "df['avg_glucose_level_temp'] = label_encoder.fit_transform(df['avg_glucose_level_temp_cat']) + 1 # +1 to match the original labels\n",
    "\n",
    "df.drop('avg_glucose_level_temp_cat', axis=1, inplace=True)\n",
    "# Print the DataFrame with the new categorical column\n",
    "print(df.head(3))"
   ]
  },
  {
   "cell_type": "code",
   "execution_count": 35,
   "metadata": {},
   "outputs": [
    {
     "name": "stdout",
     "output_type": "stream",
     "text": [
      "Frequency counts for 'Age_temp':\n",
      "Age_temp\n",
      "0     966\n",
      "1    1204\n",
      "2    1564\n",
      "3    1376\n",
      "Name: count, dtype: int64\n",
      "\n",
      "Frequency counts for 'avg_glucose_level_temp':\n",
      "avg_glucose_level_temp\n",
      "1    3991\n",
      "2     589\n",
      "3     530\n",
      "Name: count, dtype: int64\n",
      "\n"
     ]
    }
   ],
   "source": [
    "#Obtain the frequency counts of the newly created variables Age_temp and avg_glucose_level_temp\n",
    "get_counts(df,'Age_temp')\n",
    "get_counts(df, 'avg_glucose_level_temp')"
   ]
  },
  {
   "cell_type": "code",
   "execution_count": 36,
   "metadata": {},
   "outputs": [
    {
     "name": "stdout",
     "output_type": "stream",
     "text": [
      "Frequency counts for 'gender_encoded':\n",
      "gender_encoded\n",
      "0    2994\n",
      "1    2115\n",
      "2       1\n",
      "Name: count, dtype: int64\n",
      "\n",
      "Gender Mapping:\n",
      "Female: 0\n",
      "Male: 1\n",
      "Other: 2\n"
     ]
    }
   ],
   "source": [
    "#Gender variable\n",
    "#Transform the Gender variable into a numerical variable using the label encoder method\n",
    "\n",
    "# Initialize LabelEncoder\n",
    "label_encoder = LabelEncoder()\n",
    "\n",
    "# Fit and transform the 'gender' column\n",
    "df['gender_encoded'] = label_encoder.fit_transform(df['gender'])\n",
    "get_counts(df,'gender_encoded')\n",
    "\n",
    "# Get the unique classes and their corresponding labels\n",
    "class_labels = dict(zip(label_encoder.classes_, label_encoder.transform(label_encoder.classes_)))\n",
    "\n",
    "# Print the mapping\n",
    "print(\"Gender Mapping:\")\n",
    "for key, value in class_labels.items():\n",
    "    print(f\"{key}: {value}\")"
   ]
  },
  {
   "cell_type": "code",
   "execution_count": 37,
   "metadata": {},
   "outputs": [
    {
     "name": "stdout",
     "output_type": "stream",
     "text": [
      "   gender   age  hypertension  heart_disease ever_married      work_type  \\\n",
      "0    Male  67.0             0              1          Yes        Private   \n",
      "1  Female  61.0             0              0          Yes  Self-employed   \n",
      "2    Male  80.0             0              1          Yes        Private   \n",
      "\n",
      "  Residence_type  avg_glucose_level   bmi   smoking_status  stroke  Age_temp  \\\n",
      "0          Urban             228.69  36.6  formerly smoked       1         3   \n",
      "1          Rural             202.21   NaN     never smoked       1         3   \n",
      "2          Rural             105.92  32.5     never smoked       1         3   \n",
      "\n",
      "   avg_glucose_level_temp  gender_encoded  ever_married_encoded  \n",
      "0                       3               1                     1  \n",
      "1                       3               0                     1  \n",
      "2                       1               1                     1  \n",
      "ever_married Mapping:\n",
      "No: 0\n",
      "Yes: 1\n"
     ]
    }
   ],
   "source": [
    "#ever_married\n",
    "#Transform the ever_married variable into a numerical variable using the label encoder method\n",
    "\n",
    "# Initialize LabelEncoder\n",
    "label_encoder = LabelEncoder()\n",
    "\n",
    "# Fit and transform the 'ever_married' column\n",
    "df['ever_married_encoded'] = label_encoder.fit_transform(df['ever_married'])\n",
    "\n",
    "# Print the DataFrame with the new encoded column\n",
    "print(df.head(3))\n",
    "\n",
    "# Get the unique classes and their corresponding labels\n",
    "class_labels = dict(zip(label_encoder.classes_, label_encoder.transform(label_encoder.classes_)))\n",
    "\n",
    "# Print the mapping\n",
    "print(\"ever_married Mapping:\")\n",
    "for key, value in class_labels.items():\n",
    "    print(f\"{key}: {value}\")\n"
   ]
  },
  {
   "cell_type": "code",
   "execution_count": 38,
   "metadata": {},
   "outputs": [
    {
     "name": "stdout",
     "output_type": "stream",
     "text": [
      "   gender   age  hypertension  heart_disease ever_married      work_type  \\\n",
      "0    Male  67.0             0              1          Yes        Private   \n",
      "1  Female  61.0             0              0          Yes  Self-employed   \n",
      "2    Male  80.0             0              1          Yes        Private   \n",
      "\n",
      "  Residence_type  avg_glucose_level   bmi   smoking_status  stroke  Age_temp  \\\n",
      "0          Urban             228.69  36.6  formerly smoked       1         3   \n",
      "1          Rural             202.21   NaN     never smoked       1         3   \n",
      "2          Rural             105.92  32.5     never smoked       1         3   \n",
      "\n",
      "   avg_glucose_level_temp  gender_encoded  ever_married_encoded  \\\n",
      "0                       3               1                     1   \n",
      "1                       3               0                     1   \n",
      "2                       1               1                     1   \n",
      "\n",
      "   work_type_encoded  \n",
      "0                  2  \n",
      "1                  3  \n",
      "2                  2  \n",
      "work_type Mapping:\n",
      "Govt_job: 0\n",
      "Never_worked: 1\n",
      "Private: 2\n",
      "Self-employed: 3\n",
      "children: 4\n"
     ]
    }
   ],
   "source": [
    "#Work type\n",
    "\n",
    "#Transform the Work type variable into a numerical variable using the label encoder method\n",
    "\n",
    "# Initialize LabelEncoder\n",
    "label_encoder = LabelEncoder()\n",
    "\n",
    "# Fit and transform the 'work_type' column\n",
    "df['work_type_encoded'] = label_encoder.fit_transform(df['work_type'])\n",
    "\n",
    "# Print the DataFrame with the new encoded column\n",
    "print(df.head(3))\n",
    "\n",
    "\n",
    "\n",
    "# Get the unique classes and their corresponding labels\n",
    "class_labels = dict(zip(label_encoder.classes_, label_encoder.transform(label_encoder.classes_)))\n",
    "\n",
    "print(\"work_type Mapping:\")\n",
    "for key, value in class_labels.items():\n",
    "    print(f\"{key}: {value}\")\n",
    "\n",
    "\n"
   ]
  },
  {
   "cell_type": "code",
   "execution_count": 39,
   "metadata": {},
   "outputs": [
    {
     "name": "stdout",
     "output_type": "stream",
     "text": [
      "   gender   age  hypertension  heart_disease ever_married      work_type  \\\n",
      "0    Male  67.0             0              1          Yes        Private   \n",
      "1  Female  61.0             0              0          Yes  Self-employed   \n",
      "2    Male  80.0             0              1          Yes        Private   \n",
      "\n",
      "  Residence_type  avg_glucose_level   bmi   smoking_status  stroke  Age_temp  \\\n",
      "0          Urban             228.69  36.6  formerly smoked       1         3   \n",
      "1          Rural             202.21   NaN     never smoked       1         3   \n",
      "2          Rural             105.92  32.5     never smoked       1         3   \n",
      "\n",
      "   avg_glucose_level_temp  gender_encoded  ever_married_encoded  \\\n",
      "0                       3               1                     1   \n",
      "1                       3               0                     1   \n",
      "2                       1               1                     1   \n",
      "\n",
      "   work_type_encoded  Residence_type_encoded  \n",
      "0                  2                       1  \n",
      "1                  3                       0  \n",
      "2                  2                       0  \n",
      "Residence_type Mapping:\n",
      "Rural: 0\n",
      "Urban: 1\n"
     ]
    }
   ],
   "source": [
    "#Residence type\n",
    "\n",
    "#Transform the Residence type variable into a numerical variable using the label encoder method\n",
    "\n",
    "# Initialize LabelEncoder\n",
    "label_encoder = LabelEncoder()\n",
    "\n",
    "# Fit and transform the 'Residence_type' column\n",
    "df['Residence_type_encoded'] = label_encoder.fit_transform(df['Residence_type'])\n",
    "\n",
    "# Print the DataFrame with the new encoded column\n",
    "print(df.head(3))\n",
    "\n",
    "# Get the unique classes and their corresponding labels\n",
    "class_labels = dict(zip(label_encoder.classes_, label_encoder.transform(label_encoder.classes_)))\n",
    "\n",
    "print(\"Residence_type Mapping:\")\n",
    "for key, value in class_labels.items():\n",
    "    print(f\"{key}: {value}\")\n",
    "\n"
   ]
  },
  {
   "cell_type": "code",
   "execution_count": 40,
   "metadata": {},
   "outputs": [
    {
     "name": "stdout",
     "output_type": "stream",
     "text": [
      "   gender   age  hypertension  heart_disease ever_married      work_type  \\\n",
      "0    Male  67.0             0              1          Yes        Private   \n",
      "1  Female  61.0             0              0          Yes  Self-employed   \n",
      "2    Male  80.0             0              1          Yes        Private   \n",
      "\n",
      "  Residence_type  avg_glucose_level   bmi   smoking_status  stroke  Age_temp  \\\n",
      "0          Urban             228.69  36.6  formerly smoked       1         3   \n",
      "1          Rural             202.21   NaN     never smoked       1         3   \n",
      "2          Rural             105.92  32.5     never smoked       1         3   \n",
      "\n",
      "   avg_glucose_level_temp  gender_encoded  ever_married_encoded  \\\n",
      "0                       3               1                     1   \n",
      "1                       3               0                     1   \n",
      "2                       1               1                     1   \n",
      "\n",
      "   work_type_encoded  Residence_type_encoded  smoking_status_encoded  \n",
      "0                  2                       1                       1  \n",
      "1                  3                       0                       2  \n",
      "2                  2                       0                       2  \n",
      "Residence_type Mapping:\n",
      "Unknown: 0\n",
      "formerly smoked: 1\n",
      "never smoked: 2\n",
      "smokes: 3\n"
     ]
    }
   ],
   "source": [
    "#smoking status\n",
    "#Transform the smoking status variable into a numerical variable using the label encoder method\n",
    "\n",
    "# Initialize LabelEncoder\n",
    "label_encoder = LabelEncoder()\n",
    "\n",
    "# Fit and transform the 'smoking_status' column\n",
    "df['smoking_status_encoded'] = label_encoder.fit_transform(df['smoking_status'])\n",
    "\n",
    "# Print the DataFrame with the new encoded column\n",
    "print(df.head(3))\n",
    "\n",
    "# Get the unique classes and their corresponding labels\n",
    "class_labels = dict(zip(label_encoder.classes_, label_encoder.transform(label_encoder.classes_)))\n",
    "\n",
    "print(\"Residence_type Mapping:\")\n",
    "for key, value in class_labels.items():\n",
    "    print(f\"{key}: {value}\")\n"
   ]
  },
  {
   "cell_type": "code",
   "execution_count": 41,
   "metadata": {},
   "outputs": [
    {
     "name": "stdout",
     "output_type": "stream",
     "text": [
      "gender                    category\n",
      "age                        float64\n",
      "hypertension                 int64\n",
      "heart_disease                int64\n",
      "ever_married              category\n",
      "work_type                 category\n",
      "Residence_type            category\n",
      "avg_glucose_level          float64\n",
      "bmi                        float64\n",
      "smoking_status            category\n",
      "stroke                       int64\n",
      "Age_temp                     int64\n",
      "avg_glucose_level_temp       int64\n",
      "gender_encoded               int64\n",
      "ever_married_encoded         int64\n",
      "work_type_encoded            int64\n",
      "Residence_type_encoded       int64\n",
      "smoking_status_encoded       int64\n",
      "dtype: object\n"
     ]
    }
   ],
   "source": [
    "print (df.dtypes)"
   ]
  },
  {
   "cell_type": "code",
   "execution_count": 42,
   "metadata": {},
   "outputs": [
    {
     "name": "stdout",
     "output_type": "stream",
     "text": [
      "   gender   age  hypertension  heart_disease ever_married      work_type  \\\n",
      "0    Male  67.0             0              1          Yes        Private   \n",
      "1  Female  61.0             0              0          Yes  Self-employed   \n",
      "2    Male  80.0             0              1          Yes        Private   \n",
      "\n",
      "  Residence_type  avg_glucose_level        bmi   smoking_status  stroke  \\\n",
      "0          Urban             228.69  36.600000  formerly smoked       1   \n",
      "1          Rural             202.21  30.007143     never smoked       1   \n",
      "2          Rural             105.92  32.500000     never smoked       1   \n",
      "\n",
      "   Age_temp  avg_glucose_level_temp  gender_encoded  ever_married_encoded  \\\n",
      "0         3                       3               1                     1   \n",
      "1         3                       3               0                     1   \n",
      "2         3                       1               1                     1   \n",
      "\n",
      "   work_type_encoded  Residence_type_encoded  smoking_status_encoded  \n",
      "0                  2                       1                       1  \n",
      "1                  3                       0                       2  \n",
      "2                  2                       0                       2  \n"
     ]
    }
   ],
   "source": [
    "\n",
    "#  Imputes missing BMI values using grouped means based on other relevant variables in this dataframe\n",
    "def impute_bmi_with_grouped_means(df):\n",
    "     # Identify the variables to group by\n",
    "    grouping_columns = [\n",
    "                         'gender_encoded',\n",
    "                        'ever_married_encoded', 'work_type_encoded',\n",
    "                        'Residence_type_encoded', 'smoking_status_encoded',\n",
    "                        'Age_temp' , 'avg_glucose_level_temp'\n",
    "                        ]\n",
    "    # Calculate grouped means\n",
    "    grouped_means = df.groupby(grouping_columns)['bmi'].transform('mean')\n",
    "\n",
    "     # Impute missing values\n",
    "    df['bmi'] = df['bmi'].fillna(grouped_means)\n",
    "    return (df)\n",
    "\n",
    "# Impute missing BMI values\n",
    "df = impute_bmi_with_grouped_means(df)\n",
    "print (df.head(3))\n",
    "\n",
    "\n",
    "    \n",
    "\n"
   ]
  },
  {
   "cell_type": "code",
   "execution_count": 43,
   "metadata": {},
   "outputs": [
    {
     "name": "stdout",
     "output_type": "stream",
     "text": [
      "gender                    0\n",
      "age                       0\n",
      "hypertension              0\n",
      "heart_disease             0\n",
      "ever_married              0\n",
      "work_type                 0\n",
      "Residence_type            0\n",
      "avg_glucose_level         0\n",
      "bmi                       4\n",
      "smoking_status            0\n",
      "stroke                    0\n",
      "Age_temp                  0\n",
      "avg_glucose_level_temp    0\n",
      "gender_encoded            0\n",
      "ever_married_encoded      0\n",
      "work_type_encoded         0\n",
      "Residence_type_encoded    0\n",
      "smoking_status_encoded    0\n",
      "dtype: int64\n"
     ]
    }
   ],
   "source": [
    "#checking again for presence of missing values\n",
    "print (df.isnull().sum())"
   ]
  },
  {
   "cell_type": "code",
   "execution_count": 44,
   "metadata": {},
   "outputs": [
    {
     "name": "stdout",
     "output_type": "stream",
     "text": [
      "Rows with missing BMI values:\n",
      "      gender   age  hypertension  heart_disease ever_married work_type  \\\n",
      "19      Male  57.0             0              1           No  Govt_job   \n",
      "1102  Female  23.0             0              0           No   Private   \n",
      "1596    Male  47.0             0              0           No   Private   \n",
      "2752  Female  38.0             0              0          Yes   Private   \n",
      "\n",
      "     Residence_type  avg_glucose_level  bmi smoking_status  stroke  Age_temp  \\\n",
      "19            Urban             217.08  NaN        Unknown       1         2   \n",
      "1102          Rural             193.22  NaN         smokes       0         1   \n",
      "1596          Rural             237.17  NaN        Unknown       0         2   \n",
      "2752          Rural             217.55  NaN         smokes       0         1   \n",
      "\n",
      "      avg_glucose_level_temp  gender_encoded  ever_married_encoded  \\\n",
      "19                         3               1                     0   \n",
      "1102                       3               0                     0   \n",
      "1596                       3               1                     0   \n",
      "2752                       3               0                     1   \n",
      "\n",
      "      work_type_encoded  Residence_type_encoded  smoking_status_encoded  \n",
      "19                    0                       1                       0  \n",
      "1102                  2                       0                       3  \n",
      "1596                  2                       0                       0  \n",
      "2752                  2                       0                       3  \n"
     ]
    }
   ],
   "source": [
    "# Print rows with missing BMI values\n",
    "missing_bmi_rows = df[df['bmi'].isnull()]\n",
    "if not missing_bmi_rows.empty:\n",
    "    print(\"Rows with missing BMI values:\")\n",
    "    print(missing_bmi_rows)\n",
    "else:\n",
    "    print(\"No missing BMI values found.\")"
   ]
  },
  {
   "cell_type": "code",
   "execution_count": 45,
   "metadata": {},
   "outputs": [],
   "source": [
    "# imputing again without using the avg_glucose_level variable we used earlier\n",
    "def impute_bmi_with_grouped_means(df):\n",
    "     # Identify the variables to group by\n",
    "    grouping_columns = [\n",
    "                         'gender_encoded',\n",
    "                        'ever_married_encoded', 'work_type_encoded',\n",
    "                        'Residence_type_encoded', 'smoking_status_encoded',\n",
    "                        'Age_temp' \n",
    "                        ]\n",
    "    # Calculate grouped means\n",
    "    grouped_means = df.groupby(grouping_columns)['bmi'].transform('mean')\n",
    "\n",
    "     # Impute missing values\n",
    "    df['bmi'] = df['bmi'].fillna(grouped_means)\n",
    "    return (df)\n",
    "\n",
    "# Impute missing BMI values\n",
    "df = impute_bmi_with_grouped_means(df)"
   ]
  },
  {
   "cell_type": "code",
   "execution_count": 46,
   "metadata": {},
   "outputs": [
    {
     "name": "stdout",
     "output_type": "stream",
     "text": [
      "gender                    0\n",
      "age                       0\n",
      "hypertension              0\n",
      "heart_disease             0\n",
      "ever_married              0\n",
      "work_type                 0\n",
      "Residence_type            0\n",
      "avg_glucose_level         0\n",
      "bmi                       0\n",
      "smoking_status            0\n",
      "stroke                    0\n",
      "Age_temp                  0\n",
      "avg_glucose_level_temp    0\n",
      "gender_encoded            0\n",
      "ever_married_encoded      0\n",
      "work_type_encoded         0\n",
      "Residence_type_encoded    0\n",
      "smoking_status_encoded    0\n",
      "dtype: int64\n"
     ]
    }
   ],
   "source": [
    "#checking again for presence of missing values\n",
    "print (df.isnull().sum())"
   ]
  }
 ],
 "metadata": {
  "kernelspec": {
   "display_name": "dsi_participant",
   "language": "python",
   "name": "python3"
  },
  "language_info": {
   "codemirror_mode": {
    "name": "ipython",
    "version": 3
   },
   "file_extension": ".py",
   "mimetype": "text/x-python",
   "name": "python",
   "nbconvert_exporter": "python",
   "pygments_lexer": "ipython3",
   "version": "3.9.20"
  }
 },
 "nbformat": 4,
 "nbformat_minor": 2
}
