{
 "cells": [
  {
   "cell_type": "code",
   "execution_count": 27,
   "metadata": {},
   "outputs": [
    {
     "name": "stdout",
     "output_type": "stream",
     "text": [
      "Requirement already satisfied: imbalanced-learn in c:\\users\\poula\\miniconda3\\envs\\dsi_participant\\lib\\site-packages (0.12.4)\n",
      "Requirement already satisfied: numpy>=1.17.3 in c:\\users\\poula\\miniconda3\\envs\\dsi_participant\\lib\\site-packages (from imbalanced-learn) (1.26.4)\n",
      "Requirement already satisfied: scipy>=1.5.0 in c:\\users\\poula\\miniconda3\\envs\\dsi_participant\\lib\\site-packages (from imbalanced-learn) (1.13.1)\n",
      "Requirement already satisfied: scikit-learn>=1.0.2 in c:\\users\\poula\\miniconda3\\envs\\dsi_participant\\lib\\site-packages (from imbalanced-learn) (1.5.2)\n",
      "Requirement already satisfied: joblib>=1.1.1 in c:\\users\\poula\\miniconda3\\envs\\dsi_participant\\lib\\site-packages (from imbalanced-learn) (1.4.2)\n",
      "Requirement already satisfied: threadpoolctl>=2.0.0 in c:\\users\\poula\\miniconda3\\envs\\dsi_participant\\lib\\site-packages (from imbalanced-learn) (3.5.0)\n",
      "Requirement already satisfied: xgboost in c:\\users\\poula\\miniconda3\\envs\\dsi_participant\\lib\\site-packages (2.1.4)\n",
      "Requirement already satisfied: numpy in c:\\users\\poula\\miniconda3\\envs\\dsi_participant\\lib\\site-packages (from xgboost) (1.26.4)\n",
      "Requirement already satisfied: scipy in c:\\users\\poula\\miniconda3\\envs\\dsi_participant\\lib\\site-packages (from xgboost) (1.13.1)\n",
      "Requirement already satisfied: graphviz in c:\\users\\poula\\miniconda3\\envs\\dsi_participant\\lib\\site-packages (0.20.3)\n"
     ]
    }
   ],
   "source": [
    "!pip install imbalanced-learn\n",
    "!pip install xgboost\n",
    "!pip install graphviz"
   ]
  },
  {
   "cell_type": "code",
   "execution_count": 1,
   "metadata": {},
   "outputs": [],
   "source": [
    "import pandas as pd\n",
    "import numpy as np\n",
    "import seaborn as sns\n",
    "import matplotlib.pyplot as plt\n",
    "\n",
    "from sklearn.model_selection import train_test_split\n",
    "from sklearn.preprocessing import StandardScaler, OneHotEncoder\n",
    "from sklearn.compose import ColumnTransformer\n",
    "from sklearn.pipeline import Pipeline\n",
    "from sklearn.linear_model import LogisticRegression\n",
    "from sklearn.metrics import classification_report, accuracy_score, roc_auc_score\n",
    "from imblearn.over_sampling import SMOTE  # For class imbalance\n",
    "from sklearn.preprocessing import LabelEncoder\n",
    "from xgboost import XGBClassifier\n",
    "from xgboost import plot_tree"
   ]
  },
  {
   "cell_type": "code",
   "execution_count": 2,
   "metadata": {},
   "outputs": [
    {
     "name": "stdout",
     "output_type": "stream",
     "text": [
      "      id  gender   age  hypertension  heart_disease ever_married  \\\n",
      "0   9046    Male  67.0             0              1          Yes   \n",
      "1  51676  Female  61.0             0              0          Yes   \n",
      "2  31112    Male  80.0             0              1          Yes   \n",
      "3  60182  Female  49.0             0              0          Yes   \n",
      "4   1665  Female  79.0             1              0          Yes   \n",
      "\n",
      "       work_type Residence_type  avg_glucose_level   bmi   smoking_status  \\\n",
      "0        Private          Urban             228.69  36.6  formerly smoked   \n",
      "1  Self-employed          Rural             202.21   NaN     never smoked   \n",
      "2        Private          Rural             105.92  32.5     never smoked   \n",
      "3        Private          Urban             171.23  34.4           smokes   \n",
      "4  Self-employed          Rural             174.12  24.0     never smoked   \n",
      "\n",
      "   stroke  \n",
      "0       1  \n",
      "1       1  \n",
      "2       1  \n",
      "3       1  \n",
      "4       1  \n",
      "<class 'pandas.core.frame.DataFrame'>\n",
      "RangeIndex: 5110 entries, 0 to 5109\n",
      "Data columns (total 12 columns):\n",
      " #   Column             Non-Null Count  Dtype  \n",
      "---  ------             --------------  -----  \n",
      " 0   id                 5110 non-null   int64  \n",
      " 1   gender             5110 non-null   object \n",
      " 2   age                5110 non-null   float64\n",
      " 3   hypertension       5110 non-null   int64  \n",
      " 4   heart_disease      5110 non-null   int64  \n",
      " 5   ever_married       5110 non-null   object \n",
      " 6   work_type          5110 non-null   object \n",
      " 7   Residence_type     5110 non-null   object \n",
      " 8   avg_glucose_level  5110 non-null   float64\n",
      " 9   bmi                4909 non-null   float64\n",
      " 10  smoking_status     5110 non-null   object \n",
      " 11  stroke             5110 non-null   int64  \n",
      "dtypes: float64(3), int64(4), object(5)\n",
      "memory usage: 479.2+ KB\n",
      "None\n",
      "stroke\n",
      "0    0.951272\n",
      "1    0.048728\n",
      "Name: proportion, dtype: float64\n"
     ]
    }
   ],
   "source": [
    "df = pd.read_csv(\"C:/Users/poula/Downloads/rawdata.csv\")\n",
    "\n",
    "# Quick check\n",
    "print(df.head())\n",
    "print(df.info())\n",
    "\n",
    "# Check class imbalance\n",
    "print(df['stroke'].value_counts(normalize=True))"
   ]
  },
  {
   "cell_type": "code",
   "execution_count": 3,
   "metadata": {},
   "outputs": [
    {
     "name": "stdout",
     "output_type": "stream",
     "text": [
      "id                      int64\n",
      "gender               category\n",
      "age                   float64\n",
      "hypertension            int64\n",
      "heart_disease           int64\n",
      "ever_married         category\n",
      "work_type            category\n",
      "Residence_type       category\n",
      "avg_glucose_level     float64\n",
      "bmi                   float64\n",
      "smoking_status       category\n",
      "stroke                  int64\n",
      "dtype: object\n"
     ]
    }
   ],
   "source": [
    "# Convert multiple object columns to category\n",
    "df[['gender', 'ever_married', 'work_type', 'Residence_type', 'smoking_status']] = df[['gender', 'ever_married', 'work_type', 'Residence_type', 'smoking_status']].astype('category')\n",
    "\n",
    "# Check the data types\n",
    "print(df.dtypes)"
   ]
  },
  {
   "cell_type": "code",
   "execution_count": 4,
   "metadata": {},
   "outputs": [
    {
     "name": "stdout",
     "output_type": "stream",
     "text": [
      "\n",
      "Count of each level in 'gender':\n",
      "Female: 2994\n",
      "Male: 2115\n",
      "Other: 1\n",
      "\n",
      "Count of each level in 'ever_married':\n",
      "Yes: 3353\n",
      "No: 1757\n",
      "\n",
      "Count of each level in 'work_type':\n",
      "Private: 2925\n",
      "Self-employed: 819\n",
      "children: 687\n",
      "Govt_job: 657\n",
      "Never_worked: 22\n",
      "\n",
      "Count of each level in 'Residence_type':\n",
      "Urban: 2596\n",
      "Rural: 2514\n",
      "\n",
      "Count of each level in 'smoking_status':\n",
      "never smoked: 1892\n",
      "Unknown: 1544\n",
      "formerly smoked: 885\n",
      "smokes: 789\n"
     ]
    }
   ],
   "source": [
    "# Select all category variables in this dataset and obtain the counts of each levels of those variables.\n",
    "category_columns = df.select_dtypes(include='category').columns\n",
    "\n",
    "for col in category_columns:\n",
    "    print(f\"\\nCount of each level in '{col}':\")\n",
    "    counts = df[col].value_counts()\n",
    "    for category, count in counts.items():\n",
    "        print(f\"{category}: {count}\")"
   ]
  },
  {
   "cell_type": "code",
   "execution_count": 5,
   "metadata": {},
   "outputs": [
    {
     "name": "stdout",
     "output_type": "stream",
     "text": [
      "               age  avg_glucose_level          bmi\n",
      "count  5110.000000        5110.000000  4909.000000\n",
      "mean     43.226614         106.147677    28.893237\n",
      "std      22.612647          45.283560     7.854067\n",
      "min       0.080000          55.120000    10.300000\n",
      "25%      25.000000          77.245000    23.500000\n",
      "50%      45.000000          91.885000    28.100000\n",
      "75%      61.000000         114.090000    33.100000\n",
      "max      82.000000         271.740000    97.600000\n"
     ]
    }
   ],
   "source": [
    "#select all numerical variables in this dataset and obtain their summary statistics\n",
    "\n",
    "numeric_columns = df.select_dtypes(include=['float64']).columns\n",
    "print(df[numeric_columns].describe())"
   ]
  },
  {
   "cell_type": "code",
   "execution_count": 6,
   "metadata": {},
   "outputs": [
    {
     "name": "stdout",
     "output_type": "stream",
     "text": [
      "Frequency counts for 'stroke':\n",
      "stroke\n",
      "0    4861\n",
      "1     249\n",
      "Name: count, dtype: int64\n",
      "\n",
      "Frequency counts for 'hypertension':\n",
      "hypertension\n",
      "0    4612\n",
      "1     498\n",
      "Name: count, dtype: int64\n",
      "\n",
      "Frequency counts for 'heart_disease':\n",
      "heart_disease\n",
      "0    4834\n",
      "1     276\n",
      "Name: count, dtype: int64\n",
      "\n"
     ]
    }
   ],
   "source": [
    "#Obtain the count information for the values in the stroke, hypertension, and  heart_disease variables\n",
    "\n",
    "def get_counts(df, column_name):\n",
    "    # Convert the column_name type to int64, handling potential errors\n",
    "    df[column_name] = pd.to_numeric(df[column_name], errors='raise').astype('int64')\n",
    "    \n",
    "    #calculate the value counts and sort by index which will be the column_name values.\n",
    "    value_counts = df[column_name].value_counts().sort_index()\n",
    "    print(f\"Frequency counts for '{column_name}':\\n{value_counts}\\n\")\n",
    "\n",
    "get_counts(df,'stroke')\n",
    "get_counts(df, 'hypertension')\n",
    "get_counts(df, 'heart_disease')"
   ]
  },
  {
   "cell_type": "code",
   "execution_count": 7,
   "metadata": {},
   "outputs": [
    {
     "name": "stdout",
     "output_type": "stream",
     "text": [
      "      id  gender   age  hypertension  heart_disease ever_married  \\\n",
      "0   9046    Male  67.0             0              1          Yes   \n",
      "1  51676  Female  61.0             0              0          Yes   \n",
      "2  31112    Male  80.0             0              1          Yes   \n",
      "\n",
      "       work_type Residence_type  avg_glucose_level   bmi   smoking_status  \\\n",
      "0        Private          Urban             228.69  36.6  formerly smoked   \n",
      "1  Self-employed          Rural             202.21   NaN     never smoked   \n",
      "2        Private          Rural             105.92  32.5     never smoked   \n",
      "\n",
      "   stroke  Age_temp  \n",
      "0       1         3  \n",
      "1       1         3  \n",
      "2       1         3  \n"
     ]
    }
   ],
   "source": [
    "#Age \n",
    "#We are creating a new variable Age_temp_cat using the Age variable. The purpose of this new variable \n",
    "#is to help us in imputing the missing values of the bmi variable\n",
    "\n",
    "#bins = [0, 10, 20, 30, 40, 50, 60, 70, 80, float('inf')]\n",
    "#labels = [0, 1, 2, 3, 4, 5, 6,7,8]\n",
    "#bins = [0,15, 30, 45, 60, 75, float ('inf') ]\n",
    "#labels = [0, 1, 2, 3, 4, 5]\n",
    "#bins = [0, 20, 40, 60,  float('inf')]\n",
    "#The bins above were used to play around with the data when determining the optimal bin values \n",
    "#for creating the new variable Age_temp_cat from Age\n",
    "\n",
    "#Note that the minimum value for Age is 0.08 and the maximum value is 82\n",
    "\n",
    "bins = [0, 20, 40, 60,  float('inf')]\n",
    "labels = [0, 1, 2, 3]\n",
    "\n",
    "\n",
    "\n",
    "df['Age_temp_cat'] = pd.cut(df['age'], bins=bins, labels=labels, right=False) \n",
    "df['Age_temp_cat'] = df['Age_temp_cat'].astype('category')\n",
    "\n",
    "# Initialize and fit LabelEncoder\n",
    "encoder = LabelEncoder()\n",
    "df['Age_temp'] = encoder.fit_transform(df['Age_temp_cat'])\n",
    "# Drop the intermediate 'Age_temp_cat' column\n",
    "df.drop('Age_temp_cat', axis=1, inplace=True)\n",
    "print (df.head(3))"
   ]
  },
  {
   "cell_type": "code",
   "execution_count": 8,
   "metadata": {},
   "outputs": [
    {
     "name": "stdout",
     "output_type": "stream",
     "text": [
      "      id  gender   age  hypertension  heart_disease ever_married  \\\n",
      "0   9046    Male  67.0             0              1          Yes   \n",
      "1  51676  Female  61.0             0              0          Yes   \n",
      "2  31112    Male  80.0             0              1          Yes   \n",
      "\n",
      "       work_type Residence_type  avg_glucose_level   bmi   smoking_status  \\\n",
      "0        Private          Urban             228.69  36.6  formerly smoked   \n",
      "1  Self-employed          Rural             202.21   NaN     never smoked   \n",
      "2        Private          Rural             105.92  32.5     never smoked   \n",
      "\n",
      "   stroke  Age_temp  avg_glucose_level_temp  \n",
      "0       1         3                       3  \n",
      "1       1         3                       3  \n",
      "2       1         3                       1  \n"
     ]
    }
   ],
   "source": [
    "#avg_glucose_level\n",
    "\n",
    "#We are creating a new variable avg_glucose_level_temp_cat using the avg_glucose_level variable. The purpose of this new variable \n",
    "#is to help us in imputing the missing values of the bmi variable\n",
    "\n",
    "#Note that the minimum value for avg_glucose_level is 55.12 and  the maximum value is 271.74\n",
    "\n",
    "# Define the bins and labels\n",
    "#bins = [50, 70, 90, 110, 130, 150, 170, 190, 210, 230, 250, 270, float('inf')]\n",
    "#labels = [1, 2, 3, 4, 5, 6, 7, 8, 9, 10, 11, 12]\n",
    "#bins = [50, 90, 130, 170, 210, float('inf')]\n",
    "#labels = [1, 2, 3, 4, 5]\n",
    "#bins = [50, 100, 150, 200, float('inf')]\n",
    "#labels = [1, 2, 3, 4]\n",
    "#bins = [50, 120, 190, float('inf')]\n",
    "#labels = [1, 2, 3]\n",
    "#bins = [50, 150,float('inf')]\n",
    "#labels = [1, 2]\n",
    "\n",
    "#The bins above were used to play around with the data when determining the optimal bin values \n",
    "#for creating the new variable avg_glucose_level_temp_cat from avg_glucose_level\n",
    "\n",
    "# Define the bins and labels\n",
    "bins = [50, 120, 190, float('inf')]\n",
    "labels = [1, 2, 3]\n",
    "\n",
    "# Create the 'avg_glucose_level_temp' column using pd.cut\n",
    "df['avg_glucose_level_temp_cat'] = pd.cut(df['avg_glucose_level'], bins=bins, labels=labels, right=False)\n",
    "\n",
    "# Initialize LabelEncoder\n",
    "label_encoder = LabelEncoder()\n",
    "\n",
    "# Fit and transform the categorical column\n",
    "df['avg_glucose_level_temp'] = label_encoder.fit_transform(df['avg_glucose_level_temp_cat']) + 1 # +1 to match the original labels\n",
    "\n",
    "df.drop('avg_glucose_level_temp_cat', axis=1, inplace=True)\n",
    "# Print the DataFrame with the new categorical column\n",
    "print(df.head(3))"
   ]
  },
  {
   "cell_type": "code",
   "execution_count": 9,
   "metadata": {},
   "outputs": [
    {
     "name": "stdout",
     "output_type": "stream",
     "text": [
      "Frequency counts for 'Age_temp':\n",
      "Age_temp\n",
      "0     966\n",
      "1    1204\n",
      "2    1564\n",
      "3    1376\n",
      "Name: count, dtype: int64\n",
      "\n",
      "Frequency counts for 'avg_glucose_level_temp':\n",
      "avg_glucose_level_temp\n",
      "1    3991\n",
      "2     589\n",
      "3     530\n",
      "Name: count, dtype: int64\n",
      "\n"
     ]
    }
   ],
   "source": [
    "#Obtain the frequency counts of the newly created variables Age_temp and avg_glucose_level_temp\n",
    "get_counts(df,'Age_temp')\n",
    "get_counts(df, 'avg_glucose_level_temp')"
   ]
  },
  {
   "cell_type": "code",
   "execution_count": 10,
   "metadata": {},
   "outputs": [
    {
     "name": "stdout",
     "output_type": "stream",
     "text": [
      "Frequency counts for 'gender_encoded':\n",
      "gender_encoded\n",
      "0    2994\n",
      "1    2115\n",
      "2       1\n",
      "Name: count, dtype: int64\n",
      "\n",
      "Gender Mapping:\n",
      "Female: 0\n",
      "Male: 1\n",
      "Other: 2\n"
     ]
    }
   ],
   "source": [
    "#Gender variable\n",
    "#Transform the Gender variable into a numerical variable using the label encoder method\n",
    "\n",
    "# Initialize LabelEncoder\n",
    "label_encoder = LabelEncoder()\n",
    "\n",
    "# Fit and transform the 'gender' column\n",
    "df['gender_encoded'] = label_encoder.fit_transform(df['gender'])\n",
    "get_counts(df,'gender_encoded')\n",
    "\n",
    "# Get the unique classes and their corresponding labels\n",
    "class_labels = dict(zip(label_encoder.classes_, label_encoder.transform(label_encoder.classes_)))\n",
    "\n",
    "# Print the mapping\n",
    "print(\"Gender Mapping:\")\n",
    "for key, value in class_labels.items():\n",
    "    print(f\"{key}: {value}\")"
   ]
  },
  {
   "cell_type": "code",
   "execution_count": 11,
   "metadata": {},
   "outputs": [
    {
     "name": "stdout",
     "output_type": "stream",
     "text": [
      "      id  gender   age  hypertension  heart_disease ever_married  \\\n",
      "0   9046    Male  67.0             0              1          Yes   \n",
      "1  51676  Female  61.0             0              0          Yes   \n",
      "2  31112    Male  80.0             0              1          Yes   \n",
      "\n",
      "       work_type Residence_type  avg_glucose_level   bmi   smoking_status  \\\n",
      "0        Private          Urban             228.69  36.6  formerly smoked   \n",
      "1  Self-employed          Rural             202.21   NaN     never smoked   \n",
      "2        Private          Rural             105.92  32.5     never smoked   \n",
      "\n",
      "   stroke  Age_temp  avg_glucose_level_temp  gender_encoded  \\\n",
      "0       1         3                       3               1   \n",
      "1       1         3                       3               0   \n",
      "2       1         3                       1               1   \n",
      "\n",
      "   ever_married_encoded  \n",
      "0                     1  \n",
      "1                     1  \n",
      "2                     1  \n",
      "ever_married Mapping:\n",
      "No: 0\n",
      "Yes: 1\n"
     ]
    }
   ],
   "source": [
    "#ever_married\n",
    "#Transform the ever_married variable into a numerical variable using the label encoder method\n",
    "\n",
    "# Initialize LabelEncoder\n",
    "label_encoder = LabelEncoder()\n",
    "\n",
    "# Fit and transform the 'ever_married' column\n",
    "df['ever_married_encoded'] = label_encoder.fit_transform(df['ever_married'])\n",
    "\n",
    "# Print the DataFrame with the new encoded column\n",
    "print(df.head(3))\n",
    "\n",
    "# Get the unique classes and their corresponding labels\n",
    "class_labels = dict(zip(label_encoder.classes_, label_encoder.transform(label_encoder.classes_)))\n",
    "\n",
    "# Print the mapping\n",
    "print(\"ever_married Mapping:\")\n",
    "for key, value in class_labels.items():\n",
    "    print(f\"{key}: {value}\")"
   ]
  },
  {
   "cell_type": "code",
   "execution_count": 12,
   "metadata": {},
   "outputs": [
    {
     "name": "stdout",
     "output_type": "stream",
     "text": [
      "      id  gender   age  hypertension  heart_disease ever_married  \\\n",
      "0   9046    Male  67.0             0              1          Yes   \n",
      "1  51676  Female  61.0             0              0          Yes   \n",
      "2  31112    Male  80.0             0              1          Yes   \n",
      "\n",
      "       work_type Residence_type  avg_glucose_level   bmi   smoking_status  \\\n",
      "0        Private          Urban             228.69  36.6  formerly smoked   \n",
      "1  Self-employed          Rural             202.21   NaN     never smoked   \n",
      "2        Private          Rural             105.92  32.5     never smoked   \n",
      "\n",
      "   stroke  Age_temp  avg_glucose_level_temp  gender_encoded  \\\n",
      "0       1         3                       3               1   \n",
      "1       1         3                       3               0   \n",
      "2       1         3                       1               1   \n",
      "\n",
      "   ever_married_encoded  work_type_encoded  \n",
      "0                     1                  2  \n",
      "1                     1                  3  \n",
      "2                     1                  2  \n",
      "work_type Mapping:\n",
      "Govt_job: 0\n",
      "Never_worked: 1\n",
      "Private: 2\n",
      "Self-employed: 3\n",
      "children: 4\n"
     ]
    }
   ],
   "source": [
    "#Work type\n",
    "\n",
    "#Transform the Work type variable into a numerical variable using the label encoder method\n",
    "\n",
    "# Initialize LabelEncoder\n",
    "label_encoder = LabelEncoder()\n",
    "\n",
    "# Fit and transform the 'work_type' column\n",
    "df['work_type_encoded'] = label_encoder.fit_transform(df['work_type'])\n",
    "\n",
    "# Print the DataFrame with the new encoded column\n",
    "print(df.head(3))\n",
    "\n",
    "\n",
    "\n",
    "# Get the unique classes and their corresponding labels\n",
    "class_labels = dict(zip(label_encoder.classes_, label_encoder.transform(label_encoder.classes_)))\n",
    "\n",
    "print(\"work_type Mapping:\")\n",
    "for key, value in class_labels.items():\n",
    "    print(f\"{key}: {value}\")"
   ]
  },
  {
   "cell_type": "code",
   "execution_count": 13,
   "metadata": {},
   "outputs": [
    {
     "name": "stdout",
     "output_type": "stream",
     "text": [
      "      id  gender   age  hypertension  heart_disease ever_married  \\\n",
      "0   9046    Male  67.0             0              1          Yes   \n",
      "1  51676  Female  61.0             0              0          Yes   \n",
      "2  31112    Male  80.0             0              1          Yes   \n",
      "\n",
      "       work_type Residence_type  avg_glucose_level   bmi   smoking_status  \\\n",
      "0        Private          Urban             228.69  36.6  formerly smoked   \n",
      "1  Self-employed          Rural             202.21   NaN     never smoked   \n",
      "2        Private          Rural             105.92  32.5     never smoked   \n",
      "\n",
      "   stroke  Age_temp  avg_glucose_level_temp  gender_encoded  \\\n",
      "0       1         3                       3               1   \n",
      "1       1         3                       3               0   \n",
      "2       1         3                       1               1   \n",
      "\n",
      "   ever_married_encoded  work_type_encoded  Residence_type_encoded  \n",
      "0                     1                  2                       1  \n",
      "1                     1                  3                       0  \n",
      "2                     1                  2                       0  \n",
      "Residence_type Mapping:\n",
      "Rural: 0\n",
      "Urban: 1\n"
     ]
    }
   ],
   "source": [
    "children: 4\n",
    "#Residence type\n",
    "\n",
    "#Transform the Residence type variable into a numerical variable using the label encoder method\n",
    "\n",
    "# Initialize LabelEncoder\n",
    "label_encoder = LabelEncoder()\n",
    "\n",
    "# Fit and transform the 'Residence_type' column\n",
    "df['Residence_type_encoded'] = label_encoder.fit_transform(df['Residence_type'])\n",
    "\n",
    "# Print the DataFrame with the new encoded column\n",
    "print(df.head(3))\n",
    "\n",
    "# Get the unique classes and their corresponding labels\n",
    "class_labels = dict(zip(label_encoder.classes_, label_encoder.transform(label_encoder.classes_)))\n",
    "\n",
    "print(\"Residence_type Mapping:\")\n",
    "for key, value in class_labels.items():\n",
    "    print(f\"{key}: {value}\")"
   ]
  },
  {
   "cell_type": "code",
   "execution_count": 14,
   "metadata": {},
   "outputs": [
    {
     "name": "stdout",
     "output_type": "stream",
     "text": [
      "      id  gender   age  hypertension  heart_disease ever_married  \\\n",
      "0   9046    Male  67.0             0              1          Yes   \n",
      "1  51676  Female  61.0             0              0          Yes   \n",
      "2  31112    Male  80.0             0              1          Yes   \n",
      "\n",
      "       work_type Residence_type  avg_glucose_level   bmi   smoking_status  \\\n",
      "0        Private          Urban             228.69  36.6  formerly smoked   \n",
      "1  Self-employed          Rural             202.21   NaN     never smoked   \n",
      "2        Private          Rural             105.92  32.5     never smoked   \n",
      "\n",
      "   stroke  Age_temp  avg_glucose_level_temp  gender_encoded  \\\n",
      "0       1         3                       3               1   \n",
      "1       1         3                       3               0   \n",
      "2       1         3                       1               1   \n",
      "\n",
      "   ever_married_encoded  work_type_encoded  Residence_type_encoded  \\\n",
      "0                     1                  2                       1   \n",
      "1                     1                  3                       0   \n",
      "2                     1                  2                       0   \n",
      "\n",
      "   smoking_status_encoded  \n",
      "0                       1  \n",
      "1                       2  \n",
      "2                       2  \n",
      "Residence_type Mapping:\n",
      "Unknown: 0\n",
      "formerly smoked: 1\n",
      "never smoked: 2\n",
      "smokes: 3\n"
     ]
    }
   ],
   "source": [
    "#smoking status\n",
    "#Transform the smoking status variable into a numerical variable using the label encoder method\n",
    "\n",
    "# Initialize LabelEncoder\n",
    "label_encoder = LabelEncoder()\n",
    "\n",
    "# Fit and transform the 'smoking_status' column\n",
    "df['smoking_status_encoded'] = label_encoder.fit_transform(df['smoking_status'])\n",
    "\n",
    "# Print the DataFrame with the new encoded column\n",
    "print(df.head(3))\n",
    "\n",
    "# Get the unique classes and their corresponding labels\n",
    "class_labels = dict(zip(label_encoder.classes_, label_encoder.transform(label_encoder.classes_)))\n",
    "\n",
    "print(\"Residence_type Mapping:\")\n",
    "for key, value in class_labels.items():\n",
    "    print(f\"{key}: {value}\")"
   ]
  },
  {
   "cell_type": "code",
   "execution_count": 15,
   "metadata": {},
   "outputs": [
    {
     "name": "stdout",
     "output_type": "stream",
     "text": [
      "id                           int64\n",
      "gender                    category\n",
      "age                        float64\n",
      "hypertension                 int64\n",
      "heart_disease                int64\n",
      "ever_married              category\n",
      "work_type                 category\n",
      "Residence_type            category\n",
      "avg_glucose_level          float64\n",
      "bmi                        float64\n",
      "smoking_status            category\n",
      "stroke                       int64\n",
      "Age_temp                     int64\n",
      "avg_glucose_level_temp       int64\n",
      "gender_encoded               int64\n",
      "ever_married_encoded         int32\n",
      "work_type_encoded            int32\n",
      "Residence_type_encoded       int32\n",
      "smoking_status_encoded       int32\n",
      "dtype: object\n"
     ]
    }
   ],
   "source": [
    "print (df.dtypes)"
   ]
  },
  {
   "cell_type": "code",
   "execution_count": 16,
   "metadata": {},
   "outputs": [
    {
     "name": "stdout",
     "output_type": "stream",
     "text": [
      "      id  gender   age  hypertension  heart_disease ever_married  \\\n",
      "0   9046    Male  67.0             0              1          Yes   \n",
      "1  51676  Female  61.0             0              0          Yes   \n",
      "2  31112    Male  80.0             0              1          Yes   \n",
      "\n",
      "       work_type Residence_type  avg_glucose_level    bmi   smoking_status  \\\n",
      "0        Private          Urban             228.69  36.60  formerly smoked   \n",
      "1  Self-employed          Rural             202.21  29.65     never smoked   \n",
      "2        Private          Rural             105.92  32.50     never smoked   \n",
      "\n",
      "   stroke  Age_temp  avg_glucose_level_temp  gender_encoded  \\\n",
      "0       1         3                       3               1   \n",
      "1       1         3                       3               0   \n",
      "2       1         3                       1               1   \n",
      "\n",
      "   ever_married_encoded  work_type_encoded  Residence_type_encoded  \\\n",
      "0                     1                  2                       1   \n",
      "1                     1                  3                       0   \n",
      "2                     1                  2                       0   \n",
      "\n",
      "   smoking_status_encoded  \n",
      "0                       1  \n",
      "1                       2  \n",
      "2                       2  \n"
     ]
    }
   ],
   "source": [
    "#  Imputes missing BMI values using grouped median based on other relevant variables in this dataframe\n",
    "def impute_bmi_with_grouped_medians(df):\n",
    "     # Identify the variables to group by\n",
    "    grouping_columns = [\n",
    "                         'gender_encoded',\n",
    "                        'ever_married_encoded', 'work_type_encoded',\n",
    "                        'Residence_type_encoded', 'smoking_status_encoded',\n",
    "                        'Age_temp' , 'avg_glucose_level_temp'\n",
    "                        ]\n",
    "    # Calculate grouped median\n",
    "    grouped_medians = df.groupby(grouping_columns)['bmi'].transform('median')\n",
    "\n",
    "     # Impute missing values\n",
    "    df['bmi'] = df['bmi'].fillna(grouped_medians)\n",
    "    return (df)\n",
    "\n",
    "# Impute missing BMI values\n",
    "df = impute_bmi_with_grouped_medians(df)\n",
    "print (df.head(3))"
   ]
  },
  {
   "cell_type": "code",
   "execution_count": 17,
   "metadata": {},
   "outputs": [
    {
     "name": "stdout",
     "output_type": "stream",
     "text": [
      "id                        0\n",
      "gender                    0\n",
      "age                       0\n",
      "hypertension              0\n",
      "heart_disease             0\n",
      "ever_married              0\n",
      "work_type                 0\n",
      "Residence_type            0\n",
      "avg_glucose_level         0\n",
      "bmi                       4\n",
      "smoking_status            0\n",
      "stroke                    0\n",
      "Age_temp                  0\n",
      "avg_glucose_level_temp    0\n",
      "gender_encoded            0\n",
      "ever_married_encoded      0\n",
      "work_type_encoded         0\n",
      "Residence_type_encoded    0\n",
      "smoking_status_encoded    0\n",
      "dtype: int64\n"
     ]
    }
   ],
   "source": [
    "print (df.isnull().sum())"
   ]
  },
  {
   "cell_type": "code",
   "execution_count": 18,
   "metadata": {},
   "outputs": [
    {
     "name": "stdout",
     "output_type": "stream",
     "text": [
      "Rows with missing BMI values:\n",
      "         id  gender   age  hypertension  heart_disease ever_married work_type  \\\n",
      "19    25226    Male  57.0             0              1           No  Govt_job   \n",
      "1102  18414  Female  23.0             0              0           No   Private   \n",
      "1596  16593    Male  47.0             0              0           No   Private   \n",
      "2752  42041  Female  38.0             0              0          Yes   Private   \n",
      "\n",
      "     Residence_type  avg_glucose_level  bmi smoking_status  stroke  Age_temp  \\\n",
      "19            Urban             217.08  NaN        Unknown       1         2   \n",
      "1102          Rural             193.22  NaN         smokes       0         1   \n",
      "1596          Rural             237.17  NaN        Unknown       0         2   \n",
      "2752          Rural             217.55  NaN         smokes       0         1   \n",
      "\n",
      "      avg_glucose_level_temp  gender_encoded  ever_married_encoded  \\\n",
      "19                         3               1                     0   \n",
      "1102                       3               0                     0   \n",
      "1596                       3               1                     0   \n",
      "2752                       3               0                     1   \n",
      "\n",
      "      work_type_encoded  Residence_type_encoded  smoking_status_encoded  \n",
      "19                    0                       1                       0  \n",
      "1102                  2                       0                       3  \n",
      "1596                  2                       0                       0  \n",
      "2752                  2                       0                       3  \n"
     ]
    }
   ],
   "source": [
    "# Print rows with missing BMI values\n",
    "missing_bmi_rows = df[df['bmi'].isnull()]\n",
    "if not missing_bmi_rows.empty:\n",
    "    print(\"Rows with missing BMI values:\")\n",
    "    print(missing_bmi_rows)\n",
    "else:\n",
    "    print(\"No missing BMI values found.\")"
   ]
  },
  {
   "cell_type": "code",
   "execution_count": 19,
   "metadata": {},
   "outputs": [],
   "source": [
    "# imputing again without using the avg_glucose_level variable we used earlier\n",
    "def impute_bmi_with_grouped_medians(df):\n",
    "     # Identify the variables to group by\n",
    "    grouping_columns = [\n",
    "                         'gender_encoded',\n",
    "                        'ever_married_encoded', 'work_type_encoded',\n",
    "                        'Residence_type_encoded', 'smoking_status_encoded',\n",
    "                        'Age_temp' \n",
    "                        ]\n",
    "    # Calculate grouped means\n",
    "    grouped_medians = df.groupby(grouping_columns)['bmi'].transform('median')\n",
    "\n",
    "     # Impute missing values\n",
    "    df['bmi'] = df['bmi'].fillna(grouped_medians)\n",
    "    return (df)\n",
    "\n",
    "# Impute missing BMI values\n",
    "df = impute_bmi_with_grouped_medians(df)"
   ]
  },
  {
   "cell_type": "code",
   "execution_count": 20,
   "metadata": {},
   "outputs": [
    {
     "name": "stdout",
     "output_type": "stream",
     "text": [
      "id                        0\n",
      "gender                    0\n",
      "age                       0\n",
      "hypertension              0\n",
      "heart_disease             0\n",
      "ever_married              0\n",
      "work_type                 0\n",
      "Residence_type            0\n",
      "avg_glucose_level         0\n",
      "bmi                       0\n",
      "smoking_status            0\n",
      "stroke                    0\n",
      "Age_temp                  0\n",
      "avg_glucose_level_temp    0\n",
      "gender_encoded            0\n",
      "ever_married_encoded      0\n",
      "work_type_encoded         0\n",
      "Residence_type_encoded    0\n",
      "smoking_status_encoded    0\n",
      "dtype: int64\n"
     ]
    }
   ],
   "source": [
    "print (df.isnull().sum())"
   ]
  },
  {
   "cell_type": "code",
   "execution_count": 21,
   "metadata": {},
   "outputs": [
    {
     "name": "stdout",
     "output_type": "stream",
     "text": [
      "Index(['id', 'gender', 'age', 'hypertension', 'heart_disease', 'ever_married',\n",
      "       'work_type', 'Residence_type', 'avg_glucose_level', 'bmi',\n",
      "       'smoking_status', 'stroke', 'Age_temp', 'avg_glucose_level_temp',\n",
      "       'gender_encoded', 'ever_married_encoded', 'work_type_encoded',\n",
      "       'Residence_type_encoded', 'smoking_status_encoded'],\n",
      "      dtype='object')\n",
      "gender_encoded              int64\n",
      "ever_married_encoded        int32\n",
      "work_type_encoded           int32\n",
      "Residence_type_encoded      int32\n",
      "smoking_status_encoded      int32\n",
      "Age_temp                    int64\n",
      "avg_glucose_level_temp      int64\n",
      "bmi                       float64\n",
      "dtype: object\n",
      "(7778, 8) (7778,)\n"
     ]
    }
   ],
   "source": [
    "# Check the columns of the dataframe\n",
    "print(df.columns)\n",
    "\n",
    "# Select only the encoded and numeric columns for X (drop non-encoded or non-numeric columns)\n",
    "encoded_columns = [\n",
    "    'gender_encoded', \n",
    "    'ever_married_encoded', \n",
    "    'work_type_encoded', \n",
    "    'Residence_type_encoded', \n",
    "    'smoking_status_encoded', \n",
    "    'Age_temp', \n",
    "    'avg_glucose_level_temp', \n",
    "    'bmi'  # Ensure bmi is numeric or imputed\n",
    "]\n",
    "\n",
    "# Ensure that only these encoded columns are included in X\n",
    "X = df[encoded_columns]\n",
    "y = df['stroke']\n",
    "\n",
    "# Double-check if any non-numeric columns are still in X\n",
    "print(X.dtypes)\n",
    "\n",
    "# Now split the data into training and test sets\n",
    "from sklearn.model_selection import train_test_split\n",
    "X_train, X_test, y_train, y_test = train_test_split(X, y, test_size=0.2, random_state=42, stratify=y)\n",
    "\n",
    "# Apply SMOTE for balancing the dataset\n",
    "from imblearn.over_sampling import SMOTE\n",
    "smote = SMOTE(sampling_strategy='auto', random_state=42)\n",
    "X_train_res, y_train_res = smote.fit_resample(X_train, y_train)\n",
    "\n",
    "# Verify the shape after resampling\n",
    "print(X_train_res.shape, y_train_res.shape)\n",
    "\n",
    "# You can proceed with model training as usual\n",
    "\n"
   ]
  },
  {
   "cell_type": "code",
   "execution_count": 22,
   "metadata": {},
   "outputs": [
    {
     "name": "stdout",
     "output_type": "stream",
     "text": [
      "Accuracy: 0.7074\n",
      "Classification Report:\n",
      "               precision    recall  f1-score   support\n",
      "\n",
      "           0       0.98      0.70      0.82       972\n",
      "           1       0.12      0.76      0.20        50\n",
      "\n",
      "    accuracy                           0.71      1022\n",
      "   macro avg       0.55      0.73      0.51      1022\n",
      "weighted avg       0.94      0.71      0.79      1022\n",
      "\n",
      "ROC AUC Score: 0.7324\n"
     ]
    },
    {
     "data": {
      "image/png": "[encoded data removed]",
      "text/plain": [
       "<Figure size 640x480 with 2 Axes>"
      ]
     },
     "metadata": {},
     "output_type": "display_data"
    }
   ],
   "source": [
    "from sklearn.linear_model import LogisticRegression\n",
    "from sklearn.metrics import classification_report, accuracy_score, roc_auc_score\n",
    "lr = LogisticRegression(random_state=42)\n",
    "lr.fit(X_train_res, y_train_res)\n",
    "y_pred = lr.predict(X_test)\n",
    "accuracy = accuracy_score(y_test, y_pred)\n",
    "print(f\"Accuracy: {accuracy:.4f}\")\n",
    "class_report = classification_report(y_test, y_pred)\n",
    "print(\"Classification Report:\\n\", class_report)\n",
    "roc_auc = roc_auc_score(y_test, y_pred)\n",
    "print(f\"ROC AUC Score: {roc_auc:.4f}\")\n",
    "import matplotlib.pyplot as plt\n",
    "from sklearn.metrics import confusion_matrix\n",
    "import seaborn as sns\n",
    "cm = confusion_matrix(y_test, y_pred)\n",
    "sns.heatmap(cm, annot=True, fmt=\"d\", cmap=\"Blues\", xticklabels=[\"No Stroke\", \"Stroke\"], yticklabels=[\"No Stroke\", \"Stroke\"])\n",
    "plt.xlabel('Predicted')\n",
    "plt.ylabel('True')\n",
    "plt.title('Confusion Matrix')\n",
    "plt.show()"
   ]
  },
  {
   "cell_type": "code",
   "execution_count": 23,
   "metadata": {},
   "outputs": [
    {
     "name": "stdout",
     "output_type": "stream",
     "text": [
      "Accuracy: 0.7348336594911937\n",
      "Classification Report:\n",
      "               precision    recall  f1-score   support\n",
      "\n",
      "           0       0.98      0.73      0.84       972\n",
      "           1       0.13      0.78      0.22        50\n",
      "\n",
      "    accuracy                           0.73      1022\n",
      "   macro avg       0.56      0.76      0.53      1022\n",
      "weighted avg       0.94      0.73      0.81      1022\n",
      "\n",
      "ROC AUC Score: 0.8023456790123455\n"
     ]
    }
   ],
   "source": [
    "from sklearn.linear_model import LogisticRegression\n",
    "from sklearn.model_selection import train_test_split\n",
    "from sklearn.metrics import classification_report, accuracy_score, roc_auc_score\n",
    "X_train, X_test, y_train, y_test = train_test_split(X, y, test_size=0.2, random_state=42, stratify=y)\n",
    "model = LogisticRegression(class_weight='balanced', random_state=42)\n",
    "model.fit(X_train, y_train)\n",
    "y_pred = model.predict(X_test)\n",
    "accuracy = accuracy_score(y_test, y_pred)\n",
    "print(\"Accuracy:\", accuracy)\n",
    "print(\"Classification Report:\\n\", classification_report(y_test, y_pred))\n",
    "roc_auc = roc_auc_score(y_test, model.predict_proba(X_test)[:, 1])\n",
    "print(\"ROC AUC Score:\", roc_auc)\n"
   ]
  },
  {
   "cell_type": "code",
   "execution_count": 24,
   "metadata": {},
   "outputs": [
    {
     "name": "stdout",
     "output_type": "stream",
     "text": [
      "Accuracy (without SMOTE): 0.9511\n",
      "Classification Report (without SMOTE):\n",
      "               precision    recall  f1-score   support\n",
      "\n",
      "           0       0.95      1.00      0.97       972\n",
      "           1       0.00      0.00      0.00        50\n",
      "\n",
      "    accuracy                           0.95      1022\n",
      "   macro avg       0.48      0.50      0.49      1022\n",
      "weighted avg       0.90      0.95      0.93      1022\n",
      "\n",
      "ROC AUC Score (without SMOTE): 0.5000\n",
      "Accuracy (with SMOTE): 0.7074\n",
      "Classification Report (with SMOTE):\n",
      "               precision    recall  f1-score   support\n",
      "\n",
      "           0       0.98      0.70      0.82       972\n",
      "           1       0.12      0.76      0.20        50\n",
      "\n",
      "    accuracy                           0.71      1022\n",
      "   macro avg       0.55      0.73      0.51      1022\n",
      "weighted avg       0.94      0.71      0.79      1022\n",
      "\n",
      "ROC AUC Score (with SMOTE): 0.7324\n"
     ]
    },
    {
     "name": "stderr",
     "output_type": "stream",
     "text": [
      "c:\\Users\\poula\\miniconda3\\envs\\dsi_participant\\lib\\site-packages\\sklearn\\metrics\\_classification.py:1531: UndefinedMetricWarning: Precision is ill-defined and being set to 0.0 in labels with no predicted samples. Use `zero_division` parameter to control this behavior.\n",
      "  _warn_prf(average, modifier, f\"{metric.capitalize()} is\", len(result))\n",
      "c:\\Users\\poula\\miniconda3\\envs\\dsi_participant\\lib\\site-packages\\sklearn\\metrics\\_classification.py:1531: UndefinedMetricWarning: Precision is ill-defined and being set to 0.0 in labels with no predicted samples. Use `zero_division` parameter to control this behavior.\n",
      "  _warn_prf(average, modifier, f\"{metric.capitalize()} is\", len(result))\n",
      "c:\\Users\\poula\\miniconda3\\envs\\dsi_participant\\lib\\site-packages\\sklearn\\metrics\\_classification.py:1531: UndefinedMetricWarning: Precision is ill-defined and being set to 0.0 in labels with no predicted samples. Use `zero_division` parameter to control this behavior.\n",
      "  _warn_prf(average, modifier, f\"{metric.capitalize()} is\", len(result))\n"
     ]
    },
    {
     "data": {
      "image/png": "[encoded data removed]",
      "text/plain": [
       "<Figure size 640x480 with 2 Axes>"
      ]
     },
     "metadata": {},
     "output_type": "display_data"
    },
    {
     "data": {
      "image/png": "[encoded data removed]",
      "text/plain": [
       "<Figure size 640x480 with 2 Axes>"
      ]
     },
     "metadata": {},
     "output_type": "display_data"
    }
   ],
   "source": [
    "# Importing Logistic Regression and other necessary libraries for evaluation\n",
    "from sklearn.linear_model import LogisticRegression\n",
    "from sklearn.metrics import classification_report, accuracy_score, roc_auc_score\n",
    "\n",
    "# Train a Logistic Regression model without SMOTE (on imbalanced dataset)\n",
    "lr_no_smote = LogisticRegression(random_state=42)\n",
    "lr_no_smote.fit(X_train, y_train)\n",
    "\n",
    "# Predict on the test set (without SMOTE)\n",
    "y_pred_no_smote = lr_no_smote.predict(X_test)\n",
    "\n",
    "# Evaluate the model without SMOTE\n",
    "accuracy_no_smote = accuracy_score(y_test, y_pred_no_smote)\n",
    "print(f\"Accuracy (without SMOTE): {accuracy_no_smote:.4f}\")\n",
    "\n",
    "# Classification report for more detailed evaluation (without SMOTE)\n",
    "class_report_no_smote = classification_report(y_test, y_pred_no_smote)\n",
    "print(\"Classification Report (without SMOTE):\\n\", class_report_no_smote)\n",
    "\n",
    "# ROC AUC Score to measure performance (without SMOTE)\n",
    "roc_auc_no_smote = roc_auc_score(y_test, y_pred_no_smote)\n",
    "print(f\"ROC AUC Score (without SMOTE): {roc_auc_no_smote:.4f}\")\n",
    "\n",
    "\n",
    "# Train a Logistic Regression model with SMOTE (on balanced dataset)\n",
    "lr_with_smote = LogisticRegression(random_state=42)\n",
    "lr_with_smote.fit(X_train_res, y_train_res)\n",
    "\n",
    "# Predict on the test set (with SMOTE)\n",
    "y_pred_with_smote = lr_with_smote.predict(X_test)\n",
    "\n",
    "# Evaluate the model with SMOTE\n",
    "accuracy_with_smote = accuracy_score(y_test, y_pred_with_smote)\n",
    "print(f\"Accuracy (with SMOTE): {accuracy_with_smote:.4f}\")\n",
    "\n",
    "# Classification report for more detailed evaluation (with SMOTE)\n",
    "class_report_with_smote = classification_report(y_test, y_pred_with_smote)\n",
    "print(\"Classification Report (with SMOTE):\\n\", class_report_with_smote)\n",
    "\n",
    "# ROC AUC Score to measure performance (with SMOTE)\n",
    "roc_auc_with_smote = roc_auc_score(y_test, y_pred_with_smote)\n",
    "print(f\"ROC AUC Score (with SMOTE): {roc_auc_with_smote:.4f}\")\n",
    "\n",
    "# Confusion Matrix for comparison (both with and without SMOTE)\n",
    "import matplotlib.pyplot as plt\n",
    "from sklearn.metrics import confusion_matrix\n",
    "import seaborn as sns\n",
    "\n",
    "# Confusion Matrix without SMOTE\n",
    "cm_no_smote = confusion_matrix(y_test, y_pred_no_smote)\n",
    "sns.heatmap(cm_no_smote, annot=True, fmt=\"d\", cmap=\"Blues\", xticklabels=[\"No Stroke\", \"Stroke\"], yticklabels=[\"No Stroke\", \"Stroke\"])\n",
    "plt.title(\"Confusion Matrix (without SMOTE)\")\n",
    "plt.xlabel('Predicted')\n",
    "plt.ylabel('True')\n",
    "plt.show()\n",
    "\n",
    "# Confusion Matrix with SMOTE\n",
    "cm_with_smote = confusion_matrix(y_test, y_pred_with_smote)\n",
    "sns.heatmap(cm_with_smote, annot=True, fmt=\"d\", cmap=\"Blues\", xticklabels=[\"No Stroke\", \"Stroke\"], yticklabels=[\"No Stroke\", \"Stroke\"])\n",
    "plt.title(\"Confusion Matrix (with SMOTE)\")\n",
    "plt.xlabel('Predicted')\n",
    "plt.ylabel('True')\n",
    "plt.show()\n",
    "\n"
   ]
  },
  {
   "cell_type": "code",
   "execution_count": 25,
   "metadata": {},
   "outputs": [
    {
     "name": "stdout",
     "output_type": "stream",
     "text": [
      "Accuracy (XGBoost with scale_pos_weight): 0.8777\n",
      "Classification Report (XGBoost):\n",
      "               precision    recall  f1-score   support\n",
      "\n",
      "           0       0.96      0.91      0.93       972\n",
      "           1       0.12      0.24      0.16        50\n",
      "\n",
      "    accuracy                           0.88      1022\n",
      "   macro avg       0.54      0.58      0.55      1022\n",
      "weighted avg       0.92      0.88      0.90      1022\n",
      "\n",
      "ROC AUC Score (XGBoost): 0.7303\n"
     ]
    },
    {
     "name": "stderr",
     "output_type": "stream",
     "text": [
      "c:\\Users\\poula\\miniconda3\\envs\\dsi_participant\\lib\\site-packages\\xgboost\\core.py:158: UserWarning: [18:11:56] WARNING: C:\\buildkite-agent\\builds\\buildkite-windows-cpu-autoscaling-group-i-08cbc0333d8d4aae1-1\\xgboost\\xgboost-ci-windows\\src\\learner.cc:740: \n",
      "Parameters: { \"use_label_encoder\" } are not used.\n",
      "\n",
      "  warnings.warn(smsg, UserWarning)\n"
     ]
    }
   ],
   "source": [
    "# Compute scale_pos_weight\n",
    "scale_pos_weight = y_train.value_counts()[0] / y_train.value_counts()[1]\n",
    "\n",
    "# Train XGBoost with class imbalance handling\n",
    "xgb = XGBClassifier(scale_pos_weight=scale_pos_weight, random_state=42, use_label_encoder=False, eval_metric='logloss')\n",
    "xgb.fit(X_train, y_train)\n",
    "\n",
    "# Predict on test set\n",
    "y_pred_xgb = xgb.predict(X_test)\n",
    "\n",
    "# Evaluate\n",
    "accuracy_xgb = accuracy_score(y_test, y_pred_xgb)\n",
    "roc_auc_xgb = roc_auc_score(y_test, xgb.predict_proba(X_test)[:, 1])\n",
    "\n",
    "print(f\"Accuracy (XGBoost with scale_pos_weight): {accuracy_xgb:.4f}\")\n",
    "print(\"Classification Report (XGBoost):\\n\", classification_report(y_test, y_pred_xgb))\n",
    "print(f\"ROC AUC Score (XGBoost): {roc_auc_xgb:.4f}\")\n"
   ]
  },
  {
   "cell_type": "code",
   "execution_count": 26,
   "metadata": {},
   "outputs": [
    {
     "name": "stdout",
     "output_type": "stream",
     "text": [
      "Scale Pos Weight: 19.5427\n",
      "Accuracy (XGBoost with scale_pos_weight): 0.8777\n",
      "Classification Report (XGBoost):\n",
      "               precision    recall  f1-score   support\n",
      "\n",
      "           0       0.96      0.91      0.93       972\n",
      "           1       0.12      0.24      0.16        50\n",
      "\n",
      "    accuracy                           0.88      1022\n",
      "   macro avg       0.54      0.58      0.55      1022\n",
      "weighted avg       0.92      0.88      0.90      1022\n",
      "\n",
      "ROC AUC Score (XGBoost): 0.7303\n"
     ]
    },
    {
     "name": "stderr",
     "output_type": "stream",
     "text": [
      "c:\\Users\\poula\\miniconda3\\envs\\dsi_participant\\lib\\site-packages\\xgboost\\core.py:158: UserWarning: [18:11:56] WARNING: C:\\buildkite-agent\\builds\\buildkite-windows-cpu-autoscaling-group-i-08cbc0333d8d4aae1-1\\xgboost\\xgboost-ci-windows\\src\\learner.cc:740: \n",
      "Parameters: { \"use_label_encoder\" } are not used.\n",
      "\n",
      "  warnings.warn(smsg, UserWarning)\n"
     ]
    },
    {
     "data": {
      "image/png": "[encoded data removed]",
      "text/plain": [
       "<Figure size 640x480 with 1 Axes>"
      ]
     },
     "metadata": {},
     "output_type": "display_data"
    }
   ],
   "source": [
    "import matplotlib.pyplot as plt\n",
    "import xgboost as xgb\n",
    "from sklearn.metrics import accuracy_score, classification_report, roc_auc_score\n",
    "from xgboost import XGBClassifier\n",
    "\n",
    "# Compute scale_pos_weight based on class distribution in the training set\n",
    "scale_pos_weight = y_train.value_counts()[0] / y_train.value_counts()[1]\n",
    "print(f\"Scale Pos Weight: {scale_pos_weight:.4f}\")\n",
    "\n",
    "# Initialize XGBoost classifier with class imbalance handling\n",
    "xgb_model = XGBClassifier(\n",
    "    scale_pos_weight=scale_pos_weight, \n",
    "    random_state=42, \n",
    "    use_label_encoder=False, \n",
    "    eval_metric='logloss'\n",
    ")\n",
    "\n",
    "# Train the model\n",
    "xgb_model.fit(X_train, y_train)\n",
    "\n",
    "# Predict on the test set\n",
    "y_pred_xgb = xgb_model.predict(X_test)\n",
    "\n",
    "# Evaluate the model's performance\n",
    "accuracy_xgb = accuracy_score(y_test, y_pred_xgb)\n",
    "roc_auc_xgb = roc_auc_score(y_test, xgb_model.predict_proba(X_test)[:, 1])\n",
    "\n",
    "# Print evaluation results\n",
    "print(f\"Accuracy (XGBoost with scale_pos_weight): {accuracy_xgb:.4f}\")\n",
    "print(\"Classification Report (XGBoost):\\n\", classification_report(y_test, y_pred_xgb))\n",
    "print(f\"ROC AUC Score (XGBoost): {roc_auc_xgb:.4f}\")\n",
    "\n",
    "# Plot the first tree from the trained XGBoost model\n",
    "xgb.plot_tree(xgb_model, num_trees=0)  # 'num_trees=0' refers to the first tree in the model\n",
    "plt.show()\n"
   ]
  },
  {
   "cell_type": "code",
   "execution_count": null,
   "metadata": {},
   "outputs": [],
   "source": [
    "import xgboost as xgb\n",
    "from xgboost import XGBClassifier\n",
    "import graphviz\n",
    "from sklearn.metrics import accuracy_score, classification_report, roc_auc_score\n",
    "\n",
    "# Compute scale_pos_weight based on class distribution in the training set\n",
    "scale_pos_weight = y_train.value_counts()[0] / y_train.value_counts()[1]\n",
    "print(f\"Scale Pos Weight: {scale_pos_weight:.4f}\")\n",
    "\n",
    "# Initialize XGBoost classifier with class imbalance handling\n",
    "xgb_model = XGBClassifier(\n",
    "    scale_pos_weight=scale_pos_weight, \n",
    "    random_state=42, \n",
    "    use_label_encoder=False, \n",
    "    eval_metric='logloss'\n",
    ")\n",
    "\n",
    "# Train the model\n",
    "xgb_model.fit(X_train, y_train)\n",
    "\n",
    "# Predict on the test set\n",
    "y_pred_xgb = xgb_model.predict(X_test)\n",
    "\n",
    "# Evaluate the model's performance\n",
    "accuracy_xgb = accuracy_score(y_test, y_pred_xgb)\n",
    "roc_auc_xgb = roc_auc_score(y_test, xgb_model.predict_proba(X_test)[:, 1])\n",
    "\n",
    "# Print evaluation results\n",
    "print(f\"Accuracy (XGBoost with scale_pos_weight): {accuracy_xgb:.4f}\")\n",
    "print(\"Classification Report (XGBoost):\\n\", classification_report(y_test, y_pred_xgb))\n",
    "print(f\"ROC AUC Score (XGBoost): {roc_auc_xgb:.4f}\")\n",
    "\n",
    "# Export the first tree to a dot file\n",
    "xgb_model.get_booster().dump_model('xgb_tree.dot', with_stats=True)\n",
    "\n",
    "# Visualize the tree using Graphviz\n",
    "with open('xgb_tree.dot') as f:\n",
    "    dot_graph = f.read()\n",
    "\n",
    "# Render the tree using Graphviz\n",
    "graphviz.Source(dot_graph)\n"
   ]
  }
 ],
 "metadata": {
  "kernelspec": {
   "display_name": "dsi_participant",
   "language": "python",
   "name": "python3"
  },
  "language_info": {
   "codemirror_mode": {
    "name": "ipython",
    "version": 3
   },
   "file_extension": ".py",
   "mimetype": "text/x-python",
   "name": "python",
   "nbconvert_exporter": "python",
   "pygments_lexer": "ipython3",
   "version": "3.9.15"
  }
 },
 "nbformat": 4,
 "nbformat_minor": 2
}
