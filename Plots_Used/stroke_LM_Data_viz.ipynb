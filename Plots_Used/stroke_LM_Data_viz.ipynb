{
 "cells": [
  {
   "cell_type": "markdown",
   "metadata": {},
   "source": [
    "This file operates on the stroke_full.csv data which had been created by the file DSI_project_v2.ipynb using the dataset present in healthcare-dataset-stroke-data.csv\n",
    "\n",
    "For further details on how stroke_full.csv was created, and the data it contains, please read the documentation in DSI_project_v2.ipynb"
   ]
  },
  {
   "cell_type": "code",
   "execution_count": 1,
   "metadata": {},
   "outputs": [],
   "source": [
    "import numpy as np\n",
    "import pandas as pd\n",
    "from sklearn.preprocessing import StandardScaler\n",
    "from scipy.stats import chi2_contingency\n",
    "from sklearn.feature_selection import VarianceThreshold\n",
    "import seaborn as sns\n",
    "#from plotnine import ggplot, aes, geom_boxplot, labs, guides\n",
    "import matplotlib.pyplot as plt\n",
    "from scipy.stats import mannwhitneyu\n",
    "from scipy.stats import shapiro\n",
    "import statsmodels.api as sm\n",
    "from plotly.subplots import make_subplots\n",
    "import plotly.graph_objects as go\n",
    "import plotly.express as px  # Import Plotly Express for colors"
   ]
  },
  {
   "cell_type": "code",
   "execution_count": 2,
   "metadata": {},
   "outputs": [
    {
     "name": "stdout",
     "output_type": "stream",
     "text": [
      "gender                     object\n",
      "age                       float64\n",
      "hypertension                int64\n",
      "heart_disease               int64\n",
      "ever_married               object\n",
      "work_type                  object\n",
      "Residence_type             object\n",
      "avg_glucose_level         float64\n",
      "bmi                       float64\n",
      "smoking_status             object\n",
      "stroke                      int64\n",
      "gender_encoded              int64\n",
      "ever_married_encoded        int64\n",
      "work_type_encoded           int64\n",
      "Residence_type_encoded      int64\n",
      "smoking_status_encoded      int64\n",
      "Age_temp                    int64\n",
      "avg_glucose_level_temp      int64\n",
      "dtype: object\n"
     ]
    }
   ],
   "source": [
    "df = pd.read_csv(r\"c:\\Users\\laure\\Downloads\\stroke_full.csv\")\n",
    "print (df.dtypes)"
   ]
  },
  {
   "cell_type": "markdown",
   "metadata": {},
   "source": [
    "Note that gender and smoking_status are showing up as object variables even though they were category variables when this dataframe was written to stroke_full.csv by DSI_project_v2.ipynb. This is a known issue in \n",
    "\n",
    "pandas. "
   ]
  },
  {
   "cell_type": "code",
   "execution_count": 3,
   "metadata": {},
   "outputs": [
    {
     "name": "stdout",
     "output_type": "stream",
     "text": [
      "(3413, 18)\n"
     ]
    }
   ],
   "source": [
    "print (df.shape)"
   ]
  },
  {
   "cell_type": "code",
   "execution_count": 4,
   "metadata": {},
   "outputs": [
    {
     "name": "stdout",
     "output_type": "stream",
     "text": [
      "gender                    category\n",
      "age                        float64\n",
      "hypertension                 int64\n",
      "heart_disease                int64\n",
      "ever_married              category\n",
      "work_type                 category\n",
      "Residence_type            category\n",
      "avg_glucose_level          float64\n",
      "bmi                        float64\n",
      "smoking_status            category\n",
      "stroke                       int64\n",
      "gender_encoded               int64\n",
      "ever_married_encoded         int64\n",
      "work_type_encoded            int64\n",
      "Residence_type_encoded       int64\n",
      "smoking_status_encoded       int64\n",
      "Age_temp                     int64\n",
      "avg_glucose_level_temp       int64\n",
      "dtype: object\n"
     ]
    }
   ],
   "source": [
    "# Convert categorical columns back to \"category\"\n",
    "categorical_cols = ['gender', 'ever_married', 'work_type', 'Residence_type', 'smoking_status']\n",
    "for col in categorical_cols:\n",
    "    df[col] = df[col].astype('category')\n",
    "\n",
    "print(df.dtypes)"
   ]
  },
  {
   "cell_type": "code",
   "execution_count": 5,
   "metadata": {},
   "outputs": [
    {
     "name": "stdout",
     "output_type": "stream",
     "text": [
      "   hypertension  heart_disease  heart_risk\n",
      "0             0              1           1\n",
      "1             0              0           0\n",
      "2             0              1           1\n",
      "3             0              0           0\n",
      "4             1              0           1\n",
      "5             0              0           0\n",
      "6             1              1           1\n",
      "7             0              0           0\n",
      "8             0              0           0\n",
      "9             0              0           0\n"
     ]
    }
   ],
   "source": [
    "df['heart_risk'] = (df['hypertension'] | df['heart_disease']).astype(int)\n",
    "\n",
    "# Verify the result\n",
    "print(df[['hypertension', 'heart_disease', 'heart_risk']].head(10))"
   ]
  },
  {
   "cell_type": "code",
   "execution_count": 6,
   "metadata": {},
   "outputs": [
    {
     "name": "stdout",
     "output_type": "stream",
     "text": [
      "gender                    category\n",
      "age                        float64\n",
      "hypertension                 int64\n",
      "heart_disease                int64\n",
      "ever_married              category\n",
      "work_type                 category\n",
      "Residence_type            category\n",
      "avg_glucose_level          float64\n",
      "bmi                        float64\n",
      "smoking_status            category\n",
      "stroke                       int64\n",
      "gender_encoded               int64\n",
      "ever_married_encoded         int64\n",
      "work_type_encoded            int64\n",
      "Residence_type_encoded       int64\n",
      "smoking_status_encoded       int64\n",
      "Age_temp                     int64\n",
      "avg_glucose_level_temp       int64\n",
      "heart_risk                   int32\n",
      "dtype: object\n"
     ]
    }
   ],
   "source": [
    "print (df.dtypes)\n"
   ]
  },
  {
   "cell_type": "code",
   "execution_count": 7,
   "metadata": {},
   "outputs": [
    {
     "name": "stdout",
     "output_type": "stream",
     "text": [
      "\n",
      "Count of each level in 'gender':\n",
      "Female: 2026\n",
      "Male: 1387\n",
      "\n",
      "Count of each level in 'ever_married':\n",
      "Yes: 3051\n",
      "No: 362\n",
      "\n",
      "Count of each level in 'work_type':\n",
      "Private: 2090\n",
      "Self-employed: 753\n",
      "Govt_job: 570\n",
      "\n",
      "Count of each level in 'Residence_type':\n",
      "Urban: 1729\n",
      "Rural: 1684\n",
      "\n",
      "Count of each level in 'smoking_status':\n",
      "never smoked: 1371\n",
      "formerly smoked: 773\n",
      "Unknown: 661\n",
      "smokes: 608\n"
     ]
    }
   ],
   "source": [
    "# Select all category variables in this dataset and obtain the counts of each levels of those variables.\n",
    "category_columns = df.select_dtypes(include='category').columns\n",
    "\n",
    "for col in category_columns:\n",
    "    print(f\"\\nCount of each level in '{col}':\")\n",
    "    counts = df[col].value_counts()\n",
    "    for category, count in counts.items():\n",
    "        print(f\"{category}: {count}\")"
   ]
  },
  {
   "cell_type": "code",
   "execution_count": 8,
   "metadata": {},
   "outputs": [],
   "source": [
    "#This function does a Chi square test of independence on two nominal variables. It returns the Chi Square test statistic, p-value, degrees of freedom, and expected frequencies\n",
    "def chi_square(dataframe, var1, var2):\n",
    "    try:\n",
    "        # Create the contingency table\n",
    "        contingency_table = pd.crosstab(dataframe[var1], dataframe[var2])\n",
    "\n",
    "        # Do the chi-square test\n",
    "        chi2, p, dof, expected = chi2_contingency(contingency_table)\n",
    "\n",
    "        return chi2, p, dof, expected\n",
    "\n",
    "    except:\n",
    "        print(f\"Error performing chi-square test\")\n",
    "\n"
   ]
  },
  {
   "cell_type": "code",
   "execution_count": 9,
   "metadata": {},
   "outputs": [
    {
     "name": "stdout",
     "output_type": "stream",
     "text": [
      "Chi-square statistic: 0.9177594052664405\n",
      "P-value: 0.33806396780881875\n",
      "Degrees of freedom: 1\n",
      "Expected frequencies:\n",
      "[[1879.3776736 1286.6223264]\n",
      " [ 146.6223264  100.3776736]]\n"
     ]
    }
   ],
   "source": [
    "#stroke and gender\n",
    "result = chi_square(df, 'stroke', 'gender')\n",
    "if result:\n",
    "    chi2, p, dof, expected = result\n",
    "    print(f\"Chi-square statistic: {chi2}\")\n",
    "    print(f\"P-value: {p}\")\n",
    "    print(f\"Degrees of freedom: {dof}\")\n",
    "    print(\"Expected frequencies:\")\n",
    "    print(expected)"
   ]
  },
  {
   "cell_type": "markdown",
   "metadata": {},
   "source": [
    "p value of the Chi square test of independence on gender and stroke is 0.338. Hence we fail to reject the null hypothesis of no association between gender and stroke."
   ]
  },
  {
   "cell_type": "code",
   "execution_count": 10,
   "metadata": {},
   "outputs": [
    {
     "name": "stdout",
     "output_type": "stream",
     "text": [
      "Chi-square statistic: 67.27529316498607\n",
      "P-value: 2.361219893995417e-16\n",
      "Degrees of freedom: 1\n",
      "Expected frequencies:\n",
      "[[2528.71842953  637.28157047]\n",
      " [ 197.28157047   49.71842953]]\n"
     ]
    }
   ],
   "source": [
    "#Stroke and heart risk\n",
    "result = chi_square(df, 'stroke', 'heart_risk')\n",
    "if result:\n",
    "    chi2, p, dof, expected = result\n",
    "    print(f\"Chi-square statistic: {chi2}\")\n",
    "    print(f\"P-value: {p}\")\n",
    "    print(f\"Degrees of freedom: {dof}\")\n",
    "    print(\"Expected frequencies:\")\n",
    "    print(expected)\n"
   ]
  },
  {
   "cell_type": "markdown",
   "metadata": {},
   "source": [
    "p-value for the Chi square test of independence on heart risk and stroke is 0.000. Hence we reject H0 and conclude that there **is** a significant association between heart risk and stroke"
   ]
  },
  {
   "cell_type": "code",
   "execution_count": 11,
   "metadata": {},
   "outputs": [
    {
     "name": "stdout",
     "output_type": "stream",
     "text": [
      "Chi-square statistic: 0.004196368695238362\n",
      "P-value: 0.9483496555138795\n",
      "Degrees of freedom: 1\n",
      "Expected frequencies:\n",
      "[[ 335.80193378 2830.19806622]\n",
      " [  26.19806622  220.80193378]]\n"
     ]
    }
   ],
   "source": [
    "#Stroke and ever married\n",
    "result = chi_square(df, 'stroke', 'ever_married')\n",
    "if result:\n",
    "    chi2, p, dof, expected = result\n",
    "    print(f\"Chi-square statistic: {chi2}\")\n",
    "    print(f\"P-value: {p}\")\n",
    "    print(f\"Degrees of freedom: {dof}\")\n",
    "    print(\"Expected frequencies:\")\n",
    "    print(expected)"
   ]
  },
  {
   "cell_type": "markdown",
   "metadata": {},
   "source": [
    "p value of the Chi square test of independence on stroke and ever married is 0.9483. Hence we fail to reject the null hypothesis of no association between stroke and ever married at the 5% significance level."
   ]
  },
  {
   "cell_type": "code",
   "execution_count": 12,
   "metadata": {},
   "outputs": [
    {
     "name": "stdout",
     "output_type": "stream",
     "text": [
      "Chi-square statistic: 3.998458019195217\n",
      "P-value: 0.13543966567485147\n",
      "Degrees of freedom: 2\n",
      "Expected frequencies:\n",
      "[[ 528.74890126 1938.74597129  698.50512745]\n",
      " [  41.25109874  151.25402871   54.49487255]]\n"
     ]
    }
   ],
   "source": [
    "#Stroke and work type\n",
    "result = chi_square(df, 'stroke', 'work_type')\n",
    "if result:\n",
    "    chi2, p, dof, expected = result\n",
    "    print(f\"Chi-square statistic: {chi2}\")\n",
    "    print(f\"P-value: {p}\")\n",
    "    print(f\"Degrees of freedom: {dof}\")\n",
    "    print(\"Expected frequencies:\")\n",
    "    print(expected)"
   ]
  },
  {
   "cell_type": "markdown",
   "metadata": {},
   "source": [
    "p value of the Chi square test of independence on stroke and work_type is 0.1354. Hence we fail to reject the null hypothesis of no association between stroke and ever married at the 5% significance level."
   ]
  },
  {
   "cell_type": "code",
   "execution_count": 13,
   "metadata": {},
   "outputs": [
    {
     "name": "stdout",
     "output_type": "stream",
     "text": [
      "Chi-square statistic: 1.2237362549577369\n",
      "P-value: 0.2686286548452952\n",
      "Degrees of freedom: 1\n",
      "Expected frequencies:\n",
      "[[1562.12833285 1603.87166715]\n",
      " [ 121.87166715  125.12833285]]\n"
     ]
    }
   ],
   "source": [
    "#Stroke and Residence type\n",
    "result = chi_square(df, 'stroke', 'Residence_type')\n",
    "if result:\n",
    "    chi2, p, dof, expected = result\n",
    "    print(f\"Chi-square statistic: {chi2}\")\n",
    "    print(f\"P-value: {p}\")\n",
    "    print(f\"Degrees of freedom: {dof}\")\n",
    "    print(\"Expected frequencies:\")\n",
    "    print(expected)"
   ]
  },
  {
   "cell_type": "markdown",
   "metadata": {},
   "source": [
    "p value of the Chi square test of independence on stroke and Residence_type is 0.2686. Hence we fail to reject the null hypothesis of no association between stroke and Residence type at the 5% significance level."
   ]
  },
  {
   "cell_type": "code",
   "execution_count": 14,
   "metadata": {},
   "outputs": [
    {
     "name": "stdout",
     "output_type": "stream",
     "text": [
      "Chi-square statistic: 5.011184251740086\n",
      "P-value: 0.17098000795349666\n",
      "Degrees of freedom: 3\n",
      "Expected frequencies:\n",
      "[[ 613.16319953  717.05772048 1271.78025198  563.99882801]\n",
      " [  47.83680047   55.94227952   99.21974802   44.00117199]]\n"
     ]
    }
   ],
   "source": [
    "#Stroke and Smoking type\n",
    "result = chi_square(df, 'stroke', 'smoking_status')\n",
    "if result:\n",
    "    chi2, p, dof, expected = result\n",
    "    print(f\"Chi-square statistic: {chi2}\")\n",
    "    print(f\"P-value: {p}\")\n",
    "    print(f\"Degrees of freedom: {dof}\")\n",
    "    print(\"Expected frequencies:\")\n",
    "    print(expected)"
   ]
  },
  {
   "cell_type": "markdown",
   "metadata": {},
   "source": [
    "p value of the Chi square test of independence on stroke and smoking_status is 0.1710. Hence we fail to reject the null hypothesis of no association between stroke and smoking status type at the 5% significance level.\n",
    "\n",
    "However, the smoking status variable is a very interesting variable in that its levels are never smoked, formerly smoked, Unknown and smokes. Let's try doing some other other Chi square tests of independence and see \n",
    "\n",
    "what happens. In the first test we will combine formerly smoked and smokes into one category and have never smoked and Unknown as the other two categories. "
   ]
  },
  {
   "cell_type": "code",
   "execution_count": 15,
   "metadata": {},
   "outputs": [],
   "source": [
    "#  Combines two or three levels of 'smoking_status' into a new level.\n",
    "def combine_smoker_categories(df, new_level, level1, level2, level3 = None):\n",
    "    # Create a mapping dictionary\n",
    "    category_mapping = {level1: new_level, level2: new_level}\n",
    "    if level3 is not None:\n",
    "        category_mapping[level3] = new_level\n",
    "    \n",
    "    # Apply the mapping to the column\n",
    "    df['smoking_status'] = df['smoking_status'].map(category_mapping).fillna(df['smoking_status'])\n",
    "    \n",
    "    # Convert back to categorical and remove unused categories\n",
    "    df['smoking_status'] = df['smoking_status'].astype('category').cat.remove_unused_categories()\n",
    "    \n",
    "    return df\n"
   ]
  },
  {
   "cell_type": "code",
   "execution_count": 16,
   "metadata": {},
   "outputs": [
    {
     "name": "stdout",
     "output_type": "stream",
     "text": [
      "Chi-square statistic: 2.6728070843107927\n",
      "P-value: 0.26278908094368353\n",
      "Degrees of freedom: 2\n",
      "Expected frequencies:\n",
      "[[1281.05654849  613.16319953 1271.78025198]\n",
      " [  99.94345151   47.83680047   99.21974802]]\n"
     ]
    }
   ],
   "source": [
    "df_smoke_test = combine_smoker_categories(df.copy(),'Ever_Smoked', 'smokes', 'formerly smoked')\n",
    "result = chi_square(df_smoke_test, 'stroke', 'smoking_status')\n",
    "if result:\n",
    "    chi2, p, dof, expected = result\n",
    "    print(f\"Chi-square statistic: {chi2}\")\n",
    "    print(f\"P-value: {p}\")\n",
    "    print(f\"Degrees of freedom: {dof}\")\n",
    "    print(\"Expected frequencies:\")\n",
    "    print(expected)"
   ]
  },
  {
   "cell_type": "code",
   "execution_count": 17,
   "metadata": {},
   "outputs": [
    {
     "name": "stdout",
     "output_type": "stream",
     "text": [
      "Chi-square statistic: 1.3807519931334042\n",
      "P-value: 0.2399730970890941\n",
      "Degrees of freedom: 1\n",
      "Expected frequencies:\n",
      "[[1894.21974802 1271.78025198]\n",
      " [ 147.78025198   99.21974802]]\n"
     ]
    }
   ],
   "source": [
    "df_smoke_test_2 = combine_smoker_categories(df.copy(), 'Ever_Smoked', 'smokes', 'formerly smoked', 'Unknown' )\n",
    "result = chi_square(df_smoke_test_2, 'stroke', 'smoking_status')\n",
    "if result:\n",
    "    chi2, p, dof, expected = result\n",
    "    print(f\"Chi-square statistic: {chi2}\")\n",
    "    print(f\"P-value: {p}\")\n",
    "    print(f\"Degrees of freedom: {dof}\")\n",
    "    print(\"Expected frequencies:\")\n",
    "    print(expected)"
   ]
  },
  {
   "cell_type": "markdown",
   "metadata": {},
   "source": [
    "p-values for the Chi square test on stroke and smoking_status continues to remain non-significant even when we combined the levels of the smoking_status variable in all possible (even non-intuitive) ways."
   ]
  },
  {
   "cell_type": "markdown",
   "metadata": {},
   "source": [
    "Our inference so far is: \n",
    "\n",
    "**No association exists between Stroke and the following variables**: Gender, ever_married, work_type, residence_type\n",
    "\n",
    "**An association exists between Stroke and heart risk**, where heart risk is a composite variable obtained by combining the binary variables hypertension and heart_disease\n",
    "\n",
    "A question exists over whether there is any association between Stroke and Smoking status. The Chi Square test of independence is saying there is no association based on the current levels of smoking status which are \n",
    "\n",
    "never smoked, formerly smoked, Unknown, and smokes. Combining the observations corresponding to formerly smoked and smokes into a a single level called Ever_Smoked and doing a Chi Square test of independence on \n",
    "\n",
    "stroke and smoking status yielded an insignificant p value at the 5% significance level. Combining the observations corresponding to formerly smoked, smokes and Unknown into a a single level called Ever_Smoked and \n",
    "\n",
    "doing a Chi Square test of independence on stroke and smoking status also yielded an insignificant p value at the 5% significance level. This second combination of formerly smoked, smokes and Unknown was completely \n",
    "\n",
    "arbitrary and done the assumption that many former smokers would refuse to disclose that they had been smokers previously. The point is that no matter how we frame the Chi Square test of independence, the dataset we \n",
    "\n",
    "have continues to tell us that there is no association between Stroke and smoking status at the 5% significance level.\n",
    "\n",
    "Our revised inference therefore is:\n",
    "\n",
    "**No association exists between Stroke and the following variables**: Gender, ever_married, work_type, residence_type, and smoking_status\n",
    "\n",
    "**An association exists between Stroke and heart risk**, where heart risk is a composite variable obtained by combining the binary variables hypertension and heart_disease\n"
   ]
  },
  {
   "cell_type": "markdown",
   "metadata": {},
   "source": [
    "**Numerical Features**\n",
    "\n",
    "There are three candidate features in this dataset which are numerical variables. These are age, avg_glucose_level, and bmi. Using the VarianceThreshold method we will identify if any of these variables has a \n",
    "\n",
    "variance of 0.9 or more in its variable values in which case it would be useful for any prediction. We will standardize these numerical variables before we apply the VarianceThreshold method on them.\n"
   ]
  },
  {
   "cell_type": "code",
   "execution_count": 18,
   "metadata": {},
   "outputs": [],
   "source": [
    "df_numerical_predictors = df[['age', 'avg_glucose_level', 'bmi']]\n",
    "#numerical_predictors.head(6)"
   ]
  },
  {
   "cell_type": "code",
   "execution_count": 19,
   "metadata": {},
   "outputs": [],
   "source": [
    "def scale_numerical_predictors(df, numerical_predictors):\n",
    "    scaler = StandardScaler()\n",
    "\n",
    "    # Create a copy of the dataframe to avoid modifying the original.\n",
    "    df_scaled = df.copy()\n",
    "\n",
    "    # Scale the numerical columns.\n",
    "    df_scaled[numerical_predictors] = scaler.fit_transform(df_scaled[numerical_predictors])\n",
    "\n",
    "    return df_scaled"
   ]
  },
  {
   "cell_type": "code",
   "execution_count": 20,
   "metadata": {},
   "outputs": [
    {
     "name": "stdout",
     "output_type": "stream",
     "text": [
      "           age  avg_glucose_level       bmi\n",
      "0     0.763532           2.312038  0.887420\n",
      "1     0.343728           1.787070 -0.305926\n",
      "2     1.673108          -0.121883  0.260149\n",
      "3    -0.495881           1.172891  0.550835\n",
      "4     1.603141           1.230185 -1.040292\n",
      "...        ...                ...       ...\n",
      "3408  1.673108          -0.561404 -0.367123\n",
      "3409  1.743076           0.260344  1.407596\n",
      "3410 -1.475424          -0.576471 -0.030538\n",
      "3411 -0.355946           1.074955 -0.795503\n",
      "3412 -0.845718          -0.531072 -0.703707\n",
      "\n",
      "[3413 rows x 3 columns]\n"
     ]
    }
   ],
   "source": [
    "numerical_predictors = ['age', 'avg_glucose_level', 'bmi']\n",
    "df_numerical_predictors_scaled = scale_numerical_predictors(df_numerical_predictors, numerical_predictors)\n",
    "print (df_numerical_predictors_scaled)"
   ]
  },
  {
   "cell_type": "code",
   "execution_count": 21,
   "metadata": {},
   "outputs": [
    {
     "name": "stdout",
     "output_type": "stream",
     "text": [
      "[ True  True  True]\n"
     ]
    }
   ],
   "source": [
    "var_thr = VarianceThreshold(threshold = 0.90)\n",
    "var_thr.fit(df_numerical_predictors_scaled)\n",
    "mask = var_thr.get_support()\n",
    "print (mask)\n"
   ]
  },
  {
   "cell_type": "markdown",
   "metadata": {},
   "source": [
    "Our inference is:\n",
    "\n",
    "All three numerical predictors (age, avg_glucose_level, and bmi) have a variance greater or equal to 0.90 implying sufficient inherent variability for prediction of the binary outcome variable stroke (presence or \n",
    "\n",
    "absence of stroke). Whether these three numerical predictors are significant predictors of the outcome variable will have to be determined by a statistical test or model."
   ]
  },
  {
   "cell_type": "markdown",
   "metadata": {},
   "source": [
    "At this point, we are left with four predictors for stroke. The three numerical variables age, avg_glucose_level and bmi, and also the nominal binary variable heart_risk (which is a composite variable created by \n",
    "\n",
    "combining the hypertension and heart_disease variables.)"
   ]
  },
  {
   "cell_type": "markdown",
   "metadata": {},
   "source": [
    "At this point let us create a smaller dataframe comprising of only the outcome variable stroke and the three numerical predictors from the original df dataframe in this file."
   ]
  },
  {
   "cell_type": "code",
   "execution_count": 22,
   "metadata": {},
   "outputs": [
    {
     "data": {
      "text/plain": [
       "(3413, 4)"
      ]
     },
     "execution_count": 22,
     "metadata": {},
     "output_type": "execute_result"
    }
   ],
   "source": [
    "df_small = df[['stroke', 'age', 'avg_glucose_level', 'bmi' ]]\n",
    "df_small.shape"
   ]
  },
  {
   "cell_type": "code",
   "execution_count": 23,
   "metadata": {},
   "outputs": [
    {
     "data": {
      "image/png": "[encoded data removed]",
      "text/plain": [
       "<Figure size 500x500 with 1 Axes>"
      ]
     },
     "metadata": {},
     "output_type": "display_data"
    },
    {
     "data": {
      "image/png": "[encoded data removed]",
      "text/plain": [
       "<Figure size 500x500 with 1 Axes>"
      ]
     },
     "metadata": {},
     "output_type": "display_data"
    },
    {
     "data": {
      "image/png": "[encoded data removed]",
      "text/plain": [
       "<Figure size 500x500 with 1 Axes>"
      ]
     },
     "metadata": {},
     "output_type": "display_data"
    }
   ],
   "source": [
    "predictors = ['age', 'avg_glucose_level', 'bmi']\n",
    "target = 'stroke'\n",
    "\n",
    "predictor_labels = {\n",
    "    'age': 'Age',\n",
    "    'avg_glucose_level': 'Average Glucose Level',\n",
    "    'bmi': 'BMI'\n",
    "}\n",
    "#df_small['stroke_label'] = df_small['stroke'].map(stroke_labels)\n",
    "x_axis_label = 'Stroke status'\n",
    "palette = sns.color_palette(\"colorblind\", 2)\n",
    "\n",
    "\n",
    "for predictor in predictors:\n",
    "    df_plot = df_small.copy() #create a copy of df_small\n",
    "    stroke_labels = {0: 'No Stroke', 1: 'Stroke'} #stroke labels\n",
    "\n",
    "    df_plot['stroke_label'] = df_plot['stroke'].map(stroke_labels)\n",
    "    g = sns.catplot(x=target, y=predictor, data=df_plot, kind=\"box\",\n",
    "                hue=target, legend=False, palette = palette)\n",
    "    # Set customized x-axis labels\n",
    "    g.set_xticklabels(['No Stroke', 'Stroke'])  # 0 = No Stroke, 1 = Stroke\n",
    "    plt.title(f'Boxplot of {predictor_labels[predictor]} by {target}')\n",
    "    g.set_axis_labels(x_axis_label, predictor_labels[predictor])\n",
    "\n"
   ]
  },
  {
   "cell_type": "code",
   "execution_count": 24,
   "metadata": {},
   "outputs": [
    {
     "data": {
      "image/png": "[encoded data removed]",
      "text/plain": [
       "<Figure size 800x600 with 1 Axes>"
      ]
     },
     "metadata": {},
     "output_type": "display_data"
    },
    {
     "data": {
      "image/png": "[encoded data removed]",
      "text/plain": [
       "<Figure size 800x600 with 1 Axes>"
      ]
     },
     "metadata": {},
     "output_type": "display_data"
    },
    {
     "data": {
      "image/png": "[encoded data removed]",
      "text/plain": [
       "<Figure size 800x600 with 1 Axes>"
      ]
     },
     "metadata": {},
     "output_type": "display_data"
    }
   ],
   "source": [
    "#creating histograms\n",
    "num_bins = 6\n",
    "for predictor in predictors:\n",
    "    df_plot = df_small.copy() #create a copy of df_small\n",
    "    stroke_labels = {0: 'No Stroke', 1: 'Stroke'} #stroke labels\n",
    "    df_plot['stroke_label'] = df_plot['stroke'].map(stroke_labels)\n",
    "    plt.figure(figsize=(8, 6))  # Set the figure size\n",
    "\n",
    "    sns.histplot(data=df_plot, x=predictor, hue=target, kde= False, palette= palette, multiple=\"dodge\", bins = num_bins)\n",
    "    \n",
    "    # Set title and axis labels using the custom predictor labels\n",
    "    plt.title(f'Distribution of {predictor_labels[predictor]} by {target}', fontsize=14)\n",
    "    plt.xlabel(predictor_labels[predictor])  # Custom x-axis label\n",
    "    plt.ylabel('Frequency')  # Y-axis label for histograms\n",
    "    \n",
    "    # Customize legend\n",
    "    handles = [plt.Rectangle((0, 0), 1, 1, color= palette[0], label='No Stroke'),\n",
    "               plt.Rectangle((0, 0), 1, 1, color= palette[1], label='Stroke')]\n",
    "    \n",
    "    # Add the custom legend\n",
    "    plt.legend(handles=handles, title='Stroke Status')\n",
    "    \n",
    "    \n",
    "    # Show the plot\n",
    "    plt.show()"
   ]
  },
  {
   "cell_type": "code",
   "execution_count": 25,
   "metadata": {},
   "outputs": [
    {
     "name": "stdout",
     "output_type": "stream",
     "text": [
      "stroke\n",
      "0    3166\n",
      "1     247\n",
      "Name: count, dtype: int64\n"
     ]
    }
   ],
   "source": [
    "stroke_counts = df_small['stroke'].value_counts()\n",
    "print (stroke_counts)"
   ]
  },
  {
   "cell_type": "code",
   "execution_count": 26,
   "metadata": {},
   "outputs": [
    {
     "name": "stdout",
     "output_type": "stream",
     "text": [
      "Shapiro-Wilk test for age (stroke=1):\n",
      "  Statistic: 0.9088735808791897\n",
      "  p-value: 4.0817811720307686e-11\n",
      "Shapiro-Wilk test for age (stroke=0):\n",
      "  Statistic: 0.9615312204157949\n",
      "  p-value: 3.2111775312552085e-28\n",
      "\n",
      "Shapiro-Wilk test for avg_glucose_level (stroke=1):\n",
      "  Statistic: 0.8721583856342205\n",
      "  p-value: 1.6113642741321607e-13\n",
      "Shapiro-Wilk test for avg_glucose_level (stroke=0):\n",
      "  Statistic: 0.8070506222152376\n",
      "  p-value: 5.797159804238047e-52\n",
      "\n",
      "Shapiro-Wilk test for bmi (stroke=1):\n",
      "  Statistic: 0.9461558313234285\n",
      "  p-value: 6.669402330147665e-08\n",
      "Shapiro-Wilk test for bmi (stroke=0):\n",
      "  Statistic: 0.9558592088364247\n",
      "  p-value: 5.9451006862788204e-30\n",
      "\n"
     ]
    }
   ],
   "source": [
    "#Shapiro Wilk test\n",
    "#df_small = df[['stroke', 'age', 'avg_glucose_level', 'bmi' ]]\n",
    "#predictors = ['age', 'avg_glucose_level', 'bmi']\n",
    "#target = 'stroke'\n",
    "stroke_values = df[target].unique()\n",
    "for predictor in predictors:\n",
    "    for stroke_val in stroke_values:\n",
    "        #group_data generated for each combination of stroke status and predictor\n",
    "        group_data = df_small[df_small[target] == stroke_val][predictor] \n",
    "        stat, p = shapiro(group_data)\n",
    "\n",
    "        print(f\"Shapiro-Wilk test for {predictor} (stroke={stroke_val}):\")\n",
    "        print(f\"  Statistic: {stat}\")\n",
    "        print(f\"  p-value: {p}\")\n",
    "    print()\n",
    "\n",
    "\n",
    "\n"
   ]
  },
  {
   "cell_type": "code",
   "execution_count": 27,
   "metadata": {},
   "outputs": [
    {
     "data": {
      "image/png": "[encoded data removed]",
      "text/plain": [
       "<Figure size 640x480 with 1 Axes>"
      ]
     },
     "metadata": {},
     "output_type": "display_data"
    },
    {
     "data": {
      "image/png": "[encoded data removed]",
      "text/plain": [
       "<Figure size 640x480 with 1 Axes>"
      ]
     },
     "metadata": {},
     "output_type": "display_data"
    },
    {
     "data": {
      "image/png": "[encoded data removed]",
      "text/plain": [
       "<Figure size 640x480 with 1 Axes>"
      ]
     },
     "metadata": {},
     "output_type": "display_data"
    },
    {
     "data": {
      "image/png": "[encoded data removed]",
      "text/plain": [
       "<Figure size 640x480 with 1 Axes>"
      ]
     },
     "metadata": {},
     "output_type": "display_data"
    },
    {
     "data": {
      "image/png": "[encoded data removed]",
      "text/plain": [
       "<Figure size 640x480 with 1 Axes>"
      ]
     },
     "metadata": {},
     "output_type": "display_data"
    },
    {
     "data": {
      "image/png": "[encoded data removed]",
      "text/plain": [
       "<Figure size 640x480 with 1 Axes>"
      ]
     },
     "metadata": {},
     "output_type": "display_data"
    }
   ],
   "source": [
    "#QQ plots\n",
    "for predictor in predictors:\n",
    "    for stroke_val in stroke_values:\n",
    "        group_data = df[df[target] == stroke_val][predictor]\n",
    "\n",
    "        # Create Q-Q plot\n",
    "        sm.qqplot(group_data, line='45')\n",
    "        plt.title(f'Q-Q Plot: {predictor} (stroke={stroke_val})')\n",
    "        plt.show()\n",
    "\n"
   ]
  },
  {
   "cell_type": "code",
   "execution_count": 28,
   "metadata": {},
   "outputs": [
    {
     "name": "stdout",
     "output_type": "stream",
     "text": [
      "Mann-Whitney U test for age:\n",
      "  U statistic: 189027.5\n",
      "  p-value: 8.61165772770771e-42\n",
      "  Result: There is a statistically significant difference in age between stroke groups.\n",
      "\n",
      "\n",
      "Mann-Whitney U test for avg_glucose_level:\n",
      "  U statistic: 319832.0\n",
      "  p-value: 1.829803559501344e-06\n",
      "  Result: There is a statistically significant difference in avg_glucose_level between stroke groups.\n",
      "\n",
      "\n",
      "Mann-Whitney U test for bmi:\n",
      "  U statistic: 404674.5\n",
      "  p-value: 0.3593018451972725\n",
      "  Result: There is no statistically significant difference in bmi between stroke groups.\n",
      "\n",
      "\n"
     ]
    }
   ],
   "source": [
    "#Mann Whitney U test\n",
    "for predictor in predictors:\n",
    "    # Separate the data into two groups based on the 'stroke' variable\n",
    "    group_0 = df_small[df_small[target] == 0][predictor]\n",
    "    group_1 = df_small[df_small[target] == 1][predictor]\n",
    "\n",
    "\n",
    "    # Perform the Mann-Whitney U test\n",
    "    stat, p = mannwhitneyu(group_0, group_1, alternative='two-sided')\n",
    "\n",
    "    # Print the results\n",
    "    print(f\"Mann-Whitney U test for {predictor}:\")\n",
    "    print(f\"  U statistic: {stat}\")\n",
    "    print(f\"  p-value: {p}\")\n",
    "\n",
    "    # Interpret the p-value\n",
    "    alpha = 0.05  # Significance level\n",
    "    if p < alpha:\n",
    "        print(f\"  Result: There is a statistically significant difference in {predictor} between stroke groups.\")\n",
    "    else:\n",
    "        print(f\"  Result: There is no statistically significant difference in {predictor} between stroke groups.\")\n",
    "\n",
    "    print()\n",
    "    print()"
   ]
  },
  {
   "cell_type": "code",
   "execution_count": null,
   "metadata": {},
   "outputs": [
    {
     "name": "stderr",
     "output_type": "stream",
     "text": [
      "C:\\Users\\laure\\AppData\\Local\\Temp\\ipykernel_30908\\2165841453.py:86: FutureWarning:\n",
      "\n",
      "The default of observed=False is deprecated and will be changed to True in a future version of pandas. Pass observed=False to retain current behavior or observed=True to adopt the future default and silence this warning.\n",
      "\n",
      "C:\\Users\\laure\\AppData\\Local\\Temp\\ipykernel_30908\\2165841453.py:86: FutureWarning:\n",
      "\n",
      "The default of observed=False is deprecated and will be changed to True in a future version of pandas. Pass observed=False to retain current behavior or observed=True to adopt the future default and silence this warning.\n",
      "\n",
      "C:\\Users\\laure\\AppData\\Local\\Temp\\ipykernel_30908\\2165841453.py:86: FutureWarning:\n",
      "\n",
      "The default of observed=False is deprecated and will be changed to True in a future version of pandas. Pass observed=False to retain current behavior or observed=True to adopt the future default and silence this warning.\n",
      "\n",
      "C:\\Users\\laure\\AppData\\Local\\Temp\\ipykernel_30908\\2165841453.py:86: FutureWarning:\n",
      "\n",
      "The default of observed=False is deprecated and will be changed to True in a future version of pandas. Pass observed=False to retain current behavior or observed=True to adopt the future default and silence this warning.\n",
      "\n",
      "C:\\Users\\laure\\AppData\\Local\\Temp\\ipykernel_30908\\2165841453.py:86: FutureWarning:\n",
      "\n",
      "The default of observed=False is deprecated and will be changed to True in a future version of pandas. Pass observed=False to retain current behavior or observed=True to adopt the future default and silence this warning.\n",
      "\n",
      "C:\\Users\\laure\\AppData\\Local\\Temp\\ipykernel_30908\\2165841453.py:86: FutureWarning:\n",
      "\n",
      "The default of observed=False is deprecated and will be changed to True in a future version of pandas. Pass observed=False to retain current behavior or observed=True to adopt the future default and silence this warning.\n",
      "\n"
     ]
    },
    {
     "data": {
      "application/vnd.plotly.v1+json": {
       "config": {
        "plotlyServerURL": "https://plot.ly"
       },
       "data": [
        {
         "domain": {
          "x": [
           0,
           0.07438016528925619
          ],
          "y": [
           0.52,
           1
          ]
         },
         "hole": 0.4,
         "hovertemplate": "Category: %{label}<br>Count: %{value}<br>Percent: %{percent}",
         "labels": [
          "No heart risk<br>Count: 2726 of people",
          "Has heart risk<br>Count: 687 of people"
         ],
         "marker": {
          "colors": [
           "#0072B2",
           "#D55E00"
          ]
         },
         "name": "Heart Risk Distribution",
         "pull": [
          0.02,
          0.02
         ],
         "showlegend": false,
         "textinfo": "label+percent",
         "textposition": "inside",
         "type": "pie",
         "values": [
          2726,
          687
         ]
        },
        {
         "domain": {
          "x": [
           0.09256198347107437,
           0.16694214876033056
          ],
          "y": [
           0.52,
           1
          ]
         },
         "hole": 0.4,
         "hovertemplate": "Category: %{label}<br>Count: %{value}<br>Percent: %{percent}",
         "labels": [
          "60+ years<br>Count: 1758 of people",
          "40-59 years<br>Count: 1655 of people"
         ],
         "marker": {
          "colors": [
           "#0072B2",
           "#D55E00"
          ]
         },
         "name": "Age Distribution",
         "pull": [
          0.02,
          0.02
         ],
         "showlegend": false,
         "textinfo": "label+percent",
         "textposition": "inside",
         "type": "pie",
         "values": [
          1758,
          1655
         ]
        },
        {
         "domain": {
          "x": [
           0.18512396694214875,
           0.25950413223140495
          ],
          "y": [
           0.52,
           1
          ]
         },
         "hole": 0.4,
         "hovertemplate": "Category: %{label}<br>Count: %{value}<br>Percent: %{percent}",
         "labels": [
          "No Heart Disease<br>Count: 3139 of people",
          "Has Heart Disease<br>Count: 274 of people"
         ],
         "marker": {
          "colors": [
           "#0072B2",
           "#D55E00"
          ]
         },
         "name": "Heart Disease Distribution",
         "pull": [
          0.02,
          0.02
         ],
         "showlegend": false,
         "textinfo": "label+percent",
         "textposition": "inside",
         "type": "pie",
         "values": [
          3139,
          274
         ]
        },
        {
         "domain": {
          "x": [
           0.27768595041322314,
           0.3520661157024793
          ],
          "y": [
           0.52,
           1
          ]
         },
         "hole": 0.4,
         "hovertemplate": "Category: %{label}<br>Count: %{value}<br>Percent: %{percent}",
         "labels": [
          "No Hypertension<br>Count: 2936 of people",
          "Has Hypertension<br>Count: 477 of people"
         ],
         "marker": {
          "colors": [
           "#0072B2",
           "#D55E00"
          ]
         },
         "name": "Hypertension Distribution",
         "pull": [
          0.02,
          0.02
         ],
         "showlegend": false,
         "textinfo": "label+percent",
         "textposition": "inside",
         "type": "pie",
         "values": [
          2936,
          477
         ]
        },
        {
         "domain": {
          "x": [
           0.3702479338842975,
           0.44462809917355367
          ],
          "y": [
           0.52,
           1
          ]
         },
         "hole": 0.4,
         "hovertemplate": "Category: %{label}<br>Count: %{value}<br>Percent: %{percent}",
         "labels": [
          "never smoked<br>Count: 1371 of people",
          "formerly smoked<br>Count: 773 of people",
          "Unknown<br>Count: 661 of people",
          "smokes<br>Count: 608 of people"
         ],
         "marker": {
          "colors": [
           "#0072B2",
           "#D55E00",
           "#009E73",
           "#F0E442"
          ]
         },
         "name": "Smoking Status Distribution",
         "pull": [
          0.02,
          0.02,
          0.02,
          0.02
         ],
         "showlegend": false,
         "textinfo": "label+percent",
         "textposition": "inside",
         "type": "pie",
         "values": [
          1371,
          773,
          661,
          608
         ]
        },
        {
         "domain": {
          "x": [
           0.46280991735537186,
           0.5371900826446281
          ],
          "y": [
           0.52,
           1
          ]
         },
         "hole": 0.4,
         "hovertemplate": "Category: %{label}<br>Count: %{value}<br>Percent: %{percent}",
         "labels": [
          "Overweight<br>Count: 1145 of people",
          "Obese<br>Count: 937 of people",
          "Severely Obese<br>Count: 746 of people",
          "Normal<br>Count: 568 of people",
          "Underweight<br>Count: 17 of people"
         ],
         "marker": {
          "colors": [
           "#0072B2",
           "#D55E00",
           "#009E73",
           "#F0E442",
           "#CC79A7"
          ]
         },
         "name": "Bmi Category Distribution",
         "pull": [
          0.02,
          0.02,
          0.02,
          0.02,
          0.02
         ],
         "showlegend": false,
         "textinfo": "label+percent",
         "textposition": "inside",
         "type": "pie",
         "values": [
          1145,
          937,
          746,
          568,
          17
         ]
        },
        {
         "domain": {
          "x": [
           0.5553719008264462,
           0.6297520661157023
          ],
          "y": [
           0.52,
           1
          ]
         },
         "hole": 0.4,
         "hovertemplate": "Category: %{label}<br>Count: %{value}<br>Percent: %{percent}",
         "labels": [
          "119 - 190<br>Count: 1728 of people",
          "190 +<br>Count: 1685 of people"
         ],
         "marker": {
          "colors": [
           "#0072B2",
           "#D55E00"
          ]
         },
         "name": "Avg Glucose Level Temp Distribution",
         "pull": [
          0.02,
          0.02
         ],
         "showlegend": false,
         "textinfo": "label+percent",
         "textposition": "inside",
         "type": "pie",
         "values": [
          1728,
          1685
         ]
        },
        {
         "domain": {
          "x": [
           0.6479338842975206,
           0.7223140495867768
          ],
          "y": [
           0.52,
           1
          ]
         },
         "hole": 0.4,
         "hovertemplate": "Category: %{label}<br>Count: %{value}<br>Percent: %{percent}",
         "labels": [
          "Private<br>Count: 2090 of people",
          "Self-employed<br>Count: 753 of people",
          "Govt_job<br>Count: 570 of people"
         ],
         "marker": {
          "colors": [
           "#0072B2",
           "#D55E00",
           "#009E73"
          ]
         },
         "name": "Work Type Distribution",
         "pull": [
          0.02,
          0.02,
          0.02
         ],
         "showlegend": false,
         "textinfo": "label+percent",
         "textposition": "inside",
         "type": "pie",
         "values": [
          2090,
          753,
          570
         ]
        },
        {
         "domain": {
          "x": [
           0.740495867768595,
           0.8148760330578512
          ],
          "y": [
           0.52,
           1
          ]
         },
         "hole": 0.4,
         "hovertemplate": "Category: %{label}<br>Count: %{value}<br>Percent: %{percent}",
         "labels": [
          "Urban<br>Count: 1729 of people",
          "Rural<br>Count: 1684 of people"
         ],
         "marker": {
          "colors": [
           "#0072B2",
           "#D55E00"
          ]
         },
         "name": "Residence Type Distribution",
         "pull": [
          0.02,
          0.02
         ],
         "showlegend": false,
         "textinfo": "label+percent",
         "textposition": "inside",
         "type": "pie",
         "values": [
          1729,
          1684
         ]
        },
        {
         "domain": {
          "x": [
           0.8330578512396694,
           0.9074380165289255
          ],
          "y": [
           0.52,
           1
          ]
         },
         "hole": 0.4,
         "hovertemplate": "Category: %{label}<br>Count: %{value}<br>Percent: %{percent}",
         "labels": [
          "Female<br>Count: 2026 of people",
          "Male<br>Count: 1387 of people"
         ],
         "marker": {
          "colors": [
           "#0072B2",
           "#D55E00"
          ]
         },
         "name": "Gender Distribution",
         "pull": [
          0.02,
          0.02
         ],
         "showlegend": false,
         "textinfo": "label+percent",
         "textposition": "inside",
         "type": "pie",
         "values": [
          2026,
          1387
         ]
        },
        {
         "domain": {
          "x": [
           0.9256198347107437,
           0.9999999999999999
          ],
          "y": [
           0.52,
           1
          ]
         },
         "hole": 0.4,
         "hovertemplate": "Category: %{label}<br>Count: %{value}<br>Percent: %{percent}",
         "labels": [
          "Yes<br>Count: 3051 of people",
          "No<br>Count: 362 of people"
         ],
         "marker": {
          "colors": [
           "#0072B2",
           "#D55E00"
          ]
         },
         "name": "Ever Married Distribution",
         "pull": [
          0.02,
          0.02
         ],
         "showlegend": false,
         "textinfo": "label+percent",
         "textposition": "inside",
         "type": "pie",
         "values": [
          3051,
          362
         ]
        },
        {
         "hovertemplate": "Category: %{x}<br>No Stroke: %{y}%",
         "marker": {
          "color": [
           "#D55E00",
           "#0072B2"
          ]
         },
         "name": "No Stroke",
         "showlegend": false,
         "text": [
          "85.44%",
          "94.61%"
         ],
         "type": "bar",
         "x": [
          "Has heart risk",
          "No heart risk"
         ],
         "xaxis": "x",
         "y": [
          85.44395924308587,
          94.60748349229641
         ],
         "yaxis": "y"
        },
        {
         "hovertemplate": "Category: %{x}<br>Stroke: %{y}%",
         "marker": {
          "color": "#000000"
         },
         "name": "Stroke",
         "showlegend": false,
         "text": [
          "14.56%",
          "5.39%"
         ],
         "type": "bar",
         "x": [
          "Has heart risk",
          "No heart risk"
         ],
         "xaxis": "x",
         "y": [
          14.556040756914118,
          5.392516507703595
         ],
         "yaxis": "y"
        },
        {
         "hovertemplate": "Category: %{x}<br>No Stroke: %{y}%",
         "marker": {
          "color": [
           "#D55E00",
           "#0072B2"
          ]
         },
         "name": "No Stroke",
         "showlegend": false,
         "text": [
          "97.89%",
          "87.94%"
         ],
         "type": "bar",
         "x": [
          "40-59 years",
          "60+ years"
         ],
         "xaxis": "x2",
         "y": [
          97.88519637462235,
          87.94084186575654
         ],
         "yaxis": "y2"
        },
        {
         "hovertemplate": "Category: %{x}<br>Stroke: %{y}%",
         "marker": {
          "color": "#000000"
         },
         "name": "Stroke",
         "showlegend": false,
         "text": [
          "2.11%",
          "12.06%"
         ],
         "type": "bar",
         "x": [
          "40-59 years",
          "60+ years"
         ],
         "xaxis": "x2",
         "y": [
          2.1148036253776437,
          12.059158134243459
         ],
         "yaxis": "y2"
        },
        {
         "hovertemplate": "Category: %{x}<br>No Stroke: %{y}%",
         "marker": {
          "color": [
           "#D55E00",
           "#0072B2"
          ]
         },
         "name": "No Stroke",
         "showlegend": false,
         "text": [
          "82.85%",
          "93.63%"
         ],
         "type": "bar",
         "x": [
          "Has Heart Disease",
          "No Heart Disease"
         ],
         "xaxis": "x3",
         "y": [
          82.84671532846716,
          93.62854412233196
         ],
         "yaxis": "y3"
        },
        {
         "hovertemplate": "Category: %{x}<br>Stroke: %{y}%",
         "marker": {
          "color": "#000000"
         },
         "name": "Stroke",
         "showlegend": false,
         "text": [
          "17.15%",
          "6.37%"
         ],
         "type": "bar",
         "x": [
          "Has Heart Disease",
          "No Heart Disease"
         ],
         "xaxis": "x3",
         "y": [
          17.153284671532848,
          6.371455877668048
         ],
         "yaxis": "y3"
        },
        {
         "hovertemplate": "Category: %{x}<br>No Stroke: %{y}%",
         "marker": {
          "color": [
           "#D55E00",
           "#0072B2"
          ]
         },
         "name": "No Stroke",
         "showlegend": false,
         "text": [
          "86.16%",
          "93.84%"
         ],
         "type": "bar",
         "x": [
          "Has Hypertension",
          "No Hypertension"
         ],
         "xaxis": "x4",
         "y": [
          86.16352201257862,
          93.83514986376021
         ],
         "yaxis": "y4"
        },
        {
         "hovertemplate": "Category: %{x}<br>Stroke: %{y}%",
         "marker": {
          "color": "#000000"
         },
         "name": "Stroke",
         "showlegend": false,
         "text": [
          "13.84%",
          "6.16%"
         ],
         "type": "bar",
         "x": [
          "Has Hypertension",
          "No Hypertension"
         ],
         "xaxis": "x4",
         "y": [
          13.836477987421384,
          6.1648501362397825
         ],
         "yaxis": "y4"
        },
        {
         "hovertemplate": "Category: %{x}<br>No Stroke: %{y}%",
         "marker": {
          "color": [
           "#009E73",
           "#D55E00",
           "#0072B2",
           "#F0E442"
          ]
         },
         "name": "No Stroke",
         "showlegend": false,
         "text": [
          "93.19%",
          "90.94%",
          "93.44%",
          "93.09%"
         ],
         "type": "bar",
         "x": [
          "Unknown",
          "formerly smoked",
          "never smoked",
          "smokes"
         ],
         "xaxis": "x5",
         "y": [
          93.19213313161876,
          90.94437257438551,
          93.43544857768052,
          93.0921052631579
         ],
         "yaxis": "y5"
        },
        {
         "hovertemplate": "Category: %{x}<br>Stroke: %{y}%",
         "marker": {
          "color": "#000000"
         },
         "name": "Stroke",
         "showlegend": false,
         "text": [
          "6.81%",
          "9.06%",
          "6.56%",
          "6.91%"
         ],
         "type": "bar",
         "x": [
          "Unknown",
          "formerly smoked",
          "never smoked",
          "smokes"
         ],
         "xaxis": "x5",
         "y": [
          6.80786686838124,
          9.055627425614489,
          6.564551422319474,
          6.907894736842106
         ],
         "yaxis": "y5"
        },
        {
         "hovertemplate": "Category: %{x}<br>No Stroke: %{y}%",
         "marker": {
          "color": [
           "#CC79A7",
           "#F0E442",
           "#0072B2",
           "#D55E00",
           "#009E73"
          ]
         },
         "name": "No Stroke",
         "showlegend": false,
         "text": [
          "94.12%",
          "93.84%",
          "91.27%",
          "92.74%",
          "94.24%"
         ],
         "type": "bar",
         "x": [
          "Underweight",
          "Normal",
          "Overweight",
          "Obese",
          "Severely Obese"
         ],
         "xaxis": "x6",
         "y": [
          94.11764705882352,
          93.83802816901408,
          91.26637554585153,
          92.7427961579509,
          94.23592493297586
         ],
         "yaxis": "y6"
        },
        {
         "hovertemplate": "Category: %{x}<br>Stroke: %{y}%",
         "marker": {
          "color": "#000000"
         },
         "name": "Stroke",
         "showlegend": false,
         "text": [
          "5.88%",
          "6.16%",
          "8.73%",
          "7.26%",
          "5.76%"
         ],
         "type": "bar",
         "x": [
          "Underweight",
          "Normal",
          "Overweight",
          "Obese",
          "Severely Obese"
         ],
         "xaxis": "x6",
         "y": [
          5.88235294117647,
          6.161971830985916,
          8.73362445414847,
          7.257203842049092,
          5.7640750670241285
         ],
         "yaxis": "y6"
        },
        {
         "hovertemplate": "Category: %{x}<br>No Stroke: %{y}%",
         "marker": {
          "color": [
           "#0072B2",
           "#D55E00"
          ]
         },
         "name": "No Stroke",
         "showlegend": false,
         "text": [
          "94.33%",
          "91.16%"
         ],
         "type": "bar",
         "x": [
          "119 - 190",
          "190 +"
         ],
         "xaxis": "x7",
         "y": [
          94.32870370370371,
          91.15727002967358
         ],
         "yaxis": "y7"
        },
        {
         "hovertemplate": "Category: %{x}<br>Stroke: %{y}%",
         "marker": {
          "color": "#000000"
         },
         "name": "Stroke",
         "showlegend": false,
         "text": [
          "5.67%",
          "8.84%"
         ],
         "type": "bar",
         "x": [
          "119 - 190",
          "190 +"
         ],
         "xaxis": "x7",
         "y": [
          5.671296296296297,
          8.84272997032641
         ],
         "yaxis": "y7"
        },
        {
         "hovertemplate": "Category: %{x}<br>No Stroke: %{y}%",
         "marker": {
          "color": [
           "#009E73",
           "#0072B2",
           "#D55E00"
          ]
         },
         "name": "No Stroke",
         "showlegend": false,
         "text": [
          "94.21%",
          "92.87%",
          "91.37%"
         ],
         "type": "bar",
         "x": [
          "Govt_job",
          "Private",
          "Self-employed"
         ],
         "xaxis": "x8",
         "y": [
          94.21052631578948,
          92.87081339712918,
          91.36786188579016
         ],
         "yaxis": "y8"
        },
        {
         "hovertemplate": "Category: %{x}<br>Stroke: %{y}%",
         "marker": {
          "color": "#000000"
         },
         "name": "Stroke",
         "showlegend": false,
         "text": [
          "5.79%",
          "7.13%",
          "8.63%"
         ],
         "type": "bar",
         "x": [
          "Govt_job",
          "Private",
          "Self-employed"
         ],
         "xaxis": "x8",
         "y": [
          5.7894736842105265,
          7.129186602870813,
          8.632138114209829
         ],
         "yaxis": "y8"
        },
        {
         "hovertemplate": "Category: %{x}<br>No Stroke: %{y}%",
         "marker": {
          "color": [
           "#D55E00",
           "#0072B2"
          ]
         },
         "name": "No Stroke",
         "showlegend": false,
         "text": [
          "93.29%",
          "92.25%"
         ],
         "type": "bar",
         "x": [
          "Rural",
          "Urban"
         ],
         "xaxis": "x9",
         "y": [
          93.28978622327791,
          92.24985540775015
         ],
         "yaxis": "y9"
        },
        {
         "hovertemplate": "Category: %{x}<br>Stroke: %{y}%",
         "marker": {
          "color": "#000000"
         },
         "name": "Stroke",
         "showlegend": false,
         "text": [
          "6.71%",
          "7.75%"
         ],
         "type": "bar",
         "x": [
          "Rural",
          "Urban"
         ],
         "xaxis": "x9",
         "y": [
          6.710213776722091,
          7.750144592249855
         ],
         "yaxis": "y9"
        },
        {
         "hovertemplate": "Category: %{x}<br>No Stroke: %{y}%",
         "marker": {
          "color": [
           "#0072B2",
           "#D55E00"
          ]
         },
         "name": "No Stroke",
         "showlegend": false,
         "text": [
          "93.14%",
          "92.21%"
         ],
         "type": "bar",
         "x": [
          "Female",
          "Male"
         ],
         "xaxis": "x10",
         "y": [
          93.13919052319842,
          92.21341023792358
         ],
         "yaxis": "y10"
        },
        {
         "hovertemplate": "Category: %{x}<br>Stroke: %{y}%",
         "marker": {
          "color": "#000000"
         },
         "name": "Stroke",
         "showlegend": false,
         "text": [
          "6.86%",
          "7.79%"
         ],
         "type": "bar",
         "x": [
          "Female",
          "Male"
         ],
         "xaxis": "x10",
         "y": [
          6.86080947680158,
          7.7865897620764235
         ],
         "yaxis": "y10"
        },
        {
         "hovertemplate": "Category: %{x}<br>No Stroke: %{y}%",
         "marker": {
          "color": [
           "#D55E00",
           "#0072B2"
          ]
         },
         "name": "No Stroke",
         "showlegend": false,
         "text": [
          "92.54%",
          "92.79%"
         ],
         "type": "bar",
         "x": [
          "No",
          "Yes"
         ],
         "xaxis": "x11",
         "y": [
          92.5414364640884,
          92.78924942641757
         ],
         "yaxis": "y11"
        },
        {
         "hovertemplate": "Category: %{x}<br>Stroke: %{y}%",
         "marker": {
          "color": "#000000"
         },
         "name": "Stroke",
         "showlegend": false,
         "text": [
          "7.46%",
          "7.21%"
         ],
         "type": "bar",
         "x": [
          "No",
          "Yes"
         ],
         "xaxis": "x11",
         "y": [
          7.458563535911603,
          7.210750573582432
         ],
         "yaxis": "y11"
        }
       ],
       "layout": {
        "annotations": [
         {
          "font": {
           "size": 16
          },
          "showarrow": false,
          "text": "Heart Risk Distribution",
          "x": 0.03719008264462809,
          "xanchor": "center",
          "xref": "paper",
          "y": 1,
          "yanchor": "bottom",
          "yref": "paper"
         },
         {
          "font": {
           "size": 16
          },
          "showarrow": false,
          "text": "Age Distribution",
          "x": 0.12975206611570247,
          "xanchor": "center",
          "xref": "paper",
          "y": 1,
          "yanchor": "bottom",
          "yref": "paper"
         },
         {
          "font": {
           "size": 16
          },
          "showarrow": false,
          "text": "Heart Disease Distribution",
          "x": 0.22231404958677686,
          "xanchor": "center",
          "xref": "paper",
          "y": 1,
          "yanchor": "bottom",
          "yref": "paper"
         },
         {
          "font": {
           "size": 16
          },
          "showarrow": false,
          "text": "Hypertension Distribution",
          "x": 0.3148760330578512,
          "xanchor": "center",
          "xref": "paper",
          "y": 1,
          "yanchor": "bottom",
          "yref": "paper"
         },
         {
          "font": {
           "size": 16
          },
          "showarrow": false,
          "text": "Smoking Status Distribution",
          "x": 0.4074380165289256,
          "xanchor": "center",
          "xref": "paper",
          "y": 1,
          "yanchor": "bottom",
          "yref": "paper"
         },
         {
          "font": {
           "size": 16
          },
          "showarrow": false,
          "text": "Bmi Category Distribution",
          "x": 0.5,
          "xanchor": "center",
          "xref": "paper",
          "y": 1,
          "yanchor": "bottom",
          "yref": "paper"
         },
         {
          "font": {
           "size": 16
          },
          "showarrow": false,
          "text": "Avg Glucose Level Temp Distribution",
          "x": 0.5925619834710742,
          "xanchor": "center",
          "xref": "paper",
          "y": 1,
          "yanchor": "bottom",
          "yref": "paper"
         },
         {
          "font": {
           "size": 16
          },
          "showarrow": false,
          "text": "Work Type Distribution",
          "x": 0.6851239669421487,
          "xanchor": "center",
          "xref": "paper",
          "y": 1,
          "yanchor": "bottom",
          "yref": "paper"
         },
         {
          "font": {
           "size": 16
          },
          "showarrow": false,
          "text": "Residence Type Distribution",
          "x": 0.7776859504132231,
          "xanchor": "center",
          "xref": "paper",
          "y": 1,
          "yanchor": "bottom",
          "yref": "paper"
         },
         {
          "font": {
           "size": 16
          },
          "showarrow": false,
          "text": "Gender Distribution",
          "x": 0.8702479338842974,
          "xanchor": "center",
          "xref": "paper",
          "y": 1,
          "yanchor": "bottom",
          "yref": "paper"
         },
         {
          "font": {
           "size": 16
          },
          "showarrow": false,
          "text": "Ever Married Distribution",
          "x": 0.9628099173553718,
          "xanchor": "center",
          "xref": "paper",
          "y": 1,
          "yanchor": "bottom",
          "yref": "paper"
         },
         {
          "font": {
           "size": 16
          },
          "showarrow": false,
          "text": "Normalized Stroke Occurrence in Heart Risk",
          "x": 0.03719008264462809,
          "xanchor": "center",
          "xref": "paper",
          "y": 0.48,
          "yanchor": "bottom",
          "yref": "paper"
         },
         {
          "font": {
           "size": 16
          },
          "showarrow": false,
          "text": "Normalized Stroke Occurrence in Age",
          "x": 0.12975206611570247,
          "xanchor": "center",
          "xref": "paper",
          "y": 0.48,
          "yanchor": "bottom",
          "yref": "paper"
         },
         {
          "font": {
           "size": 16
          },
          "showarrow": false,
          "text": "Normalized Stroke Occurrence in Heart Disease",
          "x": 0.22231404958677686,
          "xanchor": "center",
          "xref": "paper",
          "y": 0.48,
          "yanchor": "bottom",
          "yref": "paper"
         },
         {
          "font": {
           "size": 16
          },
          "showarrow": false,
          "text": "Normalized Stroke Occurrence in Hypertension",
          "x": 0.3148760330578512,
          "xanchor": "center",
          "xref": "paper",
          "y": 0.48,
          "yanchor": "bottom",
          "yref": "paper"
         },
         {
          "font": {
           "size": 16
          },
          "showarrow": false,
          "text": "Normalized Stroke Occurrence in Smoking Status",
          "x": 0.4074380165289256,
          "xanchor": "center",
          "xref": "paper",
          "y": 0.48,
          "yanchor": "bottom",
          "yref": "paper"
         },
         {
          "font": {
           "size": 16
          },
          "showarrow": false,
          "text": "Normalized Stroke Occurrence in Bmi Category",
          "x": 0.5,
          "xanchor": "center",
          "xref": "paper",
          "y": 0.48,
          "yanchor": "bottom",
          "yref": "paper"
         },
         {
          "font": {
           "size": 16
          },
          "showarrow": false,
          "text": "Normalized Stroke Occurrence in Avg Glucose Level Temp",
          "x": 0.5925619834710742,
          "xanchor": "center",
          "xref": "paper",
          "y": 0.48,
          "yanchor": "bottom",
          "yref": "paper"
         },
         {
          "font": {
           "size": 16
          },
          "showarrow": false,
          "text": "Normalized Stroke Occurrence in Work Type",
          "x": 0.6851239669421487,
          "xanchor": "center",
          "xref": "paper",
          "y": 0.48,
          "yanchor": "bottom",
          "yref": "paper"
         },
         {
          "font": {
           "size": 16
          },
          "showarrow": false,
          "text": "Normalized Stroke Occurrence in Residence Type",
          "x": 0.7776859504132231,
          "xanchor": "center",
          "xref": "paper",
          "y": 0.48,
          "yanchor": "bottom",
          "yref": "paper"
         },
         {
          "font": {
           "size": 16
          },
          "showarrow": false,
          "text": "Normalized Stroke Occurrence in Gender",
          "x": 0.8702479338842974,
          "xanchor": "center",
          "xref": "paper",
          "y": 0.48,
          "yanchor": "bottom",
          "yref": "paper"
         },
         {
          "font": {
           "size": 16
          },
          "showarrow": false,
          "text": "Normalized Stroke Occurrence in Ever Married",
          "x": 0.9628099173553718,
          "xanchor": "center",
          "xref": "paper",
          "y": 0.48,
          "yanchor": "bottom",
          "yref": "paper"
         }
        ],
        "barmode": "stack",
        "height": 900,
        "margin": {
         "b": 40,
         "l": 50,
         "r": 50,
         "t": 40
        },
        "showlegend": false,
        "template": {
         "data": {
          "bar": [
           {
            "error_x": {
             "color": "#2a3f5f"
            },
            "error_y": {
             "color": "#2a3f5f"
            },
            "marker": {
             "line": {
              "color": "#E5ECF6",
              "width": 0.5
             },
             "pattern": {
              "fillmode": "overlay",
              "size": 10,
              "solidity": 0.2
             }
            },
            "type": "bar"
           }
          ],
          "barpolar": [
           {
            "marker": {
             "line": {
              "color": "#E5ECF6",
              "width": 0.5
             },
             "pattern": {
              "fillmode": "overlay",
              "size": 10,
              "solidity": 0.2
             }
            },
            "type": "barpolar"
           }
          ],
          "carpet": [
           {
            "aaxis": {
             "endlinecolor": "#2a3f5f",
             "gridcolor": "white",
             "linecolor": "white",
             "minorgridcolor": "white",
             "startlinecolor": "#2a3f5f"
            },
            "baxis": {
             "endlinecolor": "#2a3f5f",
             "gridcolor": "white",
             "linecolor": "white",
             "minorgridcolor": "white",
             "startlinecolor": "#2a3f5f"
            },
            "type": "carpet"
           }
          ],
          "choropleth": [
           {
            "colorbar": {
             "outlinewidth": 0,
             "ticks": ""
            },
            "type": "choropleth"
           }
          ],
          "contour": [
           {
            "colorbar": {
             "outlinewidth": 0,
             "ticks": ""
            },
            "colorscale": [
             [
              0,
              "#0d0887"
             ],
             [
              0.1111111111111111,
              "#46039f"
             ],
             [
              0.2222222222222222,
              "#7201a8"
             ],
             [
              0.3333333333333333,
              "#9c179e"
             ],
             [
              0.4444444444444444,
              "#bd3786"
             ],
             [
              0.5555555555555556,
              "#d8576b"
             ],
             [
              0.6666666666666666,
              "#ed7953"
             ],
             [
              0.7777777777777778,
              "#fb9f3a"
             ],
             [
              0.8888888888888888,
              "#fdca26"
             ],
             [
              1,
              "#f0f921"
             ]
            ],
            "type": "contour"
           }
          ],
          "contourcarpet": [
           {
            "colorbar": {
             "outlinewidth": 0,
             "ticks": ""
            },
            "type": "contourcarpet"
           }
          ],
          "heatmap": [
           {
            "colorbar": {
             "outlinewidth": 0,
             "ticks": ""
            },
            "colorscale": [
             [
              0,
              "#0d0887"
             ],
             [
              0.1111111111111111,
              "#46039f"
             ],
             [
              0.2222222222222222,
              "#7201a8"
             ],
             [
              0.3333333333333333,
              "#9c179e"
             ],
             [
              0.4444444444444444,
              "#bd3786"
             ],
             [
              0.5555555555555556,
              "#d8576b"
             ],
             [
              0.6666666666666666,
              "#ed7953"
             ],
             [
              0.7777777777777778,
              "#fb9f3a"
             ],
             [
              0.8888888888888888,
              "#fdca26"
             ],
             [
              1,
              "#f0f921"
             ]
            ],
            "type": "heatmap"
           }
          ],
          "heatmapgl": [
           {
            "colorbar": {
             "outlinewidth": 0,
             "ticks": ""
            },
            "colorscale": [
             [
              0,
              "#0d0887"
             ],
             [
              0.1111111111111111,
              "#46039f"
             ],
             [
              0.2222222222222222,
              "#7201a8"
             ],
             [
              0.3333333333333333,
              "#9c179e"
             ],
             [
              0.4444444444444444,
              "#bd3786"
             ],
             [
              0.5555555555555556,
              "#d8576b"
             ],
             [
              0.6666666666666666,
              "#ed7953"
             ],
             [
              0.7777777777777778,
              "#fb9f3a"
             ],
             [
              0.8888888888888888,
              "#fdca26"
             ],
             [
              1,
              "#f0f921"
             ]
            ],
            "type": "heatmapgl"
           }
          ],
          "histogram": [
           {
            "marker": {
             "pattern": {
              "fillmode": "overlay",
              "size": 10,
              "solidity": 0.2
             }
            },
            "type": "histogram"
           }
          ],
          "histogram2d": [
           {
            "colorbar": {
             "outlinewidth": 0,
             "ticks": ""
            },
            "colorscale": [
             [
              0,
              "#0d0887"
             ],
             [
              0.1111111111111111,
              "#46039f"
             ],
             [
              0.2222222222222222,
              "#7201a8"
             ],
             [
              0.3333333333333333,
              "#9c179e"
             ],
             [
              0.4444444444444444,
              "#bd3786"
             ],
             [
              0.5555555555555556,
              "#d8576b"
             ],
             [
              0.6666666666666666,
              "#ed7953"
             ],
             [
              0.7777777777777778,
              "#fb9f3a"
             ],
             [
              0.8888888888888888,
              "#fdca26"
             ],
             [
              1,
              "#f0f921"
             ]
            ],
            "type": "histogram2d"
           }
          ],
          "histogram2dcontour": [
           {
            "colorbar": {
             "outlinewidth": 0,
             "ticks": ""
            },
            "colorscale": [
             [
              0,
              "#0d0887"
             ],
             [
              0.1111111111111111,
              "#46039f"
             ],
             [
              0.2222222222222222,
              "#7201a8"
             ],
             [
              0.3333333333333333,
              "#9c179e"
             ],
             [
              0.4444444444444444,
              "#bd3786"
             ],
             [
              0.5555555555555556,
              "#d8576b"
             ],
             [
              0.6666666666666666,
              "#ed7953"
             ],
             [
              0.7777777777777778,
              "#fb9f3a"
             ],
             [
              0.8888888888888888,
              "#fdca26"
             ],
             [
              1,
              "#f0f921"
             ]
            ],
            "type": "histogram2dcontour"
           }
          ],
          "mesh3d": [
           {
            "colorbar": {
             "outlinewidth": 0,
             "ticks": ""
            },
            "type": "mesh3d"
           }
          ],
          "parcoords": [
           {
            "line": {
             "colorbar": {
              "outlinewidth": 0,
              "ticks": ""
             }
            },
            "type": "parcoords"
           }
          ],
          "pie": [
           {
            "automargin": true,
            "type": "pie"
           }
          ],
          "scatter": [
           {
            "fillpattern": {
             "fillmode": "overlay",
             "size": 10,
             "solidity": 0.2
            },
            "type": "scatter"
           }
          ],
          "scatter3d": [
           {
            "line": {
             "colorbar": {
              "outlinewidth": 0,
              "ticks": ""
             }
            },
            "marker": {
             "colorbar": {
              "outlinewidth": 0,
              "ticks": ""
             }
            },
            "type": "scatter3d"
           }
          ],
          "scattercarpet": [
           {
            "marker": {
             "colorbar": {
              "outlinewidth": 0,
              "ticks": ""
             }
            },
            "type": "scattercarpet"
           }
          ],
          "scattergeo": [
           {
            "marker": {
             "colorbar": {
              "outlinewidth": 0,
              "ticks": ""
             }
            },
            "type": "scattergeo"
           }
          ],
          "scattergl": [
           {
            "marker": {
             "colorbar": {
              "outlinewidth": 0,
              "ticks": ""
             }
            },
            "type": "scattergl"
           }
          ],
          "scattermapbox": [
           {
            "marker": {
             "colorbar": {
              "outlinewidth": 0,
              "ticks": ""
             }
            },
            "type": "scattermapbox"
           }
          ],
          "scatterpolar": [
           {
            "marker": {
             "colorbar": {
              "outlinewidth": 0,
              "ticks": ""
             }
            },
            "type": "scatterpolar"
           }
          ],
          "scatterpolargl": [
           {
            "marker": {
             "colorbar": {
              "outlinewidth": 0,
              "ticks": ""
             }
            },
            "type": "scatterpolargl"
           }
          ],
          "scatterternary": [
           {
            "marker": {
             "colorbar": {
              "outlinewidth": 0,
              "ticks": ""
             }
            },
            "type": "scatterternary"
           }
          ],
          "surface": [
           {
            "colorbar": {
             "outlinewidth": 0,
             "ticks": ""
            },
            "colorscale": [
             [
              0,
              "#0d0887"
             ],
             [
              0.1111111111111111,
              "#46039f"
             ],
             [
              0.2222222222222222,
              "#7201a8"
             ],
             [
              0.3333333333333333,
              "#9c179e"
             ],
             [
              0.4444444444444444,
              "#bd3786"
             ],
             [
              0.5555555555555556,
              "#d8576b"
             ],
             [
              0.6666666666666666,
              "#ed7953"
             ],
             [
              0.7777777777777778,
              "#fb9f3a"
             ],
             [
              0.8888888888888888,
              "#fdca26"
             ],
             [
              1,
              "#f0f921"
             ]
            ],
            "type": "surface"
           }
          ],
          "table": [
           {
            "cells": {
             "fill": {
              "color": "#EBF0F8"
             },
             "line": {
              "color": "white"
             }
            },
            "header": {
             "fill": {
              "color": "#C8D4E3"
             },
             "line": {
              "color": "white"
             }
            },
            "type": "table"
           }
          ]
         },
         "layout": {
          "annotationdefaults": {
           "arrowcolor": "#2a3f5f",
           "arrowhead": 0,
           "arrowwidth": 1
          },
          "autotypenumbers": "strict",
          "coloraxis": {
           "colorbar": {
            "outlinewidth": 0,
            "ticks": ""
           }
          },
          "colorscale": {
           "diverging": [
            [
             0,
             "#8e0152"
            ],
            [
             0.1,
             "#c51b7d"
            ],
            [
             0.2,
             "#de77ae"
            ],
            [
             0.3,
             "#f1b6da"
            ],
            [
             0.4,
             "#fde0ef"
            ],
            [
             0.5,
             "#f7f7f7"
            ],
            [
             0.6,
             "#e6f5d0"
            ],
            [
             0.7,
             "#b8e186"
            ],
            [
             0.8,
             "#7fbc41"
            ],
            [
             0.9,
             "#4d9221"
            ],
            [
             1,
             "#276419"
            ]
           ],
           "sequential": [
            [
             0,
             "#0d0887"
            ],
            [
             0.1111111111111111,
             "#46039f"
            ],
            [
             0.2222222222222222,
             "#7201a8"
            ],
            [
             0.3333333333333333,
             "#9c179e"
            ],
            [
             0.4444444444444444,
             "#bd3786"
            ],
            [
             0.5555555555555556,
             "#d8576b"
            ],
            [
             0.6666666666666666,
             "#ed7953"
            ],
            [
             0.7777777777777778,
             "#fb9f3a"
            ],
            [
             0.8888888888888888,
             "#fdca26"
            ],
            [
             1,
             "#f0f921"
            ]
           ],
           "sequentialminus": [
            [
             0,
             "#0d0887"
            ],
            [
             0.1111111111111111,
             "#46039f"
            ],
            [
             0.2222222222222222,
             "#7201a8"
            ],
            [
             0.3333333333333333,
             "#9c179e"
            ],
            [
             0.4444444444444444,
             "#bd3786"
            ],
            [
             0.5555555555555556,
             "#d8576b"
            ],
            [
             0.6666666666666666,
             "#ed7953"
            ],
            [
             0.7777777777777778,
             "#fb9f3a"
            ],
            [
             0.8888888888888888,
             "#fdca26"
            ],
            [
             1,
             "#f0f921"
            ]
           ]
          },
          "colorway": [
           "#636efa",
           "#EF553B",
           "#00cc96",
           "#ab63fa",
           "#FFA15A",
           "#19d3f3",
           "#FF6692",
           "#B6E880",
           "#FF97FF",
           "#FECB52"
          ],
          "font": {
           "color": "#2a3f5f"
          },
          "geo": {
           "bgcolor": "white",
           "lakecolor": "white",
           "landcolor": "#E5ECF6",
           "showlakes": true,
           "showland": true,
           "subunitcolor": "white"
          },
          "hoverlabel": {
           "align": "left"
          },
          "hovermode": "closest",
          "mapbox": {
           "style": "light"
          },
          "paper_bgcolor": "white",
          "plot_bgcolor": "#E5ECF6",
          "polar": {
           "angularaxis": {
            "gridcolor": "white",
            "linecolor": "white",
            "ticks": ""
           },
           "bgcolor": "#E5ECF6",
           "radialaxis": {
            "gridcolor": "white",
            "linecolor": "white",
            "ticks": ""
           }
          },
          "scene": {
           "xaxis": {
            "backgroundcolor": "#E5ECF6",
            "gridcolor": "white",
            "gridwidth": 2,
            "linecolor": "white",
            "showbackground": true,
            "ticks": "",
            "zerolinecolor": "white"
           },
           "yaxis": {
            "backgroundcolor": "#E5ECF6",
            "gridcolor": "white",
            "gridwidth": 2,
            "linecolor": "white",
            "showbackground": true,
            "ticks": "",
            "zerolinecolor": "white"
           },
           "zaxis": {
            "backgroundcolor": "#E5ECF6",
            "gridcolor": "white",
            "gridwidth": 2,
            "linecolor": "white",
            "showbackground": true,
            "ticks": "",
            "zerolinecolor": "white"
           }
          },
          "shapedefaults": {
           "line": {
            "color": "#2a3f5f"
           }
          },
          "ternary": {
           "aaxis": {
            "gridcolor": "white",
            "linecolor": "white",
            "ticks": ""
           },
           "baxis": {
            "gridcolor": "white",
            "linecolor": "white",
            "ticks": ""
           },
           "bgcolor": "#E5ECF6",
           "caxis": {
            "gridcolor": "white",
            "linecolor": "white",
            "ticks": ""
           }
          },
          "title": {
           "x": 0.05
          },
          "xaxis": {
           "automargin": true,
           "gridcolor": "white",
           "linecolor": "white",
           "ticks": "",
           "title": {
            "standoff": 15
           },
           "zerolinecolor": "white",
           "zerolinewidth": 2
          },
          "yaxis": {
           "automargin": true,
           "gridcolor": "white",
           "linecolor": "white",
           "ticks": "",
           "title": {
            "standoff": 15
           },
           "zerolinecolor": "white",
           "zerolinewidth": 2
          }
         }
        },
        "width": 6000,
        "xaxis": {
         "anchor": "y",
         "domain": [
          0,
          0.07438016528925619
         ]
        },
        "xaxis10": {
         "anchor": "y10",
         "domain": [
          0.8330578512396694,
          0.9074380165289255
         ]
        },
        "xaxis11": {
         "anchor": "y11",
         "domain": [
          0.9256198347107437,
          0.9999999999999999
         ]
        },
        "xaxis2": {
         "anchor": "y2",
         "domain": [
          0.09256198347107437,
          0.16694214876033056
         ]
        },
        "xaxis3": {
         "anchor": "y3",
         "domain": [
          0.18512396694214875,
          0.25950413223140495
         ]
        },
        "xaxis4": {
         "anchor": "y4",
         "domain": [
          0.27768595041322314,
          0.3520661157024793
         ]
        },
        "xaxis5": {
         "anchor": "y5",
         "domain": [
          0.3702479338842975,
          0.44462809917355367
         ]
        },
        "xaxis6": {
         "anchor": "y6",
         "domain": [
          0.46280991735537186,
          0.5371900826446281
         ]
        },
        "xaxis7": {
         "anchor": "y7",
         "domain": [
          0.5553719008264462,
          0.6297520661157023
         ]
        },
        "xaxis8": {
         "anchor": "y8",
         "domain": [
          0.6479338842975206,
          0.7223140495867768
         ]
        },
        "xaxis9": {
         "anchor": "y9",
         "domain": [
          0.740495867768595,
          0.8148760330578512
         ]
        },
        "yaxis": {
         "anchor": "x",
         "domain": [
          0,
          0.48
         ]
        },
        "yaxis10": {
         "anchor": "x10",
         "domain": [
          0,
          0.48
         ]
        },
        "yaxis11": {
         "anchor": "x11",
         "domain": [
          0,
          0.48
         ]
        },
        "yaxis2": {
         "anchor": "x2",
         "domain": [
          0,
          0.48
         ]
        },
        "yaxis3": {
         "anchor": "x3",
         "domain": [
          0,
          0.48
         ]
        },
        "yaxis4": {
         "anchor": "x4",
         "domain": [
          0,
          0.48
         ]
        },
        "yaxis5": {
         "anchor": "x5",
         "domain": [
          0,
          0.48
         ]
        },
        "yaxis6": {
         "anchor": "x6",
         "domain": [
          0,
          0.48
         ]
        },
        "yaxis7": {
         "anchor": "x7",
         "domain": [
          0,
          0.48
         ]
        },
        "yaxis8": {
         "anchor": "x8",
         "domain": [
          0,
          0.48
         ]
        },
        "yaxis9": {
         "anchor": "x9",
         "domain": [
          0,
          0.48
         ]
        }
       }
      }
     },
     "metadata": {},
     "output_type": "display_data"
    }
   ],
   "source": [
    "# Define label mappings for categorical variables\n",
    "label_mappings = {\n",
    "    \"heart_risk\" : {0: \"No heart risk\", 1: \"Has heart risk\"},\n",
    "    \"hypertension\": {0: \"No Hypertension\", 1: \"Has Hypertension\"},\n",
    "    \"heart_disease\": {0: \"No Heart Disease\", 1: \"Has Heart Disease\"},\n",
    "    \"Age_temp\": {0: \"40-59 years\", 1: \"60+ years\"},\n",
    "    \"avg_glucose_level_temp\": {1: \"119 - 190\", 2:\"190 +\"}\n",
    "}\n",
    "\n",
    "\n",
    "# Apply the label mappings to the DataFrame\n",
    "for column, mapping in label_mappings.items():\n",
    "    if column in df.columns:\n",
    "        df[column] = df[column].replace(mapping)\n",
    "\n",
    "# Rename Age_temp to Age\n",
    "if \"Age_temp\" in df.columns:\n",
    "    df.rename(columns={\"Age_temp\": \"Age\"}, inplace=True)\n",
    "\n",
    "# Define the fixed color palettes based on the number of categories\n",
    "fixed_color_schemes = {\n",
    "    2: ['#0072B2', '#D55E00'],  # Dark Blue, Orange-Red\n",
    "    3: ['#0072B2', '#D55E00', '#009E73'],  # Dark Blue, Orange-Red, Dark Green\n",
    "    4: ['#0072B2', '#D55E00', '#009E73', '#F0E442'],  # Dark Blue, Orange-Red, Dark Green, Bright Yellow\n",
    "    5: ['#0072B2', '#D55E00', '#009E73', '#F0E442', '#CC79A7']  # Dark Blue, Orange-Red, Dark Green, Bright Yellow, Deep Purple\n",
    "}\n",
    "\n",
    "# Define stroke color as black\n",
    "stroke_color = \"#000000\"\n",
    "\n",
    "# Create BMI bins\n",
    "bmi_bins = [0, 18.5, 24.9, 29.9, 34.9, df[\"bmi\"].max()]\n",
    "bmi_labels = [\"Underweight\", \"Normal\", \"Overweight\", \"Obese\", \"Severely Obese\"]\n",
    "df[\"bmi_category\"] = pd.cut(df[\"bmi\"], bins=bmi_bins, labels=bmi_labels, include_lowest=True)\n",
    "\n",
    "# Create a dictionary to store consistent color mapping for each category in each column\n",
    "category_color_map = {}\n",
    "\n",
    "columns_to_analyze = [\n",
    "    \"heart_risk\",\"Age\", \"heart_disease\", \"hypertension\", \"smoking_status\", \"bmi_category\", \"avg_glucose_level_temp\", \"work_type\", \"Residence_type\", \"gender\", \"ever_married\"\n",
    "]\n",
    "\n",
    "# Create a subplot grid with slightly more vertical spacing\n",
    "num_columns = len(columns_to_analyze)\n",
    "fig = make_subplots(\n",
    "    rows=2, cols=num_columns, \n",
    "    subplot_titles=[f\"{col.replace('_', ' ').title()} Distribution\" for col in columns_to_analyze] +\n",
    "                   [f\"Normalized Stroke Occurrence in {col.replace('_', ' ').title()}\" for col in columns_to_analyze],\n",
    "    specs=[[{'type': 'domain'}] * num_columns, [{'type': 'xy'}] * num_columns],\n",
    "    vertical_spacing=0.04  \n",
    ")\n",
    "\n",
    "# Generate pie charts for distribution (first row) and store category colors\n",
    "for i, column in enumerate(columns_to_analyze):\n",
    "    if column in df.columns:\n",
    "        category_counts = df[column].value_counts()\n",
    "        num_categories = len(category_counts)\n",
    "\n",
    "        # Choose colors based on the number of categories\n",
    "        if num_categories in fixed_color_schemes:\n",
    "            pie_colors = fixed_color_schemes[num_categories]\n",
    "        else:\n",
    "            pie_colors = px.colors.qualitative.Set3[:num_categories]\n",
    "\n",
    "        # Store colors in the category_color_map for consistency in bar charts\n",
    "        category_color_map[column] = {label: pie_colors[idx] for idx, label in enumerate(category_counts.index)}\n",
    "\n",
    "        fig.add_trace(\n",
    "            go.Pie(\n",
    "                labels=[f\"{label}<br>Count: {value} of people\" for label, value in zip(category_counts.index, category_counts.values)],\n",
    "                values=category_counts.values,\n",
    "                name=f\"{column.replace('_', ' ').title()} Distribution\",\n",
    "                hole=0.4, pull=[0.02] * len(category_counts),\n",
    "                textinfo=\"label+percent\",\n",
    "                hovertemplate=\"Category: %{label}<br>Count: %{value}<br>Percent: %{percent}\",\n",
    "                marker=dict(colors=pie_colors),  # Apply selected colors\n",
    "                showlegend=False,\n",
    "                textposition='inside'\n",
    "            ),\n",
    "            row=1, col=i+1\n",
    "        )\n",
    "\n",
    "# Generate normalized stacked bar charts for stroke occurrence (second row)\n",
    "for i, column in enumerate(columns_to_analyze):\n",
    "    if column in df.columns and \"stroke\" in df.columns:\n",
    "        category_stroke_counts = df.groupby([column, 'stroke']).size().unstack(fill_value=0)\n",
    "        category_stroke_counts_normalized = category_stroke_counts.div(category_stroke_counts.sum(axis=1), axis=0) * 100\n",
    "\n",
    "        fig.add_trace(\n",
    "            go.Bar(\n",
    "                x=category_stroke_counts_normalized.index,\n",
    "                y=category_stroke_counts_normalized[0],\n",
    "                name=\"No Stroke\",\n",
    "                marker_color=[category_color_map[column].get(label, \"gray\") for label in category_stroke_counts_normalized.index],\n",
    "                text=[f\"{val:.2f}%\" for val in category_stroke_counts_normalized[0]],\n",
    "                hovertemplate=\"Category: %{x}<br>No Stroke: %{y}%\",\n",
    "                showlegend=False\n",
    "            ),\n",
    "            row=2, col=i+1\n",
    "        )\n",
    "\n",
    "        fig.add_trace(\n",
    "            go.Bar(\n",
    "                x=category_stroke_counts_normalized.index,\n",
    "                y=category_stroke_counts_normalized[1],\n",
    "                name=\"Stroke\",\n",
    "                marker_color=stroke_color,\n",
    "                text=[f\"{val:.2f}%\" for val in category_stroke_counts_normalized[1]],\n",
    "                hovertemplate=\"Category: %{x}<br>Stroke: %{y}%\",\n",
    "                showlegend=False\n",
    "            ),\n",
    "            row=2, col=i+1\n",
    "        )\n",
    "\n",
    "# Update layout to make the visualization more compact\n",
    "fig.update_layout(\n",
    "    height=900,  \n",
    "    width=6000,  \n",
    "    barmode='stack',\n",
    "    showlegend=False,\n",
    "    margin=dict(l=50, r=50, t=40, b=40)  \n",
    ")\n",
    "\n",
    "# Show the updated figure\n",
    "fig.show()"
   ]
  },
  {
   "cell_type": "code",
   "execution_count": null,
   "metadata": {},
   "outputs": [
    {
     "data": {
      "application/vnd.plotly.v1+json": {
       "config": {
        "plotlyServerURL": "https://plot.ly"
       },
       "data": [
        {
         "domain": {
          "x": [
           0,
           0.2888888888888889
          ],
          "y": [
           0.525,
           1
          ]
         },
         "hole": 0.4,
         "hovertemplate": "Category: %{label}<br>Percent: %{percent}",
         "labels": [
          "No heart risk<br>Count: 2726 of people",
          "Has heart risk<br>Count: 687 of people"
         ],
         "marker": {
          "colors": [
           "#0072B2",
           "#D55E00"
          ]
         },
         "name": "Heart Risk Distribution",
         "pull": [
          0.02,
          0.02
         ],
         "showlegend": false,
         "textinfo": "label+percent",
         "textposition": "inside",
         "type": "pie",
         "values": [
          2726,
          687
         ]
        },
        {
         "domain": {
          "x": [
           0.35555555555555557,
           0.6444444444444445
          ],
          "y": [
           0.525,
           1
          ]
         },
         "hole": 0.4,
         "hovertemplate": "Category: %{label}<br>Percent: %{percent}",
         "labels": [
          "60+ years<br>Count: 1758 of people",
          "40-59 years<br>Count: 1655 of people"
         ],
         "marker": {
          "colors": [
           "#0072B2",
           "#D55E00"
          ]
         },
         "name": "Age Distribution",
         "pull": [
          0.02,
          0.02
         ],
         "showlegend": false,
         "textinfo": "label+percent",
         "textposition": "inside",
         "type": "pie",
         "values": [
          1758,
          1655
         ]
        },
        {
         "domain": {
          "x": [
           0.7111111111111111,
           1
          ],
          "y": [
           0.525,
           1
          ]
         },
         "hole": 0.4,
         "hovertemplate": "Category: %{label}<br>Percent: %{percent}",
         "labels": [
          "119 - 190<br>Count: 1728 of people",
          "190 +<br>Count: 1685 of people"
         ],
         "marker": {
          "colors": [
           "#0072B2",
           "#D55E00"
          ]
         },
         "name": "Avg Glucose Level Temp Distribution",
         "pull": [
          0.02,
          0.02
         ],
         "showlegend": false,
         "textinfo": "label+percent",
         "textposition": "inside",
         "type": "pie",
         "values": [
          1728,
          1685
         ]
        },
        {
         "hovertemplate": "Category: %{x}<br>No Stroke: %{y}%",
         "marker": {
          "color": [
           "#D55E00",
           "#0072B2"
          ]
         },
         "name": "No Stroke",
         "showlegend": false,
         "text": [
          "85.44%",
          "94.61%"
         ],
         "type": "bar",
         "x": [
          "Has heart risk",
          "No heart risk"
         ],
         "xaxis": "x",
         "y": [
          85.44395924308587,
          94.60748349229641
         ],
         "yaxis": "y"
        },
        {
         "hovertemplate": "Category: %{x}<br>Stroke: %{y}%",
         "marker": {
          "color": "#000000"
         },
         "name": "Stroke",
         "showlegend": false,
         "text": [
          "14.56%",
          "5.39%"
         ],
         "type": "bar",
         "x": [
          "Has heart risk",
          "No heart risk"
         ],
         "xaxis": "x",
         "y": [
          14.556040756914118,
          5.392516507703595
         ],
         "yaxis": "y"
        },
        {
         "hovertemplate": "Category: %{x}<br>No Stroke: %{y}%",
         "marker": {
          "color": [
           "#D55E00",
           "#0072B2"
          ]
         },
         "name": "No Stroke",
         "showlegend": false,
         "text": [
          "97.89%",
          "87.94%"
         ],
         "type": "bar",
         "x": [
          "40-59 years",
          "60+ years"
         ],
         "xaxis": "x2",
         "y": [
          97.88519637462235,
          87.94084186575654
         ],
         "yaxis": "y2"
        },
        {
         "hovertemplate": "Category: %{x}<br>Stroke: %{y}%",
         "marker": {
          "color": "#000000"
         },
         "name": "Stroke",
         "showlegend": false,
         "text": [
          "2.11%",
          "12.06%"
         ],
         "type": "bar",
         "x": [
          "40-59 years",
          "60+ years"
         ],
         "xaxis": "x2",
         "y": [
          2.1148036253776437,
          12.059158134243459
         ],
         "yaxis": "y2"
        },
        {
         "hovertemplate": "Category: %{x}<br>No Stroke: %{y}%",
         "marker": {
          "color": [
           "#0072B2",
           "#D55E00"
          ]
         },
         "name": "No Stroke",
         "showlegend": false,
         "text": [
          "94.33%",
          "91.16%"
         ],
         "type": "bar",
         "x": [
          "119 - 190",
          "190 +"
         ],
         "xaxis": "x3",
         "y": [
          94.32870370370371,
          91.15727002967358
         ],
         "yaxis": "y3"
        },
        {
         "hovertemplate": "Category: %{x}<br>Stroke: %{y}%",
         "marker": {
          "color": "#000000"
         },
         "name": "Stroke",
         "showlegend": false,
         "text": [
          "5.67%",
          "8.84%"
         ],
         "type": "bar",
         "x": [
          "119 - 190",
          "190 +"
         ],
         "xaxis": "x3",
         "y": [
          5.671296296296297,
          8.84272997032641
         ],
         "yaxis": "y3"
        }
       ],
       "layout": {
        "annotations": [
         {
          "font": {
           "size": 16
          },
          "showarrow": false,
          "text": "Heart Risk Distribution",
          "x": 0.14444444444444446,
          "xanchor": "center",
          "xref": "paper",
          "y": 1,
          "yanchor": "bottom",
          "yref": "paper"
         },
         {
          "font": {
           "size": 16
          },
          "showarrow": false,
          "text": "Age Distribution",
          "x": 0.5,
          "xanchor": "center",
          "xref": "paper",
          "y": 1,
          "yanchor": "bottom",
          "yref": "paper"
         },
         {
          "font": {
           "size": 16
          },
          "showarrow": false,
          "text": "Avg Glucose Level Temp Distribution",
          "x": 0.8555555555555556,
          "xanchor": "center",
          "xref": "paper",
          "y": 1,
          "yanchor": "bottom",
          "yref": "paper"
         },
         {
          "font": {
           "size": 16
          },
          "showarrow": false,
          "text": "Normalized Stroke Occurrence in Heart Risk",
          "x": 0.14444444444444446,
          "xanchor": "center",
          "xref": "paper",
          "y": 0.475,
          "yanchor": "bottom",
          "yref": "paper"
         },
         {
          "font": {
           "size": 16
          },
          "showarrow": false,
          "text": "Normalized Stroke Occurrence in Age",
          "x": 0.5,
          "xanchor": "center",
          "xref": "paper",
          "y": 0.475,
          "yanchor": "bottom",
          "yref": "paper"
         },
         {
          "font": {
           "size": 16
          },
          "showarrow": false,
          "text": "Normalized Stroke Occurrence in Avg Glucose Level Temp",
          "x": 0.8555555555555556,
          "xanchor": "center",
          "xref": "paper",
          "y": 0.475,
          "yanchor": "bottom",
          "yref": "paper"
         }
        ],
        "barmode": "stack",
        "height": 900,
        "margin": {
         "b": 40,
         "l": 50,
         "r": 50,
         "t": 40
        },
        "showlegend": false,
        "template": {
         "data": {
          "bar": [
           {
            "error_x": {
             "color": "#2a3f5f"
            },
            "error_y": {
             "color": "#2a3f5f"
            },
            "marker": {
             "line": {
              "color": "#E5ECF6",
              "width": 0.5
             },
             "pattern": {
              "fillmode": "overlay",
              "size": 10,
              "solidity": 0.2
             }
            },
            "type": "bar"
           }
          ],
          "barpolar": [
           {
            "marker": {
             "line": {
              "color": "#E5ECF6",
              "width": 0.5
             },
             "pattern": {
              "fillmode": "overlay",
              "size": 10,
              "solidity": 0.2
             }
            },
            "type": "barpolar"
           }
          ],
          "carpet": [
           {
            "aaxis": {
             "endlinecolor": "#2a3f5f",
             "gridcolor": "white",
             "linecolor": "white",
             "minorgridcolor": "white",
             "startlinecolor": "#2a3f5f"
            },
            "baxis": {
             "endlinecolor": "#2a3f5f",
             "gridcolor": "white",
             "linecolor": "white",
             "minorgridcolor": "white",
             "startlinecolor": "#2a3f5f"
            },
            "type": "carpet"
           }
          ],
          "choropleth": [
           {
            "colorbar": {
             "outlinewidth": 0,
             "ticks": ""
            },
            "type": "choropleth"
           }
          ],
          "contour": [
           {
            "colorbar": {
             "outlinewidth": 0,
             "ticks": ""
            },
            "colorscale": [
             [
              0,
              "#0d0887"
             ],
             [
              0.1111111111111111,
              "#46039f"
             ],
             [
              0.2222222222222222,
              "#7201a8"
             ],
             [
              0.3333333333333333,
              "#9c179e"
             ],
             [
              0.4444444444444444,
              "#bd3786"
             ],
             [
              0.5555555555555556,
              "#d8576b"
             ],
             [
              0.6666666666666666,
              "#ed7953"
             ],
             [
              0.7777777777777778,
              "#fb9f3a"
             ],
             [
              0.8888888888888888,
              "#fdca26"
             ],
             [
              1,
              "#f0f921"
             ]
            ],
            "type": "contour"
           }
          ],
          "contourcarpet": [
           {
            "colorbar": {
             "outlinewidth": 0,
             "ticks": ""
            },
            "type": "contourcarpet"
           }
          ],
          "heatmap": [
           {
            "colorbar": {
             "outlinewidth": 0,
             "ticks": ""
            },
            "colorscale": [
             [
              0,
              "#0d0887"
             ],
             [
              0.1111111111111111,
              "#46039f"
             ],
             [
              0.2222222222222222,
              "#7201a8"
             ],
             [
              0.3333333333333333,
              "#9c179e"
             ],
             [
              0.4444444444444444,
              "#bd3786"
             ],
             [
              0.5555555555555556,
              "#d8576b"
             ],
             [
              0.6666666666666666,
              "#ed7953"
             ],
             [
              0.7777777777777778,
              "#fb9f3a"
             ],
             [
              0.8888888888888888,
              "#fdca26"
             ],
             [
              1,
              "#f0f921"
             ]
            ],
            "type": "heatmap"
           }
          ],
          "heatmapgl": [
           {
            "colorbar": {
             "outlinewidth": 0,
             "ticks": ""
            },
            "colorscale": [
             [
              0,
              "#0d0887"
             ],
             [
              0.1111111111111111,
              "#46039f"
             ],
             [
              0.2222222222222222,
              "#7201a8"
             ],
             [
              0.3333333333333333,
              "#9c179e"
             ],
             [
              0.4444444444444444,
              "#bd3786"
             ],
             [
              0.5555555555555556,
              "#d8576b"
             ],
             [
              0.6666666666666666,
              "#ed7953"
             ],
             [
              0.7777777777777778,
              "#fb9f3a"
             ],
             [
              0.8888888888888888,
              "#fdca26"
             ],
             [
              1,
              "#f0f921"
             ]
            ],
            "type": "heatmapgl"
           }
          ],
          "histogram": [
           {
            "marker": {
             "pattern": {
              "fillmode": "overlay",
              "size": 10,
              "solidity": 0.2
             }
            },
            "type": "histogram"
           }
          ],
          "histogram2d": [
           {
            "colorbar": {
             "outlinewidth": 0,
             "ticks": ""
            },
            "colorscale": [
             [
              0,
              "#0d0887"
             ],
             [
              0.1111111111111111,
              "#46039f"
             ],
             [
              0.2222222222222222,
              "#7201a8"
             ],
             [
              0.3333333333333333,
              "#9c179e"
             ],
             [
              0.4444444444444444,
              "#bd3786"
             ],
             [
              0.5555555555555556,
              "#d8576b"
             ],
             [
              0.6666666666666666,
              "#ed7953"
             ],
             [
              0.7777777777777778,
              "#fb9f3a"
             ],
             [
              0.8888888888888888,
              "#fdca26"
             ],
             [
              1,
              "#f0f921"
             ]
            ],
            "type": "histogram2d"
           }
          ],
          "histogram2dcontour": [
           {
            "colorbar": {
             "outlinewidth": 0,
             "ticks": ""
            },
            "colorscale": [
             [
              0,
              "#0d0887"
             ],
             [
              0.1111111111111111,
              "#46039f"
             ],
             [
              0.2222222222222222,
              "#7201a8"
             ],
             [
              0.3333333333333333,
              "#9c179e"
             ],
             [
              0.4444444444444444,
              "#bd3786"
             ],
             [
              0.5555555555555556,
              "#d8576b"
             ],
             [
              0.6666666666666666,
              "#ed7953"
             ],
             [
              0.7777777777777778,
              "#fb9f3a"
             ],
             [
              0.8888888888888888,
              "#fdca26"
             ],
             [
              1,
              "#f0f921"
             ]
            ],
            "type": "histogram2dcontour"
           }
          ],
          "mesh3d": [
           {
            "colorbar": {
             "outlinewidth": 0,
             "ticks": ""
            },
            "type": "mesh3d"
           }
          ],
          "parcoords": [
           {
            "line": {
             "colorbar": {
              "outlinewidth": 0,
              "ticks": ""
             }
            },
            "type": "parcoords"
           }
          ],
          "pie": [
           {
            "automargin": true,
            "type": "pie"
           }
          ],
          "scatter": [
           {
            "fillpattern": {
             "fillmode": "overlay",
             "size": 10,
             "solidity": 0.2
            },
            "type": "scatter"
           }
          ],
          "scatter3d": [
           {
            "line": {
             "colorbar": {
              "outlinewidth": 0,
              "ticks": ""
             }
            },
            "marker": {
             "colorbar": {
              "outlinewidth": 0,
              "ticks": ""
             }
            },
            "type": "scatter3d"
           }
          ],
          "scattercarpet": [
           {
            "marker": {
             "colorbar": {
              "outlinewidth": 0,
              "ticks": ""
             }
            },
            "type": "scattercarpet"
           }
          ],
          "scattergeo": [
           {
            "marker": {
             "colorbar": {
              "outlinewidth": 0,
              "ticks": ""
             }
            },
            "type": "scattergeo"
           }
          ],
          "scattergl": [
           {
            "marker": {
             "colorbar": {
              "outlinewidth": 0,
              "ticks": ""
             }
            },
            "type": "scattergl"
           }
          ],
          "scattermapbox": [
           {
            "marker": {
             "colorbar": {
              "outlinewidth": 0,
              "ticks": ""
             }
            },
            "type": "scattermapbox"
           }
          ],
          "scatterpolar": [
           {
            "marker": {
             "colorbar": {
              "outlinewidth": 0,
              "ticks": ""
             }
            },
            "type": "scatterpolar"
           }
          ],
          "scatterpolargl": [
           {
            "marker": {
             "colorbar": {
              "outlinewidth": 0,
              "ticks": ""
             }
            },
            "type": "scatterpolargl"
           }
          ],
          "scatterternary": [
           {
            "marker": {
             "colorbar": {
              "outlinewidth": 0,
              "ticks": ""
             }
            },
            "type": "scatterternary"
           }
          ],
          "surface": [
           {
            "colorbar": {
             "outlinewidth": 0,
             "ticks": ""
            },
            "colorscale": [
             [
              0,
              "#0d0887"
             ],
             [
              0.1111111111111111,
              "#46039f"
             ],
             [
              0.2222222222222222,
              "#7201a8"
             ],
             [
              0.3333333333333333,
              "#9c179e"
             ],
             [
              0.4444444444444444,
              "#bd3786"
             ],
             [
              0.5555555555555556,
              "#d8576b"
             ],
             [
              0.6666666666666666,
              "#ed7953"
             ],
             [
              0.7777777777777778,
              "#fb9f3a"
             ],
             [
              0.8888888888888888,
              "#fdca26"
             ],
             [
              1,
              "#f0f921"
             ]
            ],
            "type": "surface"
           }
          ],
          "table": [
           {
            "cells": {
             "fill": {
              "color": "#EBF0F8"
             },
             "line": {
              "color": "white"
             }
            },
            "header": {
             "fill": {
              "color": "#C8D4E3"
             },
             "line": {
              "color": "white"
             }
            },
            "type": "table"
           }
          ]
         },
         "layout": {
          "annotationdefaults": {
           "arrowcolor": "#2a3f5f",
           "arrowhead": 0,
           "arrowwidth": 1
          },
          "autotypenumbers": "strict",
          "coloraxis": {
           "colorbar": {
            "outlinewidth": 0,
            "ticks": ""
           }
          },
          "colorscale": {
           "diverging": [
            [
             0,
             "#8e0152"
            ],
            [
             0.1,
             "#c51b7d"
            ],
            [
             0.2,
             "#de77ae"
            ],
            [
             0.3,
             "#f1b6da"
            ],
            [
             0.4,
             "#fde0ef"
            ],
            [
             0.5,
             "#f7f7f7"
            ],
            [
             0.6,
             "#e6f5d0"
            ],
            [
             0.7,
             "#b8e186"
            ],
            [
             0.8,
             "#7fbc41"
            ],
            [
             0.9,
             "#4d9221"
            ],
            [
             1,
             "#276419"
            ]
           ],
           "sequential": [
            [
             0,
             "#0d0887"
            ],
            [
             0.1111111111111111,
             "#46039f"
            ],
            [
             0.2222222222222222,
             "#7201a8"
            ],
            [
             0.3333333333333333,
             "#9c179e"
            ],
            [
             0.4444444444444444,
             "#bd3786"
            ],
            [
             0.5555555555555556,
             "#d8576b"
            ],
            [
             0.6666666666666666,
             "#ed7953"
            ],
            [
             0.7777777777777778,
             "#fb9f3a"
            ],
            [
             0.8888888888888888,
             "#fdca26"
            ],
            [
             1,
             "#f0f921"
            ]
           ],
           "sequentialminus": [
            [
             0,
             "#0d0887"
            ],
            [
             0.1111111111111111,
             "#46039f"
            ],
            [
             0.2222222222222222,
             "#7201a8"
            ],
            [
             0.3333333333333333,
             "#9c179e"
            ],
            [
             0.4444444444444444,
             "#bd3786"
            ],
            [
             0.5555555555555556,
             "#d8576b"
            ],
            [
             0.6666666666666666,
             "#ed7953"
            ],
            [
             0.7777777777777778,
             "#fb9f3a"
            ],
            [
             0.8888888888888888,
             "#fdca26"
            ],
            [
             1,
             "#f0f921"
            ]
           ]
          },
          "colorway": [
           "#636efa",
           "#EF553B",
           "#00cc96",
           "#ab63fa",
           "#FFA15A",
           "#19d3f3",
           "#FF6692",
           "#B6E880",
           "#FF97FF",
           "#FECB52"
          ],
          "font": {
           "color": "#2a3f5f"
          },
          "geo": {
           "bgcolor": "white",
           "lakecolor": "white",
           "landcolor": "#E5ECF6",
           "showlakes": true,
           "showland": true,
           "subunitcolor": "white"
          },
          "hoverlabel": {
           "align": "left"
          },
          "hovermode": "closest",
          "mapbox": {
           "style": "light"
          },
          "paper_bgcolor": "white",
          "plot_bgcolor": "#E5ECF6",
          "polar": {
           "angularaxis": {
            "gridcolor": "white",
            "linecolor": "white",
            "ticks": ""
           },
           "bgcolor": "#E5ECF6",
           "radialaxis": {
            "gridcolor": "white",
            "linecolor": "white",
            "ticks": ""
           }
          },
          "scene": {
           "xaxis": {
            "backgroundcolor": "#E5ECF6",
            "gridcolor": "white",
            "gridwidth": 2,
            "linecolor": "white",
            "showbackground": true,
            "ticks": "",
            "zerolinecolor": "white"
           },
           "yaxis": {
            "backgroundcolor": "#E5ECF6",
            "gridcolor": "white",
            "gridwidth": 2,
            "linecolor": "white",
            "showbackground": true,
            "ticks": "",
            "zerolinecolor": "white"
           },
           "zaxis": {
            "backgroundcolor": "#E5ECF6",
            "gridcolor": "white",
            "gridwidth": 2,
            "linecolor": "white",
            "showbackground": true,
            "ticks": "",
            "zerolinecolor": "white"
           }
          },
          "shapedefaults": {
           "line": {
            "color": "#2a3f5f"
           }
          },
          "ternary": {
           "aaxis": {
            "gridcolor": "white",
            "linecolor": "white",
            "ticks": ""
           },
           "baxis": {
            "gridcolor": "white",
            "linecolor": "white",
            "ticks": ""
           },
           "bgcolor": "#E5ECF6",
           "caxis": {
            "gridcolor": "white",
            "linecolor": "white",
            "ticks": ""
           }
          },
          "title": {
           "x": 0.05
          },
          "xaxis": {
           "automargin": true,
           "gridcolor": "white",
           "linecolor": "white",
           "ticks": "",
           "title": {
            "standoff": 15
           },
           "zerolinecolor": "white",
           "zerolinewidth": 2
          },
          "yaxis": {
           "automargin": true,
           "gridcolor": "white",
           "linecolor": "white",
           "ticks": "",
           "title": {
            "standoff": 15
           },
           "zerolinecolor": "white",
           "zerolinewidth": 2
          }
         }
        },
        "width": 1200,
        "xaxis": {
         "anchor": "y",
         "domain": [
          0,
          0.2888888888888889
         ]
        },
        "xaxis2": {
         "anchor": "y2",
         "domain": [
          0.35555555555555557,
          0.6444444444444445
         ]
        },
        "xaxis3": {
         "anchor": "y3",
         "domain": [
          0.7111111111111111,
          1
         ]
        },
        "yaxis": {
         "anchor": "x",
         "domain": [
          0,
          0.475
         ]
        },
        "yaxis2": {
         "anchor": "x2",
         "domain": [
          0,
          0.475
         ]
        },
        "yaxis3": {
         "anchor": "x3",
         "domain": [
          0,
          0.475
         ]
        }
       }
      }
     },
     "metadata": {},
     "output_type": "display_data"
    }
   ],
   "source": [
    "# Define label mappings for categorical variables\n",
    "label_mappings = {\n",
    "    \"heart_risk\" : {0: \"No heart risk\", 1: \"Has heart risk\"},\n",
    "    \"Age_temp\": {0: \"40-59 years\", 1: \"60+ years\"},\n",
    "    \"avg_glucose_level_temp\": {1: \"119 - 190\", 2:\"190 +\"}\n",
    "}\n",
    "\n",
    "# Apply the label mappings to the DataFrame\n",
    "for column, mapping in label_mappings.items():\n",
    "    if column in df.columns:\n",
    "        df[column] = df[column].replace(mapping)\n",
    "\n",
    "# Rename Age_temp to Age\n",
    "if \"Age_temp\" in df.columns:\n",
    "    df.rename(columns={\"Age_temp\": \"Age\"}, inplace=True)\n",
    "\n",
    "# Define the fixed color palettes based on the number of categories\n",
    "fixed_color_schemes = {\n",
    "    2: ['#0072B2', '#D55E00'],  # Dark Blue, Orange-Red\n",
    "    3: ['#0072B2', '#D55E00', '#009E73'],  # Dark Blue, Orange-Red, Dark Green\n",
    "    4: ['#0072B2', '#D55E00', '#009E73', '#F0E442'],  # Dark Blue, Orange-Red, Dark Green, Bright Yellow\n",
    "    5: ['#0072B2', '#D55E00', '#009E73', '#F0E442', '#CC79A7']  # Dark Blue, Orange-Red, Dark Green, Bright Yellow, Deep Purple\n",
    "}\n",
    "\n",
    "# Define stroke color as black\n",
    "stroke_color = \"#000000\"\n",
    "\n",
    "# Create a dictionary to store consistent color mapping for each category in each column\n",
    "category_color_map = {}\n",
    "\n",
    "columns_to_analyze = [\n",
    "    \"heart_risk\",\"Age\", \"avg_glucose_level_temp\"\n",
    "]\n",
    "\n",
    "\n",
    "# Create a subplot grid with slightly more vertical spacing\n",
    "num_columns = len(columns_to_analyze)\n",
    "fig = make_subplots(\n",
    "    rows=2, cols=num_columns, \n",
    "    subplot_titles=[f\"{col.replace('_', ' ').title()} Distribution\" for col in columns_to_analyze] +\n",
    "                   [f\"Normalized Stroke Occurrence in {col.replace('_', ' ').title()}\" for col in columns_to_analyze],\n",
    "    specs=[[{'type': 'domain'}] * num_columns, [{'type': 'xy'}] * num_columns],\n",
    "    vertical_spacing=0.05\n",
    ")\n",
    "\n",
    "# Generate pie charts for distribution (first row) and store category colors\n",
    "for i, column in enumerate(columns_to_analyze):\n",
    "    if column in df.columns:\n",
    "        category_counts = df[column].value_counts()\n",
    "        num_categories = len(category_counts)\n",
    "\n",
    "        # Choose colors based on the number of categories \n",
    "        if num_categories in fixed_color_schemes:\n",
    "            pie_colors = fixed_color_schemes[num_categories]\n",
    "        else:\n",
    "            pie_colors = px.colors.qualitative.Set3[:num_categories]\n",
    "\n",
    "        # Store colors in the category_color_map for consistency in bar charts\n",
    "        category_color_map[column] = {label: pie_colors[idx] for idx, label in enumerate(category_counts.index)}\n",
    "\n",
    "        fig.add_trace(\n",
    "            go.Pie(\n",
    "                labels=[f\"{label}<br>Count: {value} of people\" for label, value in zip(category_counts.index, category_counts.values)],\n",
    "                values=category_counts.values,\n",
    "                name=f\"{column.replace('_', ' ').title()} Distribution\",\n",
    "                hole=0.4, pull=[0.02] * len(category_counts),\n",
    "                textinfo=\"label+percent\",\n",
    "                hovertemplate=\"Category: %{label}<br>Percent: %{percent}\",\n",
    "                marker=dict(colors=pie_colors),  # Apply selected colors\n",
    "                showlegend=False,\n",
    "                textposition='inside'\n",
    "            ),\n",
    "            row=1, col=i+1\n",
    "        )\n",
    "\n",
    "# Generate normalized stacked bar charts for stroke occurrence (second row)\n",
    "for i, column in enumerate(columns_to_analyze):\n",
    "    if column in df.columns and \"stroke\" in df.columns:\n",
    "        category_stroke_counts = df.groupby([column, 'stroke']).size().unstack(fill_value=0)\n",
    "        category_stroke_counts_normalized = category_stroke_counts.div(category_stroke_counts.sum(axis=1), axis=0) * 100\n",
    "\n",
    "        fig.add_trace(\n",
    "            go.Bar(\n",
    "                x=category_stroke_counts_normalized.index,\n",
    "                y=category_stroke_counts_normalized[0],\n",
    "                name=\"No Stroke\",\n",
    "                marker_color=[category_color_map[column].get(label, \"gray\") for label in category_stroke_counts_normalized.index],\n",
    "                text=[f\"{val:.2f}%\" for val in category_stroke_counts_normalized[0]],\n",
    "                hovertemplate=\"Category: %{x}<br>No Stroke: %{y}%\",\n",
    "                showlegend=False\n",
    "            ),\n",
    "            row=2, col=i+1\n",
    "        )\n",
    "\n",
    "        fig.add_trace(\n",
    "            go.Bar(\n",
    "                x=category_stroke_counts_normalized.index,\n",
    "                y=category_stroke_counts_normalized[1],\n",
    "                name=\"Stroke\",\n",
    "                marker_color=stroke_color,\n",
    "                text=[f\"{val:.2f}%\" for val in category_stroke_counts_normalized[1]],\n",
    "                hovertemplate=\"Category: %{x}<br>Stroke: %{y}%\",\n",
    "                showlegend=False\n",
    "            ),\n",
    "            row=2, col=i+1\n",
    "        )\n",
    "\n",
    "# Update layout to make the visualization more compact\n",
    "fig.update_layout(\n",
    "    height=900,  \n",
    "    width=1200,  \n",
    "    barmode='stack',\n",
    "    showlegend=False,\n",
    "    margin=dict(l=50, r=50, t=40, b=40)  \n",
    ")\n",
    "\n",
    "# Show the updated figure\n",
    "fig.show()"
   ]
  },
  {
   "cell_type": "code",
   "execution_count": 31,
   "metadata": {},
   "outputs": [
    {
     "data": {
      "application/vnd.plotly.v1+json": {
       "config": {
        "plotlyServerURL": "https://plot.ly"
       },
       "data": [
        {
         "branchvalues": "total",
         "customdata": [
          [
           2.138880750073249,
           "119 - 190"
          ],
          [
           5.625549370055669,
           "119 - 190"
          ],
          [
           2.7834749487254613,
           "190 +"
          ],
          [
           9.581013770876062,
           "190 +"
          ],
          [
           24.31878113096982,
           "119 - 190"
          ],
          [
           18.546733079402287,
           "119 - 190"
          ],
          [
           19.249926750659245,
           "190 +"
          ],
          [
           17.755640199238208,
           "190 +"
          ],
          [
           "(?)",
           "(?)"
          ],
          [
           "(?)",
           "(?)"
          ],
          [
           "(?)",
           "(?)"
          ],
          [
           "(?)",
           "(?)"
          ],
          [
           "(?)",
           "(?)"
          ],
          [
           "(?)",
           "(?)"
          ]
         ],
         "domain": {
          "x": [
           0,
           1
          ],
          "y": [
           0,
           1
          ]
         },
         "hovertemplate": "<b>%{label}</b><br>Count: %{value}<br>Percentage: %{customdata[0]:.2f}%",
         "ids": [
          "Has heart risk/40-59 years/119 - 190",
          "Has heart risk/60+ years/119 - 190",
          "Has heart risk/40-59 years/190 +",
          "Has heart risk/60+ years/190 +",
          "No heart risk/40-59 years/119 - 190",
          "No heart risk/60+ years/119 - 190",
          "No heart risk/40-59 years/190 +",
          "No heart risk/60+ years/190 +",
          "Has heart risk/40-59 years",
          "No heart risk/40-59 years",
          "Has heart risk/60+ years",
          "No heart risk/60+ years",
          "Has heart risk",
          "No heart risk"
         ],
         "labels": [
          "119 - 190",
          "119 - 190",
          "190 +",
          "190 +",
          "119 - 190",
          "119 - 190",
          "190 +",
          "190 +",
          "40-59 years",
          "40-59 years",
          "60+ years",
          "60+ years",
          "Has heart risk",
          "No heart risk"
         ],
         "marker": {
          "colors": [
           "#0072B2",
           "#0072B2",
           "#D55E00",
           "#D55E00",
           "#0072B2",
           "#0072B2",
           "#D55E00",
           "#D55E00",
           "#0072B2",
           "#0072B2",
           "#0072B2",
           "#0072B2",
           "#0072B2",
           "#0072B2"
          ]
         },
         "name": "",
         "parents": [
          "Has heart risk/40-59 years",
          "Has heart risk/60+ years",
          "Has heart risk/40-59 years",
          "Has heart risk/60+ years",
          "No heart risk/40-59 years",
          "No heart risk/60+ years",
          "No heart risk/40-59 years",
          "No heart risk/60+ years",
          "Has heart risk",
          "No heart risk",
          "Has heart risk",
          "No heart risk",
          "",
          ""
         ],
         "type": "sunburst",
         "values": [
          73,
          192,
          95,
          327,
          830,
          633,
          657,
          606,
          168,
          1487,
          519,
          1239,
          687,
          2726
         ]
        }
       ],
       "layout": {
        "legend": {
         "tracegroupgap": 0
        },
        "sunburstcolorway": [
         "#0072B2",
         "#D55E00"
        ],
        "template": {
         "data": {
          "bar": [
           {
            "error_x": {
             "color": "#2a3f5f"
            },
            "error_y": {
             "color": "#2a3f5f"
            },
            "marker": {
             "line": {
              "color": "#E5ECF6",
              "width": 0.5
             },
             "pattern": {
              "fillmode": "overlay",
              "size": 10,
              "solidity": 0.2
             }
            },
            "type": "bar"
           }
          ],
          "barpolar": [
           {
            "marker": {
             "line": {
              "color": "#E5ECF6",
              "width": 0.5
             },
             "pattern": {
              "fillmode": "overlay",
              "size": 10,
              "solidity": 0.2
             }
            },
            "type": "barpolar"
           }
          ],
          "carpet": [
           {
            "aaxis": {
             "endlinecolor": "#2a3f5f",
             "gridcolor": "white",
             "linecolor": "white",
             "minorgridcolor": "white",
             "startlinecolor": "#2a3f5f"
            },
            "baxis": {
             "endlinecolor": "#2a3f5f",
             "gridcolor": "white",
             "linecolor": "white",
             "minorgridcolor": "white",
             "startlinecolor": "#2a3f5f"
            },
            "type": "carpet"
           }
          ],
          "choropleth": [
           {
            "colorbar": {
             "outlinewidth": 0,
             "ticks": ""
            },
            "type": "choropleth"
           }
          ],
          "contour": [
           {
            "colorbar": {
             "outlinewidth": 0,
             "ticks": ""
            },
            "colorscale": [
             [
              0,
              "#0d0887"
             ],
             [
              0.1111111111111111,
              "#46039f"
             ],
             [
              0.2222222222222222,
              "#7201a8"
             ],
             [
              0.3333333333333333,
              "#9c179e"
             ],
             [
              0.4444444444444444,
              "#bd3786"
             ],
             [
              0.5555555555555556,
              "#d8576b"
             ],
             [
              0.6666666666666666,
              "#ed7953"
             ],
             [
              0.7777777777777778,
              "#fb9f3a"
             ],
             [
              0.8888888888888888,
              "#fdca26"
             ],
             [
              1,
              "#f0f921"
             ]
            ],
            "type": "contour"
           }
          ],
          "contourcarpet": [
           {
            "colorbar": {
             "outlinewidth": 0,
             "ticks": ""
            },
            "type": "contourcarpet"
           }
          ],
          "heatmap": [
           {
            "colorbar": {
             "outlinewidth": 0,
             "ticks": ""
            },
            "colorscale": [
             [
              0,
              "#0d0887"
             ],
             [
              0.1111111111111111,
              "#46039f"
             ],
             [
              0.2222222222222222,
              "#7201a8"
             ],
             [
              0.3333333333333333,
              "#9c179e"
             ],
             [
              0.4444444444444444,
              "#bd3786"
             ],
             [
              0.5555555555555556,
              "#d8576b"
             ],
             [
              0.6666666666666666,
              "#ed7953"
             ],
             [
              0.7777777777777778,
              "#fb9f3a"
             ],
             [
              0.8888888888888888,
              "#fdca26"
             ],
             [
              1,
              "#f0f921"
             ]
            ],
            "type": "heatmap"
           }
          ],
          "heatmapgl": [
           {
            "colorbar": {
             "outlinewidth": 0,
             "ticks": ""
            },
            "colorscale": [
             [
              0,
              "#0d0887"
             ],
             [
              0.1111111111111111,
              "#46039f"
             ],
             [
              0.2222222222222222,
              "#7201a8"
             ],
             [
              0.3333333333333333,
              "#9c179e"
             ],
             [
              0.4444444444444444,
              "#bd3786"
             ],
             [
              0.5555555555555556,
              "#d8576b"
             ],
             [
              0.6666666666666666,
              "#ed7953"
             ],
             [
              0.7777777777777778,
              "#fb9f3a"
             ],
             [
              0.8888888888888888,
              "#fdca26"
             ],
             [
              1,
              "#f0f921"
             ]
            ],
            "type": "heatmapgl"
           }
          ],
          "histogram": [
           {
            "marker": {
             "pattern": {
              "fillmode": "overlay",
              "size": 10,
              "solidity": 0.2
             }
            },
            "type": "histogram"
           }
          ],
          "histogram2d": [
           {
            "colorbar": {
             "outlinewidth": 0,
             "ticks": ""
            },
            "colorscale": [
             [
              0,
              "#0d0887"
             ],
             [
              0.1111111111111111,
              "#46039f"
             ],
             [
              0.2222222222222222,
              "#7201a8"
             ],
             [
              0.3333333333333333,
              "#9c179e"
             ],
             [
              0.4444444444444444,
              "#bd3786"
             ],
             [
              0.5555555555555556,
              "#d8576b"
             ],
             [
              0.6666666666666666,
              "#ed7953"
             ],
             [
              0.7777777777777778,
              "#fb9f3a"
             ],
             [
              0.8888888888888888,
              "#fdca26"
             ],
             [
              1,
              "#f0f921"
             ]
            ],
            "type": "histogram2d"
           }
          ],
          "histogram2dcontour": [
           {
            "colorbar": {
             "outlinewidth": 0,
             "ticks": ""
            },
            "colorscale": [
             [
              0,
              "#0d0887"
             ],
             [
              0.1111111111111111,
              "#46039f"
             ],
             [
              0.2222222222222222,
              "#7201a8"
             ],
             [
              0.3333333333333333,
              "#9c179e"
             ],
             [
              0.4444444444444444,
              "#bd3786"
             ],
             [
              0.5555555555555556,
              "#d8576b"
             ],
             [
              0.6666666666666666,
              "#ed7953"
             ],
             [
              0.7777777777777778,
              "#fb9f3a"
             ],
             [
              0.8888888888888888,
              "#fdca26"
             ],
             [
              1,
              "#f0f921"
             ]
            ],
            "type": "histogram2dcontour"
           }
          ],
          "mesh3d": [
           {
            "colorbar": {
             "outlinewidth": 0,
             "ticks": ""
            },
            "type": "mesh3d"
           }
          ],
          "parcoords": [
           {
            "line": {
             "colorbar": {
              "outlinewidth": 0,
              "ticks": ""
             }
            },
            "type": "parcoords"
           }
          ],
          "pie": [
           {
            "automargin": true,
            "type": "pie"
           }
          ],
          "scatter": [
           {
            "fillpattern": {
             "fillmode": "overlay",
             "size": 10,
             "solidity": 0.2
            },
            "type": "scatter"
           }
          ],
          "scatter3d": [
           {
            "line": {
             "colorbar": {
              "outlinewidth": 0,
              "ticks": ""
             }
            },
            "marker": {
             "colorbar": {
              "outlinewidth": 0,
              "ticks": ""
             }
            },
            "type": "scatter3d"
           }
          ],
          "scattercarpet": [
           {
            "marker": {
             "colorbar": {
              "outlinewidth": 0,
              "ticks": ""
             }
            },
            "type": "scattercarpet"
           }
          ],
          "scattergeo": [
           {
            "marker": {
             "colorbar": {
              "outlinewidth": 0,
              "ticks": ""
             }
            },
            "type": "scattergeo"
           }
          ],
          "scattergl": [
           {
            "marker": {
             "colorbar": {
              "outlinewidth": 0,
              "ticks": ""
             }
            },
            "type": "scattergl"
           }
          ],
          "scattermapbox": [
           {
            "marker": {
             "colorbar": {
              "outlinewidth": 0,
              "ticks": ""
             }
            },
            "type": "scattermapbox"
           }
          ],
          "scatterpolar": [
           {
            "marker": {
             "colorbar": {
              "outlinewidth": 0,
              "ticks": ""
             }
            },
            "type": "scatterpolar"
           }
          ],
          "scatterpolargl": [
           {
            "marker": {
             "colorbar": {
              "outlinewidth": 0,
              "ticks": ""
             }
            },
            "type": "scatterpolargl"
           }
          ],
          "scatterternary": [
           {
            "marker": {
             "colorbar": {
              "outlinewidth": 0,
              "ticks": ""
             }
            },
            "type": "scatterternary"
           }
          ],
          "surface": [
           {
            "colorbar": {
             "outlinewidth": 0,
             "ticks": ""
            },
            "colorscale": [
             [
              0,
              "#0d0887"
             ],
             [
              0.1111111111111111,
              "#46039f"
             ],
             [
              0.2222222222222222,
              "#7201a8"
             ],
             [
              0.3333333333333333,
              "#9c179e"
             ],
             [
              0.4444444444444444,
              "#bd3786"
             ],
             [
              0.5555555555555556,
              "#d8576b"
             ],
             [
              0.6666666666666666,
              "#ed7953"
             ],
             [
              0.7777777777777778,
              "#fb9f3a"
             ],
             [
              0.8888888888888888,
              "#fdca26"
             ],
             [
              1,
              "#f0f921"
             ]
            ],
            "type": "surface"
           }
          ],
          "table": [
           {
            "cells": {
             "fill": {
              "color": "#EBF0F8"
             },
             "line": {
              "color": "white"
             }
            },
            "header": {
             "fill": {
              "color": "#C8D4E3"
             },
             "line": {
              "color": "white"
             }
            },
            "type": "table"
           }
          ]
         },
         "layout": {
          "annotationdefaults": {
           "arrowcolor": "#2a3f5f",
           "arrowhead": 0,
           "arrowwidth": 1
          },
          "autotypenumbers": "strict",
          "coloraxis": {
           "colorbar": {
            "outlinewidth": 0,
            "ticks": ""
           }
          },
          "colorscale": {
           "diverging": [
            [
             0,
             "#8e0152"
            ],
            [
             0.1,
             "#c51b7d"
            ],
            [
             0.2,
             "#de77ae"
            ],
            [
             0.3,
             "#f1b6da"
            ],
            [
             0.4,
             "#fde0ef"
            ],
            [
             0.5,
             "#f7f7f7"
            ],
            [
             0.6,
             "#e6f5d0"
            ],
            [
             0.7,
             "#b8e186"
            ],
            [
             0.8,
             "#7fbc41"
            ],
            [
             0.9,
             "#4d9221"
            ],
            [
             1,
             "#276419"
            ]
           ],
           "sequential": [
            [
             0,
             "#0d0887"
            ],
            [
             0.1111111111111111,
             "#46039f"
            ],
            [
             0.2222222222222222,
             "#7201a8"
            ],
            [
             0.3333333333333333,
             "#9c179e"
            ],
            [
             0.4444444444444444,
             "#bd3786"
            ],
            [
             0.5555555555555556,
             "#d8576b"
            ],
            [
             0.6666666666666666,
             "#ed7953"
            ],
            [
             0.7777777777777778,
             "#fb9f3a"
            ],
            [
             0.8888888888888888,
             "#fdca26"
            ],
            [
             1,
             "#f0f921"
            ]
           ],
           "sequentialminus": [
            [
             0,
             "#0d0887"
            ],
            [
             0.1111111111111111,
             "#46039f"
            ],
            [
             0.2222222222222222,
             "#7201a8"
            ],
            [
             0.3333333333333333,
             "#9c179e"
            ],
            [
             0.4444444444444444,
             "#bd3786"
            ],
            [
             0.5555555555555556,
             "#d8576b"
            ],
            [
             0.6666666666666666,
             "#ed7953"
            ],
            [
             0.7777777777777778,
             "#fb9f3a"
            ],
            [
             0.8888888888888888,
             "#fdca26"
            ],
            [
             1,
             "#f0f921"
            ]
           ]
          },
          "colorway": [
           "#636efa",
           "#EF553B",
           "#00cc96",
           "#ab63fa",
           "#FFA15A",
           "#19d3f3",
           "#FF6692",
           "#B6E880",
           "#FF97FF",
           "#FECB52"
          ],
          "font": {
           "color": "#2a3f5f"
          },
          "geo": {
           "bgcolor": "white",
           "lakecolor": "white",
           "landcolor": "#E5ECF6",
           "showlakes": true,
           "showland": true,
           "subunitcolor": "white"
          },
          "hoverlabel": {
           "align": "left"
          },
          "hovermode": "closest",
          "mapbox": {
           "style": "light"
          },
          "paper_bgcolor": "white",
          "plot_bgcolor": "#E5ECF6",
          "polar": {
           "angularaxis": {
            "gridcolor": "white",
            "linecolor": "white",
            "ticks": ""
           },
           "bgcolor": "#E5ECF6",
           "radialaxis": {
            "gridcolor": "white",
            "linecolor": "white",
            "ticks": ""
           }
          },
          "scene": {
           "xaxis": {
            "backgroundcolor": "#E5ECF6",
            "gridcolor": "white",
            "gridwidth": 2,
            "linecolor": "white",
            "showbackground": true,
            "ticks": "",
            "zerolinecolor": "white"
           },
           "yaxis": {
            "backgroundcolor": "#E5ECF6",
            "gridcolor": "white",
            "gridwidth": 2,
            "linecolor": "white",
            "showbackground": true,
            "ticks": "",
            "zerolinecolor": "white"
           },
           "zaxis": {
            "backgroundcolor": "#E5ECF6",
            "gridcolor": "white",
            "gridwidth": 2,
            "linecolor": "white",
            "showbackground": true,
            "ticks": "",
            "zerolinecolor": "white"
           }
          },
          "shapedefaults": {
           "line": {
            "color": "#2a3f5f"
           }
          },
          "ternary": {
           "aaxis": {
            "gridcolor": "white",
            "linecolor": "white",
            "ticks": ""
           },
           "baxis": {
            "gridcolor": "white",
            "linecolor": "white",
            "ticks": ""
           },
           "bgcolor": "#E5ECF6",
           "caxis": {
            "gridcolor": "white",
            "linecolor": "white",
            "ticks": ""
           }
          },
          "title": {
           "x": 0.05
          },
          "xaxis": {
           "automargin": true,
           "gridcolor": "white",
           "linecolor": "white",
           "ticks": "",
           "title": {
            "standoff": 15
           },
           "zerolinecolor": "white",
           "zerolinewidth": 2
          },
          "yaxis": {
           "automargin": true,
           "gridcolor": "white",
           "linecolor": "white",
           "ticks": "",
           "title": {
            "standoff": 15
           },
           "zerolinecolor": "white",
           "zerolinewidth": 2
          }
         }
        },
        "title": {
         "text": "Population Distribution by Heart Risk, Age, and Glucose Level"
        }
       }
      }
     },
     "metadata": {},
     "output_type": "display_data"
    }
   ],
   "source": [
    "import pandas as pd\n",
    "import plotly.express as px\n",
    "\n",
    "# Define color schemes for different category sizes\n",
    "fixed_color_schemes = {\n",
    "    2: ['#0072B2', '#D55E00'],  \n",
    "    3: ['#0072B2', '#D55E00', '#009E73'],  \n",
    "    4: ['#0072B2', '#D55E00', '#009E73', '#F0E442'],  \n",
    "    5: ['#0072B2', '#D55E00', '#009E73', '#F0E442', '#CC79A7']  \n",
    "}\n",
    "\n",
    "# Ensure the columns exist in the DataFrame and avoid modifying the original df\n",
    "df_subset = df[columns_to_analyze].dropna().copy()\n",
    "\n",
    "# Compute value counts for percentage labels\n",
    "df_grouped = df_subset.assign(count=1).groupby(columns_to_analyze)[\"count\"].count().reset_index()\n",
    "df_grouped[\"percent\"] = (df_grouped[\"count\"] / df_grouped[\"count\"].sum()) * 100\n",
    "\n",
    "# Determine the number of unique categories and select the color palette accordingly\n",
    "num_categories = df_grouped[columns_to_analyze[-1]].nunique()\n",
    "color_palette = fixed_color_schemes.get(num_categories, px.colors.qualitative.Set3[:num_categories])\n",
    "\n",
    "# Create a sunburst chart (starburst chart) with percentage labels\n",
    "fig = px.sunburst(\n",
    "    df_grouped,\n",
    "    path=columns_to_analyze,  \n",
    "    values=\"count\",\n",
    "    title=\"Population Distribution by Heart Risk, Age, and Glucose Level\",\n",
    "    color=columns_to_analyze[-1],  \n",
    "    color_discrete_sequence=color_palette,\n",
    "    hover_data={\"percent\": \":.2f\"}  \n",
    ")\n",
    "\n",
    "# Update hover template to include count and percentage\n",
    "fig.update_traces(\n",
    "    hovertemplate=\"<b>%{label}</b><br>Count: %{value}<br>Percentage: %{customdata[0]:.2f}%\"\n",
    ")\n",
    "\n",
    "# Show the chart\n",
    "fig.show()\n"
   ]
  },
  {
   "cell_type": "code",
   "execution_count": null,
   "metadata": {},
   "outputs": [
    {
     "data": {
      "application/vnd.plotly.v1+json": {
       "config": {
        "plotlyServerURL": "https://plot.ly"
       },
       "data": [
        {
         "domain": {
          "x": [
           0,
           0.2888888888888889
          ],
          "y": [
           0.52,
           1
          ]
         },
         "hole": 0.4,
         "hovertemplate": "Category: %{label}<br>Percent: %{percent}",
         "labels": [
          "No heart risk<br>Count: 2726",
          "Has heart risk<br>Count: 687"
         ],
         "marker": {
          "colors": [
           "#0072B2",
           "#D55E00"
          ]
         },
         "name": "Heart Risk Distribution",
         "pull": [
          0.02,
          0.02
         ],
         "showlegend": false,
         "textinfo": "label+percent",
         "type": "pie",
         "values": [
          2726,
          687
         ]
        },
        {
         "domain": {
          "x": [
           0.35555555555555557,
           0.6444444444444445
          ],
          "y": [
           0.52,
           1
          ]
         },
         "hole": 0.4,
         "hovertemplate": "Category: %{label}<br>Percent: %{percent}",
         "labels": [
          "60+ years<br>Count: 1758",
          "40-59 years<br>Count: 1655"
         ],
         "marker": {
          "colors": [
           "#0072B2",
           "#D55E00"
          ]
         },
         "name": "Age Distribution",
         "pull": [
          0.02,
          0.02
         ],
         "showlegend": false,
         "textinfo": "label+percent",
         "type": "pie",
         "values": [
          1758,
          1655
         ]
        },
        {
         "domain": {
          "x": [
           0.7111111111111111,
           1
          ],
          "y": [
           0.52,
           1
          ]
         },
         "hole": 0.4,
         "hovertemplate": "Category: %{label}<br>Percent: %{percent}",
         "labels": [
          "119 - 190<br>Count: 1728",
          "190 +<br>Count: 1685"
         ],
         "marker": {
          "colors": [
           "#0072B2",
           "#D55E00"
          ]
         },
         "name": "Avg Glucose Level Temp Distribution",
         "pull": [
          0.02,
          0.02
         ],
         "showlegend": false,
         "textinfo": "label+percent",
         "type": "pie",
         "values": [
          1728,
          1685
         ]
        },
        {
         "hovertemplate": "Category: %{x}<br>No Stroke: %{y}%",
         "marker": {
          "color": [
           "#D55E00",
           "#0072B2"
          ]
         },
         "name": "No Stroke",
         "showlegend": false,
         "text": [
          "85.44%",
          "94.61%"
         ],
         "type": "bar",
         "x": [
          "Has heart risk",
          "No heart risk"
         ],
         "xaxis": "x",
         "y": [
          85.44395924308587,
          94.60748349229641
         ],
         "yaxis": "y"
        },
        {
         "hovertemplate": "Category: %{x}<br>Stroke: %{y}%",
         "marker": {
          "color": "#000000"
         },
         "name": "Stroke",
         "showlegend": false,
         "text": [
          "14.56%",
          "5.39%"
         ],
         "type": "bar",
         "x": [
          "Has heart risk",
          "No heart risk"
         ],
         "xaxis": "x",
         "y": [
          14.556040756914118,
          5.392516507703595
         ],
         "yaxis": "y"
        },
        {
         "hovertemplate": "Category: %{x}<br>No Stroke: %{y}%",
         "marker": {
          "color": [
           "#D55E00",
           "#0072B2"
          ]
         },
         "name": "No Stroke",
         "showlegend": false,
         "text": [
          "97.89%",
          "87.94%"
         ],
         "type": "bar",
         "x": [
          "40-59 years",
          "60+ years"
         ],
         "xaxis": "x2",
         "y": [
          97.88519637462235,
          87.94084186575654
         ],
         "yaxis": "y2"
        },
        {
         "hovertemplate": "Category: %{x}<br>Stroke: %{y}%",
         "marker": {
          "color": "#000000"
         },
         "name": "Stroke",
         "showlegend": false,
         "text": [
          "2.11%",
          "12.06%"
         ],
         "type": "bar",
         "x": [
          "40-59 years",
          "60+ years"
         ],
         "xaxis": "x2",
         "y": [
          2.1148036253776437,
          12.059158134243459
         ],
         "yaxis": "y2"
        },
        {
         "hovertemplate": "Category: %{x}<br>No Stroke: %{y}%",
         "marker": {
          "color": [
           "#0072B2",
           "#D55E00"
          ]
         },
         "name": "No Stroke",
         "showlegend": false,
         "text": [
          "94.33%",
          "91.16%"
         ],
         "type": "bar",
         "x": [
          "119 - 190",
          "190 +"
         ],
         "xaxis": "x3",
         "y": [
          94.32870370370371,
          91.15727002967358
         ],
         "yaxis": "y3"
        },
        {
         "hovertemplate": "Category: %{x}<br>Stroke: %{y}%",
         "marker": {
          "color": "#000000"
         },
         "name": "Stroke",
         "showlegend": false,
         "text": [
          "5.67%",
          "8.84%"
         ],
         "type": "bar",
         "x": [
          "119 - 190",
          "190 +"
         ],
         "xaxis": "x3",
         "y": [
          5.671296296296297,
          8.84272997032641
         ],
         "yaxis": "y3"
        }
       ],
       "layout": {
        "annotations": [
         {
          "font": {
           "size": 16
          },
          "showarrow": false,
          "text": "Heart Risk Distribution",
          "x": 0.14444444444444446,
          "xanchor": "center",
          "xref": "paper",
          "y": 1,
          "yanchor": "bottom",
          "yref": "paper"
         },
         {
          "font": {
           "size": 16
          },
          "showarrow": false,
          "text": "Age Distribution",
          "x": 0.5,
          "xanchor": "center",
          "xref": "paper",
          "y": 1,
          "yanchor": "bottom",
          "yref": "paper"
         },
         {
          "font": {
           "size": 16
          },
          "showarrow": false,
          "text": "Avg Glucose Level Temp Distribution",
          "x": 0.8555555555555556,
          "xanchor": "center",
          "xref": "paper",
          "y": 1,
          "yanchor": "bottom",
          "yref": "paper"
         },
         {
          "font": {
           "size": 16
          },
          "showarrow": false,
          "text": "Normalized Stroke Occurrence in Heart Risk",
          "x": 0.14444444444444446,
          "xanchor": "center",
          "xref": "paper",
          "y": 0.48,
          "yanchor": "bottom",
          "yref": "paper"
         },
         {
          "font": {
           "size": 16
          },
          "showarrow": false,
          "text": "Normalized Stroke Occurrence in Age",
          "x": 0.5,
          "xanchor": "center",
          "xref": "paper",
          "y": 0.48,
          "yanchor": "bottom",
          "yref": "paper"
         },
         {
          "font": {
           "size": 16
          },
          "showarrow": false,
          "text": "Normalized Stroke Occurrence in Avg Glucose Level Temp",
          "x": 0.8555555555555556,
          "xanchor": "center",
          "xref": "paper",
          "y": 0.48,
          "yanchor": "bottom",
          "yref": "paper"
         }
        ],
        "barmode": "stack",
        "height": 900,
        "margin": {
         "b": 40,
         "l": 50,
         "r": 50,
         "t": 40
        },
        "showlegend": false,
        "template": {
         "data": {
          "bar": [
           {
            "error_x": {
             "color": "#2a3f5f"
            },
            "error_y": {
             "color": "#2a3f5f"
            },
            "marker": {
             "line": {
              "color": "#E5ECF6",
              "width": 0.5
             },
             "pattern": {
              "fillmode": "overlay",
              "size": 10,
              "solidity": 0.2
             }
            },
            "type": "bar"
           }
          ],
          "barpolar": [
           {
            "marker": {
             "line": {
              "color": "#E5ECF6",
              "width": 0.5
             },
             "pattern": {
              "fillmode": "overlay",
              "size": 10,
              "solidity": 0.2
             }
            },
            "type": "barpolar"
           }
          ],
          "carpet": [
           {
            "aaxis": {
             "endlinecolor": "#2a3f5f",
             "gridcolor": "white",
             "linecolor": "white",
             "minorgridcolor": "white",
             "startlinecolor": "#2a3f5f"
            },
            "baxis": {
             "endlinecolor": "#2a3f5f",
             "gridcolor": "white",
             "linecolor": "white",
             "minorgridcolor": "white",
             "startlinecolor": "#2a3f5f"
            },
            "type": "carpet"
           }
          ],
          "choropleth": [
           {
            "colorbar": {
             "outlinewidth": 0,
             "ticks": ""
            },
            "type": "choropleth"
           }
          ],
          "contour": [
           {
            "colorbar": {
             "outlinewidth": 0,
             "ticks": ""
            },
            "colorscale": [
             [
              0,
              "#0d0887"
             ],
             [
              0.1111111111111111,
              "#46039f"
             ],
             [
              0.2222222222222222,
              "#7201a8"
             ],
             [
              0.3333333333333333,
              "#9c179e"
             ],
             [
              0.4444444444444444,
              "#bd3786"
             ],
             [
              0.5555555555555556,
              "#d8576b"
             ],
             [
              0.6666666666666666,
              "#ed7953"
             ],
             [
              0.7777777777777778,
              "#fb9f3a"
             ],
             [
              0.8888888888888888,
              "#fdca26"
             ],
             [
              1,
              "#f0f921"
             ]
            ],
            "type": "contour"
           }
          ],
          "contourcarpet": [
           {
            "colorbar": {
             "outlinewidth": 0,
             "ticks": ""
            },
            "type": "contourcarpet"
           }
          ],
          "heatmap": [
           {
            "colorbar": {
             "outlinewidth": 0,
             "ticks": ""
            },
            "colorscale": [
             [
              0,
              "#0d0887"
             ],
             [
              0.1111111111111111,
              "#46039f"
             ],
             [
              0.2222222222222222,
              "#7201a8"
             ],
             [
              0.3333333333333333,
              "#9c179e"
             ],
             [
              0.4444444444444444,
              "#bd3786"
             ],
             [
              0.5555555555555556,
              "#d8576b"
             ],
             [
              0.6666666666666666,
              "#ed7953"
             ],
             [
              0.7777777777777778,
              "#fb9f3a"
             ],
             [
              0.8888888888888888,
              "#fdca26"
             ],
             [
              1,
              "#f0f921"
             ]
            ],
            "type": "heatmap"
           }
          ],
          "heatmapgl": [
           {
            "colorbar": {
             "outlinewidth": 0,
             "ticks": ""
            },
            "colorscale": [
             [
              0,
              "#0d0887"
             ],
             [
              0.1111111111111111,
              "#46039f"
             ],
             [
              0.2222222222222222,
              "#7201a8"
             ],
             [
              0.3333333333333333,
              "#9c179e"
             ],
             [
              0.4444444444444444,
              "#bd3786"
             ],
             [
              0.5555555555555556,
              "#d8576b"
             ],
             [
              0.6666666666666666,
              "#ed7953"
             ],
             [
              0.7777777777777778,
              "#fb9f3a"
             ],
             [
              0.8888888888888888,
              "#fdca26"
             ],
             [
              1,
              "#f0f921"
             ]
            ],
            "type": "heatmapgl"
           }
          ],
          "histogram": [
           {
            "marker": {
             "pattern": {
              "fillmode": "overlay",
              "size": 10,
              "solidity": 0.2
             }
            },
            "type": "histogram"
           }
          ],
          "histogram2d": [
           {
            "colorbar": {
             "outlinewidth": 0,
             "ticks": ""
            },
            "colorscale": [
             [
              0,
              "#0d0887"
             ],
             [
              0.1111111111111111,
              "#46039f"
             ],
             [
              0.2222222222222222,
              "#7201a8"
             ],
             [
              0.3333333333333333,
              "#9c179e"
             ],
             [
              0.4444444444444444,
              "#bd3786"
             ],
             [
              0.5555555555555556,
              "#d8576b"
             ],
             [
              0.6666666666666666,
              "#ed7953"
             ],
             [
              0.7777777777777778,
              "#fb9f3a"
             ],
             [
              0.8888888888888888,
              "#fdca26"
             ],
             [
              1,
              "#f0f921"
             ]
            ],
            "type": "histogram2d"
           }
          ],
          "histogram2dcontour": [
           {
            "colorbar": {
             "outlinewidth": 0,
             "ticks": ""
            },
            "colorscale": [
             [
              0,
              "#0d0887"
             ],
             [
              0.1111111111111111,
              "#46039f"
             ],
             [
              0.2222222222222222,
              "#7201a8"
             ],
             [
              0.3333333333333333,
              "#9c179e"
             ],
             [
              0.4444444444444444,
              "#bd3786"
             ],
             [
              0.5555555555555556,
              "#d8576b"
             ],
             [
              0.6666666666666666,
              "#ed7953"
             ],
             [
              0.7777777777777778,
              "#fb9f3a"
             ],
             [
              0.8888888888888888,
              "#fdca26"
             ],
             [
              1,
              "#f0f921"
             ]
            ],
            "type": "histogram2dcontour"
           }
          ],
          "mesh3d": [
           {
            "colorbar": {
             "outlinewidth": 0,
             "ticks": ""
            },
            "type": "mesh3d"
           }
          ],
          "parcoords": [
           {
            "line": {
             "colorbar": {
              "outlinewidth": 0,
              "ticks": ""
             }
            },
            "type": "parcoords"
           }
          ],
          "pie": [
           {
            "automargin": true,
            "type": "pie"
           }
          ],
          "scatter": [
           {
            "fillpattern": {
             "fillmode": "overlay",
             "size": 10,
             "solidity": 0.2
            },
            "type": "scatter"
           }
          ],
          "scatter3d": [
           {
            "line": {
             "colorbar": {
              "outlinewidth": 0,
              "ticks": ""
             }
            },
            "marker": {
             "colorbar": {
              "outlinewidth": 0,
              "ticks": ""
             }
            },
            "type": "scatter3d"
           }
          ],
          "scattercarpet": [
           {
            "marker": {
             "colorbar": {
              "outlinewidth": 0,
              "ticks": ""
             }
            },
            "type": "scattercarpet"
           }
          ],
          "scattergeo": [
           {
            "marker": {
             "colorbar": {
              "outlinewidth": 0,
              "ticks": ""
             }
            },
            "type": "scattergeo"
           }
          ],
          "scattergl": [
           {
            "marker": {
             "colorbar": {
              "outlinewidth": 0,
              "ticks": ""
             }
            },
            "type": "scattergl"
           }
          ],
          "scattermapbox": [
           {
            "marker": {
             "colorbar": {
              "outlinewidth": 0,
              "ticks": ""
             }
            },
            "type": "scattermapbox"
           }
          ],
          "scatterpolar": [
           {
            "marker": {
             "colorbar": {
              "outlinewidth": 0,
              "ticks": ""
             }
            },
            "type": "scatterpolar"
           }
          ],
          "scatterpolargl": [
           {
            "marker": {
             "colorbar": {
              "outlinewidth": 0,
              "ticks": ""
             }
            },
            "type": "scatterpolargl"
           }
          ],
          "scatterternary": [
           {
            "marker": {
             "colorbar": {
              "outlinewidth": 0,
              "ticks": ""
             }
            },
            "type": "scatterternary"
           }
          ],
          "surface": [
           {
            "colorbar": {
             "outlinewidth": 0,
             "ticks": ""
            },
            "colorscale": [
             [
              0,
              "#0d0887"
             ],
             [
              0.1111111111111111,
              "#46039f"
             ],
             [
              0.2222222222222222,
              "#7201a8"
             ],
             [
              0.3333333333333333,
              "#9c179e"
             ],
             [
              0.4444444444444444,
              "#bd3786"
             ],
             [
              0.5555555555555556,
              "#d8576b"
             ],
             [
              0.6666666666666666,
              "#ed7953"
             ],
             [
              0.7777777777777778,
              "#fb9f3a"
             ],
             [
              0.8888888888888888,
              "#fdca26"
             ],
             [
              1,
              "#f0f921"
             ]
            ],
            "type": "surface"
           }
          ],
          "table": [
           {
            "cells": {
             "fill": {
              "color": "#EBF0F8"
             },
             "line": {
              "color": "white"
             }
            },
            "header": {
             "fill": {
              "color": "#C8D4E3"
             },
             "line": {
              "color": "white"
             }
            },
            "type": "table"
           }
          ]
         },
         "layout": {
          "annotationdefaults": {
           "arrowcolor": "#2a3f5f",
           "arrowhead": 0,
           "arrowwidth": 1
          },
          "autotypenumbers": "strict",
          "coloraxis": {
           "colorbar": {
            "outlinewidth": 0,
            "ticks": ""
           }
          },
          "colorscale": {
           "diverging": [
            [
             0,
             "#8e0152"
            ],
            [
             0.1,
             "#c51b7d"
            ],
            [
             0.2,
             "#de77ae"
            ],
            [
             0.3,
             "#f1b6da"
            ],
            [
             0.4,
             "#fde0ef"
            ],
            [
             0.5,
             "#f7f7f7"
            ],
            [
             0.6,
             "#e6f5d0"
            ],
            [
             0.7,
             "#b8e186"
            ],
            [
             0.8,
             "#7fbc41"
            ],
            [
             0.9,
             "#4d9221"
            ],
            [
             1,
             "#276419"
            ]
           ],
           "sequential": [
            [
             0,
             "#0d0887"
            ],
            [
             0.1111111111111111,
             "#46039f"
            ],
            [
             0.2222222222222222,
             "#7201a8"
            ],
            [
             0.3333333333333333,
             "#9c179e"
            ],
            [
             0.4444444444444444,
             "#bd3786"
            ],
            [
             0.5555555555555556,
             "#d8576b"
            ],
            [
             0.6666666666666666,
             "#ed7953"
            ],
            [
             0.7777777777777778,
             "#fb9f3a"
            ],
            [
             0.8888888888888888,
             "#fdca26"
            ],
            [
             1,
             "#f0f921"
            ]
           ],
           "sequentialminus": [
            [
             0,
             "#0d0887"
            ],
            [
             0.1111111111111111,
             "#46039f"
            ],
            [
             0.2222222222222222,
             "#7201a8"
            ],
            [
             0.3333333333333333,
             "#9c179e"
            ],
            [
             0.4444444444444444,
             "#bd3786"
            ],
            [
             0.5555555555555556,
             "#d8576b"
            ],
            [
             0.6666666666666666,
             "#ed7953"
            ],
            [
             0.7777777777777778,
             "#fb9f3a"
            ],
            [
             0.8888888888888888,
             "#fdca26"
            ],
            [
             1,
             "#f0f921"
            ]
           ]
          },
          "colorway": [
           "#636efa",
           "#EF553B",
           "#00cc96",
           "#ab63fa",
           "#FFA15A",
           "#19d3f3",
           "#FF6692",
           "#B6E880",
           "#FF97FF",
           "#FECB52"
          ],
          "font": {
           "color": "#2a3f5f"
          },
          "geo": {
           "bgcolor": "white",
           "lakecolor": "white",
           "landcolor": "#E5ECF6",
           "showlakes": true,
           "showland": true,
           "subunitcolor": "white"
          },
          "hoverlabel": {
           "align": "left"
          },
          "hovermode": "closest",
          "mapbox": {
           "style": "light"
          },
          "paper_bgcolor": "white",
          "plot_bgcolor": "#E5ECF6",
          "polar": {
           "angularaxis": {
            "gridcolor": "white",
            "linecolor": "white",
            "ticks": ""
           },
           "bgcolor": "#E5ECF6",
           "radialaxis": {
            "gridcolor": "white",
            "linecolor": "white",
            "ticks": ""
           }
          },
          "scene": {
           "xaxis": {
            "backgroundcolor": "#E5ECF6",
            "gridcolor": "white",
            "gridwidth": 2,
            "linecolor": "white",
            "showbackground": true,
            "ticks": "",
            "zerolinecolor": "white"
           },
           "yaxis": {
            "backgroundcolor": "#E5ECF6",
            "gridcolor": "white",
            "gridwidth": 2,
            "linecolor": "white",
            "showbackground": true,
            "ticks": "",
            "zerolinecolor": "white"
           },
           "zaxis": {
            "backgroundcolor": "#E5ECF6",
            "gridcolor": "white",
            "gridwidth": 2,
            "linecolor": "white",
            "showbackground": true,
            "ticks": "",
            "zerolinecolor": "white"
           }
          },
          "shapedefaults": {
           "line": {
            "color": "#2a3f5f"
           }
          },
          "ternary": {
           "aaxis": {
            "gridcolor": "white",
            "linecolor": "white",
            "ticks": ""
           },
           "baxis": {
            "gridcolor": "white",
            "linecolor": "white",
            "ticks": ""
           },
           "bgcolor": "#E5ECF6",
           "caxis": {
            "gridcolor": "white",
            "linecolor": "white",
            "ticks": ""
           }
          },
          "title": {
           "x": 0.05
          },
          "xaxis": {
           "automargin": true,
           "gridcolor": "white",
           "linecolor": "white",
           "ticks": "",
           "title": {
            "standoff": 15
           },
           "zerolinecolor": "white",
           "zerolinewidth": 2
          },
          "yaxis": {
           "automargin": true,
           "gridcolor": "white",
           "linecolor": "white",
           "ticks": "",
           "title": {
            "standoff": 15
           },
           "zerolinecolor": "white",
           "zerolinewidth": 2
          }
         }
        },
        "width": 1200,
        "xaxis": {
         "anchor": "y",
         "domain": [
          0,
          0.2888888888888889
         ]
        },
        "xaxis2": {
         "anchor": "y2",
         "domain": [
          0.35555555555555557,
          0.6444444444444445
         ]
        },
        "xaxis3": {
         "anchor": "y3",
         "domain": [
          0.7111111111111111,
          1
         ]
        },
        "yaxis": {
         "anchor": "x",
         "domain": [
          0,
          0.48
         ]
        },
        "yaxis2": {
         "anchor": "x2",
         "domain": [
          0,
          0.48
         ]
        },
        "yaxis3": {
         "anchor": "x3",
         "domain": [
          0,
          0.48
         ]
        }
       }
      }
     },
     "metadata": {},
     "output_type": "display_data"
    }
   ],
   "source": [
    "import plotly.graph_objects as go\n",
    "import plotly.express as px\n",
    "from plotly.subplots import make_subplots\n",
    "\n",
    "# Define label mappings for categorical variables\n",
    "label_mappings = {\n",
    "    \"heart_risk\": {0: \"No heart risk\", 1: \"Has heart risk\"},\n",
    "    \"Age_temp\": {0: \"40-59 years\", 1: \"60+ years\"},\n",
    "    \"avg_glucose_level_temp\": {1: \"avg glucose 119 - 190 mmol/L\", 2: \"190+ mmol/L\"}\n",
    "}\n",
    "\n",
    "# Apply the label mappings to the DataFrame\n",
    "for column, mapping in label_mappings.items():\n",
    "    if column in df.columns:\n",
    "        df[column] = df[column].replace(mapping)\n",
    "\n",
    "# Rename Age_temp to Age\n",
    "if \"Age_temp\" in df.columns:\n",
    "    df.rename(columns={\"Age_temp\": \"Age\"}, inplace=True)\n",
    "\n",
    "# Define the fixed color palettes based on the number of categories\n",
    "fixed_color_schemes = {\n",
    "    2: ['#0072B2', '#D55E00'],  # Dark Blue, Orange-Red\n",
    "    3: ['#0072B2', '#D55E00', '#009E73'],  # Dark Blue, Orange-Red, Dark Green\n",
    "    4: ['#0072B2', '#D55E00', '#009E73', '#F0E442'],  # Dark Blue, Orange-Red, Dark Green, Bright Yellow\n",
    "    5: ['#0072B2', '#D55E00', '#009E73', '#F0E442', '#CC79A7']  # Dark Blue, Orange-Red, Dark Green, Bright Yellow, Deep Purple\n",
    "}\n",
    "\n",
    "# Define stroke color as black\n",
    "stroke_color = \"#000000\"\n",
    "\n",
    "# Create a dictionary to store consistent color mapping for each category in each column\n",
    "category_color_map = {}\n",
    "\n",
    "columns_to_analyze = [\"heart_risk\", \"Age\", \"avg_glucose_level_temp\"]\n",
    "\n",
    "# Create a subplot grid with slightly more vertical spacing\n",
    "num_columns = len(columns_to_analyze)\n",
    "fig = make_subplots(\n",
    "    rows=2, cols=num_columns, \n",
    "    subplot_titles=[f\"{col.replace('_', ' ').title()} Distribution\" for col in columns_to_analyze] +\n",
    "                   [f\"Normalized Stroke Occurrence in {col.replace('_', ' ').title()}\" for col in columns_to_analyze],\n",
    "    specs=[[{'type': 'domain'}] * num_columns, [{'type': 'xy'}] * num_columns],\n",
    "    vertical_spacing=0.04  \n",
    ")\n",
    "\n",
    "# Generate pie charts for distribution (first row) and store category colors\n",
    "for i, column in enumerate(columns_to_analyze):\n",
    "    if column in df.columns:\n",
    "        category_counts = df[column].value_counts()\n",
    "        num_categories = len(category_counts)\n",
    "\n",
    "        # Choose colors based on the number of categories (default to Set3 if more than 4)\n",
    "        if num_categories in fixed_color_schemes:\n",
    "            pie_colors = fixed_color_schemes[num_categories]\n",
    "        else:\n",
    "            pie_colors = px.colors.qualitative.Set3[:num_categories]\n",
    "\n",
    "        # Store colors in the category_color_map for consistency in bar charts\n",
    "        category_color_map[column] = {label: pie_colors[idx] for idx, label in enumerate(category_counts.index)}\n",
    "\n",
    "        fig.add_trace(\n",
    "            go.Pie(\n",
    "                labels=[f\"{label}<br>Count: {value}\" for label, value in zip(category_counts.index, category_counts.values)],\n",
    "                values=category_counts.values,\n",
    "                name=f\"{column.replace('_', ' ').title()} Distribution\",\n",
    "                hole=0.4, pull=[0.02] * len(category_counts),\n",
    "                textinfo=\"label+percent\",\n",
    "                hovertemplate=\"Category: %{label}<br>Percent: %{percent}\",\n",
    "                marker=dict(colors=pie_colors),  # Apply selected colors\n",
    "                showlegend=False,\n",
    "            ),\n",
    "            row=1, col=i+1\n",
    "        )\n",
    "\n",
    "\n",
    "\n",
    "# Generate normalized stacked bar charts for stroke occurrence (second row)\n",
    "for i, column in enumerate(columns_to_analyze):\n",
    "    if column in df.columns and \"stroke\" in df.columns:\n",
    "        category_stroke_counts = df.groupby([column, 'stroke']).size().unstack(fill_value=0)\n",
    "        category_stroke_counts_normalized = category_stroke_counts.div(category_stroke_counts.sum(axis=1), axis=0) * 100\n",
    "\n",
    "        fig.add_trace(\n",
    "            go.Bar(\n",
    "                x=category_stroke_counts_normalized.index,\n",
    "                y=category_stroke_counts_normalized[0],\n",
    "                name=\"No Stroke\",\n",
    "                marker_color=[category_color_map[column].get(label, \"gray\") for label in category_stroke_counts_normalized.index],\n",
    "                text=[f\"{val:.2f}%\" for val in category_stroke_counts_normalized[0]],\n",
    "                hovertemplate=\"Category: %{x}<br>No Stroke: %{y}%\",\n",
    "                showlegend=False\n",
    "            ),\n",
    "            row=2, col=i+1\n",
    "        )\n",
    "\n",
    "        fig.add_trace(\n",
    "            go.Bar(\n",
    "                x=category_stroke_counts_normalized.index,\n",
    "                y=category_stroke_counts_normalized[1],\n",
    "                name=\"Stroke\",\n",
    "                marker_color=stroke_color,\n",
    "                text=[f\"{val:.2f}%\" for val in category_stroke_counts_normalized[1]],\n",
    "                hovertemplate=\"Category: %{x}<br>Stroke: %{y}%\",\n",
    "                showlegend=False\n",
    "            ),\n",
    "            row=2, col=i+1\n",
    "        )\n",
    "\n",
    "# Update layout to make the visualization more compact\n",
    "fig.update_layout(\n",
    "    height=900,  # Slightly increase height for better spacing\n",
    "    width=1200,  # Keep width unchanged\n",
    "    barmode='stack',\n",
    "    showlegend=False,\n",
    "    margin=dict(l=50, r=50, t=40, b=40)  # Slightly increase margins\n",
    ")\n",
    "\n",
    "# Show the updated figure\n",
    "fig.show()\n",
    "fig.write_html(\"strokeLM.html\")"
   ]
  }
 ],
 "metadata": {
  "kernelspec": {
   "display_name": "dsi_participant",
   "language": "python",
   "name": "python3"
  },
  "language_info": {
   "codemirror_mode": {
    "name": "ipython",
    "version": 3
   },
   "file_extension": ".py",
   "mimetype": "text/x-python",
   "name": "python",
   "nbconvert_exporter": "python",
   "pygments_lexer": "ipython3",
   "version": "3.9.15"
  }
 },
 "nbformat": 4,
 "nbformat_minor": 2
}
