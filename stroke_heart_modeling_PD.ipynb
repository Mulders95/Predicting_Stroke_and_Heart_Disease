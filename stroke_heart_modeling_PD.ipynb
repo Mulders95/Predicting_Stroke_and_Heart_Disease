{
 "cells": [
  {
   "cell_type": "code",
   "execution_count": 2,
   "metadata": {},
   "outputs": [
    {
     "name": "stdout",
     "output_type": "stream",
     "text": [
      "Requirement already satisfied: imbalanced-learn in c:\\users\\poula\\miniconda3\\envs\\dsi_participant\\lib\\site-packages (0.12.4)\n",
      "Requirement already satisfied: numpy>=1.17.3 in c:\\users\\poula\\miniconda3\\envs\\dsi_participant\\lib\\site-packages (from imbalanced-learn) (1.26.4)\n",
      "Requirement already satisfied: scipy>=1.5.0 in c:\\users\\poula\\miniconda3\\envs\\dsi_participant\\lib\\site-packages (from imbalanced-learn) (1.13.1)\n",
      "Requirement already satisfied: scikit-learn>=1.0.2 in c:\\users\\poula\\miniconda3\\envs\\dsi_participant\\lib\\site-packages (from imbalanced-learn) (1.5.2)\n",
      "Requirement already satisfied: joblib>=1.1.1 in c:\\users\\poula\\miniconda3\\envs\\dsi_participant\\lib\\site-packages (from imbalanced-learn) (1.4.2)\n",
      "Requirement already satisfied: threadpoolctl>=2.0.0 in c:\\users\\poula\\miniconda3\\envs\\dsi_participant\\lib\\site-packages (from imbalanced-learn) (3.5.0)\n",
      "Requirement already satisfied: xgboost in c:\\users\\poula\\miniconda3\\envs\\dsi_participant\\lib\\site-packages (2.1.4)\n",
      "Requirement already satisfied: numpy in c:\\users\\poula\\miniconda3\\envs\\dsi_participant\\lib\\site-packages (from xgboost) (1.26.4)\n",
      "Requirement already satisfied: scipy in c:\\users\\poula\\miniconda3\\envs\\dsi_participant\\lib\\site-packages (from xgboost) (1.13.1)\n",
      "Requirement already satisfied: graphviz in c:\\users\\poula\\miniconda3\\envs\\dsi_participant\\lib\\site-packages (0.20.3)\n"
     ]
    }
   ],
   "source": [
    "!pip install imbalanced-learn\n",
    "!pip install xgboost\n",
    "!pip install graphviz"
   ]
  },
  {
   "cell_type": "code",
   "execution_count": 3,
   "metadata": {},
   "outputs": [],
   "source": [
    "import numpy as np\n",
    "import pandas as pd\n",
    "import seaborn as sns\n",
    "import matplotlib.pyplot as plt\n",
    "\n",
    "from sklearn.preprocessing import LabelEncoder"
   ]
  },
  {
   "cell_type": "code",
   "execution_count": 4,
   "metadata": {},
   "outputs": [
    {
     "name": "stdout",
     "output_type": "stream",
     "text": [
      "      id  gender   age  hypertension  heart_disease ever_married  \\\n",
      "0   9046    Male  67.0             0              1          Yes   \n",
      "1  51676  Female  61.0             0              0          Yes   \n",
      "2  31112    Male  80.0             0              1          Yes   \n",
      "3  60182  Female  49.0             0              0          Yes   \n",
      "4   1665  Female  79.0             1              0          Yes   \n",
      "5  56669    Male  81.0             0              0          Yes   \n",
      "\n",
      "       work_type Residence_type  avg_glucose_level   bmi   smoking_status  \\\n",
      "0        Private          Urban             228.69  36.6  formerly smoked   \n",
      "1  Self-employed          Rural             202.21   NaN     never smoked   \n",
      "2        Private          Rural             105.92  32.5     never smoked   \n",
      "3        Private          Urban             171.23  34.4           smokes   \n",
      "4  Self-employed          Rural             174.12  24.0     never smoked   \n",
      "5        Private          Urban             186.21  29.0  formerly smoked   \n",
      "\n",
      "   stroke  \n",
      "0       1  \n",
      "1       1  \n",
      "2       1  \n",
      "3       1  \n",
      "4       1  \n",
      "5       1  \n"
     ]
    }
   ],
   "source": [
    "df = pd.read_csv(\"C:/Users/poula/Downloads/rawdata.csv\")\n",
    "print (df.head(6))"
   ]
  },
  {
   "cell_type": "code",
   "execution_count": 5,
   "metadata": {},
   "outputs": [
    {
     "name": "stdout",
     "output_type": "stream",
     "text": [
      "id                     0\n",
      "gender                 0\n",
      "age                    0\n",
      "hypertension           0\n",
      "heart_disease          0\n",
      "ever_married           0\n",
      "work_type              0\n",
      "Residence_type         0\n",
      "avg_glucose_level      0\n",
      "bmi                  201\n",
      "smoking_status         0\n",
      "stroke                 0\n",
      "dtype: int64\n"
     ]
    }
   ],
   "source": [
    "#checking for missing values\n",
    "print (df.isnull().sum())"
   ]
  },
  {
   "cell_type": "code",
   "execution_count": 6,
   "metadata": {},
   "outputs": [
    {
     "name": "stdout",
     "output_type": "stream",
     "text": [
      "   gender   age  hypertension  heart_disease ever_married      work_type  \\\n",
      "0    Male  67.0             0              1          Yes        Private   \n",
      "1  Female  61.0             0              0          Yes  Self-employed   \n",
      "2    Male  80.0             0              1          Yes        Private   \n",
      "3  Female  49.0             0              0          Yes        Private   \n",
      "4  Female  79.0             1              0          Yes  Self-employed   \n",
      "5    Male  81.0             0              0          Yes        Private   \n",
      "\n",
      "  Residence_type  avg_glucose_level   bmi   smoking_status  stroke  \n",
      "0          Urban             228.69  36.6  formerly smoked       1  \n",
      "1          Rural             202.21   NaN     never smoked       1  \n",
      "2          Rural             105.92  32.5     never smoked       1  \n",
      "3          Urban             171.23  34.4           smokes       1  \n",
      "4          Rural             174.12  24.0     never smoked       1  \n",
      "5          Urban             186.21  29.0  formerly smoked       1  \n"
     ]
    }
   ],
   "source": [
    "#select all columns except the first since the id variable is irrelevant for meaningful predictions of any appropriate outcome variable in this dataset\n",
    "\n",
    "df = df.iloc[:, 1:] \n",
    "print (df.head(6))"
   ]
  },
  {
   "cell_type": "code",
   "execution_count": 7,
   "metadata": {},
   "outputs": [
    {
     "name": "stdout",
     "output_type": "stream",
     "text": [
      "gender                object\n",
      "age                  float64\n",
      "hypertension           int64\n",
      "heart_disease          int64\n",
      "ever_married          object\n",
      "work_type             object\n",
      "Residence_type        object\n",
      "avg_glucose_level    float64\n",
      "bmi                  float64\n",
      "smoking_status        object\n",
      "stroke                 int64\n",
      "dtype: object\n"
     ]
    }
   ],
   "source": [
    "print (df.dtypes)"
   ]
  },
  {
   "cell_type": "code",
   "execution_count": 8,
   "metadata": {},
   "outputs": [
    {
     "name": "stdout",
     "output_type": "stream",
     "text": [
      "gender               category\n",
      "age                   float64\n",
      "hypertension            int64\n",
      "heart_disease           int64\n",
      "ever_married         category\n",
      "work_type            category\n",
      "Residence_type       category\n",
      "avg_glucose_level     float64\n",
      "bmi                   float64\n",
      "smoking_status       category\n",
      "stroke                  int64\n",
      "dtype: object\n"
     ]
    }
   ],
   "source": [
    "# Convert multiple object columns to category\n",
    "df[['gender', 'ever_married', 'work_type', 'Residence_type', 'smoking_status']] = df[['gender', 'ever_married', 'work_type', 'Residence_type', 'smoking_status']].astype('category')\n",
    "\n",
    "# Check the data types\n",
    "print(df.dtypes)"
   ]
  },
  {
   "cell_type": "code",
   "execution_count": 9,
   "metadata": {},
   "outputs": [
    {
     "name": "stdout",
     "output_type": "stream",
     "text": [
      "\n",
      "Count of each level in 'gender':\n",
      "Female: 2994\n",
      "Male: 2115\n",
      "Other: 1\n",
      "\n",
      "Count of each level in 'ever_married':\n",
      "Yes: 3353\n",
      "No: 1757\n",
      "\n",
      "Count of each level in 'work_type':\n",
      "Private: 2925\n",
      "Self-employed: 819\n",
      "children: 687\n",
      "Govt_job: 657\n",
      "Never_worked: 22\n",
      "\n",
      "Count of each level in 'Residence_type':\n",
      "Urban: 2596\n",
      "Rural: 2514\n",
      "\n",
      "Count of each level in 'smoking_status':\n",
      "never smoked: 1892\n",
      "Unknown: 1544\n",
      "formerly smoked: 885\n",
      "smokes: 789\n"
     ]
    }
   ],
   "source": [
    "# Select all category variables in this dataset and obtain the counts of each levels of those variables.\n",
    "category_columns = df.select_dtypes(include='category').columns\n",
    "\n",
    "for col in category_columns:\n",
    "    print(f\"\\nCount of each level in '{col}':\")\n",
    "    counts = df[col].value_counts()\n",
    "    for category, count in counts.items():\n",
    "        print(f\"{category}: {count}\")"
   ]
  },
  {
   "cell_type": "code",
   "execution_count": 10,
   "metadata": {},
   "outputs": [
    {
     "name": "stdout",
     "output_type": "stream",
     "text": [
      "               age  avg_glucose_level          bmi\n",
      "count  5110.000000        5110.000000  4909.000000\n",
      "mean     43.226614         106.147677    28.893237\n",
      "std      22.612647          45.283560     7.854067\n",
      "min       0.080000          55.120000    10.300000\n",
      "25%      25.000000          77.245000    23.500000\n",
      "50%      45.000000          91.885000    28.100000\n",
      "75%      61.000000         114.090000    33.100000\n",
      "max      82.000000         271.740000    97.600000\n"
     ]
    }
   ],
   "source": [
    "#select all numerical variables in this dataset and obtain their summary statistics\n",
    "\n",
    "numeric_columns = df.select_dtypes(include=['float64']).columns\n",
    "print(df[numeric_columns].describe())"
   ]
  },
  {
   "cell_type": "code",
   "execution_count": 11,
   "metadata": {},
   "outputs": [
    {
     "name": "stdout",
     "output_type": "stream",
     "text": [
      "Frequency counts for 'stroke':\n",
      "stroke\n",
      "0    4861\n",
      "1     249\n",
      "Name: count, dtype: int64\n",
      "\n",
      "Frequency counts for 'hypertension':\n",
      "hypertension\n",
      "0    4612\n",
      "1     498\n",
      "Name: count, dtype: int64\n",
      "\n",
      "Frequency counts for 'heart_disease':\n",
      "heart_disease\n",
      "0    4834\n",
      "1     276\n",
      "Name: count, dtype: int64\n",
      "\n"
     ]
    }
   ],
   "source": [
    "#Obtain the count information for the values in the stroke, hypertension, and  heart_disease variables\n",
    "\n",
    "def get_counts(df, column_name):\n",
    "    # Convert the column_name type to int64, handling potential errors\n",
    "    df[column_name] = pd.to_numeric(df[column_name], errors='raise').astype('int64')\n",
    "    \n",
    "    #calculate the value counts and sort by index which will be the column_name values.\n",
    "    value_counts = df[column_name].value_counts().sort_index()\n",
    "    print(f\"Frequency counts for '{column_name}':\\n{value_counts}\\n\")\n",
    "\n",
    "get_counts(df,'stroke')\n",
    "get_counts(df, 'hypertension')\n",
    "get_counts(df, 'heart_disease')"
   ]
  },
  {
   "cell_type": "code",
   "execution_count": 12,
   "metadata": {},
   "outputs": [],
   "source": [
    "#avg_glucose_level\n",
    "\n",
    "# Define the bins and labels\n",
    "#bins = [50, 120, 190, float('inf')]\n",
    "#labels = [1, 2, 3]\n",
    "\n",
    "# Create the 'avg_glucose_level_temp' column using pd.cut\n",
    "#df['avg_glucose_level_temp_cat'] = pd.cut(df['avg_glucose_level'], bins=bins, labels=labels, right=False)\n",
    "\n",
    "# Initialize LabelEncoder\n",
    "#label_encoder = LabelEncoder()\n",
    "\n",
    "# Fit and transform the categorical column\n",
    "#df['avg_glucose_level_temp'] = label_encoder.fit_transform(df['avg_glucose_level_temp_cat']) + 1 # +1 to match the original labels\n",
    "\n",
    "#df.drop('avg_glucose_level_temp_cat', axis=1, inplace=True)\n",
    "# Print the DataFrame with the new categorical column\n",
    "#print(df.head(3))'"
   ]
  },
  {
   "cell_type": "code",
   "execution_count": 13,
   "metadata": {},
   "outputs": [],
   "source": [
    "#Obtain the frequency counts of the newly created variables Age_temp and avg_glucose_level_temp\n",
    "#get_counts(df,'Age_temp')\n",
    "#get_counts(df, 'avg_glucose_level_temp')'\n"
   ]
  },
  {
   "cell_type": "code",
   "execution_count": 14,
   "metadata": {},
   "outputs": [
    {
     "name": "stdout",
     "output_type": "stream",
     "text": [
      "Frequency counts for 'gender_encoded':\n",
      "gender_encoded\n",
      "0    2994\n",
      "1    2115\n",
      "2       1\n",
      "Name: count, dtype: int64\n",
      "\n",
      "Gender Mapping:\n",
      "Female: 0\n",
      "Male: 1\n",
      "Other: 2\n"
     ]
    }
   ],
   "source": [
    "#Gender variable\n",
    "#Transform the Gender variable into a numerical variable using the label encoder method\n",
    "\n",
    "# Initialize LabelEncoder\n",
    "label_encoder = LabelEncoder()\n",
    "\n",
    "# Fit and transform the 'gender' column\n",
    "df['gender_encoded'] = label_encoder.fit_transform(df['gender'])\n",
    "get_counts(df,'gender_encoded')\n",
    "\n",
    "# Get the unique classes and their corresponding labels\n",
    "class_labels = dict(zip(label_encoder.classes_, label_encoder.transform(label_encoder.classes_)))\n",
    "\n",
    "# Print the mapping\n",
    "print(\"Gender Mapping:\")\n",
    "for key, value in class_labels.items():\n",
    "    print(f\"{key}: {value}\")"
   ]
  },
  {
   "cell_type": "code",
   "execution_count": 15,
   "metadata": {},
   "outputs": [
    {
     "name": "stdout",
     "output_type": "stream",
     "text": [
      "     gender   age  hypertension  heart_disease ever_married work_type  \\\n",
      "3116  Other  26.0             0              0           No   Private   \n",
      "\n",
      "     Residence_type  avg_glucose_level   bmi   smoking_status  stroke  \\\n",
      "3116          Rural             143.33  22.4  formerly smoked       0   \n",
      "\n",
      "      gender_encoded  \n",
      "3116               2  \n"
     ]
    }
   ],
   "source": [
    "#Filtering\n",
    "# Filter rows where Gender is 'Other'\n",
    "other_gender_rows = df[df['gender'] == 'Other']\n",
    "print (other_gender_rows)"
   ]
  },
  {
   "cell_type": "code",
   "execution_count": 16,
   "metadata": {},
   "outputs": [
    {
     "name": "stdout",
     "output_type": "stream",
     "text": [
      "Frequency counts for 'gender_encoded':\n",
      "gender_encoded\n",
      "0    2994\n",
      "1    2115\n",
      "Name: count, dtype: int64\n",
      "\n"
     ]
    }
   ],
   "source": [
    "df = df.drop(df[df['gender'] == 'Other'].index) #Drop rows where Gender is 'Other'\n",
    "get_counts(df,'gender_encoded')"
   ]
  },
  {
   "cell_type": "code",
   "execution_count": 17,
   "metadata": {},
   "outputs": [
    {
     "name": "stdout",
     "output_type": "stream",
     "text": [
      "Index(['Female', 'Male'], dtype='object')\n"
     ]
    }
   ],
   "source": [
    "#print (df['gender'].cat.categories)\n",
    "#drop the Gender = Other category from the gender variable\n",
    "df['gender'] = df['gender'].cat.remove_categories('Other')\n",
    "print (df['gender'].cat.categories)"
   ]
  },
  {
   "cell_type": "code",
   "execution_count": 18,
   "metadata": {},
   "outputs": [
    {
     "name": "stdout",
     "output_type": "stream",
     "text": [
      "   gender   age  hypertension  heart_disease ever_married      work_type  \\\n",
      "0    Male  67.0             0              1          Yes        Private   \n",
      "1  Female  61.0             0              0          Yes  Self-employed   \n",
      "2    Male  80.0             0              1          Yes        Private   \n",
      "\n",
      "  Residence_type  avg_glucose_level   bmi   smoking_status  stroke  \\\n",
      "0          Urban             228.69  36.6  formerly smoked       1   \n",
      "1          Rural             202.21   NaN     never smoked       1   \n",
      "2          Rural             105.92  32.5     never smoked       1   \n",
      "\n",
      "   gender_encoded  ever_married_encoded  \n",
      "0               1                     1  \n",
      "1               0                     1  \n",
      "2               1                     1  \n",
      "ever_married Mapping:\n",
      "No: 0\n",
      "Yes: 1\n"
     ]
    }
   ],
   "source": [
    "#ever_married\n",
    "#Transform the ever_married variable into a numerical variable using the label encoder method\n",
    "\n",
    "# Initialize LabelEncoder\n",
    "label_encoder = LabelEncoder()\n",
    "\n",
    "# Fit and transform the 'ever_married' column\n",
    "df['ever_married_encoded'] = label_encoder.fit_transform(df['ever_married'])\n",
    "\n",
    "# Print the DataFrame with the new encoded column\n",
    "print(df.head(3))\n",
    "\n",
    "# Get the unique classes and their corresponding labels\n",
    "class_labels = dict(zip(label_encoder.classes_, label_encoder.transform(label_encoder.classes_)))\n",
    "\n",
    "# Print the mapping\n",
    "print(\"ever_married Mapping:\")\n",
    "for key, value in class_labels.items():\n",
    "    print(f\"{key}: {value}\")"
   ]
  },
  {
   "cell_type": "code",
   "execution_count": 19,
   "metadata": {},
   "outputs": [
    {
     "name": "stdout",
     "output_type": "stream",
     "text": [
      "Index(['Govt_job', 'Never_worked', 'Private', 'Self-employed', 'children'], dtype='object')\n",
      "      gender    age  hypertension  heart_disease ever_married work_type  \\\n",
      "162   Female   1.32             0              0           No  children   \n",
      "245   Female  14.00             0              0           No  children   \n",
      "3031    Male   2.00             0              1           No  children   \n",
      "\n",
      "     Residence_type  avg_glucose_level   bmi smoking_status  stroke  \\\n",
      "162           Urban              70.37   NaN        Unknown       1   \n",
      "245           Rural              57.93  30.9        Unknown       1   \n",
      "3031          Urban              62.89  29.4        Unknown       0   \n",
      "\n",
      "      gender_encoded  ever_married_encoded  \n",
      "162                0                     0  \n",
      "245                0                     0  \n",
      "3031               1                     0  \n"
     ]
    }
   ],
   "source": [
    "#Worktype\n",
    "print (df['work_type'].cat.categories)\n",
    "df_children = df[ (df['work_type'] == 'children')] \n",
    "df_children.to_csv('stroke_data_children.csv', index = False)\n",
    "\n",
    "#show all observations when work_type is children and any of hypertension, heart_disease, and 'stroke' is 1\n",
    "filtered_df = df[\n",
    "    (df['work_type'] == 'children') &\n",
    "   ( (df['stroke'] == 1) |\n",
    "    (df['hypertension'] == 1) |\n",
    "    (df['heart_disease'] == 1)\n",
    "   )\n",
    "]\n",
    "\n",
    "# Print the filtered observations\n",
    "print(filtered_df)"
   ]
  },
  {
   "cell_type": "code",
   "execution_count": 20,
   "metadata": {},
   "outputs": [
    {
     "name": "stdout",
     "output_type": "stream",
     "text": [
      "Empty DataFrame\n",
      "Columns: [gender, age, hypertension, heart_disease, ever_married, work_type, Residence_type, avg_glucose_level, bmi, smoking_status, stroke, gender_encoded, ever_married_encoded]\n",
      "Index: []\n"
     ]
    }
   ],
   "source": [
    "#Remove the children level from variable work_type\n",
    "df = df.drop(df[df['work_type'] == 'children'].index)\n",
    "print (df[df['work_type'] == 'children'])"
   ]
  },
  {
   "cell_type": "code",
   "execution_count": 21,
   "metadata": {},
   "outputs": [
    {
     "name": "stdout",
     "output_type": "stream",
     "text": [
      "Index(['Govt_job', 'Never_worked', 'Private', 'Self-employed'], dtype='object')\n"
     ]
    }
   ],
   "source": [
    "# Drop the 'children' level from the 'work_type' category\n",
    "df['work_type'] = df['work_type'].cat.remove_categories('children')\n",
    "print (df['work_type'].cat.categories)"
   ]
  },
  {
   "cell_type": "code",
   "execution_count": 22,
   "metadata": {},
   "outputs": [
    {
     "name": "stdout",
     "output_type": "stream",
     "text": [
      "(4422, 13)\n"
     ]
    }
   ],
   "source": [
    "print (df.shape) #4,422 observations at this time in df dataframe"
   ]
  },
  {
   "cell_type": "code",
   "execution_count": 23,
   "metadata": {},
   "outputs": [
    {
     "name": "stdout",
     "output_type": "stream",
     "text": [
      "   gender   age  hypertension  heart_disease ever_married      work_type  \\\n",
      "0    Male  67.0             0              1          Yes        Private   \n",
      "1  Female  61.0             0              0          Yes  Self-employed   \n",
      "2    Male  80.0             0              1          Yes        Private   \n",
      "\n",
      "  Residence_type  avg_glucose_level   bmi   smoking_status  stroke  \\\n",
      "0          Urban             228.69  36.6  formerly smoked       1   \n",
      "1          Rural             202.21   NaN     never smoked       1   \n",
      "2          Rural             105.92  32.5     never smoked       1   \n",
      "\n",
      "   gender_encoded  ever_married_encoded  work_type_encoded  \n",
      "0               1                     1                  2  \n",
      "1               0                     1                  3  \n",
      "2               1                     1                  2  \n",
      "work_type Mapping:\n",
      "Govt_job: 0\n",
      "Never_worked: 1\n",
      "Private: 2\n",
      "Self-employed: 3\n"
     ]
    }
   ],
   "source": [
    "#Work type encoding\n",
    "\n",
    "#Transform the Work type variable into a numerical variable using the label encoder method\n",
    "\n",
    "# Initialize LabelEncoder\n",
    "label_encoder = LabelEncoder()\n",
    "\n",
    "# Fit and transform the 'work_type' column\n",
    "df['work_type_encoded'] = label_encoder.fit_transform(df['work_type'])\n",
    "\n",
    "# Print the DataFrame with the new encoded column\n",
    "print(df.head(3))\n",
    "\n",
    "\n",
    "\n",
    "# Get the unique classes and their corresponding labels\n",
    "class_labels = dict(zip(label_encoder.classes_, label_encoder.transform(label_encoder.classes_)))\n",
    "\n",
    "print(\"work_type Mapping:\")\n",
    "for key, value in class_labels.items():\n",
    "    print(f\"{key}: {value}\")"
   ]
  },
  {
   "cell_type": "code",
   "execution_count": 24,
   "metadata": {},
   "outputs": [
    {
     "name": "stdout",
     "output_type": "stream",
     "text": [
      "   gender   age  hypertension  heart_disease ever_married      work_type  \\\n",
      "0    Male  67.0             0              1          Yes        Private   \n",
      "1  Female  61.0             0              0          Yes  Self-employed   \n",
      "2    Male  80.0             0              1          Yes        Private   \n",
      "\n",
      "  Residence_type  avg_glucose_level   bmi   smoking_status  stroke  \\\n",
      "0          Urban             228.69  36.6  formerly smoked       1   \n",
      "1          Rural             202.21   NaN     never smoked       1   \n",
      "2          Rural             105.92  32.5     never smoked       1   \n",
      "\n",
      "   gender_encoded  ever_married_encoded  work_type_encoded  \\\n",
      "0               1                     1                  2   \n",
      "1               0                     1                  3   \n",
      "2               1                     1                  2   \n",
      "\n",
      "   Residence_type_encoded  \n",
      "0                       1  \n",
      "1                       0  \n",
      "2                       0  \n",
      "Residence_type Mapping:\n",
      "Rural: 0\n",
      "Urban: 1\n"
     ]
    }
   ],
   "source": [
    "#Residence type\n",
    "\n",
    "#Transform the Residence type variable into a numerical variable using the label encoder method\n",
    "\n",
    "# Initialize LabelEncoder\n",
    "label_encoder = LabelEncoder()\n",
    "\n",
    "# Fit and transform the 'Residence_type' column\n",
    "df['Residence_type_encoded'] = label_encoder.fit_transform(df['Residence_type'])\n",
    "\n",
    "# Print the DataFrame with the new encoded column\n",
    "print(df.head(3))\n",
    "\n",
    "# Get the unique classes and their corresponding labels\n",
    "class_labels = dict(zip(label_encoder.classes_, label_encoder.transform(label_encoder.classes_)))\n",
    "\n",
    "print(\"Residence_type Mapping:\")\n",
    "for key, value in class_labels.items():\n",
    "    print(f\"{key}: {value}\")"
   ]
  },
  {
   "cell_type": "code",
   "execution_count": 25,
   "metadata": {},
   "outputs": [
    {
     "name": "stdout",
     "output_type": "stream",
     "text": [
      "   gender   age  hypertension  heart_disease ever_married      work_type  \\\n",
      "0    Male  67.0             0              1          Yes        Private   \n",
      "1  Female  61.0             0              0          Yes  Self-employed   \n",
      "2    Male  80.0             0              1          Yes        Private   \n",
      "\n",
      "  Residence_type  avg_glucose_level   bmi   smoking_status  stroke  \\\n",
      "0          Urban             228.69  36.6  formerly smoked       1   \n",
      "1          Rural             202.21   NaN     never smoked       1   \n",
      "2          Rural             105.92  32.5     never smoked       1   \n",
      "\n",
      "   gender_encoded  ever_married_encoded  work_type_encoded  \\\n",
      "0               1                     1                  2   \n",
      "1               0                     1                  3   \n",
      "2               1                     1                  2   \n",
      "\n",
      "   Residence_type_encoded  smoking_status_encoded  \n",
      "0                       1                       1  \n",
      "1                       0                       2  \n",
      "2                       0                       2  \n",
      "Residence_type Mapping:\n",
      "Unknown: 0\n",
      "formerly smoked: 1\n",
      "never smoked: 2\n",
      "smokes: 3\n"
     ]
    }
   ],
   "source": [
    "#smoking status\n",
    "#Transform the smoking status variable into a numerical variable using the label encoder method\n",
    "\n",
    "# Initialize LabelEncoder\n",
    "label_encoder = LabelEncoder()\n",
    "\n",
    "# Fit and transform the 'smoking_status' column\n",
    "df['smoking_status_encoded'] = label_encoder.fit_transform(df['smoking_status'])\n",
    "\n",
    "# Print the DataFrame with the new encoded column\n",
    "print(df.head(3))\n",
    "\n",
    "# Get the unique classes and their corresponding labels\n",
    "class_labels = dict(zip(label_encoder.classes_, label_encoder.transform(label_encoder.classes_)))\n",
    "\n",
    "print(\"Residence_type Mapping:\")\n",
    "for key, value in class_labels.items():\n",
    "    print(f\"{key}: {value}\")"
   ]
  },
  {
   "cell_type": "code",
   "execution_count": 26,
   "metadata": {},
   "outputs": [
    {
     "name": "stdout",
     "output_type": "stream",
     "text": [
      "gender                    category\n",
      "age                        float64\n",
      "hypertension                 int64\n",
      "heart_disease                int64\n",
      "ever_married              category\n",
      "work_type                 category\n",
      "Residence_type            category\n",
      "avg_glucose_level          float64\n",
      "bmi                        float64\n",
      "smoking_status            category\n",
      "stroke                       int64\n",
      "gender_encoded               int64\n",
      "ever_married_encoded         int32\n",
      "work_type_encoded            int32\n",
      "Residence_type_encoded       int32\n",
      "smoking_status_encoded       int32\n",
      "dtype: object\n"
     ]
    }
   ],
   "source": [
    "print (df.dtypes)"
   ]
  },
  {
   "cell_type": "code",
   "execution_count": 27,
   "metadata": {},
   "outputs": [
    {
     "name": "stdout",
     "output_type": "stream",
     "text": [
      "count    4422.000000\n",
      "mean       48.883311\n",
      "std        18.706121\n",
      "min         7.000000\n",
      "25%        34.000000\n",
      "50%        49.000000\n",
      "75%        63.000000\n",
      "max        82.000000\n",
      "Name: age, dtype: float64\n",
      "\n"
     ]
    }
   ],
   "source": [
    "#Age\n",
    "#Give summary statistics for ALL people in this dataset\n",
    "print(df['age'].describe())\n",
    "print()"
   ]
  },
  {
   "cell_type": "code",
   "execution_count": 28,
   "metadata": {},
   "outputs": [
    {
     "name": "stdout",
     "output_type": "stream",
     "text": [
      "      gender   age  hypertension  heart_disease ever_married work_type  \\\n",
      "2128    Male  17.0             1              0           No   Private   \n",
      "2387  Female  19.0             1              0           No   Private   \n",
      "1554  Female  22.0             1              0           No   Private   \n",
      "928   Female  23.0             1              0           No   Private   \n",
      "2083  Female  24.0             1              0           No   Private   \n",
      "1746    Male  24.0             1              0          Yes   Private   \n",
      "2949  Female  26.0             1              0          Yes   Private   \n",
      "3667  Female  28.0             1              0          Yes  Govt_job   \n",
      "3885  Female  28.0             0              1          Yes   Private   \n",
      "715   Female  28.0             1              0           No   Private   \n",
      "\n",
      "     Residence_type  avg_glucose_level   bmi smoking_status  stroke  \\\n",
      "2128          Rural              61.67  97.6        Unknown       0   \n",
      "2387          Rural              65.96  29.0   never smoked       0   \n",
      "1554          Urban              71.22  40.0   never smoked       0   \n",
      "928           Urban              70.03  78.0         smokes       0   \n",
      "2083          Urban             107.22  35.3         smokes       0   \n",
      "1746          Rural              80.63  28.2         smokes       0   \n",
      "2949          Urban             107.59  33.1         smokes       0   \n",
      "3667          Rural              83.66  36.4   never smoked       0   \n",
      "3885          Rural             111.27  19.1         smokes       0   \n",
      "715           Rural              80.40  57.5   never smoked       0   \n",
      "\n",
      "      gender_encoded  ever_married_encoded  work_type_encoded  \\\n",
      "2128               1                     0                  2   \n",
      "2387               0                     0                  2   \n",
      "1554               0                     0                  2   \n",
      "928                0                     0                  2   \n",
      "2083               0                     0                  2   \n",
      "1746               1                     1                  2   \n",
      "2949               0                     1                  2   \n",
      "3667               0                     1                  0   \n",
      "3885               0                     1                  2   \n",
      "715                0                     0                  2   \n",
      "\n",
      "      Residence_type_encoded  smoking_status_encoded  \n",
      "2128                       0                       0  \n",
      "2387                       0                       2  \n",
      "1554                       1                       2  \n",
      "928                        1                       3  \n",
      "2083                       1                       3  \n",
      "1746                       0                       3  \n",
      "2949                       1                       3  \n",
      "3667                       0                       2  \n",
      "3885                       0                       3  \n",
      "715                        0                       2  \n"
     ]
    }
   ],
   "source": [
    "#obtain and print the 10 youngest people in this dataset with EITHER hypertension, heart disease OR stroke\n",
    "df_disease = df[ ((df['stroke'] == 1) | (df['heart_disease'] == 1) | (df['hypertension'] == 1))]\n",
    "age_disease_youngest_10 = df_disease.nsmallest(10, 'age')\n",
    "#print observations for youngest 10 with any of the three diseases\n",
    "print ( df_disease.sort_values(by='age').head(10))"
   ]
  },
  {
   "cell_type": "code",
   "execution_count": 29,
   "metadata": {},
   "outputs": [
    {
     "name": "stdout",
     "output_type": "stream",
     "text": [
      "(498, 16)\n"
     ]
    }
   ],
   "source": [
    "#Hypertension\n",
    "#df_hypertension_only contains all the observations in the df dataframe (after the removal of work_type = children) with the condition\n",
    "#that hypertension = 1 (present)\n",
    "df_hypertension_only = df_disease[df_disease['hypertension'] == 1]\n",
    "print (df_hypertension_only.shape)"
   ]
  },
  {
   "cell_type": "code",
   "execution_count": 30,
   "metadata": {},
   "outputs": [
    {
     "name": "stdout",
     "output_type": "stream",
     "text": [
      "17.0\n"
     ]
    }
   ],
   "source": [
    "hypertension_min_age = df_hypertension_only['age'].min()\n",
    "print (hypertension_min_age)\n",
    "#print (df_hypertension_only.head(3))"
   ]
  },
  {
   "cell_type": "code",
   "execution_count": 31,
   "metadata": {},
   "outputs": [
    {
     "name": "stdout",
     "output_type": "stream",
     "text": [
      "(4313, 16)\n"
     ]
    }
   ],
   "source": [
    "#df_hypertension_full contains all the observations in the df dataframe (after the removal of work_type = children) with the condition\n",
    "#that the age value should be greater or equal to the minimum age of any person in this dataset with hypertension.\n",
    "df_hypertension_full = df[df['age'] >= hypertension_min_age].copy() #making an explicit copy of the sliced dataframe\n",
    "print (df_hypertension_full.shape) "
   ]
  },
  {
   "cell_type": "code",
   "execution_count": 32,
   "metadata": {},
   "outputs": [
    {
     "name": "stdout",
     "output_type": "stream",
     "text": [
      "(275, 16)\n"
     ]
    }
   ],
   "source": [
    "#Heart disease\n",
    "#df_heart_disease_only contains all the observations in the df dataframe (after the removal of work_type = children) with the condition\n",
    "#that heart_disease = 1 (present)\n",
    "df_heart_disease_only = df_disease[df_disease['heart_disease'] == 1]\n",
    "print (df_heart_disease_only.shape)"
   ]
  },
  {
   "cell_type": "code",
   "execution_count": 33,
   "metadata": {},
   "outputs": [
    {
     "name": "stdout",
     "output_type": "stream",
     "text": [
      "28.0\n"
     ]
    }
   ],
   "source": [
    "heart_disease_min_age = df_heart_disease_only['age'].min()\n",
    "print (heart_disease_min_age)"
   ]
  },
  {
   "cell_type": "code",
   "execution_count": 34,
   "metadata": {},
   "outputs": [
    {
     "name": "stdout",
     "output_type": "stream",
     "text": [
      "(3700, 16)\n"
     ]
    }
   ],
   "source": [
    "#df_heart_disease_full contains all the observations in the df dataframe (after the removal of work_type = children) with the condition\n",
    "#that the age value should be greater or equal to the minimum age of any person in this dataset with heart disease.\n",
    "df_heart_disease_full = df[df['age'] >= heart_disease_min_age].copy() #making an explicit copy of the sliced dataframe\n",
    "print (df_heart_disease_full.shape) "
   ]
  },
  {
   "cell_type": "code",
   "execution_count": 35,
   "metadata": {},
   "outputs": [
    {
     "name": "stdout",
     "output_type": "stream",
     "text": [
      "(247, 16)\n"
     ]
    }
   ],
   "source": [
    "#Stroke\n",
    "#df_stroke_only contains all the observations in the df dataframe (after the removal of work_type = children) with the condition\n",
    "#that stroke = 1 (present)\n",
    "df_stroke_only = df_disease[df_disease['stroke'] == 1]\n",
    "print (df_stroke_only.shape)"
   ]
  },
  {
   "cell_type": "code",
   "execution_count": 36,
   "metadata": {},
   "outputs": [
    {
     "name": "stdout",
     "output_type": "stream",
     "text": [
      "32.0\n"
     ]
    }
   ],
   "source": [
    "stroke_min_age = df_stroke_only['age'].min()\n",
    "print (stroke_min_age)"
   ]
  },
  {
   "cell_type": "code",
   "execution_count": 37,
   "metadata": {},
   "outputs": [
    {
     "name": "stdout",
     "output_type": "stream",
     "text": [
      "(3461, 16)\n"
     ]
    }
   ],
   "source": [
    "#df_stroke_full contains all the observations in the df dataframe (after the removal of work_type = children) with the condition\n",
    "#that the age value should be greater or equal to the minimum age of any person in this dataset with stroke.\n",
    "df_stroke_full = df[df['age'] >= stroke_min_age].copy() #making an explicit copy of the sliced dataframe\n",
    "print (df_stroke_full.shape) "
   ]
  },
  {
   "cell_type": "code",
   "execution_count": 38,
   "metadata": {},
   "outputs": [],
   "source": [
    "#This function creates a categorical age variable based on the median age with the dataframe it receives as an argument.\n",
    "#(One of the variables in the dataframe argument must be age.) It then returns the modified dataframe.\n",
    "def create_age_category(df, age_column='age', category_name='Age_temp_cat'):\n",
    "    median_age = round(df[age_column].median())\n",
    "    print(\"Median Age:\", median_age)\n",
    "\n",
    "    bins = [0, median_age, df[age_column].max() + 1]\n",
    "    labels = [0, 1]\n",
    "\n",
    "    df[category_name] = pd.cut(df[age_column], bins=bins, labels=labels, right=False)\n",
    "    return df"
   ]
  },
  {
   "cell_type": "code",
   "execution_count": 39,
   "metadata": {},
   "outputs": [],
   "source": [
    "#This function encodes a categorical age variable in a dataframe using LabelEncoder.\n",
    "#It then drops the categorical age variable and returns the modified dataframe.\n",
    "def encode_age_category(df, category_name='Age_temp_cat', encoded_name='Age_temp'):\n",
    "    encoder = LabelEncoder()\n",
    "    df[encoded_name] = encoder.fit_transform(df[category_name])\n",
    "    df.drop(category_name, axis=1, inplace=True)\n",
    "    return df"
   ]
  },
  {
   "cell_type": "code",
   "execution_count": 40,
   "metadata": {},
   "outputs": [],
   "source": [
    "#Creates a categorical glucose level column based on the median glucose level and \n",
    "#returns the modified dataframe\n",
    "def create_glucose_category(df, glucose_column='avg_glucose_level', category_name='avg_glucose_level_temp_cat'):\n",
    "    median_glucose = round(df[glucose_column].median())\n",
    "    print(\"Median Avg Glucose Level:\", median_glucose)\n",
    "\n",
    "    bins = [0, median_glucose, df[glucose_column].max() + 1]\n",
    "    labels = [0, 1]\n",
    "\n",
    "    df[category_name] = pd.cut(df[glucose_column], bins=bins, labels=labels, right=False)\n",
    "    return df"
   ]
  },
  {
   "cell_type": "code",
   "execution_count": 41,
   "metadata": {},
   "outputs": [],
   "source": [
    "# Encodes the categorical glucose level column using LabelEncoder and\n",
    "# returns the modified dataframe\n",
    "def encode_glucose_category(df, category_name='avg_glucose_level_temp_cat', encoded_name='avg_glucose_level_temp'):\n",
    "    label_encoder = LabelEncoder()\n",
    "    df[encoded_name] = label_encoder.fit_transform(df[category_name]) + 1  # +1 to match the original labels\n",
    "    df.drop(category_name, axis=1, inplace=True)\n",
    "    return df"
   ]
  },
  {
   "cell_type": "code",
   "execution_count": 42,
   "metadata": {},
   "outputs": [],
   "source": [
    "#  Imputes missing BMI values using grouped medians based on other relevant variables in this dataframe. \n",
    "def impute_bmi_with_grouped_medians(df):\n",
    "     # Identify the variables to group by\n",
    "    grouping_columns = [\n",
    "                         'gender_encoded',\n",
    "                         'work_type_encoded',\n",
    "                        'Residence_type_encoded', 'smoking_status_encoded',\n",
    "                        'Age_temp' , 'avg_glucose_level_temp'\n",
    "                        ]\n",
    "    # Calculate grouped medians\n",
    "    grouped_medians = df.groupby(grouping_columns)['bmi'].transform('median')\n",
    "\n",
    "     # Impute missing values\n",
    "    df['bmi'] = df['bmi'].fillna(grouped_medians)\n",
    "    return (df)"
   ]
  },
  {
   "cell_type": "code",
   "execution_count": 43,
   "metadata": {},
   "outputs": [],
   "source": [
    " #prints observations with missing BMI values in a DataFrame.\n",
    "def print_missing_bmi_rows(df, bmi_column='bmi'):\n",
    "    missing_bmi_rows = df[df[bmi_column].isnull()]\n",
    "    if not missing_bmi_rows.empty:\n",
    "        print(\"Rows with missing BMI values:\")\n",
    "        print(missing_bmi_rows)\n",
    "    else:\n",
    "        print(\"No missing BMI values found.\")"
   ]
  },
  {
   "cell_type": "code",
   "execution_count": 44,
   "metadata": {},
   "outputs": [],
   "source": [
    "\n",
    "#computes the minimum and maximum values of a numerical variable in a pandas dataframe and returns them\n",
    "def get_min_max_values(df, numerical_variable):\n",
    "    if numerical_variable not in df.columns:\n",
    "        print(f\"Error: Column '{numerical_variable}' not found in the dataframe\")\n",
    "        \n",
    "\n",
    "    try:\n",
    "        min_value = df[numerical_variable].min()\n",
    "        max_value = df[numerical_variable].max()\n",
    "        return min_value, max_value\n",
    "    except TypeError:\n",
    "        print(f\"Error: Column '{numerical_variable}' is not numeric.\")"
   ]
  },
  {
   "cell_type": "code",
   "execution_count": 45,
   "metadata": {},
   "outputs": [
    {
     "name": "stdout",
     "output_type": "stream",
     "text": [
      "Median Age: 55\n",
      "   gender   age  hypertension  heart_disease ever_married      work_type  \\\n",
      "0    Male  67.0             0              1          Yes        Private   \n",
      "1  Female  61.0             0              0          Yes  Self-employed   \n",
      "2    Male  80.0             0              1          Yes        Private   \n",
      "\n",
      "  Residence_type  avg_glucose_level   bmi   smoking_status  stroke  \\\n",
      "0          Urban             228.69  36.6  formerly smoked       1   \n",
      "1          Rural             202.21   NaN     never smoked       1   \n",
      "2          Rural             105.92  32.5     never smoked       1   \n",
      "\n",
      "   gender_encoded  ever_married_encoded  work_type_encoded  \\\n",
      "0               1                     1                  2   \n",
      "1               0                     1                  3   \n",
      "2               1                     1                  2   \n",
      "\n",
      "   Residence_type_encoded  smoking_status_encoded  Age_temp  \n",
      "0                       1                       1         1  \n",
      "1                       0                       2         1  \n",
      "2                       0                       2         1  \n"
     ]
    }
   ],
   "source": [
    "# Create the Age_temp_cat column\n",
    "df_stroke_full = create_age_category(df_stroke_full)\n",
    "\n",
    "# Encode the Age_temp_cat column\n",
    "df_stroke_full = encode_age_category(df_stroke_full)\n",
    "\n",
    "print (df_stroke_full.head(3))"
   ]
  },
  {
   "cell_type": "code",
   "execution_count": 46,
   "metadata": {},
   "outputs": [
    {
     "name": "stdout",
     "output_type": "stream",
     "text": [
      "Median Avg Glucose Level: 94\n"
     ]
    }
   ],
   "source": [
    "\n",
    "# Create the avg_glucose_level_temp_cat column\n",
    "df_stroke_full = create_glucose_category(df_stroke_full)\n",
    "\n",
    "# Encode the avg_glucose_level_temp_cat column\n",
    "df_stroke_full = encode_glucose_category(df_stroke_full)"
   ]
  },
  {
   "cell_type": "code",
   "execution_count": 47,
   "metadata": {},
   "outputs": [
    {
     "name": "stdout",
     "output_type": "stream",
     "text": [
      "   gender   age  hypertension  heart_disease ever_married      work_type  \\\n",
      "0    Male  67.0             0              1          Yes        Private   \n",
      "1  Female  61.0             0              0          Yes  Self-employed   \n",
      "2    Male  80.0             0              1          Yes        Private   \n",
      "\n",
      "  Residence_type  avg_glucose_level   bmi   smoking_status  stroke  \\\n",
      "0          Urban             228.69  36.6  formerly smoked       1   \n",
      "1          Rural             202.21  28.8     never smoked       1   \n",
      "2          Rural             105.92  32.5     never smoked       1   \n",
      "\n",
      "   gender_encoded  ever_married_encoded  work_type_encoded  \\\n",
      "0               1                     1                  2   \n",
      "1               0                     1                  3   \n",
      "2               1                     1                  2   \n",
      "\n",
      "   Residence_type_encoded  smoking_status_encoded  Age_temp  \\\n",
      "0                       1                       1         1   \n",
      "1                       0                       2         1   \n",
      "2                       0                       2         1   \n",
      "\n",
      "   avg_glucose_level_temp  \n",
      "0                       2  \n",
      "1                       2  \n",
      "2                       2  \n"
     ]
    }
   ],
   "source": [
    "# Impute missing BMI values\n",
    "df_stroke_full = impute_bmi_with_grouped_medians(df_stroke_full)\n",
    "print (df_stroke_full.head(3))\n"
   ]
  },
  {
   "cell_type": "code",
   "execution_count": 48,
   "metadata": {},
   "outputs": [
    {
     "name": "stdout",
     "output_type": "stream",
     "text": [
      "gender                    0\n",
      "age                       0\n",
      "hypertension              0\n",
      "heart_disease             0\n",
      "ever_married              0\n",
      "work_type                 0\n",
      "Residence_type            0\n",
      "avg_glucose_level         0\n",
      "bmi                       0\n",
      "smoking_status            0\n",
      "stroke                    0\n",
      "gender_encoded            0\n",
      "ever_married_encoded      0\n",
      "work_type_encoded         0\n",
      "Residence_type_encoded    0\n",
      "smoking_status_encoded    0\n",
      "Age_temp                  0\n",
      "avg_glucose_level_temp    0\n",
      "dtype: int64\n"
     ]
    }
   ],
   "source": [
    "\n",
    "#checking for presence of missing values\n",
    "print (df_stroke_full.isnull().sum())"
   ]
  },
  {
   "cell_type": "code",
   "execution_count": 49,
   "metadata": {},
   "outputs": [
    {
     "name": "stdout",
     "output_type": "stream",
     "text": [
      "No missing BMI values found.\n"
     ]
    }
   ],
   "source": [
    "# Print observations with missing BMI values\n",
    "print_missing_bmi_rows(df_stroke_full)"
   ]
  },
  {
   "cell_type": "code",
   "execution_count": 50,
   "metadata": {},
   "outputs": [
    {
     "name": "stdout",
     "output_type": "stream",
     "text": [
      "gender                    category\n",
      "age                        float64\n",
      "hypertension                 int64\n",
      "heart_disease                int64\n",
      "ever_married              category\n",
      "work_type                 category\n",
      "Residence_type            category\n",
      "avg_glucose_level          float64\n",
      "bmi                        float64\n",
      "smoking_status            category\n",
      "stroke                       int64\n",
      "gender_encoded               int64\n",
      "ever_married_encoded         int32\n",
      "work_type_encoded            int32\n",
      "Residence_type_encoded       int32\n",
      "smoking_status_encoded       int32\n",
      "Age_temp                     int64\n",
      "avg_glucose_level_temp       int64\n",
      "dtype: object\n"
     ]
    }
   ],
   "source": [
    "print (df_stroke_full.dtypes)"
   ]
  },
  {
   "cell_type": "code",
   "execution_count": 51,
   "metadata": {},
   "outputs": [
    {
     "name": "stdout",
     "output_type": "stream",
     "text": [
      "32.0 82.0\n"
     ]
    }
   ],
   "source": [
    "#Obtain minimum and maximum values of age in df_stroke_full\n",
    "stroke_all_min_age, stroke_all_max_age = get_min_max_values(df_stroke_full, 'age')\n",
    "print (stroke_all_min_age, stroke_all_max_age)"
   ]
  },
  {
   "cell_type": "code",
   "execution_count": 52,
   "metadata": {},
   "outputs": [
    {
     "name": "stdout",
     "output_type": "stream",
     "text": [
      "\n",
      "\n",
      "32.0\n"
     ]
    }
   ],
   "source": [
    "#checking for minimum age criterion\n",
    "#stroke_all_min_age = df_stroke_full['age'].min()\n",
    "#print (stroke_all_min_age)\n",
    "print()\n",
    "print()\n",
    "stroke_yes_min_age = df_stroke_full[df_stroke_full['stroke'] == 1]['age'].min()\n",
    "print (stroke_yes_min_age)"
   ]
  },
  {
   "cell_type": "code",
   "execution_count": 53,
   "metadata": {},
   "outputs": [
    {
     "name": "stdout",
     "output_type": "stream",
     "text": [
      "\n",
      "\n",
      "82.0\n"
     ]
    }
   ],
   "source": [
    "#checking for maximum age criterion\n",
    "\n",
    "#stroke_all_max_age = df_stroke_full['age'].max()\n",
    "#print (stroke_all_max_age)\n",
    "print()\n",
    "print()\n",
    "stroke_yes_max_age = df_stroke_full[df_stroke_full['stroke'] == 1]['age'].max()\n",
    "print (stroke_yes_max_age)"
   ]
  },
  {
   "cell_type": "code",
   "execution_count": 54,
   "metadata": {},
   "outputs": [
    {
     "data": {
      "text/plain": [
       "(3461, 18)"
      ]
     },
     "execution_count": 54,
     "metadata": {},
     "output_type": "execute_result"
    }
   ],
   "source": [
    "#After checking for the age cut-off\n",
    "df_stroke_full.shape"
   ]
  },
  {
   "cell_type": "code",
   "execution_count": 55,
   "metadata": {},
   "outputs": [
    {
     "name": "stdout",
     "output_type": "stream",
     "text": [
      "55.22 271.74\n"
     ]
    }
   ],
   "source": [
    "#Obtain minimum and maximum values of avg_glucose_level in df_stroke_full\n",
    "stroke_all_min_avg_glucose_level, stroke_all_max_avg_glucose_level = get_min_max_values(df_stroke_full, 'avg_glucose_level')\n",
    "print (stroke_all_min_avg_glucose_level, stroke_all_max_avg_glucose_level)"
   ]
  },
  {
   "cell_type": "code",
   "execution_count": 56,
   "metadata": {},
   "outputs": [
    {
     "name": "stdout",
     "output_type": "stream",
     "text": [
      "\n",
      "\n",
      "56.11\n"
     ]
    }
   ],
   "source": [
    "#checking for minimum avg_glucose_level\n",
    "#stroke_all_min_avg_glucose_level = df_stroke_full['avg_glucose_level'].min()\n",
    "#print (stroke_all_min_avg_glucose_level)\n",
    "print()\n",
    "print()\n",
    "stroke_yes_min_avg_glucose_level = df_stroke_full[df_stroke_full['stroke'] == 1]['avg_glucose_level'].min()\n",
    "print (stroke_yes_min_avg_glucose_level)"
   ]
  },
  {
   "cell_type": "code",
   "execution_count": 57,
   "metadata": {},
   "outputs": [
    {
     "name": "stdout",
     "output_type": "stream",
     "text": [
      "\n",
      "\n",
      "271.74\n"
     ]
    }
   ],
   "source": [
    "#checking for maximum avg_glucose_level\n",
    "#stroke_all_max_avg_glucose_level = df_stroke_full['avg_glucose_level'].max()\n",
    "#print (stroke_all_max_avg_glucose_level)\n",
    "print()\n",
    "print()\n",
    "stroke_yes_max_avg_glucose_level = df_stroke_full[df_stroke_full['stroke'] == 1]['avg_glucose_level'].max()\n",
    "print (stroke_yes_max_avg_glucose_level)"
   ]
  },
  {
   "cell_type": "code",
   "execution_count": 58,
   "metadata": {},
   "outputs": [
    {
     "name": "stdout",
     "output_type": "stream",
     "text": [
      "11.3 92.0\n"
     ]
    }
   ],
   "source": [
    "#While the maximum avg_glucose_level cut-off is being satisfied, the minimum avg_glucose_level cut-off is not being satisfied. We will have to do filtering to ensure that the minimum age value of any observation in\n",
    "\n",
    "#the stroke dataframe for avg_glucose_level is 56.11.\n",
    "\n",
    "#Let us now perform a similar check on the BMI values\n",
    "\n",
    "stroke_all_min_bmi, stroke_all_max_bmi = get_min_max_values(df_stroke_full, 'bmi')\n",
    "print (stroke_all_min_bmi, stroke_all_max_bmi)"
   ]
  },
  {
   "cell_type": "code",
   "execution_count": 59,
   "metadata": {},
   "outputs": [
    {
     "name": "stdout",
     "output_type": "stream",
     "text": [
      "\n",
      "\n",
      "16.9\n"
     ]
    }
   ],
   "source": [
    "#checking for minimum bmi\n",
    "#stroke_all_min_bmi = df_stroke_full['bmi'].min()\n",
    "#print (stroke_all_min_bmi)\n",
    "print()\n",
    "print()\n",
    "stroke_yes_min_bmi = df_stroke_full[df_stroke_full['stroke'] == 1]['bmi'].min()\n",
    "print (stroke_yes_min_bmi)"
   ]
  },
  {
   "cell_type": "code",
   "execution_count": 60,
   "metadata": {},
   "outputs": [
    {
     "name": "stdout",
     "output_type": "stream",
     "text": [
      "\n",
      "\n",
      "56.6\n"
     ]
    }
   ],
   "source": [
    "#checking for maximum bmi\n",
    "#stroke_all_max_bmi = df_stroke_full['bmi'].max()\n",
    "#print (stroke_all_max_bmi)\n",
    "print()\n",
    "print()\n",
    "stroke_yes_max_bmi = df_stroke_full[df_stroke_full['stroke'] == 1]['bmi'].max()\n",
    "print (stroke_yes_max_bmi)"
   ]
  },
  {
   "cell_type": "code",
   "execution_count": 61,
   "metadata": {},
   "outputs": [],
   "source": [
    "#We note that the lower and upper cut-off values for bmi in the df_stroke_full dataframe for observations with stroke = 1 is 16.9 and 56.6 while the lower and upper cut-off values for all observations in this\n",
    "\n",
    "#dataframe is 11.3 and 92. We will need to ensure that the stroke dataframe has bmi values between 16.9 and 56.6. Let us filter the df_stroke_full dataframe to improve its quality for the purpose of modelling."
   ]
  },
  {
   "cell_type": "code",
   "execution_count": 62,
   "metadata": {},
   "outputs": [
    {
     "name": "stdout",
     "output_type": "stream",
     "text": [
      "(3413, 18)\n"
     ]
    }
   ],
   "source": [
    "df_stroke_full = df_stroke_full[\n",
    "    (df_stroke_full['bmi'] >= stroke_yes_min_bmi) & (df_stroke_full['bmi'] <= stroke_yes_max_bmi) & \n",
    "    (df_stroke_full['avg_glucose_level'] >= stroke_yes_min_avg_glucose_level) &\n",
    "    (df_stroke_full['avg_glucose_level'] <= stroke_yes_max_avg_glucose_level)\n",
    "\n",
    "]\n",
    "print (df_stroke_full.shape)"
   ]
  },
  {
   "cell_type": "code",
   "execution_count": 63,
   "metadata": {},
   "outputs": [
    {
     "name": "stdout",
     "output_type": "stream",
     "text": [
      "\n",
      "Count of each level in 'gender':\n",
      "Female: 2026\n",
      "Male: 1387\n",
      "\n",
      "Count of each level in 'ever_married':\n",
      "Yes: 3051\n",
      "No: 362\n",
      "\n",
      "Count of each level in 'work_type':\n",
      "Private: 2090\n",
      "Self-employed: 753\n",
      "Govt_job: 570\n",
      "Never_worked: 0\n",
      "\n",
      "Count of each level in 'Residence_type':\n",
      "Urban: 1729\n",
      "Rural: 1684\n",
      "\n",
      "Count of each level in 'smoking_status':\n",
      "never smoked: 1371\n",
      "formerly smoked: 773\n",
      "Unknown: 661\n",
      "smokes: 608\n"
     ]
    }
   ],
   "source": [
    "#print (df_stroke_full.dtypes)\n",
    "\n",
    "# Select all category variables in this dataset and obtain the counts of each levels of those variables.\n",
    "category_columns = df_stroke_full.select_dtypes(include='category').columns\n",
    "\n",
    "for col in category_columns:\n",
    "    print(f\"\\nCount of each level in '{col}':\")\n",
    "    counts = df_stroke_full[col].value_counts()\n",
    "    for category, count in counts.items():\n",
    "        print(f\"{category}: {count}\")"
   ]
  },
  {
   "cell_type": "code",
   "execution_count": 64,
   "metadata": {},
   "outputs": [
    {
     "name": "stdout",
     "output_type": "stream",
     "text": [
      "Index(['Govt_job', 'Private', 'Self-employed'], dtype='object')\n"
     ]
    }
   ],
   "source": [
    "#Dropping the Never_worked level for the work_type category variable\n",
    "df_stroke_full['work_type'] = df_stroke_full['work_type'].cat.remove_categories('Never_worked')\n",
    "print (df_stroke_full['work_type'].cat.categories)"
   ]
  },
  {
   "cell_type": "code",
   "execution_count": 65,
   "metadata": {},
   "outputs": [
    {
     "name": "stdout",
     "output_type": "stream",
     "text": [
      "\n",
      "Count of each level in 'gender':\n",
      "Female: 2026\n",
      "Male: 1387\n",
      "\n",
      "Count of each level in 'ever_married':\n",
      "Yes: 3051\n",
      "No: 362\n",
      "\n",
      "Count of each level in 'work_type':\n",
      "Private: 2090\n",
      "Self-employed: 753\n",
      "Govt_job: 570\n",
      "\n",
      "Count of each level in 'Residence_type':\n",
      "Urban: 1729\n",
      "Rural: 1684\n",
      "\n",
      "Count of each level in 'smoking_status':\n",
      "never smoked: 1371\n",
      "formerly smoked: 773\n",
      "Unknown: 661\n",
      "smokes: 608\n"
     ]
    }
   ],
   "source": [
    "# Select all category variables in this dataset and obtain the counts of each levels of those variables.\n",
    "category_columns = df_stroke_full.select_dtypes(include='category').columns\n",
    "\n",
    "for col in category_columns:\n",
    "    print(f\"\\nCount of each level in '{col}':\")\n",
    "    counts = df_stroke_full[col].value_counts()\n",
    "    for category, count in counts.items():\n",
    "        print(f\"{category}: {count}\")"
   ]
  },
  {
   "cell_type": "code",
   "execution_count": 66,
   "metadata": {},
   "outputs": [],
   "source": [
    "#print (df_stroke_full.dtypes)"
   ]
  },
  {
   "cell_type": "code",
   "execution_count": 67,
   "metadata": {},
   "outputs": [],
   "source": [
    "# Write the cleaned df_stroke_full dataframe to a csv file. \n",
    "df_stroke_full.to_csv('stroke_full.csv', index=False)"
   ]
  },
  {
   "cell_type": "code",
   "execution_count": 68,
   "metadata": {},
   "outputs": [
    {
     "name": "stdout",
     "output_type": "stream",
     "text": [
      "Median Age: 54\n"
     ]
    }
   ],
   "source": [
    "# Create the Age_temp_cat column\n",
    "df_heart_disease_full = create_age_category(df_heart_disease_full)\n",
    "\n",
    "# Encode the Age_temp_cat column\n",
    "df_heart_disease_full = encode_age_category(df_heart_disease_full)\n",
    "\n",
    "#print (df_heart_disease_full.head(3))"
   ]
  },
  {
   "cell_type": "code",
   "execution_count": 69,
   "metadata": {},
   "outputs": [
    {
     "name": "stdout",
     "output_type": "stream",
     "text": [
      "Median Avg Glucose Level: 93\n"
     ]
    }
   ],
   "source": [
    "# Create the avg_glucose_level_temp_cat column\n",
    "df_heart_disease_full = create_glucose_category(df_heart_disease_full)\n",
    "\n",
    "# Encode the avg_glucose_level_temp_cat column\n",
    "df_heart_disease_full = encode_glucose_category(df_heart_disease_full)"
   ]
  },
  {
   "cell_type": "code",
   "execution_count": 70,
   "metadata": {},
   "outputs": [],
   "source": [
    "# Impute missing BMI values\n",
    "df_heart_disease_full = impute_bmi_with_grouped_medians(df_heart_disease_full)\n",
    "#print (df_heart_disease_full.head(3))"
   ]
  },
  {
   "cell_type": "code",
   "execution_count": 71,
   "metadata": {},
   "outputs": [
    {
     "name": "stdout",
     "output_type": "stream",
     "text": [
      "No missing BMI values found.\n"
     ]
    }
   ],
   "source": [
    "# Print observations with missing BMI values\n",
    "print_missing_bmi_rows(df_heart_disease_full)"
   ]
  },
  {
   "cell_type": "code",
   "execution_count": 72,
   "metadata": {},
   "outputs": [],
   "source": [
    "#print (df_heart_disease_full.dtypes)"
   ]
  },
  {
   "cell_type": "code",
   "execution_count": 73,
   "metadata": {},
   "outputs": [
    {
     "name": "stdout",
     "output_type": "stream",
     "text": [
      "28.0 82.0\n"
     ]
    }
   ],
   "source": [
    "#Obtain minimum and maximum values of age in df_heart_disease_full\n",
    "heart_disease_all_min_age, heart_disease_all_max_age = get_min_max_values(df_heart_disease_full, 'age')\n",
    "print (heart_disease_all_min_age, heart_disease_all_max_age)"
   ]
  },
  {
   "cell_type": "code",
   "execution_count": 74,
   "metadata": {},
   "outputs": [
    {
     "name": "stdout",
     "output_type": "stream",
     "text": [
      "28.0 82.0\n"
     ]
    }
   ],
   "source": [
    "#Identifying minimum age criterion and maximum age criterion in df_heart_disease_full\n",
    "heart_disease_yes_min_age = df_heart_disease_full[df_heart_disease_full['heart_disease'] == 1]['age'].min()\n",
    "heart_disease_yes_max_age = df_heart_disease_full[df_heart_disease_full['heart_disease'] == 1]['age'].max()\n",
    "print (heart_disease_yes_min_age, heart_disease_yes_max_age)"
   ]
  },
  {
   "cell_type": "code",
   "execution_count": 75,
   "metadata": {},
   "outputs": [
    {
     "name": "stdout",
     "output_type": "stream",
     "text": [
      "55.22 271.74\n"
     ]
    }
   ],
   "source": [
    "#Obtain minimum and maximum values of avg_glucose_level  in df_heart_disease_full\n",
    "heart_disease_all_min_avg_glucose_level, heart_disease_all_max_avg_glucose_level = get_min_max_values(df_heart_disease_full, 'avg_glucose_level')\n",
    "print (heart_disease_all_min_avg_glucose_level, heart_disease_all_max_avg_glucose_level)"
   ]
  },
  {
   "cell_type": "code",
   "execution_count": 76,
   "metadata": {},
   "outputs": [
    {
     "name": "stdout",
     "output_type": "stream",
     "text": [
      "56.31 271.74\n"
     ]
    }
   ],
   "source": [
    "#Identifying minimum avg_glucose_level criterion and maximum avg_glucose_level criterion in df_heart_disease_full\n",
    "heart_disease_yes_min_avg_glucose_level = df_heart_disease_full[df_heart_disease_full['heart_disease'] == 1]['avg_glucose_level'].min()\n",
    "heart_disease_yes_max_avg_glucose_level = df_heart_disease_full[df_heart_disease_full['heart_disease'] == 1]['avg_glucose_level'].max()\n",
    "\n",
    "print (heart_disease_yes_min_avg_glucose_level,heart_disease_yes_max_avg_glucose_level )"
   ]
  },
  {
   "cell_type": "code",
   "execution_count": 77,
   "metadata": {},
   "outputs": [],
   "source": [
    "#The maximum value of avg_glucose_level in df_heart_disease_full is equal to the upper cut-off value. However, the minimum value of avg_glucose_level in df_heart_disease_full is lower than the lower cut-off value.\n",
    "\n",
    "#Consequently, we will have to filter this dataframe appropriately. We move on to bmi for now."
   ]
  },
  {
   "cell_type": "code",
   "execution_count": 78,
   "metadata": {},
   "outputs": [
    {
     "name": "stdout",
     "output_type": "stream",
     "text": [
      "11.3 92.0\n"
     ]
    }
   ],
   "source": [
    "#Obtain minimum and maximum values of bmi in df_heart_disease_full\n",
    "heart_disease_all_min_bmi, heart_disease_all_max_bmi = get_min_max_values(df_heart_disease_full, 'bmi')\n",
    "print (heart_disease_all_min_bmi, heart_disease_all_max_bmi)"
   ]
  },
  {
   "cell_type": "code",
   "execution_count": 79,
   "metadata": {},
   "outputs": [
    {
     "name": "stdout",
     "output_type": "stream",
     "text": [
      "19.1 54.7\n"
     ]
    }
   ],
   "source": [
    "#Identifying minimum bmi criterion and maximum bmi criterion in df_heart_disease_full\n",
    "heart_disease_yes_min_bmi = df_heart_disease_full[df_heart_disease_full['heart_disease'] == 1]['bmi'].min()\n",
    "heart_disease_yes_max_bmi = df_heart_disease_full[df_heart_disease_full['heart_disease'] == 1]['bmi'].max()\n",
    "\n",
    "print (heart_disease_yes_min_bmi,heart_disease_yes_max_bmi )"
   ]
  },
  {
   "cell_type": "code",
   "execution_count": 80,
   "metadata": {},
   "outputs": [
    {
     "name": "stdout",
     "output_type": "stream",
     "text": [
      "(3604, 18)\n"
     ]
    }
   ],
   "source": [
    "df_heart_disease_full = df_heart_disease_full[\n",
    "    (df_heart_disease_full['bmi'] >= heart_disease_yes_min_bmi) & (df_heart_disease_full['bmi'] <= heart_disease_yes_max_bmi) & \n",
    "    (df_heart_disease_full['avg_glucose_level'] >= heart_disease_yes_min_avg_glucose_level) &\n",
    "    (df_heart_disease_full['avg_glucose_level'] <= heart_disease_yes_max_avg_glucose_level)\n",
    "\n",
    "]\n",
    "print (df_heart_disease_full.shape)"
   ]
  },
  {
   "cell_type": "code",
   "execution_count": 81,
   "metadata": {},
   "outputs": [
    {
     "name": "stdout",
     "output_type": "stream",
     "text": [
      "\n",
      "Count of each level in 'gender':\n",
      "Female: 2149\n",
      "Male: 1455\n",
      "\n",
      "Count of each level in 'ever_married':\n",
      "Yes: 3154\n",
      "No: 450\n",
      "\n",
      "Count of each level in 'work_type':\n",
      "Private: 2247\n",
      "Self-employed: 766\n",
      "Govt_job: 591\n",
      "Never_worked: 0\n",
      "\n",
      "Count of each level in 'Residence_type':\n",
      "Urban: 1845\n",
      "Rural: 1759\n",
      "\n",
      "Count of each level in 'smoking_status':\n",
      "never smoked: 1450\n",
      "formerly smoked: 792\n",
      "Unknown: 700\n",
      "smokes: 662\n"
     ]
    }
   ],
   "source": [
    "# Select all category variables in this dataset and obtain the counts of each levels of those variables.\n",
    "category_columns = df_heart_disease_full.select_dtypes(include='category').columns\n",
    "\n",
    "for col in category_columns:\n",
    "    print(f\"\\nCount of each level in '{col}':\")\n",
    "    counts = df_heart_disease_full[col].value_counts()\n",
    "    for category, count in counts.items():\n",
    "        print(f\"{category}: {count}\")"
   ]
  },
  {
   "cell_type": "code",
   "execution_count": 82,
   "metadata": {},
   "outputs": [
    {
     "name": "stdout",
     "output_type": "stream",
     "text": [
      "Index(['Govt_job', 'Private', 'Self-employed'], dtype='object')\n"
     ]
    }
   ],
   "source": [
    "#Dropping the Never_worked level for the work_type category variable\n",
    "df_heart_disease_full['work_type'] = df_heart_disease_full['work_type'].cat.remove_categories('Never_worked')\n",
    "print (df_heart_disease_full['work_type'].cat.categories)"
   ]
  },
  {
   "cell_type": "code",
   "execution_count": 83,
   "metadata": {},
   "outputs": [
    {
     "name": "stdout",
     "output_type": "stream",
     "text": [
      "\n",
      "Count of each level in 'gender':\n",
      "Female: 2149\n",
      "Male: 1455\n",
      "\n",
      "Count of each level in 'ever_married':\n",
      "Yes: 3154\n",
      "No: 450\n",
      "\n",
      "Count of each level in 'work_type':\n",
      "Private: 2247\n",
      "Self-employed: 766\n",
      "Govt_job: 591\n",
      "\n",
      "Count of each level in 'Residence_type':\n",
      "Urban: 1845\n",
      "Rural: 1759\n",
      "\n",
      "Count of each level in 'smoking_status':\n",
      "never smoked: 1450\n",
      "formerly smoked: 792\n",
      "Unknown: 700\n",
      "smokes: 662\n"
     ]
    }
   ],
   "source": [
    "# Select all category variables in this dataset and obtain the counts of each levels of those variables.\n",
    "category_columns = df_heart_disease_full.select_dtypes(include='category').columns\n",
    "\n",
    "for col in category_columns:\n",
    "    print(f\"\\nCount of each level in '{col}':\")\n",
    "    counts = df_heart_disease_full[col].value_counts()\n",
    "    for category, count in counts.items():\n",
    "        print(f\"{category}: {count}\")"
   ]
  },
  {
   "cell_type": "code",
   "execution_count": 84,
   "metadata": {},
   "outputs": [],
   "source": [
    "# Write the cleaned df_heart_disease_full dataframe to a csv file\n",
    "df_heart_disease_full.to_csv('heart_disease_full.csv', index=False)"
   ]
  },
  {
   "cell_type": "code",
   "execution_count": 85,
   "metadata": {},
   "outputs": [
    {
     "name": "stdout",
     "output_type": "stream",
     "text": [
      "Median Age: 50\n"
     ]
    }
   ],
   "source": [
    "# Create the Age_temp_cat column\n",
    "df_hypertension_full = create_age_category(df_hypertension_full)\n",
    "\n",
    "# Encode the Age_temp_cat column\n",
    "df_hypertension_full = encode_age_category(df_hypertension_full)\n",
    "\n",
    "#print (df_heart_disease_full.head(3))"
   ]
  },
  {
   "cell_type": "code",
   "execution_count": 86,
   "metadata": {},
   "outputs": [
    {
     "name": "stdout",
     "output_type": "stream",
     "text": [
      "Median Avg Glucose Level: 92\n"
     ]
    }
   ],
   "source": [
    "# Create the avg_glucose_level_temp_cat column\n",
    "df_hypertension_full = create_glucose_category(df_hypertension_full)\n",
    "\n",
    "# Encode the avg_glucose_level_temp_cat column\n",
    "df_hypertension_full = encode_glucose_category(df_hypertension_full)"
   ]
  },
  {
   "cell_type": "code",
   "execution_count": 87,
   "metadata": {},
   "outputs": [],
   "source": [
    "# Impute missing BMI values\n",
    "df_hypertension_full = impute_bmi_with_grouped_medians(df_hypertension_full)\n",
    "#print (df_hypertension_full.head(3))"
   ]
  },
  {
   "cell_type": "code",
   "execution_count": 88,
   "metadata": {},
   "outputs": [
    {
     "name": "stdout",
     "output_type": "stream",
     "text": [
      "No missing BMI values found.\n"
     ]
    }
   ],
   "source": [
    "# Print observations with missing BMI values\n",
    "print_missing_bmi_rows(df_hypertension_full)"
   ]
  },
  {
   "cell_type": "code",
   "execution_count": 89,
   "metadata": {},
   "outputs": [
    {
     "name": "stdout",
     "output_type": "stream",
     "text": [
      "17.0 82.0\n"
     ]
    }
   ],
   "source": [
    "#Obtain minimum and maximum values of age in df_hypertension_full\n",
    "hypertension_all_min_age, hypertension_all_max_age = get_min_max_values(df_hypertension_full, 'age')\n",
    "print (hypertension_all_min_age, hypertension_all_max_age)"
   ]
  },
  {
   "cell_type": "code",
   "execution_count": 90,
   "metadata": {},
   "outputs": [
    {
     "name": "stdout",
     "output_type": "stream",
     "text": [
      "17.0 82.0\n"
     ]
    }
   ],
   "source": [
    "#Identifying minimum age criterion and maximum age criterion in df_heart_disease_full\n",
    "hypertension_yes_min_age = df_hypertension_full[df_hypertension_full['hypertension'] == 1]['age'].min()\n",
    "hypertension_yes_max_age = df_hypertension_full[df_hypertension_full['hypertension'] == 1]['age'].max()\n",
    "print (hypertension_yes_min_age, hypertension_yes_max_age)"
   ]
  },
  {
   "cell_type": "code",
   "execution_count": 91,
   "metadata": {},
   "outputs": [
    {
     "name": "stdout",
     "output_type": "stream",
     "text": [
      "55.12 271.74\n"
     ]
    }
   ],
   "source": [
    "#Obtain minimum and maximum values of avg_glucose_level  in df_hypertension\n",
    "hypertension_all_min_avg_glucose_level, hypertension_all_max_avg_glucose_level = get_min_max_values(df_hypertension_full, 'avg_glucose_level')\n",
    "print (hypertension_all_min_avg_glucose_level, hypertension_all_max_avg_glucose_level)"
   ]
  },
  {
   "cell_type": "code",
   "execution_count": 92,
   "metadata": {},
   "outputs": [
    {
     "name": "stdout",
     "output_type": "stream",
     "text": [
      "56.31 271.74\n"
     ]
    }
   ],
   "source": [
    "#Identifying minimum avg_glucose_level criterion and maximum avg_glucose_level criterion in df_hypertension_full\n",
    "hypertension_yes_min_avg_glucose_level = df_hypertension_full[df_hypertension_full['hypertension'] == 1]['avg_glucose_level'].min()\n",
    "hypertension_yes_max_avg_glucose_level = df_hypertension_full[df_hypertension_full['hypertension'] == 1]['avg_glucose_level'].max()\n",
    "\n",
    "print (heart_disease_yes_min_avg_glucose_level,heart_disease_yes_max_avg_glucose_level )"
   ]
  },
  {
   "cell_type": "code",
   "execution_count": 93,
   "metadata": {},
   "outputs": [
    {
     "name": "stdout",
     "output_type": "stream",
     "text": [
      "11.3 97.6\n"
     ]
    }
   ],
   "source": [
    "#Obtain minimum and maximum values of bmi in df_heart_disease_full\n",
    "hypertension_all_min_bmi, hypertension_all_max_bmi = get_min_max_values(df_hypertension_full, 'bmi')\n",
    "print (hypertension_all_min_bmi, hypertension_all_max_bmi)"
   ]
  },
  {
   "cell_type": "code",
   "execution_count": 94,
   "metadata": {},
   "outputs": [
    {
     "name": "stdout",
     "output_type": "stream",
     "text": [
      "15.0 97.6\n"
     ]
    }
   ],
   "source": [
    "#Identifying minimum bmi criterion and maximum bmi criterion in df_heart_disease_full\n",
    "hypertension_yes_min_bmi = df_hypertension_full[df_hypertension_full['hypertension'] == 1]['bmi'].min()\n",
    "hypertension_yes_max_bmi = df_hypertension_full[df_hypertension_full['hypertension'] == 1]['bmi'].max()\n",
    "\n",
    "print (hypertension_yes_min_bmi,hypertension_yes_max_bmi )"
   ]
  },
  {
   "cell_type": "code",
   "execution_count": 95,
   "metadata": {},
   "outputs": [
    {
     "name": "stdout",
     "output_type": "stream",
     "text": [
      "(4242, 18)\n"
     ]
    }
   ],
   "source": [
    "df_hypertension_full = df_hypertension_full[\n",
    "    (df_hypertension_full['bmi'] >= heart_disease_yes_min_bmi) & (df_hypertension_full['bmi'] <= hypertension_yes_max_bmi) & \n",
    "    (df_hypertension_full['avg_glucose_level'] >= hypertension_yes_min_avg_glucose_level) &\n",
    "    (df_hypertension_full['avg_glucose_level'] <= hypertension_yes_max_avg_glucose_level)\n",
    "\n",
    "]\n",
    "print (df_hypertension_full.shape)"
   ]
  },
  {
   "cell_type": "code",
   "execution_count": 96,
   "metadata": {},
   "outputs": [
    {
     "name": "stdout",
     "output_type": "stream",
     "text": [
      "\n",
      "Count of each level in 'gender':\n",
      "Female: 2560\n",
      "Male: 1682\n",
      "\n",
      "Count of each level in 'ever_married':\n",
      "Yes: 3308\n",
      "No: 934\n",
      "\n",
      "Count of each level in 'work_type':\n",
      "Private: 2787\n",
      "Self-employed: 798\n",
      "Govt_job: 648\n",
      "Never_worked: 9\n",
      "\n",
      "Count of each level in 'Residence_type':\n",
      "Urban: 2160\n",
      "Rural: 2082\n",
      "\n",
      "Count of each level in 'smoking_status':\n",
      "never smoked: 1745\n",
      "Unknown: 874\n",
      "formerly smoked: 850\n",
      "smokes: 773\n"
     ]
    }
   ],
   "source": [
    "# Select all category variables in this dataset and obtain the counts of each levels of those variables.\n",
    "category_columns = df_hypertension_full.select_dtypes(include='category').columns\n",
    "\n",
    "for col in category_columns:\n",
    "    print(f\"\\nCount of each level in '{col}':\")\n",
    "    counts = df_hypertension_full[col].value_counts()\n",
    "    for category, count in counts.items():\n",
    "        print(f\"{category}: {count}\")"
   ]
  },
  {
   "cell_type": "code",
   "execution_count": 97,
   "metadata": {},
   "outputs": [],
   "source": [
    "# Write the cleaned df_hypertension_full dataframe to a csv file\n",
    "df_hypertension_full.to_csv('hypertension_full.csv', index=False)"
   ]
  },
  {
   "cell_type": "code",
   "execution_count": 98,
   "metadata": {},
   "outputs": [],
   "source": [
    "df_stroke = pd.read_csv(\"C:/Users/poula/Team_1/stroke_full.csv\")\n",
    "df_hd = pd.read_csv(\"C:/Users/poula/Team_1/heart_disease_full.csv\")\n",
    "df_htn = pd.read_csv(\"C:/Users/poula/Team_1/hypertension_full.csv\")"
   ]
  },
  {
   "cell_type": "code",
   "execution_count": 99,
   "metadata": {},
   "outputs": [
    {
     "name": "stdout",
     "output_type": "stream",
     "text": [
      "gender                    0\n",
      "age                       0\n",
      "hypertension              0\n",
      "heart_disease             0\n",
      "ever_married              0\n",
      "work_type                 0\n",
      "Residence_type            0\n",
      "avg_glucose_level         0\n",
      "bmi                       0\n",
      "smoking_status            0\n",
      "stroke                    0\n",
      "gender_encoded            0\n",
      "ever_married_encoded      0\n",
      "work_type_encoded         0\n",
      "Residence_type_encoded    0\n",
      "smoking_status_encoded    0\n",
      "Age_temp                  0\n",
      "avg_glucose_level_temp    0\n",
      "dtype: int64\n"
     ]
    }
   ],
   "source": [
    "print (df_stroke.isnull().sum())"
   ]
  },
  {
   "cell_type": "code",
   "execution_count": 100,
   "metadata": {},
   "outputs": [
    {
     "name": "stdout",
     "output_type": "stream",
     "text": [
      "gender                     object\n",
      "age                       float64\n",
      "hypertension                int64\n",
      "heart_disease               int64\n",
      "ever_married               object\n",
      "work_type                  object\n",
      "Residence_type             object\n",
      "avg_glucose_level         float64\n",
      "bmi                       float64\n",
      "smoking_status             object\n",
      "stroke                      int64\n",
      "gender_encoded              int64\n",
      "ever_married_encoded        int64\n",
      "work_type_encoded           int64\n",
      "Residence_type_encoded      int64\n",
      "smoking_status_encoded      int64\n",
      "Age_temp                    int64\n",
      "avg_glucose_level_temp      int64\n",
      "dtype: object\n"
     ]
    }
   ],
   "source": [
    "print (df_stroke.dtypes)"
   ]
  },
  {
   "cell_type": "code",
   "execution_count": 101,
   "metadata": {},
   "outputs": [
    {
     "name": "stdout",
     "output_type": "stream",
     "text": [
      "gender                     object\n",
      "age                       float64\n",
      "hypertension                int64\n",
      "heart_disease               int64\n",
      "ever_married               object\n",
      "work_type                  object\n",
      "Residence_type             object\n",
      "avg_glucose_level         float64\n",
      "bmi                       float64\n",
      "smoking_status             object\n",
      "stroke                      int64\n",
      "gender_encoded              int64\n",
      "ever_married_encoded        int64\n",
      "work_type_encoded           int64\n",
      "Residence_type_encoded      int64\n",
      "smoking_status_encoded      int64\n",
      "Age_temp                    int64\n",
      "avg_glucose_level_temp      int64\n",
      "dtype: object\n"
     ]
    }
   ],
   "source": [
    "# Convert categorical columns back to \"category\"\n",
    "categorical_cols = ['gender', 'ever_married', 'work_type', 'Residence_type', 'smoking_status']\n",
    "for col in categorical_cols:\n",
    "    df[col] = df_stroke[col].astype('category')\n",
    "\n",
    "print(df_stroke.dtypes)"
   ]
  },
  {
   "cell_type": "code",
   "execution_count": 102,
   "metadata": {},
   "outputs": [
    {
     "name": "stdout",
     "output_type": "stream",
     "text": [
      "   hypertension  heart_disease  heart_risk\n",
      "0             0              1           1\n",
      "1             0              0           0\n",
      "2             0              1           1\n",
      "3             0              0           0\n",
      "4             1              0           1\n",
      "5             0              0           0\n",
      "6             1              1           1\n",
      "7             0              0           0\n",
      "8             0              0           0\n",
      "9             0              0           0\n"
     ]
    }
   ],
   "source": [
    "df['heart_risk'] = (df['hypertension'] | df['heart_disease']).astype(int)\n",
    "\n",
    "# Verify the result\n",
    "print(df[['hypertension', 'heart_disease', 'heart_risk']].head(10))"
   ]
  },
  {
   "cell_type": "code",
   "execution_count": 103,
   "metadata": {},
   "outputs": [
    {
     "name": "stdout",
     "output_type": "stream",
     "text": [
      "gender                     object\n",
      "age                       float64\n",
      "hypertension                int64\n",
      "heart_disease               int64\n",
      "ever_married               object\n",
      "work_type                  object\n",
      "Residence_type             object\n",
      "avg_glucose_level         float64\n",
      "bmi                       float64\n",
      "smoking_status             object\n",
      "stroke                      int64\n",
      "gender_encoded              int64\n",
      "ever_married_encoded        int64\n",
      "work_type_encoded           int64\n",
      "Residence_type_encoded      int64\n",
      "smoking_status_encoded      int64\n",
      "Age_temp                    int64\n",
      "avg_glucose_level_temp      int64\n",
      "dtype: object\n"
     ]
    }
   ],
   "source": [
    "print (df_stroke.dtypes)"
   ]
  },
  {
   "cell_type": "code",
   "execution_count": 104,
   "metadata": {},
   "outputs": [
    {
     "name": "stdout",
     "output_type": "stream",
     "text": [
      "   hypertension  heart_disease  heart_risk\n",
      "0             0              1           1\n",
      "1             0              0           0\n",
      "2             0              1           1\n",
      "3             0              0           0\n",
      "4             1              0           1\n",
      "5             0              0           0\n",
      "6             1              1           1\n",
      "7             0              0           0\n",
      "8             0              0           0\n",
      "9             0              0           0\n"
     ]
    }
   ],
   "source": [
    "df_stroke['heart_risk'] = (df_stroke['hypertension'] | df_stroke['heart_disease']).astype(int)\n",
    "\n",
    "# Verify the result in your main DataFrame\n",
    "print(df_stroke[['hypertension', 'heart_disease', 'heart_risk']].head(10))"
   ]
  },
  {
   "cell_type": "code",
   "execution_count": 105,
   "metadata": {},
   "outputs": [
    {
     "name": "stdout",
     "output_type": "stream",
     "text": [
      "                  Feature  Chi-square  P-value  Degrees of Freedom\n",
      "7              heart_risk   67.275293 0.000000                   1\n",
      "2           heart_disease   42.045763 0.000000                   1\n",
      "1            hypertension   34.839426 0.000000                   1\n",
      "6  smoking_status_encoded    5.011184 0.170980                   3\n",
      "4       work_type_encoded    3.998458 0.135440                   2\n",
      "5  Residence_type_encoded    1.223736 0.268629                   1\n",
      "0          gender_encoded    0.917759 0.338064                   1\n",
      "3    ever_married_encoded    0.004196 0.948350                   1\n"
     ]
    }
   ],
   "source": [
    "import pandas as pd\n",
    "from scipy.stats import chi2_contingency\n",
    "\n",
    "\n",
    "# Select your categorical features\n",
    "categorical_features = [\n",
    "    'gender_encoded',\n",
    "    'hypertension',\n",
    "    'heart_disease',\n",
    "    'ever_married_encoded',\n",
    "    'work_type_encoded',\n",
    "    'Residence_type_encoded',\n",
    "    'smoking_status_encoded',\n",
    "    'heart_risk'\n",
    "]\n",
    "\n",
    "chi2_results_list = []\n",
    "\n",
    "# Perform chi-square test for each categorical feature against 'stroke'\n",
    "for feature in categorical_features:\n",
    "    contingency_table = pd.crosstab(df_stroke[feature], df_stroke['stroke'])\n",
    "    chi2, p, dof, expected = chi2_contingency(contingency_table)\n",
    "    chi2_results_list.append({'Feature': feature, 'Chi-square': chi2, 'P-value': p, 'Degrees of Freedom': dof})\n",
    "\n",
    "# Convert results to a Pandas DataFrame\n",
    "chi2_table = pd.DataFrame(chi2_results_list)\n",
    "\n",
    "# Format the 'P-value' column to display as a float with a certain number of decimal places\n",
    "pd.options.display.float_format = '{:.6f}'.format  # Display floats with 6 decimal places\n",
    "\n",
    "# Sort the table by Chi-square statistic (optional)\n",
    "chi2_table_sorted = chi2_table.sort_values(by='Chi-square', ascending=False)\n",
    "\n",
    "# Display the table\n",
    "print(chi2_table_sorted)\n",
    "\n",
    "# To reset the float formatting to default (optional)\n",
    "# pd.reset_option('display.float_format')"
   ]
  },
  {
   "cell_type": "code",
   "execution_count": 106,
   "metadata": {},
   "outputs": [
    {
     "name": "stdout",
     "output_type": "stream",
     "text": [
      "                  Feature  Chi-square  P-value  Degrees of Freedom\n",
      "7              heart_risk   67.275293 0.000000                   1\n",
      "2           heart_disease   42.045763 0.000000                   1\n",
      "1            hypertension   34.839426 0.000000                   1\n",
      "6  smoking_status_encoded    5.011184 0.170980                   3\n",
      "4       work_type_encoded    3.998458 0.135440                   2\n",
      "5  Residence_type_encoded    1.223736 0.268629                   1\n",
      "0          gender_encoded    0.917759 0.338064                   1\n",
      "3    ever_married_encoded    0.004196 0.948350                   1\n"
     ]
    }
   ],
   "source": [
    "\n",
    "\n",
    "# Select your categorical features\n",
    "categorical_features = [\n",
    "    'gender_encoded',\n",
    "    'hypertension',\n",
    "    'heart_disease',\n",
    "    'ever_married_encoded',\n",
    "    'work_type_encoded',\n",
    "    'Residence_type_encoded',\n",
    "    'smoking_status_encoded',\n",
    "    'heart_risk'\n",
    "]\n",
    "\n",
    "chi2_results_list = []\n",
    "\n",
    "# Perform chi-square test for each categorical feature against 'stroke'\n",
    "for feature in categorical_features:\n",
    "    contingency_table = pd.crosstab(df_stroke[feature], df_stroke['stroke'])\n",
    "    chi2, p, dof, expected = chi2_contingency(contingency_table)\n",
    "    chi2_results_list.append({'Feature': feature, 'Chi-square': chi2, 'P-value': p, 'Degrees of Freedom': dof})\n",
    "\n",
    "# Convert results to a Pandas DataFrame\n",
    "chi2_table = pd.DataFrame(chi2_results_list)\n",
    "\n",
    "# Format the 'P-value' column to display as a float with a certain number of decimal places\n",
    "pd.options.display.float_format = '{:.6f}'.format  # Display floats with 6 decimal places\n",
    "\n",
    "# Sort the table by Chi-square statistic (optional)\n",
    "chi2_table_sorted = chi2_table.sort_values(by='Chi-square', ascending=False)\n",
    "\n",
    "# Display the table\n",
    "print(chi2_table_sorted)\n",
    "\n",
    "# To reset the float formatting to default (optional)\n",
    "# pd.reset_option('display.float_format')"
   ]
  },
  {
   "cell_type": "code",
   "execution_count": 107,
   "metadata": {},
   "outputs": [
    {
     "name": "stdout",
     "output_type": "stream",
     "text": [
      "Feature: age\n",
      "  Mann-Whitney U Statistic: 592974.500\n",
      "  P-value: 0.000\n",
      "--------------------\n",
      "Feature: bmi\n",
      "  Mann-Whitney U Statistic: 377327.500\n",
      "  P-value: 0.359\n",
      "--------------------\n",
      "Feature: avg_glucose_level\n",
      "  Mann-Whitney U Statistic: 462170.000\n",
      "  P-value: 0.000\n",
      "--------------------\n"
     ]
    }
   ],
   "source": [
    "import pandas as pd\n",
    "from scipy.stats import mannwhitneyu\n",
    "\n",
    "\n",
    "numerical_features = ['age', 'bmi', 'avg_glucose_level']  # List of numerical features\n",
    "\n",
    "results = {}  # Dictionary to store results\n",
    "\n",
    "for feature in numerical_features:\n",
    "    # Separate data for stroke and no-stroke groups\n",
    "    stroke_data = df_stroke[df_stroke['stroke'] == 1][feature]\n",
    "    no_stroke_data = df_stroke[df_stroke['stroke'] == 0][feature]\n",
    "\n",
    "    # Perform the Mann-Whitney U test\n",
    "    u_statistic, p_value = mannwhitneyu(stroke_data, no_stroke_data, alternative='two-sided')\n",
    "\n",
    "    results[feature] = {'U Statistic': u_statistic, 'P-value': p_value}\n",
    "\n",
    "# Print the results\n",
    "for feature, values in results.items():\n",
    "    print(f\"Feature: {feature}\")\n",
    "    print(f\"  Mann-Whitney U Statistic: {values['U Statistic']:.3f}\")\n",
    "    print(f\"  P-value: {values['P-value']:.3f}\")\n",
    "    print(\"-\" * 20)  # Separator for clarity"
   ]
  },
  {
   "cell_type": "code",
   "execution_count": 108,
   "metadata": {},
   "outputs": [
    {
     "name": "stderr",
     "output_type": "stream",
     "text": [
      "C:\\Users\\poula\\AppData\\Local\\Temp\\ipykernel_31888\\1087629466.py:15: FutureWarning: \n",
      "\n",
      "Passing `palette` without assigning `hue` is deprecated and will be removed in v0.14.0. Assign the `x` variable to `hue` and set `legend=False` for the same effect.\n",
      "\n",
      "  sns.boxplot(x='stroke', y=feature, data=df_stroke, ax=axes[i], palette='viridis')\n",
      "C:\\Users\\poula\\AppData\\Local\\Temp\\ipykernel_31888\\1087629466.py:15: FutureWarning: \n",
      "\n",
      "Passing `palette` without assigning `hue` is deprecated and will be removed in v0.14.0. Assign the `x` variable to `hue` and set `legend=False` for the same effect.\n",
      "\n",
      "  sns.boxplot(x='stroke', y=feature, data=df_stroke, ax=axes[i], palette='viridis')\n",
      "C:\\Users\\poula\\AppData\\Local\\Temp\\ipykernel_31888\\1087629466.py:15: FutureWarning: \n",
      "\n",
      "Passing `palette` without assigning `hue` is deprecated and will be removed in v0.14.0. Assign the `x` variable to `hue` and set `legend=False` for the same effect.\n",
      "\n",
      "  sns.boxplot(x='stroke', y=feature, data=df_stroke, ax=axes[i], palette='viridis')\n"
     ]
    },
    {
     "data": {
      "image/png": "[encoded data removed]",
      "text/plain": [
       "<Figure size 1500x500 with 3 Axes>"
      ]
     },
     "metadata": {},
     "output_type": "display_data"
    }
   ],
   "source": [
    "import pandas as pd\n",
    "import matplotlib.pyplot as plt\n",
    "import seaborn as sns\n",
    "from scipy.stats import mannwhitneyu\n",
    "\n",
    "\n",
    "numerical_features = ['age', 'bmi', 'avg_glucose_level']\n",
    "\n",
    "# Create subplots for each numerical feature\n",
    "fig, axes = plt.subplots(1, len(numerical_features), figsize=(15, 5))  # 1 row, 3 columns\n",
    "\n",
    "# Iterate through numerical features and create box plots\n",
    "for i, feature in enumerate(numerical_features):\n",
    "    # Create box plot using seaborn\n",
    "    sns.boxplot(x='stroke', y=feature, data=df_stroke, ax=axes[i], palette='viridis')\n",
    "\n",
    "    # Set plot title and labels\n",
    "    axes[i].set_title(f'Box Plot of {feature} vs. Stroke')\n",
    "    axes[i].set_xlabel('Stroke (0: No, 1: Yes)')\n",
    "    axes[i].set_ylabel(feature)\n",
    "\n",
    "# Adjust layout for better spacing\n",
    "plt.tight_layout()\n",
    "plt.show()"
   ]
  },
  {
   "cell_type": "code",
   "execution_count": 109,
   "metadata": {},
   "outputs": [
    {
     "name": "stdout",
     "output_type": "stream",
     "text": [
      "Requirement already satisfied: imbalanced-learn in c:\\users\\poula\\miniconda3\\envs\\dsi_participant\\lib\\site-packages (0.12.4)\n",
      "Requirement already satisfied: numpy>=1.17.3 in c:\\users\\poula\\miniconda3\\envs\\dsi_participant\\lib\\site-packages (from imbalanced-learn) (1.26.4)\n",
      "Requirement already satisfied: scipy>=1.5.0 in c:\\users\\poula\\miniconda3\\envs\\dsi_participant\\lib\\site-packages (from imbalanced-learn) (1.13.1)\n",
      "Requirement already satisfied: scikit-learn>=1.0.2 in c:\\users\\poula\\miniconda3\\envs\\dsi_participant\\lib\\site-packages (from imbalanced-learn) (1.5.2)\n",
      "Requirement already satisfied: joblib>=1.1.1 in c:\\users\\poula\\miniconda3\\envs\\dsi_participant\\lib\\site-packages (from imbalanced-learn) (1.4.2)\n",
      "Requirement already satisfied: threadpoolctl>=2.0.0 in c:\\users\\poula\\miniconda3\\envs\\dsi_participant\\lib\\site-packages (from imbalanced-learn) (3.5.0)\n"
     ]
    }
   ],
   "source": [
    "!pip install imbalanced-learn"
   ]
  },
  {
   "cell_type": "code",
   "execution_count": null,
   "metadata": {},
   "outputs": [
    {
     "name": "stdout",
     "output_type": "stream",
     "text": [
      "Fitting 5 folds for each of 90 candidates, totalling 450 fits\n",
      "Best Parameters from GridSearchCV:  {'C': 0.01, 'max_iter': 100, 'penalty': 'l2', 'solver': 'lbfgs'}\n",
      "      Metric    Score\n",
      "0   Accuracy 0.928258\n",
      "1  Precision 0.000000\n",
      "2     Recall 0.000000\n",
      "3   F1 Score 0.000000\n",
      "4    ROC AUC 0.823795\n"
     ]
    },
    {
     "name": "stderr",
     "output_type": "stream",
     "text": [
      "c:\\Users\\poula\\miniconda3\\envs\\dsi_participant\\lib\\site-packages\\sklearn\\model_selection\\_validation.py:540: FitFailedWarning: \n",
      "75 fits failed out of a total of 450.\n",
      "The score on these train-test partitions for these parameters will be set to nan.\n",
      "If these failures are not expected, you can try to debug them by setting error_score='raise'.\n",
      "\n",
      "Below are more details about the failures:\n",
      "--------------------------------------------------------------------------------\n",
      "75 fits failed with the following error:\n",
      "Traceback (most recent call last):\n",
      "  File \"c:\\Users\\poula\\miniconda3\\envs\\dsi_participant\\lib\\site-packages\\sklearn\\model_selection\\_validation.py\", line 888, in _fit_and_score\n",
      "    estimator.fit(X_train, y_train, **fit_params)\n",
      "  File \"c:\\Users\\poula\\miniconda3\\envs\\dsi_participant\\lib\\site-packages\\sklearn\\base.py\", line 1473, in wrapper\n",
      "    return fit_method(estimator, *args, **kwargs)\n",
      "  File \"c:\\Users\\poula\\miniconda3\\envs\\dsi_participant\\lib\\site-packages\\sklearn\\linear_model\\_logistic.py\", line 1194, in fit\n",
      "    solver = _check_solver(self.solver, self.penalty, self.dual)\n",
      "  File \"c:\\Users\\poula\\miniconda3\\envs\\dsi_participant\\lib\\site-packages\\sklearn\\linear_model\\_logistic.py\", line 67, in _check_solver\n",
      "    raise ValueError(\n",
      "ValueError: Solver lbfgs supports only 'l2' or None penalties, got l1 penalty.\n",
      "\n",
      "  warnings.warn(some_fits_failed_message, FitFailedWarning)\n",
      "c:\\Users\\poula\\miniconda3\\envs\\dsi_participant\\lib\\site-packages\\sklearn\\model_selection\\_search.py:1103: UserWarning: One or more of the test scores are non-finite: [0.26186543 0.75628423 0.25262374 0.25284565        nan 0.25279624\n",
      " 0.26186543 0.75628423 0.25417808 0.25285576        nan 0.25277648\n",
      " 0.26186543 0.75628423 0.25610651 0.25286564        nan 0.25300982\n",
      " 0.70003634 0.75606187 0.25272349 0.7537118         nan 0.25216025\n",
      " 0.70003634 0.75606187 0.2551996  0.75372122        nan 0.25335629\n",
      " 0.70003634 0.75606187 0.25910564 0.75377226        nan 0.25519392\n",
      " 0.75362903 0.7554367  0.25271384 0.75518826        nan 0.25270303\n",
      " 0.75362903 0.7554367  0.25524948 0.75516803        nan 0.25507021\n",
      " 0.75362903 0.7554367  0.25975283 0.75517791        nan 0.25915575\n",
      " 0.75509186 0.75527603 0.25272396 0.75527673        nan 0.2527042\n",
      " 0.75509186 0.75527603 0.25531935 0.75529626        nan 0.25522971\n",
      " 0.75509186 0.75527603 0.25977236 0.75530637        nan 0.25971284\n",
      " 0.75519651 0.75527649 0.25274372 0.75529649        nan 0.2527536\n",
      " 0.75519651 0.75527649 0.2553097  0.75528637        nan 0.25529958\n",
      " 0.75519651 0.75527649 0.2597326  0.75526638        nan 0.25980247]\n",
      "  warnings.warn(\n",
      "c:\\Users\\poula\\miniconda3\\envs\\dsi_participant\\lib\\site-packages\\sklearn\\metrics\\_classification.py:1531: UndefinedMetricWarning: Precision is ill-defined and being set to 0.0 due to no predicted samples. Use `zero_division` parameter to control this behavior.\n",
      "  _warn_prf(average, modifier, f\"{metric.capitalize()} is\", len(result))\n"
     ]
    },
    {
     "data": {
      "image/png": "[encoded data removed]",
      "text/plain": [
       "<Figure size 600x500 with 2 Axes>"
      ]
     },
     "metadata": {},
     "output_type": "display_data"
    }
   ],
   "source": [
    "#Logistic regression with Hyperparamater Tuning\n",
    "import pandas as pd\n",
    "from sklearn.model_selection import GridSearchCV, train_test_split\n",
    "from sklearn.linear_model import LogisticRegression\n",
    "from sklearn.metrics import accuracy_score, precision_score, recall_score, f1_score, roc_auc_score, confusion_matrix\n",
    "import matplotlib.pyplot as plt\n",
    "import seaborn as sns\n",
    "\n",
    "# Select only the relevant columns for X (avg_glucose_level, heart_risk, and age)\n",
    "X = df_stroke[['avg_glucose_level', 'heart_risk', 'age']]\n",
    "y = df_stroke['stroke']\n",
    "\n",
    "# Split the data into training and test sets\n",
    "X_train, X_test, y_train, y_test = train_test_split(X, y, test_size=0.2, random_state=42, stratify=y)\n",
    "\n",
    "# Logistic Regression without class_weight='balanced'\n",
    "model = LogisticRegression()\n",
    "\n",
    "# Define the parameter grid for hyperparameter tuning\n",
    "param_grid = {\n",
    "    'C': [0.01, 0.1, 1, 10, 100],  # Regularization strength\n",
    "    'solver': ['liblinear', 'lbfgs', 'saga'],  # Optimization algorithms\n",
    "    'penalty': ['l2', 'l1'],  # Regularization type\n",
    "    'max_iter': [100, 200, 300]  # Number of iterations\n",
    "}\n",
    "\n",
    "# Perform grid search with 5-fold cross-validation\n",
    "grid_search = GridSearchCV(estimator=model, param_grid=param_grid, cv=5, scoring='roc_auc', n_jobs=-1, verbose=1)\n",
    "grid_search.fit(X_train, y_train)\n",
    "\n",
    "# Get the best parameters\n",
    "best_params = grid_search.best_params_\n",
    "print(\"Best Parameters from GridSearchCV: \", best_params)\n",
    "\n",
    "# Get the best model with the optimal hyperparameters\n",
    "best_model = grid_search.best_estimator_\n",
    "\n",
    "# Predict on test set using the best model\n",
    "y_pred_best = best_model.predict(X_test)\n",
    "y_prob_best = best_model.predict_proba(X_test)[:, 1]  # For ROC-AUC\n",
    "\n",
    "# Evaluation Metrics for the best model\n",
    "accuracy = accuracy_score(y_test, y_pred_best)\n",
    "precision = precision_score(y_test, y_pred_best)\n",
    "recall = recall_score(y_test, y_pred_best)\n",
    "f1 = f1_score(y_test, y_pred_best)\n",
    "roc_auc = roc_auc_score(y_test, y_prob_best)\n",
    "\n",
    "# Create a DataFrame for the evaluation metrics\n",
    "evaluation_metrics = pd.DataFrame({\n",
    "    'Metric': ['Accuracy', 'Precision', 'Recall', 'F1 Score', 'ROC AUC'],\n",
    "    'Score': [accuracy, precision, recall, f1, roc_auc]\n",
    "})\n",
    "\n",
    "# Display the metrics in a table\n",
    "print(evaluation_metrics)\n",
    "\n",
    "# Confusion Matrix\n",
    "cm_best = confusion_matrix(y_test, y_pred_best)\n",
    "\n",
    "# -------- Plot Confusion Matrix --------\n",
    "plt.figure(figsize=(6, 5))\n",
    "sns.heatmap(cm_best, annot=True, fmt=\"d\", cmap=\"Blues\", xticklabels=[\"No Stroke\", \"Stroke\"], yticklabels=[\"No Stroke\", \"Stroke\"])\n",
    "plt.title(\"Confusion Matrix for Best Logistic Regression Model (No Class Weight)\")\n",
    "plt.xlabel(\"Predicted\")\n",
    "plt.ylabel(\"Actual\")\n",
    "plt.show()\n"
   ]
  },
  {
   "cell_type": "code",
   "execution_count": 111,
   "metadata": {},
   "outputs": [
    {
     "name": "stdout",
     "output_type": "stream",
     "text": [
      "Fitting 5 folds for each of 90 candidates, totalling 450 fits\n",
      "Best Parameters from GridSearchCV:  {'C': 0.01, 'max_iter': 100, 'penalty': 'l2', 'solver': 'lbfgs'}\n",
      "      Metric    Score\n",
      "0   Accuracy 0.695461\n",
      "1  Precision 0.175510\n",
      "2     Recall 0.877551\n",
      "3   F1 Score 0.292517\n",
      "4    ROC AUC 0.827593\n"
     ]
    },
    {
     "name": "stderr",
     "output_type": "stream",
     "text": [
      "c:\\Users\\poula\\miniconda3\\envs\\dsi_participant\\lib\\site-packages\\sklearn\\model_selection\\_validation.py:540: FitFailedWarning: \n",
      "75 fits failed out of a total of 450.\n",
      "The score on these train-test partitions for these parameters will be set to nan.\n",
      "If these failures are not expected, you can try to debug them by setting error_score='raise'.\n",
      "\n",
      "Below are more details about the failures:\n",
      "--------------------------------------------------------------------------------\n",
      "75 fits failed with the following error:\n",
      "Traceback (most recent call last):\n",
      "  File \"c:\\Users\\poula\\miniconda3\\envs\\dsi_participant\\lib\\site-packages\\sklearn\\model_selection\\_validation.py\", line 888, in _fit_and_score\n",
      "    estimator.fit(X_train, y_train, **fit_params)\n",
      "  File \"c:\\Users\\poula\\miniconda3\\envs\\dsi_participant\\lib\\site-packages\\sklearn\\base.py\", line 1473, in wrapper\n",
      "    return fit_method(estimator, *args, **kwargs)\n",
      "  File \"c:\\Users\\poula\\miniconda3\\envs\\dsi_participant\\lib\\site-packages\\sklearn\\linear_model\\_logistic.py\", line 1194, in fit\n",
      "    solver = _check_solver(self.solver, self.penalty, self.dual)\n",
      "  File \"c:\\Users\\poula\\miniconda3\\envs\\dsi_participant\\lib\\site-packages\\sklearn\\linear_model\\_logistic.py\", line 67, in _check_solver\n",
      "    raise ValueError(\n",
      "ValueError: Solver lbfgs supports only 'l2' or None penalties, got l1 penalty.\n",
      "\n",
      "  warnings.warn(some_fits_failed_message, FitFailedWarning)\n",
      "c:\\Users\\poula\\miniconda3\\envs\\dsi_participant\\lib\\site-packages\\sklearn\\model_selection\\_search.py:1103: UserWarning: One or more of the test scores are non-finite: [0.73881504 0.75631357 0.72918396 0.73199283        nan 0.73893742\n",
      " 0.73881504 0.75631357 0.73565549 0.73199283        nan 0.74715594\n",
      " 0.73881504 0.75631357 0.74006912 0.73199283        nan 0.7504087\n",
      " 0.75177771 0.75522413 0.72539923 0.75450473        nan 0.73119213\n",
      " 0.75177771 0.75522413 0.73171623 0.75451462        nan 0.73445525\n",
      " 0.75177771 0.75522413 0.73478841 0.75450473        nan 0.73728413\n",
      " 0.75450061 0.75483767 0.72806736 0.75475722        nan 0.72652897\n",
      " 0.75450061 0.75483767 0.73254106 0.7547671         nan 0.73179046\n",
      " 0.75450061 0.75483767 0.73456495 0.7547671         nan 0.73466657\n",
      " 0.75461678 0.75466735 0.72650595 0.75466735        nan 0.7284122\n",
      " 0.75461678 0.75466735 0.73105247 0.75466735        nan 0.73129102\n",
      " 0.75461678 0.75466735 0.73372293 0.75466735        nan 0.73427302\n",
      " 0.75470711 0.754677   0.72619822 0.754677          nan 0.72582973\n",
      " 0.75470711 0.754677   0.7307824  0.754677          nan 0.73136089\n",
      " 0.75470711 0.754677   0.73422665 0.754677          nan 0.7342328 ]\n",
      "  warnings.warn(\n"
     ]
    },
    {
     "data": {
      "image/png": "[encoded data removed]",
      "text/plain": [
       "<Figure size 600x500 with 2 Axes>"
      ]
     },
     "metadata": {},
     "output_type": "display_data"
    }
   ],
   "source": [
    "#Logistic Regression with Balanced Parameter and Hyperparameter tuning\n",
    "import pandas as pd\n",
    "from sklearn.model_selection import GridSearchCV, train_test_split\n",
    "from sklearn.linear_model import LogisticRegression\n",
    "from sklearn.metrics import accuracy_score, precision_score, recall_score, f1_score, roc_auc_score, confusion_matrix\n",
    "import matplotlib.pyplot as plt\n",
    "import seaborn as sns\n",
    "\n",
    "\n",
    "# Select only the relevant columns for X (avg_glucose_level, heart_risk, and age)\n",
    "X = df_stroke[['avg_glucose_level', 'heart_risk', 'age']]\n",
    "y = df_stroke['stroke']\n",
    "\n",
    "# Split the data into training and test sets\n",
    "X_train, X_test, y_train, y_test = train_test_split(X, y, test_size=0.2, random_state=42, stratify=y)\n",
    "\n",
    "# Logistic Regression with class_weight='balanced'\n",
    "model = LogisticRegression(class_weight='balanced')\n",
    "\n",
    "# Define the parameter grid for hyperparameter tuning\n",
    "param_grid = {\n",
    "    'C': [0.01, 0.1, 1, 10, 100],  # Regularization strength\n",
    "    'solver': ['liblinear', 'lbfgs', 'saga'],  # Optimization algorithms\n",
    "    'penalty': ['l2', 'l1'],  # Regularization type\n",
    "    'max_iter': [100, 200, 300]  # Number of iterations\n",
    "}\n",
    "\n",
    "# Perform grid search with 5-fold cross-validation\n",
    "grid_search = GridSearchCV(estimator=model, param_grid=param_grid, cv=5, scoring='roc_auc', n_jobs=-1, verbose=1)\n",
    "grid_search.fit(X_train, y_train)\n",
    "\n",
    "# Get the best parameters\n",
    "best_params = grid_search.best_params_\n",
    "print(\"Best Parameters from GridSearchCV: \", best_params)\n",
    "\n",
    "# Get the best model with the optimal hyperparameters\n",
    "best_model = grid_search.best_estimator_\n",
    "\n",
    "# Predict on test set using the best model\n",
    "y_pred_best = best_model.predict(X_test)\n",
    "y_prob_best = best_model.predict_proba(X_test)[:, 1]  # For ROC-AUC\n",
    "\n",
    "# Evaluation Metrics for the best model\n",
    "accuracy = accuracy_score(y_test, y_pred_best)\n",
    "precision = precision_score(y_test, y_pred_best)\n",
    "recall = recall_score(y_test, y_pred_best)\n",
    "f1 = f1_score(y_test, y_pred_best)\n",
    "roc_auc = roc_auc_score(y_test, y_prob_best)\n",
    "\n",
    "# Create a DataFrame for the evaluation metrics\n",
    "evaluation_metrics = pd.DataFrame({\n",
    "    'Metric': ['Accuracy', 'Precision', 'Recall', 'F1 Score', 'ROC AUC'],\n",
    "    'Score': [accuracy, precision, recall, f1, roc_auc]\n",
    "})\n",
    "\n",
    "# Display the metrics in a table\n",
    "print(evaluation_metrics)\n",
    "\n",
    "# Confusion Matrix\n",
    "cm_best = confusion_matrix(y_test, y_pred_best)\n",
    "\n",
    "# -------- Plot Confusion Matrix --------\n",
    "plt.figure(figsize=(6, 5))\n",
    "sns.heatmap(cm_best, annot=True, fmt=\"d\", cmap=\"Blues\", xticklabels=[\"No Stroke\", \"Stroke\"], yticklabels=[\"No Stroke\", \"Stroke\"])\n",
    "plt.title(\"Confusion Matrix for Best Logistic Regression Model with Balanced class weight\")\n",
    "plt.xlabel(\"Predicted\")\n",
    "plt.ylabel(\"Actual\")\n",
    "plt.show()\n"
   ]
  },
  {
   "cell_type": "code",
   "execution_count": 112,
   "metadata": {},
   "outputs": [
    {
     "name": "stdout",
     "output_type": "stream",
     "text": [
      "Fitting 5 folds for each of 90 candidates, totalling 450 fits\n",
      "Best Parameters from GridSearchCV:  {'C': 0.1, 'max_iter': 100, 'penalty': 'l2', 'solver': 'lbfgs'}\n",
      "      Metric    Score\n",
      "0   Accuracy 0.673499\n",
      "1  Precision 0.140496\n",
      "2     Recall 0.693878\n",
      "3   F1 Score 0.233677\n",
      "4    ROC AUC 0.757967\n"
     ]
    },
    {
     "name": "stderr",
     "output_type": "stream",
     "text": [
      "c:\\Users\\poula\\miniconda3\\envs\\dsi_participant\\lib\\site-packages\\sklearn\\model_selection\\_validation.py:540: FitFailedWarning: \n",
      "75 fits failed out of a total of 450.\n",
      "The score on these train-test partitions for these parameters will be set to nan.\n",
      "If these failures are not expected, you can try to debug them by setting error_score='raise'.\n",
      "\n",
      "Below are more details about the failures:\n",
      "--------------------------------------------------------------------------------\n",
      "75 fits failed with the following error:\n",
      "Traceback (most recent call last):\n",
      "  File \"c:\\Users\\poula\\miniconda3\\envs\\dsi_participant\\lib\\site-packages\\sklearn\\model_selection\\_validation.py\", line 888, in _fit_and_score\n",
      "    estimator.fit(X_train, y_train, **fit_params)\n",
      "  File \"c:\\Users\\poula\\miniconda3\\envs\\dsi_participant\\lib\\site-packages\\sklearn\\base.py\", line 1473, in wrapper\n",
      "    return fit_method(estimator, *args, **kwargs)\n",
      "  File \"c:\\Users\\poula\\miniconda3\\envs\\dsi_participant\\lib\\site-packages\\sklearn\\linear_model\\_logistic.py\", line 1194, in fit\n",
      "    solver = _check_solver(self.solver, self.penalty, self.dual)\n",
      "  File \"c:\\Users\\poula\\miniconda3\\envs\\dsi_participant\\lib\\site-packages\\sklearn\\linear_model\\_logistic.py\", line 67, in _check_solver\n",
      "    raise ValueError(\n",
      "ValueError: Solver lbfgs supports only 'l2' or None penalties, got l1 penalty.\n",
      "\n",
      "  warnings.warn(some_fits_failed_message, FitFailedWarning)\n",
      "c:\\Users\\poula\\miniconda3\\envs\\dsi_participant\\lib\\site-packages\\sklearn\\model_selection\\_search.py:1103: UserWarning: One or more of the test scores are non-finite: [0.76831761 0.76882699 0.75497238 0.75601731        nan 0.7428419\n",
      " 0.76831761 0.76882699 0.76517078 0.75601497        nan 0.75047153\n",
      " 0.76831761 0.76882699 0.76862275 0.75601653        nan 0.75359355\n",
      " 0.7718927  0.77214083 0.75483369 0.77207452        nan 0.75519226\n",
      " 0.7718927  0.77214083 0.76427067 0.77207452        nan 0.76471612\n",
      " 0.7718927  0.77214083 0.76743017 0.7720753         nan 0.76802839\n",
      " 0.77209701 0.77213292 0.75492809 0.77211809        nan 0.75496785\n",
      " 0.77209701 0.77213292 0.76405623 0.77211731        nan 0.76410922\n",
      " 0.77209701 0.77213292 0.76715488 0.77211809        nan 0.76724926\n",
      " 0.77212119 0.77211573 0.75482435 0.77211807        nan 0.75489614\n",
      " 0.77212119 0.77211573 0.76397669 0.77211885        nan 0.76402033\n",
      " 0.77212119 0.77211573 0.76712523 0.77211651        nan 0.76714159\n",
      " 0.77211651 0.77212353 0.75484851 0.77211807        nan 0.75480646\n",
      " 0.77211651 0.77212353 0.76405154 0.77212119        nan 0.76402033\n",
      " 0.77211651 0.77212353 0.76713303 0.77212275        nan 0.76712835]\n",
      "  warnings.warn(\n"
     ]
    },
    {
     "data": {
      "image/png": "[encoded data removed]",
      "text/plain": [
       "<Figure size 600x500 with 2 Axes>"
      ]
     },
     "metadata": {},
     "output_type": "display_data"
    }
   ],
   "source": [
    "#Logistic Regression with Smote and Hyperparameter tuning\n",
    "import pandas as pd\n",
    "from sklearn.model_selection import GridSearchCV, train_test_split\n",
    "from sklearn.linear_model import LogisticRegression\n",
    "from sklearn.metrics import accuracy_score, precision_score, recall_score, f1_score, roc_auc_score, confusion_matrix\n",
    "import matplotlib.pyplot as plt\n",
    "import seaborn as sns\n",
    "from imblearn.over_sampling import SMOTE\n",
    "\n",
    "# Assuming df_stroke is your dataset\n",
    "# Ensure 'df_stroke' is already loaded\n",
    "\n",
    "# Select only the relevant columns for X (avg_glucose_level, heart_risk, and age)\n",
    "X = df_stroke[['avg_glucose_level', 'heart_risk', 'age']]\n",
    "y = df_stroke['stroke']\n",
    "\n",
    "# Split the data into training and test sets\n",
    "X_train, X_test, y_train, y_test = train_test_split(X, y, test_size=0.2, random_state=42, stratify=y)\n",
    "\n",
    "# Apply SMOTE for balancing the dataset\n",
    "smote = SMOTE(sampling_strategy='auto', random_state=42)\n",
    "X_train_res, y_train_res = smote.fit_resample(X_train, y_train)\n",
    "\n",
    "# Logistic Regression model\n",
    "model = LogisticRegression()\n",
    "\n",
    "# Define the parameter grid for hyperparameter tuning\n",
    "param_grid = {\n",
    "    'C': [0.01, 0.1, 1, 10, 100],  # Regularization strength\n",
    "    'solver': ['liblinear', 'lbfgs', 'saga'],  # Optimization algorithms\n",
    "    'penalty': ['l2', 'l1'],  # Regularization type\n",
    "    'max_iter': [100, 200, 300]  # Number of iterations\n",
    "}\n",
    "\n",
    "# Perform grid search with 5-fold cross-validation\n",
    "grid_search = GridSearchCV(estimator=model, param_grid=param_grid, cv=5, scoring='roc_auc', n_jobs=-1, verbose=1)\n",
    "grid_search.fit(X_train_res, y_train_res)\n",
    "\n",
    "# Get the best parameters\n",
    "best_params = grid_search.best_params_\n",
    "print(\"Best Parameters from GridSearchCV: \", best_params)\n",
    "\n",
    "# Get the best model with the optimal hyperparameters\n",
    "best_model = grid_search.best_estimator_\n",
    "\n",
    "# Predict on test set using the best model\n",
    "y_pred_best = best_model.predict(X_test)\n",
    "y_prob_best = best_model.predict_proba(X_test)[:, 1]  # For ROC-AUC\n",
    "\n",
    "# Evaluation Metrics for the best model\n",
    "accuracy = accuracy_score(y_test, y_pred_best)\n",
    "precision = precision_score(y_test, y_pred_best)\n",
    "recall = recall_score(y_test, y_pred_best)\n",
    "f1 = f1_score(y_test, y_pred_best)\n",
    "roc_auc = roc_auc_score(y_test, y_prob_best)\n",
    "\n",
    "# Create a DataFrame for the evaluation metrics\n",
    "evaluation_metrics = pd.DataFrame({\n",
    "    'Metric': ['Accuracy', 'Precision', 'Recall', 'F1 Score', 'ROC AUC'],\n",
    "    'Score': [accuracy, precision, recall, f1, roc_auc]\n",
    "})\n",
    "\n",
    "# Display the metrics in a table\n",
    "print(evaluation_metrics)\n",
    "\n",
    "# Confusion Matrix\n",
    "cm_best = confusion_matrix(y_test, y_pred_best)\n",
    "\n",
    "# -------- Plot Confusion Matrix --------\n",
    "plt.figure(figsize=(6, 5))\n",
    "sns.heatmap(cm_best, annot=True, fmt=\"d\", cmap=\"Blues\", xticklabels=[\"No Stroke\", \"Stroke\"], yticklabels=[\"No Stroke\", \"Stroke\"])\n",
    "plt.title(\"Confusion Matrix for Logistic Regression with SMOTE and Hyperparameter Tuning\")\n",
    "plt.xlabel(\"Predicted\")\n",
    "plt.ylabel(\"Actual\")\n",
    "plt.show()\n"
   ]
  },
  {
   "cell_type": "code",
   "execution_count": 113,
   "metadata": {},
   "outputs": [
    {
     "name": "stdout",
     "output_type": "stream",
     "text": [
      "Fitting 5 folds for each of 90 candidates, totalling 450 fits\n",
      "Best Parameters from GridSearchCV:  {'C': 0.1, 'max_iter': 100, 'penalty': 'l2', 'solver': 'lbfgs'}\n",
      "      Metric    Score\n",
      "0   Accuracy 0.673499\n",
      "1  Precision 0.140496\n",
      "2     Recall 0.693878\n",
      "3   F1 Score 0.233677\n",
      "4    ROC AUC 0.757967\n"
     ]
    },
    {
     "name": "stderr",
     "output_type": "stream",
     "text": [
      "c:\\Users\\poula\\miniconda3\\envs\\dsi_participant\\lib\\site-packages\\sklearn\\model_selection\\_validation.py:540: FitFailedWarning: \n",
      "75 fits failed out of a total of 450.\n",
      "The score on these train-test partitions for these parameters will be set to nan.\n",
      "If these failures are not expected, you can try to debug them by setting error_score='raise'.\n",
      "\n",
      "Below are more details about the failures:\n",
      "--------------------------------------------------------------------------------\n",
      "75 fits failed with the following error:\n",
      "Traceback (most recent call last):\n",
      "  File \"c:\\Users\\poula\\miniconda3\\envs\\dsi_participant\\lib\\site-packages\\sklearn\\model_selection\\_validation.py\", line 888, in _fit_and_score\n",
      "    estimator.fit(X_train, y_train, **fit_params)\n",
      "  File \"c:\\Users\\poula\\miniconda3\\envs\\dsi_participant\\lib\\site-packages\\sklearn\\base.py\", line 1473, in wrapper\n",
      "    return fit_method(estimator, *args, **kwargs)\n",
      "  File \"c:\\Users\\poula\\miniconda3\\envs\\dsi_participant\\lib\\site-packages\\sklearn\\linear_model\\_logistic.py\", line 1194, in fit\n",
      "    solver = _check_solver(self.solver, self.penalty, self.dual)\n",
      "  File \"c:\\Users\\poula\\miniconda3\\envs\\dsi_participant\\lib\\site-packages\\sklearn\\linear_model\\_logistic.py\", line 67, in _check_solver\n",
      "    raise ValueError(\n",
      "ValueError: Solver lbfgs supports only 'l2' or None penalties, got l1 penalty.\n",
      "\n",
      "  warnings.warn(some_fits_failed_message, FitFailedWarning)\n",
      "c:\\Users\\poula\\miniconda3\\envs\\dsi_participant\\lib\\site-packages\\sklearn\\model_selection\\_search.py:1103: UserWarning: One or more of the test scores are non-finite: [0.76830358 0.76882699 0.75500664 0.75601107        nan 0.74277867\n",
      " 0.76830358 0.76882699 0.7651583  0.75601107        nan 0.75045516\n",
      " 0.76830358 0.76882699 0.76863366 0.75601107        nan 0.75359353\n",
      " 0.77189114 0.77214005 0.75489369 0.77207296        nan 0.75519615\n",
      " 0.77189114 0.77214005 0.76424104 0.77207296        nan 0.76474186\n",
      " 0.77189114 0.77214005 0.76744654 0.77207296        nan 0.76802605\n",
      " 0.7721009  0.77213214 0.75487576 0.77211731        nan 0.7549241\n",
      " 0.7721009  0.77213214 0.76402347 0.77211731        nan 0.76410612\n",
      " 0.7721009  0.77213214 0.76715955 0.77211731        nan 0.76725315\n",
      " 0.77212587 0.77211495 0.75485703 0.77211729        nan 0.75487653\n",
      " 0.77212587 0.77211495 0.76400087 0.77211729        nan 0.7640188\n",
      " 0.77212587 0.77211495 0.76712523 0.77211729        nan 0.76713147\n",
      " 0.77212353 0.77212275 0.75485391 0.77212197        nan 0.75485704\n",
      " 0.77212353 0.77212275 0.76399697 0.77212197        nan 0.76399697\n",
      " 0.77212353 0.77212275 0.76711352 0.77212197        nan 0.76711587]\n",
      "  warnings.warn(\n"
     ]
    },
    {
     "data": {
      "image/png": "[encoded data removed]",
      "text/plain": [
       "<Figure size 600x500 with 2 Axes>"
      ]
     },
     "metadata": {},
     "output_type": "display_data"
    }
   ],
   "source": [
    "#Logistic Regression using Smote, Balanced parameter and hyperparameter tuning\n",
    "import pandas as pd\n",
    "from sklearn.model_selection import GridSearchCV, train_test_split\n",
    "from sklearn.linear_model import LogisticRegression\n",
    "from sklearn.metrics import accuracy_score, precision_score, recall_score, f1_score, roc_auc_score, confusion_matrix\n",
    "import matplotlib.pyplot as plt\n",
    "import seaborn as sns\n",
    "from imblearn.over_sampling import SMOTE\n",
    "\n",
    "\n",
    "# Select only the relevant columns for X (avg_glucose_level, heart_risk, and age)\n",
    "X = df_stroke[['avg_glucose_level', 'heart_risk', 'age']]\n",
    "y = df_stroke['stroke']\n",
    "\n",
    "# Split the data into training and test sets\n",
    "X_train, X_test, y_train, y_test = train_test_split(X, y, test_size=0.2, random_state=42, stratify=y)\n",
    "\n",
    "# Apply SMOTE for balancing the dataset\n",
    "smote = SMOTE(sampling_strategy='auto', random_state=42)\n",
    "X_train_res, y_train_res = smote.fit_resample(X_train, y_train)\n",
    "\n",
    "# Logistic Regression model with class_weight='balanced'\n",
    "model = LogisticRegression(class_weight='balanced', random_state=42)\n",
    "\n",
    "# Define the parameter grid for hyperparameter tuning\n",
    "param_grid = {\n",
    "    'C': [0.01, 0.1, 1, 10, 100],  # Regularization strength\n",
    "    'solver': ['liblinear', 'lbfgs', 'saga'],  # Optimization algorithms\n",
    "    'penalty': ['l2', 'l1'],  # Regularization type\n",
    "    'max_iter': [100, 200, 300]  # Number of iterations\n",
    "}\n",
    "\n",
    "# Perform grid search with 5-fold cross-validation\n",
    "grid_search = GridSearchCV(estimator=model, param_grid=param_grid, cv=5, scoring='roc_auc', n_jobs=-1, verbose=1)\n",
    "grid_search.fit(X_train_res, y_train_res)\n",
    "\n",
    "# Get the best parameters\n",
    "best_params = grid_search.best_params_\n",
    "print(\"Best Parameters from GridSearchCV: \", best_params)\n",
    "\n",
    "# Get the best model with the optimal hyperparameters\n",
    "best_model = grid_search.best_estimator_\n",
    "\n",
    "# Predict on test set using the best model\n",
    "y_pred_best = best_model.predict(X_test)\n",
    "y_prob_best = best_model.predict_proba(X_test)[:, 1]  # For ROC-AUC\n",
    "\n",
    "# Evaluation Metrics for the best model\n",
    "accuracy = accuracy_score(y_test, y_pred_best)\n",
    "precision = precision_score(y_test, y_pred_best)\n",
    "recall = recall_score(y_test, y_pred_best)\n",
    "f1 = f1_score(y_test, y_pred_best)\n",
    "roc_auc = roc_auc_score(y_test, y_prob_best)\n",
    "\n",
    "# Create a DataFrame for the evaluation metrics\n",
    "evaluation_metrics = pd.DataFrame({\n",
    "    'Metric': ['Accuracy', 'Precision', 'Recall', 'F1 Score', 'ROC AUC'],\n",
    "    'Score': [accuracy, precision, recall, f1, roc_auc]\n",
    "})\n",
    "\n",
    "# Display the metrics in a table\n",
    "print(evaluation_metrics)\n",
    "\n",
    "# Confusion Matrix\n",
    "cm_best = confusion_matrix(y_test, y_pred_best)\n",
    "\n",
    "# -------- Plot Confusion Matrix --------\n",
    "plt.figure(figsize=(6, 5))\n",
    "sns.heatmap(cm_best, annot=True, fmt=\"d\", cmap=\"Blues\", xticklabels=[\"No Stroke\", \"Stroke\"], yticklabels=[\"No Stroke\", \"Stroke\"])\n",
    "plt.title(\"Confusion Matrix for Logistic Regression with SMOTE, Balanced Class Weight, and Hyperparameter Tuning\")\n",
    "plt.xlabel(\"Predicted\")\n",
    "plt.ylabel(\"Actual\")\n",
    "plt.show()\n"
   ]
  },
  {
   "cell_type": "code",
   "execution_count": null,
   "metadata": {},
   "outputs": [
    {
     "name": "stdout",
     "output_type": "stream",
     "text": [
      "Fitting 5 folds for each of 243 candidates, totalling 1215 fits\n",
      "Best Parameters from GridSearchCV:  {'colsample_bytree': 1.0, 'learning_rate': 0.01, 'max_depth': 3, 'n_estimators': 100, 'subsample': 0.9}\n",
      "      Metric    Score\n",
      "0   Accuracy 0.928258\n",
      "1  Precision 0.000000\n",
      "2     Recall 0.000000\n",
      "3   F1 Score 0.000000\n",
      "4    ROC AUC 0.814508\n"
     ]
    },
    {
     "name": "stderr",
     "output_type": "stream",
     "text": [
      "c:\\Users\\poula\\miniconda3\\envs\\dsi_participant\\lib\\site-packages\\xgboost\\core.py:158: UserWarning: [10:25:53] WARNING: C:\\buildkite-agent\\builds\\buildkite-windows-cpu-autoscaling-group-i-08cbc0333d8d4aae1-1\\xgboost\\xgboost-ci-windows\\src\\learner.cc:740: \n",
      "Parameters: { \"use_label_encoder\" } are not used.\n",
      "\n",
      "  warnings.warn(smsg, UserWarning)\n",
      "c:\\Users\\poula\\miniconda3\\envs\\dsi_participant\\lib\\site-packages\\sklearn\\metrics\\_classification.py:1531: UndefinedMetricWarning: Precision is ill-defined and being set to 0.0 due to no predicted samples. Use `zero_division` parameter to control this behavior.\n",
      "  _warn_prf(average, modifier, f\"{metric.capitalize()} is\", len(result))\n"
     ]
    },
    {
     "data": {
      "image/png": "[encoded data removed]",
      "text/plain": [
       "<Figure size 600x500 with 2 Axes>"
      ]
     },
     "metadata": {},
     "output_type": "display_data"
    }
   ],
   "source": [
    "#XGBoost with Hyperparameter Tuning\n",
    "import pandas as pd\n",
    "from sklearn.model_selection import train_test_split, GridSearchCV\n",
    "from sklearn.metrics import accuracy_score, precision_score, recall_score, f1_score, roc_auc_score, confusion_matrix\n",
    "import matplotlib.pyplot as plt\n",
    "import seaborn as sns\n",
    "import xgboost as xgb\n",
    "\n",
    "\n",
    "# Select only the relevant columns for X (avg_glucose_level, heart_risk, and age)\n",
    "X = df_stroke[['avg_glucose_level', 'heart_risk', 'age']]\n",
    "y = df_stroke['stroke']\n",
    "\n",
    "# Split the data into training and test sets\n",
    "X_train, X_test, y_train, y_test = train_test_split(X, y, test_size=0.2, random_state=42, stratify=y)\n",
    "\n",
    "# Define the XGBoost model\n",
    "xgb_model = xgb.XGBClassifier(random_state=42, use_label_encoder=False, eval_metric='logloss')\n",
    "\n",
    "# Define the parameter grid for hyperparameter tuning\n",
    "param_grid = {\n",
    "    'n_estimators': [100, 200, 300],  # Number of trees\n",
    "    'max_depth': [3, 4, 5],  # Depth of the trees\n",
    "    'learning_rate': [0.01, 0.1, 0.2],  # Learning rate\n",
    "    'subsample': [0.8, 0.9, 1.0],  # Fraction of samples to use for fitting each tree\n",
    "    'colsample_bytree': [0.8, 0.9, 1.0],  # Fraction of features to use for each tree\n",
    "}\n",
    "\n",
    "# Perform grid search with 5-fold cross-validation\n",
    "grid_search = GridSearchCV(estimator=xgb_model, param_grid=param_grid, cv=5, scoring='roc_auc', n_jobs=-1, verbose=1)\n",
    "grid_search.fit(X_train, y_train)\n",
    "\n",
    "# Get the best parameters from grid search\n",
    "best_params = grid_search.best_params_\n",
    "print(\"Best Parameters from GridSearchCV: \", best_params)\n",
    "\n",
    "# Get the best model from grid search\n",
    "best_xgb_model = grid_search.best_estimator_\n",
    "\n",
    "# Predict on the test set using the best model\n",
    "y_pred_best_xgb = best_xgb_model.predict(X_test)\n",
    "y_prob_best_xgb = best_xgb_model.predict_proba(X_test)[:, 1]  # For ROC-AUC\n",
    "\n",
    "# Evaluate the best XGBoost model on the test set\n",
    "accuracy = accuracy_score(y_test, y_pred_best_xgb)\n",
    "precision = precision_score(y_test, y_pred_best_xgb)\n",
    "recall = recall_score(y_test, y_pred_best_xgb)\n",
    "f1 = f1_score(y_test, y_pred_best_xgb)\n",
    "roc_auc = roc_auc_score(y_test, y_prob_best_xgb)\n",
    "\n",
    "# Create a DataFrame for the evaluation metrics\n",
    "evaluation_metrics = pd.DataFrame({\n",
    "    'Metric': ['Accuracy', 'Precision', 'Recall', 'F1 Score', 'ROC AUC'],\n",
    "    'Score': [accuracy, precision, recall, f1, roc_auc]\n",
    "})\n",
    "\n",
    "# Display the evaluation metrics in a table\n",
    "print(evaluation_metrics)\n",
    "\n",
    "# Confusion Matrix for XGBoost\n",
    "cm_xgb = confusion_matrix(y_test, y_pred_best_xgb)\n",
    "\n",
    "# -------- Plot Confusion Matrix --------\n",
    "plt.figure(figsize=(6, 5))\n",
    "sns.heatmap(cm_xgb, annot=True, fmt=\"d\", cmap=\"Blues\", xticklabels=[\"No Stroke\", \"Stroke\"], yticklabels=[\"No Stroke\", \"Stroke\"])\n",
    "plt.title(\"Confusion Matrix for XGBoost with Hyperparameter Tuning\")\n",
    "plt.xlabel(\"Predicted\")\n",
    "plt.ylabel(\"Actual\")\n",
    "plt.show()\n"
   ]
  },
  {
   "cell_type": "code",
   "execution_count": 115,
   "metadata": {},
   "outputs": [
    {
     "name": "stdout",
     "output_type": "stream",
     "text": [
      "Fitting 5 folds for each of 243 candidates, totalling 1215 fits\n"
     ]
    },
    {
     "name": "stderr",
     "output_type": "stream",
     "text": [
      "c:\\Users\\poula\\miniconda3\\envs\\dsi_participant\\lib\\site-packages\\xgboost\\core.py:158: UserWarning: [10:26:07] WARNING: C:\\buildkite-agent\\builds\\buildkite-windows-cpu-autoscaling-group-i-08cbc0333d8d4aae1-1\\xgboost\\xgboost-ci-windows\\src\\learner.cc:740: \n",
      "Parameters: { \"use_label_encoder\" } are not used.\n",
      "\n",
      "  warnings.warn(smsg, UserWarning)\n"
     ]
    },
    {
     "name": "stdout",
     "output_type": "stream",
     "text": [
      "Best Parameters from GridSearchCV:  {'colsample_bytree': 1.0, 'learning_rate': 0.2, 'max_depth': 5, 'n_estimators': 300, 'subsample': 0.9}\n",
      "      Metric    Score\n",
      "0   Accuracy 0.837482\n",
      "1  Precision 0.102564\n",
      "2     Recall 0.163265\n",
      "3   F1 Score 0.125984\n",
      "4    ROC AUC 0.622658\n"
     ]
    },
    {
     "data": {
      "image/png": "[encoded data removed]",
      "text/plain": [
       "<Figure size 600x500 with 2 Axes>"
      ]
     },
     "metadata": {},
     "output_type": "display_data"
    }
   ],
   "source": [
    "#XGBoost with Smote and Hyperparameter Tuning\n",
    "import pandas as pd\n",
    "from sklearn.model_selection import train_test_split, GridSearchCV\n",
    "from sklearn.metrics import accuracy_score, precision_score, recall_score, f1_score, roc_auc_score, confusion_matrix\n",
    "import matplotlib.pyplot as plt\n",
    "import seaborn as sns\n",
    "from imblearn.over_sampling import SMOTE\n",
    "import xgboost as xgb\n",
    "\n",
    "\n",
    "# Select only the relevant columns for X (avg_glucose_level, heart_risk, and age)\n",
    "X = df_stroke[['avg_glucose_level', 'heart_risk', 'age']]\n",
    "y = df_stroke['stroke']\n",
    "\n",
    "# Split the data into training and test sets\n",
    "X_train, X_test, y_train, y_test = train_test_split(X, y, test_size=0.2, random_state=42, stratify=y)\n",
    "\n",
    "# Apply SMOTE for balancing the dataset\n",
    "smote = SMOTE(sampling_strategy='auto', random_state=42)\n",
    "X_train_res, y_train_res = smote.fit_resample(X_train, y_train)\n",
    "\n",
    "# Define the XGBoost model\n",
    "xgb_model = xgb.XGBClassifier(random_state=42, use_label_encoder=False, eval_metric='logloss')\n",
    "\n",
    "# Define the parameter grid for hyperparameter tuning\n",
    "param_grid = {\n",
    "    'n_estimators': [100, 200, 300],  # Number of trees\n",
    "    'max_depth': [3, 4, 5],  # Depth of the trees\n",
    "    'learning_rate': [0.01, 0.1, 0.2],  # Learning rate\n",
    "    'subsample': [0.8, 0.9, 1.0],  # Fraction of samples to use for fitting each tree\n",
    "    'colsample_bytree': [0.8, 0.9, 1.0],  # Fraction of features to use for each tree\n",
    "}\n",
    "\n",
    "# Perform grid search with 5-fold cross-validation\n",
    "grid_search = GridSearchCV(estimator=xgb_model, param_grid=param_grid, cv=5, scoring='roc_auc', n_jobs=-1, verbose=1)\n",
    "grid_search.fit(X_train_res, y_train_res)\n",
    "\n",
    "# Get the best parameters from grid search\n",
    "best_params = grid_search.best_params_\n",
    "print(\"Best Parameters from GridSearchCV: \", best_params)\n",
    "\n",
    "# Get the best model from grid search\n",
    "best_xgb_model = grid_search.best_estimator_\n",
    "\n",
    "# Predict on the test set using the best model\n",
    "y_pred_best_xgb = best_xgb_model.predict(X_test)\n",
    "y_prob_best_xgb = best_xgb_model.predict_proba(X_test)[:, 1]  # For ROC-AUC\n",
    "\n",
    "# Evaluate the best XGBoost model on the test set\n",
    "accuracy = accuracy_score(y_test, y_pred_best_xgb)\n",
    "precision = precision_score(y_test, y_pred_best_xgb)\n",
    "recall = recall_score(y_test, y_pred_best_xgb)\n",
    "f1 = f1_score(y_test, y_pred_best_xgb)\n",
    "roc_auc = roc_auc_score(y_test, y_prob_best_xgb)\n",
    "\n",
    "# Create a DataFrame for the evaluation metrics\n",
    "evaluation_metrics = pd.DataFrame({\n",
    "    'Metric': ['Accuracy', 'Precision', 'Recall', 'F1 Score', 'ROC AUC'],\n",
    "    'Score': [accuracy, precision, recall, f1, roc_auc]\n",
    "})\n",
    "\n",
    "# Display the evaluation metrics in a table\n",
    "print(evaluation_metrics)\n",
    "\n",
    "# Confusion Matrix for XGBoost\n",
    "cm_xgb = confusion_matrix(y_test, y_pred_best_xgb)\n",
    "\n",
    "# -------- Plot Confusion Matrix --------\n",
    "plt.figure(figsize=(6, 5))\n",
    "sns.heatmap(cm_xgb, annot=True, fmt=\"d\", cmap=\"Blues\", xticklabels=[\"No Stroke\", \"Stroke\"], yticklabels=[\"No Stroke\", \"Stroke\"])\n",
    "plt.title(\"Confusion Matrix for XGBoost with SMOTE and Hyperparameter Tuning\")\n",
    "plt.xlabel(\"Predicted\")\n",
    "plt.ylabel(\"Actual\")\n",
    "plt.show()\n"
   ]
  },
  {
   "cell_type": "code",
   "execution_count": 116,
   "metadata": {},
   "outputs": [
    {
     "name": "stdout",
     "output_type": "stream",
     "text": [
      "gender                    0\n",
      "age                       0\n",
      "hypertension              0\n",
      "heart_disease             0\n",
      "ever_married              0\n",
      "work_type                 0\n",
      "Residence_type            0\n",
      "avg_glucose_level         0\n",
      "bmi                       0\n",
      "smoking_status            0\n",
      "stroke                    0\n",
      "gender_encoded            0\n",
      "ever_married_encoded      0\n",
      "work_type_encoded         0\n",
      "Residence_type_encoded    0\n",
      "smoking_status_encoded    0\n",
      "Age_temp                  0\n",
      "avg_glucose_level_temp    0\n",
      "dtype: int64\n"
     ]
    }
   ],
   "source": [
    "##Heart Disease\n",
    "\n",
    "\n",
    "print (df_hd.isnull().sum())"
   ]
  },
  {
   "cell_type": "code",
   "execution_count": 117,
   "metadata": {},
   "outputs": [
    {
     "name": "stdout",
     "output_type": "stream",
     "text": [
      "gender                     object\n",
      "age                       float64\n",
      "hypertension                int64\n",
      "heart_disease               int64\n",
      "ever_married               object\n",
      "work_type                  object\n",
      "Residence_type             object\n",
      "avg_glucose_level         float64\n",
      "bmi                       float64\n",
      "smoking_status             object\n",
      "stroke                      int64\n",
      "gender_encoded              int64\n",
      "ever_married_encoded        int64\n",
      "work_type_encoded           int64\n",
      "Residence_type_encoded      int64\n",
      "smoking_status_encoded      int64\n",
      "Age_temp                    int64\n",
      "avg_glucose_level_temp      int64\n",
      "dtype: object\n"
     ]
    }
   ],
   "source": [
    "print (df_hd.dtypes)"
   ]
  },
  {
   "cell_type": "code",
   "execution_count": 118,
   "metadata": {},
   "outputs": [
    {
     "name": "stdout",
     "output_type": "stream",
     "text": [
      "gender                     object\n",
      "age                       float64\n",
      "hypertension                int64\n",
      "heart_disease               int64\n",
      "ever_married               object\n",
      "work_type                  object\n",
      "Residence_type             object\n",
      "avg_glucose_level         float64\n",
      "bmi                       float64\n",
      "smoking_status             object\n",
      "stroke                      int64\n",
      "gender_encoded              int64\n",
      "ever_married_encoded        int64\n",
      "work_type_encoded           int64\n",
      "Residence_type_encoded      int64\n",
      "smoking_status_encoded      int64\n",
      "Age_temp                    int64\n",
      "avg_glucose_level_temp      int64\n",
      "dtype: object\n"
     ]
    }
   ],
   "source": [
    "# Convert categorical columns back to \"category\"\n",
    "categorical_cols = ['gender', 'ever_married', 'work_type', 'Residence_type', 'smoking_status']\n",
    "for col in categorical_cols:\n",
    "    df[col] = df_hd[col].astype('category')\n",
    "\n",
    "print(df_hd.dtypes)"
   ]
  },
  {
   "cell_type": "code",
   "execution_count": 119,
   "metadata": {},
   "outputs": [
    {
     "name": "stdout",
     "output_type": "stream",
     "text": [
      "   hypertension  stroke  heart_risk\n",
      "0             0       1           1\n",
      "1             0       1           1\n",
      "2             0       1           1\n",
      "3             0       1           1\n",
      "4             1       1           1\n",
      "5             0       1           1\n",
      "6             1       1           1\n",
      "7             0       1           1\n",
      "8             0       1           1\n",
      "9             0       1           1\n"
     ]
    }
   ],
   "source": [
    "df['heart_risk'] = (df['hypertension'] | df['stroke']).astype(int)\n",
    "\n",
    "# Verify the result\n",
    "print(df[['hypertension', 'stroke', 'heart_risk']].head(10))"
   ]
  },
  {
   "cell_type": "code",
   "execution_count": 120,
   "metadata": {},
   "outputs": [
    {
     "name": "stdout",
     "output_type": "stream",
     "text": [
      "gender                     object\n",
      "age                       float64\n",
      "hypertension                int64\n",
      "heart_disease               int64\n",
      "ever_married               object\n",
      "work_type                  object\n",
      "Residence_type             object\n",
      "avg_glucose_level         float64\n",
      "bmi                       float64\n",
      "smoking_status             object\n",
      "stroke                      int64\n",
      "gender_encoded              int64\n",
      "ever_married_encoded        int64\n",
      "work_type_encoded           int64\n",
      "Residence_type_encoded      int64\n",
      "smoking_status_encoded      int64\n",
      "Age_temp                    int64\n",
      "avg_glucose_level_temp      int64\n",
      "dtype: object\n"
     ]
    }
   ],
   "source": [
    "print (df_hd.dtypes)"
   ]
  },
  {
   "cell_type": "code",
   "execution_count": 121,
   "metadata": {},
   "outputs": [
    {
     "name": "stdout",
     "output_type": "stream",
     "text": [
      "   hypertension  stroke  heart_risk\n",
      "0             0       1           1\n",
      "1             0       1           1\n",
      "2             0       1           1\n",
      "3             0       1           1\n",
      "4             1       1           1\n",
      "5             0       1           1\n",
      "6             1       1           1\n",
      "7             0       1           1\n",
      "8             0       1           1\n",
      "9             0       1           1\n"
     ]
    }
   ],
   "source": [
    "df_hd['heart_risk'] = (df_hd['hypertension'] | df_hd['stroke']).astype(int)\n",
    "\n",
    "# Verify the result in your main DataFrame\n",
    "print(df_hd[['hypertension', 'stroke', 'heart_risk']].head(10))"
   ]
  },
  {
   "cell_type": "code",
   "execution_count": 128,
   "metadata": {},
   "outputs": [
    {
     "name": "stdout",
     "output_type": "stream",
     "text": [
      "                  Feature  Chi-square  P-value  Degrees of Freedom\n",
      "7              heart_risk   59.518010 0.000000                   1\n",
      "2                  stroke   48.486441 0.000000                   1\n",
      "0          gender_encoded   41.668182 0.000000                   1\n",
      "1            hypertension   25.182245 0.000001                   1\n",
      "4       work_type_encoded   12.548810 0.001884                   2\n",
      "6  smoking_status_encoded   12.276205 0.006494                   3\n",
      "3    ever_married_encoded    0.289938 0.590260                   1\n",
      "5  Residence_type_encoded    0.000000 1.000000                   1\n"
     ]
    }
   ],
   "source": [
    "import pandas as pd\n",
    "from scipy.stats import chi2_contingency\n",
    "\n",
    "\n",
    "# Select your categorical features\n",
    "categorical_features = [\n",
    "    'gender_encoded',\n",
    "    'hypertension',\n",
    "    'stroke',\n",
    "    'ever_married_encoded',\n",
    "    'work_type_encoded',\n",
    "    'Residence_type_encoded',\n",
    "    'smoking_status_encoded',\n",
    "    'heart_risk'\n",
    "]\n",
    "\n",
    "chi2_results_list = []\n",
    "\n",
    "# Perform chi-square test for each categorical feature against 'stroke'\n",
    "for feature in categorical_features:\n",
    "    contingency_table = pd.crosstab(df_hd[feature], df_hd['heart_disease'])\n",
    "    chi2, p, dof, expected = chi2_contingency(contingency_table)\n",
    "    chi2_results_list.append({'Feature': feature, 'Chi-square': chi2, 'P-value': p, 'Degrees of Freedom': dof})\n",
    "\n",
    "# Convert results to a Pandas DataFrame\n",
    "chi2_table = pd.DataFrame(chi2_results_list)\n",
    "\n",
    "# Format the 'P-value' column to display as a float with a certain number of decimal places\n",
    "pd.options.display.float_format = '{:.6f}'.format  # Display floats with 6 decimal places\n",
    "\n",
    "# Sort the table by Chi-square statistic (optional)\n",
    "chi2_table_sorted = chi2_table.sort_values(by='Chi-square', ascending=False)\n",
    "\n",
    "# Display the table\n",
    "print(chi2_table_sorted)\n",
    "\n",
    "# To reset the float formatting to default (optional)\n",
    "# pd.reset_option('display.float_format')\n"
   ]
  },
  {
   "cell_type": "code",
   "execution_count": 129,
   "metadata": {},
   "outputs": [
    {
     "name": "stdout",
     "output_type": "stream",
     "text": [
      "Feature: age\n",
      "  Mann-Whitney U Statistic: 718012.000\n",
      "  P-value: 0.000\n",
      "--------------------\n",
      "Feature: bmi\n",
      "  Mann-Whitney U Statistic: 451984.000\n",
      "  P-value: 0.729\n",
      "--------------------\n",
      "Feature: avg_glucose_level\n",
      "  Mann-Whitney U Statistic: 566664.500\n",
      "  P-value: 0.000\n",
      "--------------------\n"
     ]
    }
   ],
   "source": [
    "import pandas as pd\n",
    "from scipy.stats import mannwhitneyu\n",
    "\n",
    "\n",
    "numerical_features = ['age', 'bmi', 'avg_glucose_level']  # List of numerical features\n",
    "\n",
    "results = {}  # Dictionary to store results\n",
    "\n",
    "for feature in numerical_features:\n",
    "    # Separate data for stroke and no-stroke groups\n",
    "    hd_data = df_hd[df_hd['heart_disease'] == 1][feature]\n",
    "    no_hd_data = df_hd[df_hd['heart_disease'] == 0][feature]\n",
    "\n",
    "    # Perform the Mann-Whitney U test\n",
    "    u_statistic, p_value = mannwhitneyu(hd_data, no_hd_data, alternative='two-sided')\n",
    "\n",
    "    results[feature] = {'U Statistic': u_statistic, 'P-value': p_value}\n",
    "\n",
    "# Print the results\n",
    "for feature, values in results.items():\n",
    "    print(f\"Feature: {feature}\")\n",
    "    print(f\"  Mann-Whitney U Statistic: {values['U Statistic']:.3f}\")\n",
    "    print(f\"  P-value: {values['P-value']:.3f}\")\n",
    "    print(\"-\" * 20)  # Separator for clarity"
   ]
  },
  {
   "cell_type": "code",
   "execution_count": null,
   "metadata": {},
   "outputs": [
    {
     "name": "stdout",
     "output_type": "stream",
     "text": [
      "Fitting 5 folds for each of 6 candidates, totalling 30 fits\n",
      "Best Parameters from GridSearchCV:  {'C': 10, 'max_iter': 100, 'penalty': 'l2', 'solver': 'liblinear'}\n",
      "      Metric    Score\n",
      "0   Accuracy 0.922330\n",
      "1  Precision 0.000000\n",
      "2     Recall 0.000000\n",
      "3   F1 Score 0.000000\n",
      "4    ROC AUC 0.842015\n"
     ]
    },
    {
     "data": {
      "image/png": "[encoded data removed]",
      "text/plain": [
       "<Figure size 600x500 with 2 Axes>"
      ]
     },
     "metadata": {},
     "output_type": "display_data"
    }
   ],
   "source": [
    "#Logistic Regression with Hyperparamter Tuning\n",
    "import pandas as pd\n",
    "from sklearn.model_selection import train_test_split, GridSearchCV\n",
    "from sklearn.linear_model import LogisticRegression\n",
    "from sklearn.metrics import accuracy_score, precision_score, recall_score, f1_score, roc_auc_score, confusion_matrix\n",
    "import matplotlib.pyplot as plt\n",
    "import seaborn as sns\n",
    "\n",
    "# Select relevant predictors and target variable\n",
    "X = df_hd[['age', 'avg_glucose_level', 'heart_risk', 'gender_encoded', 'work_type_encoded', 'smoking_status_encoded', 'stroke']]\n",
    "y = df_hd['heart_disease']\n",
    "\n",
    "# Split the data into training and test sets\n",
    "X_train, X_test, y_train, y_test = train_test_split(X, y, test_size=0.2, random_state=42, stratify=y)\n",
    "\n",
    "# Define the Logistic Regression model\n",
    "lr_model = LogisticRegression(solver='liblinear', random_state=42)\n",
    "\n",
    "# Define the parameter grid for hyperparameter tuning\n",
    "param_grid = {\n",
    "    'C': [0.1, 1, 10],  # Regularization strength\n",
    "    'penalty': ['l2'],  # L2 regularization\n",
    "    'max_iter': [100, 200],  # Maximum number of iterations\n",
    "    'solver': ['liblinear'],  # Solver for optimization\n",
    "}\n",
    "\n",
    "# Perform grid search with 5-fold cross-validation\n",
    "grid_search = GridSearchCV(estimator=lr_model, param_grid=param_grid, cv=5, scoring='roc_auc', n_jobs=-1, verbose=1)\n",
    "grid_search.fit(X_train, y_train)\n",
    "\n",
    "# Get the best parameters from grid search\n",
    "best_params = grid_search.best_params_\n",
    "print(\"Best Parameters from GridSearchCV: \", best_params)\n",
    "\n",
    "# Get the best model from grid search\n",
    "best_lr_model = grid_search.best_estimator_\n",
    "\n",
    "# Predict on the test set using the best model\n",
    "y_pred_best_lr = best_lr_model.predict(X_test)\n",
    "y_prob_best_lr = best_lr_model.predict_proba(X_test)[:, 1]  # For ROC-AUC\n",
    "\n",
    "# Evaluate the best Logistic Regression model on the test set\n",
    "accuracy = accuracy_score(y_test, y_pred_best_lr)\n",
    "precision = precision_score(y_test, y_pred_best_lr)\n",
    "recall = recall_score(y_test, y_pred_best_lr)\n",
    "f1 = f1_score(y_test, y_pred_best_lr)\n",
    "roc_auc = roc_auc_score(y_test, y_prob_best_lr)\n",
    "\n",
    "# Create a DataFrame for the evaluation metrics\n",
    "evaluation_metrics = pd.DataFrame({\n",
    "    'Metric': ['Accuracy', 'Precision', 'Recall', 'F1 Score', 'ROC AUC'],\n",
    "    'Score': [accuracy, precision, recall, f1, roc_auc]\n",
    "})\n",
    "\n",
    "# Display the evaluation metrics in a table\n",
    "print(evaluation_metrics)\n",
    "\n",
    "# Confusion Matrix for Logistic Regression\n",
    "cm_lr = confusion_matrix(y_test, y_pred_best_lr)\n",
    "\n",
    "# -------- Plot Confusion Matrix --------\n",
    "plt.figure(figsize=(6, 5))\n",
    "sns.heatmap(cm_lr, annot=True, fmt=\"d\", cmap=\"Blues\", xticklabels=[\"No Heart Disease\", \"Heart Disease\"], yticklabels=[\"No Heart Disease\", \"Heart Disease\"])\n",
    "plt.title(\"Confusion Matrix for Logistic Regression with Hyperparameter Tuning\")\n",
    "plt.xlabel(\"Predicted\")\n",
    "plt.ylabel(\"Actual\")\n",
    "plt.show()\n"
   ]
  },
  {
   "cell_type": "code",
   "execution_count": null,
   "metadata": {},
   "outputs": [
    {
     "name": "stdout",
     "output_type": "stream",
     "text": [
      "Fitting 5 folds for each of 6 candidates, totalling 30 fits\n",
      "Best Parameters from GridSearchCV:  {'C': 1, 'max_iter': 100, 'penalty': 'l2', 'solver': 'liblinear'}\n",
      "      Metric    Score\n",
      "0   Accuracy 0.725381\n",
      "1  Precision 0.190476\n",
      "2     Recall 0.800000\n",
      "3   F1 Score 0.307692\n",
      "4    ROC AUC 0.840786\n"
     ]
    },
    {
     "data": {
      "image/png": "[encoded data removed]",
      "text/plain": [
       "<Figure size 600x500 with 2 Axes>"
      ]
     },
     "metadata": {},
     "output_type": "display_data"
    }
   ],
   "source": [
    "import pandas as pd\n",
    "from sklearn.model_selection import train_test_split, GridSearchCV\n",
    "from sklearn.linear_model import LogisticRegression\n",
    "from sklearn.metrics import accuracy_score, precision_score, recall_score, f1_score, roc_auc_score, confusion_matrix\n",
    "import matplotlib.pyplot as plt\n",
    "import seaborn as sns\n",
    "\n",
    "# Select relevant predictors and target variable\n",
    "X = df_hd[['age', 'avg_glucose_level', 'heart_risk', 'gender_encoded', 'work_type_encoded', 'smoking_status_encoded', 'stroke']]\n",
    "y = df_hd['heart_disease']\n",
    "\n",
    "# Split the data into training and test sets\n",
    "X_train, X_test, y_train, y_test = train_test_split(X, y, test_size=0.2, random_state=42, stratify=y)\n",
    "\n",
    "# Define the Logistic Regression model with balanced class weight\n",
    "lr_model_balanced = LogisticRegression(class_weight='balanced', solver='liblinear', random_state=42)\n",
    "\n",
    "# Define the parameter grid for hyperparameter tuning\n",
    "param_grid = {\n",
    "    'C': [0.1, 1, 10],  # Regularization strength\n",
    "    'penalty': ['l2'],  # L2 regularization\n",
    "    'max_iter': [100, 200],  # Maximum number of iterations\n",
    "    'solver': ['liblinear'],  # Solver for optimization\n",
    "}\n",
    "\n",
    "# Perform grid search with 5-fold cross-validation\n",
    "grid_search = GridSearchCV(estimator=lr_model_balanced, param_grid=param_grid, cv=5, scoring='roc_auc', n_jobs=-1, verbose=1)\n",
    "grid_search.fit(X_train, y_train)\n",
    "\n",
    "# Get the best parameters from grid search\n",
    "best_params = grid_search.best_params_\n",
    "print(\"Best Parameters from GridSearchCV: \", best_params)\n",
    "\n",
    "# Get the best model from grid search\n",
    "best_lr_model_balanced = grid_search.best_estimator_\n",
    "\n",
    "# Predict on the test set using the best model\n",
    "y_pred_best_lr_balanced = best_lr_model_balanced.predict(X_test)\n",
    "y_prob_best_lr_balanced = best_lr_model_balanced.predict_proba(X_test)[:, 1]  # For ROC-AUC\n",
    "\n",
    "# Evaluate the best Logistic Regression model on the test set\n",
    "accuracy = accuracy_score(y_test, y_pred_best_lr_balanced)\n",
    "precision = precision_score(y_test, y_pred_best_lr_balanced)\n",
    "recall = recall_score(y_test, y_pred_best_lr_balanced)\n",
    "f1 = f1_score(y_test, y_pred_best_lr_balanced)\n",
    "roc_auc = roc_auc_score(y_test, y_prob_best_lr_balanced)\n",
    "\n",
    "# Create a DataFrame for the evaluation metrics\n",
    "evaluation_metrics = pd.DataFrame({\n",
    "    'Metric': ['Accuracy', 'Precision', 'Recall', 'F1 Score', 'ROC AUC'],\n",
    "    'Score': [accuracy, precision, recall, f1, roc_auc]\n",
    "})\n",
    "\n",
    "# Display the evaluation metrics in a table\n",
    "print(evaluation_metrics)\n",
    "\n",
    "# Confusion Matrix for Logistic Regression with Balanced Weights\n",
    "cm_lr_balanced = confusion_matrix(y_test, y_pred_best_lr_balanced)\n",
    "\n",
    "# -------- Plot Confusion Matrix --------\n",
    "plt.figure(figsize=(6, 5))\n",
    "sns.heatmap(cm_lr_balanced, annot=True, fmt=\"d\", cmap=\"Blues\", xticklabels=[\"No Heart Disease\", \"Heart Disease\"], yticklabels=[\"No Heart Disease\", \"Heart Disease\"])\n",
    "plt.title(\"Confusion Matrix for Logistic Regression with Balanced Weights and Hyperparameter Tuning\")\n",
    "plt.xlabel(\"Predicted\")\n",
    "plt.ylabel(\"Actual\")\n",
    "plt.show()\n"
   ]
  },
  {
   "cell_type": "code",
   "execution_count": null,
   "metadata": {},
   "outputs": [
    {
     "name": "stdout",
     "output_type": "stream",
     "text": [
      "Fitting 5 folds for each of 6 candidates, totalling 30 fits\n",
      "Best Parameters from GridSearchCV:  {'C': 10, 'max_iter': 100, 'penalty': 'l2', 'solver': 'liblinear'}\n",
      "      Metric    Score\n",
      "0   Accuracy 0.737864\n",
      "1  Precision 0.165000\n",
      "2     Recall 0.600000\n",
      "3   F1 Score 0.258824\n",
      "4    ROC AUC 0.753754\n"
     ]
    },
    {
     "data": {
      "image/png": "[encoded data removed]",
      "text/plain": [
       "<Figure size 600x500 with 2 Axes>"
      ]
     },
     "metadata": {},
     "output_type": "display_data"
    }
   ],
   "source": [
    "#Logistic Regression with Smote and Hyperparameter Tuning\n",
    "import pandas as pd\n",
    "from sklearn.model_selection import train_test_split, GridSearchCV\n",
    "from sklearn.linear_model import LogisticRegression\n",
    "from sklearn.metrics import accuracy_score, precision_score, recall_score, f1_score, roc_auc_score, confusion_matrix\n",
    "from imblearn.over_sampling import SMOTE\n",
    "import matplotlib.pyplot as plt\n",
    "import seaborn as sns\n",
    "\n",
    "# Select relevant predictors and target variable \n",
    "X = df_hd[['age', 'avg_glucose_level', 'heart_risk', 'gender_encoded', 'work_type_encoded', 'smoking_status_encoded', 'stroke']]\n",
    "y = df_hd['heart_disease']\n",
    "\n",
    "# Split the data into training and test sets\n",
    "X_train, X_test, y_train, y_test = train_test_split(X, y, test_size=0.2, random_state=42, stratify=y)\n",
    "\n",
    "# Apply SMOTE to the training data\n",
    "smote = SMOTE(sampling_strategy='auto', random_state=42)\n",
    "X_train_res, y_train_res = smote.fit_resample(X_train, y_train)\n",
    "\n",
    "# Define the Logistic Regression model\n",
    "lr_model = LogisticRegression(solver='liblinear', random_state=42)\n",
    "\n",
    "# Define the parameter grid for hyperparameter tuning\n",
    "param_grid = {\n",
    "    'C': [0.1, 1, 10],  # Regularization strength\n",
    "    'penalty': ['l2'],  # L2 regularization\n",
    "    'max_iter': [100, 200],  # Maximum number of iterations\n",
    "    'solver': ['liblinear'],  # Solver for optimization\n",
    "}\n",
    "\n",
    "# Perform grid search with 5-fold cross-validation\n",
    "grid_search = GridSearchCV(estimator=lr_model, param_grid=param_grid, cv=5, scoring='roc_auc', n_jobs=-1, verbose=1)\n",
    "grid_search.fit(X_train_res, y_train_res)\n",
    "\n",
    "# Get the best parameters from grid search\n",
    "best_params = grid_search.best_params_\n",
    "print(\"Best Parameters from GridSearchCV: \", best_params)\n",
    "\n",
    "# Get the best model from grid search\n",
    "best_lr_model_smote = grid_search.best_estimator_\n",
    "\n",
    "# Predict on the test set using the best model\n",
    "y_pred_best_lr_smote = best_lr_model_smote.predict(X_test)\n",
    "y_prob_best_lr_smote = best_lr_model_smote.predict_proba(X_test)[:, 1]  # For ROC-AUC\n",
    "\n",
    "# Evaluate the best Logistic Regression model on the test set\n",
    "accuracy = accuracy_score(y_test, y_pred_best_lr_smote)\n",
    "precision = precision_score(y_test, y_pred_best_lr_smote)\n",
    "recall = recall_score(y_test, y_pred_best_lr_smote)\n",
    "f1 = f1_score(y_test, y_pred_best_lr_smote)\n",
    "roc_auc = roc_auc_score(y_test, y_prob_best_lr_smote)\n",
    "\n",
    "# Create a DataFrame for the evaluation metrics\n",
    "evaluation_metrics = pd.DataFrame({\n",
    "    'Metric': ['Accuracy', 'Precision', 'Recall', 'F1 Score', 'ROC AUC'],\n",
    "    'Score': [accuracy, precision, recall, f1, roc_auc]\n",
    "})\n",
    "\n",
    "# Display the evaluation metrics in a table\n",
    "print(evaluation_metrics)\n",
    "\n",
    "# Confusion Matrix for Logistic Regression with SMOTE\n",
    "cm_lr_smote = confusion_matrix(y_test, y_pred_best_lr_smote)\n",
    "\n",
    "# -------- Plot Confusion Matrix --------\n",
    "plt.figure(figsize=(6, 5))\n",
    "sns.heatmap(cm_lr_smote, annot=True, fmt=\"d\", cmap=\"Blues\", xticklabels=[\"No Heart Disease\", \"Heart Disease\"], yticklabels=[\"No Heart Disease\", \"Heart Disease\"])\n",
    "plt.title(\"Confusion Matrix for Logistic Regression with SMOTE and Hyperparameter Tuning\")\n",
    "plt.xlabel(\"Predicted\")\n",
    "plt.ylabel(\"Actual\")\n",
    "plt.show()\n"
   ]
  },
  {
   "cell_type": "code",
   "execution_count": null,
   "metadata": {},
   "outputs": [
    {
     "name": "stdout",
     "output_type": "stream",
     "text": [
      "Fitting 5 folds for each of 6 candidates, totalling 30 fits\n",
      "Best Parameters from GridSearchCV:  {'C': 10, 'max_iter': 100, 'penalty': 'l2', 'solver': 'liblinear'}\n",
      "      Metric    Score\n",
      "0   Accuracy 0.737864\n",
      "1  Precision 0.165000\n",
      "2     Recall 0.600000\n",
      "3   F1 Score 0.258824\n",
      "4    ROC AUC 0.753754\n"
     ]
    },
    {
     "data": {
      "image/png": "[encoded data removed]",
      "text/plain": [
       "<Figure size 600x500 with 2 Axes>"
      ]
     },
     "metadata": {},
     "output_type": "display_data"
    }
   ],
   "source": [
    "#Logistic Regression with Smote, Balanced weights and Hyperparameter tuning\n",
    "import pandas as pd\n",
    "from sklearn.model_selection import train_test_split, GridSearchCV\n",
    "from sklearn.linear_model import LogisticRegression\n",
    "from sklearn.metrics import accuracy_score, precision_score, recall_score, f1_score, roc_auc_score, confusion_matrix\n",
    "from imblearn.over_sampling import SMOTE\n",
    "import matplotlib.pyplot as plt\n",
    "import seaborn as sns\n",
    "\n",
    "\n",
    "# Select relevant predictors and target variable \n",
    "X = df_hd[['age', 'avg_glucose_level', 'heart_risk', 'gender_encoded', 'work_type_encoded', 'smoking_status_encoded', 'stroke']]\n",
    "y = df_hd['heart_disease']\n",
    "\n",
    "# Split the data into training and test sets\n",
    "X_train, X_test, y_train, y_test = train_test_split(X, y, test_size=0.2, random_state=42, stratify=y)\n",
    "\n",
    "# Apply SMOTE to the training data\n",
    "smote = SMOTE(sampling_strategy='auto', random_state=42)\n",
    "X_train_res, y_train_res = smote.fit_resample(X_train, y_train)\n",
    "\n",
    "# Define the Logistic Regression model with balanced class weight\n",
    "lr_model_balanced = LogisticRegression(solver='liblinear', random_state=42, class_weight='balanced')\n",
    "\n",
    "# Define the parameter grid for hyperparameter tuning\n",
    "param_grid = {\n",
    "    'C': [0.1, 1, 10],  # Regularization strength\n",
    "    'penalty': ['l2'],  # L2 regularization\n",
    "    'max_iter': [100, 200],  # Maximum number of iterations\n",
    "    'solver': ['liblinear'],  # Solver for optimization\n",
    "}\n",
    "\n",
    "# Perform grid search with 5-fold cross-validation\n",
    "grid_search = GridSearchCV(estimator=lr_model_balanced, param_grid=param_grid, cv=5, scoring='roc_auc', n_jobs=-1, verbose=1)\n",
    "grid_search.fit(X_train_res, y_train_res)\n",
    "\n",
    "# Get the best parameters from grid search\n",
    "best_params = grid_search.best_params_\n",
    "print(\"Best Parameters from GridSearchCV: \", best_params)\n",
    "\n",
    "# Get the best model from grid search\n",
    "best_lr_model_balanced_smote = grid_search.best_estimator_\n",
    "\n",
    "# Predict on the test set using the best model\n",
    "y_pred_best_lr_balanced_smote = best_lr_model_balanced_smote.predict(X_test)\n",
    "y_prob_best_lr_balanced_smote = best_lr_model_balanced_smote.predict_proba(X_test)[:, 1]  # For ROC-AUC\n",
    "\n",
    "# Evaluate the best Logistic Regression model on the test set\n",
    "accuracy = accuracy_score(y_test, y_pred_best_lr_balanced_smote)\n",
    "precision = precision_score(y_test, y_pred_best_lr_balanced_smote)\n",
    "recall = recall_score(y_test, y_pred_best_lr_balanced_smote)\n",
    "f1 = f1_score(y_test, y_pred_best_lr_balanced_smote)\n",
    "roc_auc = roc_auc_score(y_test, y_prob_best_lr_balanced_smote)\n",
    "\n",
    "# Create a DataFrame for the evaluation metrics\n",
    "evaluation_metrics = pd.DataFrame({\n",
    "    'Metric': ['Accuracy', 'Precision', 'Recall', 'F1 Score', 'ROC AUC'],\n",
    "    'Score': [accuracy, precision, recall, f1, roc_auc]\n",
    "})\n",
    "\n",
    "# Display the evaluation metrics in a table\n",
    "print(evaluation_metrics)\n",
    "\n",
    "# Confusion Matrix for Logistic Regression with SMOTE and Balanced Class Weight\n",
    "cm_lr_balanced_smote = confusion_matrix(y_test, y_pred_best_lr_balanced_smote)\n",
    "\n",
    "# -------- Plot Confusion Matrix --------\n",
    "plt.figure(figsize=(6, 5))\n",
    "sns.heatmap(cm_lr_balanced_smote, annot=True, fmt=\"d\", cmap=\"Blues\", xticklabels=[\"No Heart Disease\", \"Heart Disease\"], yticklabels=[\"No Heart Disease\", \"Heart Disease\"])\n",
    "plt.title(\"Confusion Matrix for Logistic Regression with SMOTE and Balanced Class Weight and Hyperparameter Tuning\")\n",
    "plt.xlabel(\"Predicted\")\n",
    "plt.ylabel(\"Actual\")\n",
    "plt.show()\n"
   ]
  },
  {
   "cell_type": "code",
   "execution_count": null,
   "metadata": {},
   "outputs": [
    {
     "name": "stdout",
     "output_type": "stream",
     "text": [
      "Fitting 5 folds for each of 972 candidates, totalling 4860 fits\n",
      "Best Parameters from GridSearchCV:  {'colsample_bytree': 1.0, 'gamma': 0.2, 'learning_rate': 0.01, 'max_depth': 3, 'min_child_weight': 5, 'n_estimators': 200, 'subsample': 0.8}\n",
      "      Metric    Score\n",
      "0   Accuracy 0.923717\n",
      "1  Precision 0.000000\n",
      "2     Recall 0.000000\n",
      "3   F1 Score 0.000000\n",
      "4    ROC AUC 0.812790\n"
     ]
    },
    {
     "name": "stderr",
     "output_type": "stream",
     "text": [
      "c:\\Users\\poula\\miniconda3\\envs\\dsi_participant\\lib\\site-packages\\sklearn\\metrics\\_classification.py:1531: UndefinedMetricWarning: Precision is ill-defined and being set to 0.0 due to no predicted samples. Use `zero_division` parameter to control this behavior.\n",
      "  _warn_prf(average, modifier, f\"{metric.capitalize()} is\", len(result))\n"
     ]
    },
    {
     "data": {
      "image/png": "[encoded data removed]",
      "text/plain": [
       "<Figure size 600x500 with 2 Axes>"
      ]
     },
     "metadata": {},
     "output_type": "display_data"
    }
   ],
   "source": [
    "#Xgboost with hyperparameter tuning\n",
    "import pandas as pd\n",
    "from sklearn.model_selection import train_test_split, GridSearchCV\n",
    "from xgboost import XGBClassifier\n",
    "from sklearn.metrics import accuracy_score, precision_score, recall_score, f1_score, roc_auc_score, confusion_matrix\n",
    "import matplotlib.pyplot as plt\n",
    "import seaborn as sns\n",
    "\n",
    "# Select relevant predictors and target variable \n",
    "X = df_hd[['age', 'avg_glucose_level', 'heart_risk', 'gender_encoded', 'work_type_encoded', 'smoking_status_encoded', 'stroke']]\n",
    "y = df_hd['heart_disease']\n",
    "\n",
    "# Split the data into training and test sets\n",
    "X_train, X_test, y_train, y_test = train_test_split(X, y, test_size=0.2, random_state=42, stratify=y)\n",
    "\n",
    "# Define the XGBoost model\n",
    "xgb_model = XGBClassifier(random_state=42)\n",
    "\n",
    "# Define the parameter grid for hyperparameter tuning\n",
    "param_grid = {\n",
    "    'learning_rate': [0.01, 0.05, 0.1],  # Step size shrinking\n",
    "    'n_estimators': [50, 100, 200],  # Number of boosting rounds\n",
    "    'max_depth': [3, 5, 7],  # Maximum depth of a tree\n",
    "    'min_child_weight': [1, 3, 5],  # Minimum sum of instance weight for a child\n",
    "    'subsample': [0.8, 1.0],  # Fraction of samples used for fitting trees\n",
    "    'colsample_bytree': [0.8, 1.0],  # Fraction of features used for each tree\n",
    "    'gamma': [0, 0.1, 0.2]  # Minimum loss reduction required to make a further partition\n",
    "}\n",
    "\n",
    "# Perform grid search with 5-fold cross-validation\n",
    "grid_search = GridSearchCV(estimator=xgb_model, param_grid=param_grid, cv=5, scoring='roc_auc', n_jobs=-1, verbose=1)\n",
    "grid_search.fit(X_train, y_train)\n",
    "\n",
    "# Get the best parameters from grid search\n",
    "best_params = grid_search.best_params_\n",
    "print(\"Best Parameters from GridSearchCV: \", best_params)\n",
    "\n",
    "# Get the best model from grid search\n",
    "best_xgb_model = grid_search.best_estimator_\n",
    "\n",
    "# Predict on the test set using the best model\n",
    "y_pred_best_xgb = best_xgb_model.predict(X_test)\n",
    "y_prob_best_xgb = best_xgb_model.predict_proba(X_test)[:, 1]  # For ROC-AUC\n",
    "\n",
    "# Evaluate the best XGBoost model on the test set\n",
    "accuracy = accuracy_score(y_test, y_pred_best_xgb)\n",
    "precision = precision_score(y_test, y_pred_best_xgb)\n",
    "recall = recall_score(y_test, y_pred_best_xgb)\n",
    "f1 = f1_score(y_test, y_pred_best_xgb)\n",
    "roc_auc = roc_auc_score(y_test, y_prob_best_xgb)\n",
    "\n",
    "# Create a DataFrame for the evaluation metrics\n",
    "evaluation_metrics = pd.DataFrame({\n",
    "    'Metric': ['Accuracy', 'Precision', 'Recall', 'F1 Score', 'ROC AUC'],\n",
    "    'Score': [accuracy, precision, recall, f1, roc_auc]\n",
    "})\n",
    "\n",
    "# Display the evaluation metrics in a table\n",
    "print(evaluation_metrics)\n",
    "\n",
    "# Confusion Matrix for XGBoost with Hyperparameter Tuning\n",
    "cm_xgb = confusion_matrix(y_test, y_pred_best_xgb)\n",
    "\n",
    "# -------- Plot Confusion Matrix --------\n",
    "plt.figure(figsize=(6, 5))\n",
    "sns.heatmap(cm_xgb, annot=True, fmt=\"d\", cmap=\"Blues\", xticklabels=[\"No Heart Disease\", \"Heart Disease\"], yticklabels=[\"No Heart Disease\", \"Heart Disease\"])\n",
    "plt.title(\"Confusion Matrix for XGBoost with Hyperparameter Tuning\")\n",
    "plt.xlabel(\"Predicted\")\n",
    "plt.ylabel(\"Actual\")\n",
    "plt.show()\n"
   ]
  },
  {
   "cell_type": "code",
   "execution_count": null,
   "metadata": {},
   "outputs": [
    {
     "name": "stdout",
     "output_type": "stream",
     "text": [
      "Fitting 5 folds for each of 972 candidates, totalling 4860 fits\n",
      "Best Parameters from GridSearchCV:  {'colsample_bytree': 1.0, 'gamma': 0, 'learning_rate': 0.1, 'max_depth': 7, 'min_child_weight': 1, 'n_estimators': 200, 'subsample': 0.8}\n",
      "      Metric    Score\n",
      "0   Accuracy 0.858530\n",
      "1  Precision 0.138462\n",
      "2     Recall 0.163636\n",
      "3   F1 Score 0.150000\n",
      "4    ROC AUC 0.712067\n"
     ]
    },
    {
     "data": {
      "image/png": "[encoded data removed]",
      "text/plain": [
       "<Figure size 600x500 with 2 Axes>"
      ]
     },
     "metadata": {},
     "output_type": "display_data"
    }
   ],
   "source": [
    "import pandas as pd\n",
    "from sklearn.model_selection import train_test_split, GridSearchCV\n",
    "from imblearn.over_sampling import SMOTE\n",
    "from xgboost import XGBClassifier\n",
    "from sklearn.metrics import accuracy_score, precision_score, recall_score, f1_score, roc_auc_score, confusion_matrix\n",
    "import matplotlib.pyplot as plt\n",
    "import seaborn as sns\n",
    "\n",
    "# Assuming df_hd is your dataset\n",
    "# Select relevant predictors and target variable \n",
    "X = df_hd[['age', 'avg_glucose_level', 'heart_risk', 'gender_encoded', 'work_type_encoded', 'smoking_status_encoded', 'stroke']]\n",
    "y = df_hd['heart_disease']\n",
    "\n",
    "# Split the data into training and test sets\n",
    "X_train, X_test, y_train, y_test = train_test_split(X, y, test_size=0.2, random_state=42, stratify=y)\n",
    "\n",
    "# Apply SMOTE to handle class imbalance\n",
    "smote = SMOTE(sampling_strategy='auto', random_state=42)\n",
    "X_train_res, y_train_res = smote.fit_resample(X_train, y_train)\n",
    "\n",
    "# Define the XGBoost model\n",
    "xgb_model = XGBClassifier(random_state=42)\n",
    "\n",
    "# Define the parameter grid for hyperparameter tuning\n",
    "param_grid = {\n",
    "    'learning_rate': [0.01, 0.05, 0.1],  # Step size shrinking\n",
    "    'n_estimators': [50, 100, 200],  # Number of boosting rounds\n",
    "    'max_depth': [3, 5, 7],  # Maximum depth of a tree\n",
    "    'min_child_weight': [1, 3, 5],  # Minimum sum of instance weight for a child\n",
    "    'subsample': [0.8, 1.0],  # Fraction of samples used for fitting trees\n",
    "    'colsample_bytree': [0.8, 1.0],  # Fraction of features used for each tree\n",
    "    'gamma': [0, 0.1, 0.2]  # Minimum loss reduction required to make a further partition\n",
    "}\n",
    "\n",
    "# Perform grid search with 5-fold cross-validation\n",
    "grid_search = GridSearchCV(estimator=xgb_model, param_grid=param_grid, cv=5, scoring='roc_auc', n_jobs=-1, verbose=1)\n",
    "grid_search.fit(X_train_res, y_train_res)\n",
    "\n",
    "# Get the best parameters from grid search\n",
    "best_params = grid_search.best_params_\n",
    "print(\"Best Parameters from GridSearchCV: \", best_params)\n",
    "\n",
    "# Get the best model from grid search\n",
    "best_xgb_model = grid_search.best_estimator_\n",
    "\n",
    "# Predict on the test set using the best model\n",
    "y_pred_best_xgb = best_xgb_model.predict(X_test)\n",
    "y_prob_best_xgb = best_xgb_model.predict_proba(X_test)[:, 1]  # For ROC-AUC\n",
    "\n",
    "# Evaluate the best XGBoost model on the test set\n",
    "accuracy = accuracy_score(y_test, y_pred_best_xgb)\n",
    "precision = precision_score(y_test, y_pred_best_xgb)\n",
    "recall = recall_score(y_test, y_pred_best_xgb)\n",
    "f1 = f1_score(y_test, y_pred_best_xgb)\n",
    "roc_auc = roc_auc_score(y_test, y_prob_best_xgb)\n",
    "\n",
    "# Create a DataFrame for the evaluation metrics\n",
    "evaluation_metrics = pd.DataFrame({\n",
    "    'Metric': ['Accuracy', 'Precision', 'Recall', 'F1 Score', 'ROC AUC'],\n",
    "    'Score': [accuracy, precision, recall, f1, roc_auc]\n",
    "})\n",
    "\n",
    "# Display the evaluation metrics in a table\n",
    "print(evaluation_metrics)\n",
    "\n",
    "# Confusion Matrix for XGBoost with SMOTE and Hyperparameter Tuning\n",
    "cm_xgb = confusion_matrix(y_test, y_pred_best_xgb)\n",
    "\n",
    "# -------- Plot Confusion Matrix --------\n",
    "plt.figure(figsize=(6, 5))\n",
    "sns.heatmap(cm_xgb, annot=True, fmt=\"d\", cmap=\"Blues\", xticklabels=[\"No Heart Disease\", \"Heart Disease\"], yticklabels=[\"No Heart Disease\", \"Heart Disease\"])\n",
    "plt.title(\"Confusion Matrix for XGBoost with SMOTE and Hyperparameter Tuning\")\n",
    "plt.xlabel(\"Predicted\")\n",
    "plt.ylabel(\"Actual\")\n",
    "plt.show()\n"
   ]
  }
 ],
 "metadata": {
  "kernelspec": {
   "display_name": "dsi_participant",
   "language": "python",
   "name": "python3"
  },
  "language_info": {
   "codemirror_mode": {
    "name": "ipython",
    "version": 3
   },
   "file_extension": ".py",
   "mimetype": "text/x-python",
   "name": "python",
   "nbconvert_exporter": "python",
   "pygments_lexer": "ipython3",
   "version": "3.9.15"
  }
 },
 "nbformat": 4,
 "nbformat_minor": 2
}
