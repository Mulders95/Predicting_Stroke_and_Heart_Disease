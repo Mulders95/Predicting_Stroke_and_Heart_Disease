{
 "cells": [
  {
   "cell_type": "markdown",
   "metadata": {},
   "source": [
    "This file operates on the stroke_full.csv data which had been created by the file DSI_project_v2.ipynb using the dataset present in healthcare-dataset-stroke-data.csv\n",
    "\n",
    "For further details on how stroke_full.csv was created, and the data it contains, please read the documentation in DSI_project_v2.ipynb"
   ]
  },
  {
   "cell_type": "code",
   "execution_count": 592,
   "metadata": {},
   "outputs": [],
   "source": [
    "import numpy as np\n",
    "import pandas as pd\n",
    "from sklearn.preprocessing import StandardScaler\n",
    "from scipy.stats import chi2_contingency\n",
    "from sklearn.feature_selection import VarianceThreshold"
   ]
  },
  {
   "cell_type": "code",
   "execution_count": 593,
   "metadata": {},
   "outputs": [
    {
     "name": "stdout",
     "output_type": "stream",
     "text": [
      "gender                     object\n",
      "age                       float64\n",
      "hypertension                int64\n",
      "heart_disease               int64\n",
      "ever_married               object\n",
      "work_type                  object\n",
      "Residence_type             object\n",
      "avg_glucose_level         float64\n",
      "bmi                       float64\n",
      "smoking_status             object\n",
      "stroke                      int64\n",
      "gender_encoded              int64\n",
      "ever_married_encoded        int64\n",
      "work_type_encoded           int64\n",
      "Residence_type_encoded      int64\n",
      "smoking_status_encoded      int64\n",
      "Age_temp                    int64\n",
      "avg_glucose_level_temp      int64\n",
      "dtype: object\n"
     ]
    }
   ],
   "source": [
    "df = pd.read_csv(\"stroke_full.csv\")\n",
    "print (df.dtypes)"
   ]
  },
  {
   "cell_type": "markdown",
   "metadata": {},
   "source": [
    "Note that gender and smoking_status are showing up as object variables even though they were category variables when this dataframe was written to stroke_full.csv by DSI_project_v2.ipynb. This is a known issue in \n",
    "\n",
    "pandas. "
   ]
  },
  {
   "cell_type": "code",
   "execution_count": 594,
   "metadata": {},
   "outputs": [
    {
     "name": "stdout",
     "output_type": "stream",
     "text": [
      "(3413, 18)\n"
     ]
    }
   ],
   "source": [
    "print (df.shape)"
   ]
  },
  {
   "cell_type": "code",
   "execution_count": 595,
   "metadata": {},
   "outputs": [
    {
     "name": "stdout",
     "output_type": "stream",
     "text": [
      "gender                    category\n",
      "age                        float64\n",
      "hypertension                 int64\n",
      "heart_disease                int64\n",
      "ever_married              category\n",
      "work_type                 category\n",
      "Residence_type            category\n",
      "avg_glucose_level          float64\n",
      "bmi                        float64\n",
      "smoking_status            category\n",
      "stroke                       int64\n",
      "gender_encoded               int64\n",
      "ever_married_encoded         int64\n",
      "work_type_encoded            int64\n",
      "Residence_type_encoded       int64\n",
      "smoking_status_encoded       int64\n",
      "Age_temp                     int64\n",
      "avg_glucose_level_temp       int64\n",
      "dtype: object\n"
     ]
    }
   ],
   "source": [
    "# Convert categorical columns back to \"category\"\n",
    "categorical_cols = ['gender', 'ever_married', 'work_type', 'Residence_type', 'smoking_status']\n",
    "for col in categorical_cols:\n",
    "    df[col] = df[col].astype('category')\n",
    "\n",
    "print(df.dtypes)"
   ]
  },
  {
   "cell_type": "code",
   "execution_count": 596,
   "metadata": {},
   "outputs": [
    {
     "name": "stdout",
     "output_type": "stream",
     "text": [
      "   hypertension  heart_disease  heart_risk\n",
      "0             0              1           1\n",
      "1             0              0           0\n",
      "2             0              1           1\n",
      "3             0              0           0\n",
      "4             1              0           1\n",
      "5             0              0           0\n",
      "6             1              1           1\n",
      "7             0              0           0\n",
      "8             0              0           0\n",
      "9             0              0           0\n"
     ]
    }
   ],
   "source": [
    "df['heart_risk'] = (df['hypertension'] | df['heart_disease']).astype(int)\n",
    "\n",
    "# Verify the result\n",
    "print(df[['hypertension', 'heart_disease', 'heart_risk']].head(10))"
   ]
  },
  {
   "cell_type": "code",
   "execution_count": 597,
   "metadata": {},
   "outputs": [
    {
     "name": "stdout",
     "output_type": "stream",
     "text": [
      "gender                    category\n",
      "age                        float64\n",
      "hypertension                 int64\n",
      "heart_disease                int64\n",
      "ever_married              category\n",
      "work_type                 category\n",
      "Residence_type            category\n",
      "avg_glucose_level          float64\n",
      "bmi                        float64\n",
      "smoking_status            category\n",
      "stroke                       int64\n",
      "gender_encoded               int64\n",
      "ever_married_encoded         int64\n",
      "work_type_encoded            int64\n",
      "Residence_type_encoded       int64\n",
      "smoking_status_encoded       int64\n",
      "Age_temp                     int64\n",
      "avg_glucose_level_temp       int64\n",
      "heart_risk                   int64\n",
      "dtype: object\n"
     ]
    }
   ],
   "source": [
    "print (df.dtypes)\n"
   ]
  },
  {
   "cell_type": "code",
   "execution_count": 598,
   "metadata": {},
   "outputs": [
    {
     "name": "stdout",
     "output_type": "stream",
     "text": [
      "\n",
      "Count of each level in 'gender':\n",
      "Female: 2026\n",
      "Male: 1387\n",
      "\n",
      "Count of each level in 'ever_married':\n",
      "Yes: 3051\n",
      "No: 362\n",
      "\n",
      "Count of each level in 'work_type':\n",
      "Private: 2090\n",
      "Self-employed: 753\n",
      "Govt_job: 570\n",
      "\n",
      "Count of each level in 'Residence_type':\n",
      "Urban: 1729\n",
      "Rural: 1684\n",
      "\n",
      "Count of each level in 'smoking_status':\n",
      "never smoked: 1371\n",
      "formerly smoked: 773\n",
      "Unknown: 661\n",
      "smokes: 608\n"
     ]
    }
   ],
   "source": [
    "# Select all category variables in this dataset and obtain the counts of each levels of those variables.\n",
    "category_columns = df.select_dtypes(include='category').columns\n",
    "\n",
    "for col in category_columns:\n",
    "    print(f\"\\nCount of each level in '{col}':\")\n",
    "    counts = df[col].value_counts()\n",
    "    for category, count in counts.items():\n",
    "        print(f\"{category}: {count}\")"
   ]
  },
  {
   "cell_type": "code",
   "execution_count": 599,
   "metadata": {},
   "outputs": [],
   "source": [
    "#This function does a Chi square test of independence on two nominal variables. It returns the Chi Square test statistic, p-value, degrees of freedom, and expected frequencies\n",
    "def chi_square(dataframe, var1, var2):\n",
    "    try:\n",
    "        # Create the contingency table\n",
    "        contingency_table = pd.crosstab(dataframe[var1], dataframe[var2])\n",
    "\n",
    "        # Do the chi-square test\n",
    "        chi2, p, dof, expected = chi2_contingency(contingency_table)\n",
    "\n",
    "        return chi2, p, dof, expected\n",
    "\n",
    "    except:\n",
    "        print(f\"Error performing chi-square test\")\n",
    "\n"
   ]
  },
  {
   "cell_type": "code",
   "execution_count": 600,
   "metadata": {},
   "outputs": [
    {
     "name": "stdout",
     "output_type": "stream",
     "text": [
      "Chi-square statistic: 0.9177594052664405\n",
      "P-value: 0.33806396780881875\n",
      "Degrees of freedom: 1\n",
      "Expected frequencies:\n",
      "[[1879.3776736 1286.6223264]\n",
      " [ 146.6223264  100.3776736]]\n"
     ]
    }
   ],
   "source": [
    "#stroke and gender\n",
    "result = chi_square(df, 'stroke', 'gender')\n",
    "if result:\n",
    "    chi2, p, dof, expected = result\n",
    "    print(f\"Chi-square statistic: {chi2}\")\n",
    "    print(f\"P-value: {p}\")\n",
    "    print(f\"Degrees of freedom: {dof}\")\n",
    "    print(\"Expected frequencies:\")\n",
    "    print(expected)"
   ]
  },
  {
   "cell_type": "markdown",
   "metadata": {},
   "source": [
    "p value of the Chi square test of independence on gender and stroke is 0.338. Hence we fail to reject the null hypothesis of no association between gender and stroke."
   ]
  },
  {
   "cell_type": "code",
   "execution_count": 601,
   "metadata": {},
   "outputs": [
    {
     "name": "stdout",
     "output_type": "stream",
     "text": [
      "Chi-square statistic: 67.27529316498607\n",
      "P-value: 2.361219893995417e-16\n",
      "Degrees of freedom: 1\n",
      "Expected frequencies:\n",
      "[[2528.71842953  637.28157047]\n",
      " [ 197.28157047   49.71842953]]\n"
     ]
    }
   ],
   "source": [
    "#Stroke and heart risk\n",
    "result = chi_square(df, 'stroke', 'heart_risk')\n",
    "if result:\n",
    "    chi2, p, dof, expected = result\n",
    "    print(f\"Chi-square statistic: {chi2}\")\n",
    "    print(f\"P-value: {p}\")\n",
    "    print(f\"Degrees of freedom: {dof}\")\n",
    "    print(\"Expected frequencies:\")\n",
    "    print(expected)\n"
   ]
  },
  {
   "cell_type": "markdown",
   "metadata": {},
   "source": [
    "p-value for the Chi square test of independence on heart risk and stroke is 0.000. Hence we reject H0 and conclude that there **is** a significant association between heart risk and stroke"
   ]
  },
  {
   "cell_type": "code",
   "execution_count": 602,
   "metadata": {},
   "outputs": [
    {
     "name": "stdout",
     "output_type": "stream",
     "text": [
      "Chi-square statistic: 0.004196368695238362\n",
      "P-value: 0.9483496555138795\n",
      "Degrees of freedom: 1\n",
      "Expected frequencies:\n",
      "[[ 335.80193378 2830.19806622]\n",
      " [  26.19806622  220.80193378]]\n"
     ]
    }
   ],
   "source": [
    "#Stroke and ever married\n",
    "result = chi_square(df, 'stroke', 'ever_married')\n",
    "if result:\n",
    "    chi2, p, dof, expected = result\n",
    "    print(f\"Chi-square statistic: {chi2}\")\n",
    "    print(f\"P-value: {p}\")\n",
    "    print(f\"Degrees of freedom: {dof}\")\n",
    "    print(\"Expected frequencies:\")\n",
    "    print(expected)"
   ]
  },
  {
   "cell_type": "markdown",
   "metadata": {},
   "source": [
    "p value of the Chi square test of independence on stroke and ever married is 0.9483. Hence we fail to reject the null hypothesis of no association between stroke and ever married at the 5% significance level."
   ]
  },
  {
   "cell_type": "code",
   "execution_count": 603,
   "metadata": {},
   "outputs": [
    {
     "name": "stdout",
     "output_type": "stream",
     "text": [
      "Chi-square statistic: 3.998458019195217\n",
      "P-value: 0.13543966567485147\n",
      "Degrees of freedom: 2\n",
      "Expected frequencies:\n",
      "[[ 528.74890126 1938.74597129  698.50512745]\n",
      " [  41.25109874  151.25402871   54.49487255]]\n"
     ]
    }
   ],
   "source": [
    "#Stroke and work type\n",
    "result = chi_square(df, 'stroke', 'work_type')\n",
    "if result:\n",
    "    chi2, p, dof, expected = result\n",
    "    print(f\"Chi-square statistic: {chi2}\")\n",
    "    print(f\"P-value: {p}\")\n",
    "    print(f\"Degrees of freedom: {dof}\")\n",
    "    print(\"Expected frequencies:\")\n",
    "    print(expected)"
   ]
  },
  {
   "cell_type": "markdown",
   "metadata": {},
   "source": [
    "p value of the Chi square test of independence on stroke and work_type is 0.1354. Hence we fail to reject the null hypothesis of no association between stroke and ever married at the 5% significance level."
   ]
  },
  {
   "cell_type": "code",
   "execution_count": 604,
   "metadata": {},
   "outputs": [
    {
     "name": "stdout",
     "output_type": "stream",
     "text": [
      "Chi-square statistic: 1.2237362549577369\n",
      "P-value: 0.2686286548452952\n",
      "Degrees of freedom: 1\n",
      "Expected frequencies:\n",
      "[[1562.12833285 1603.87166715]\n",
      " [ 121.87166715  125.12833285]]\n"
     ]
    }
   ],
   "source": [
    "#Stroke and Residence type\n",
    "result = chi_square(df, 'stroke', 'Residence_type')\n",
    "if result:\n",
    "    chi2, p, dof, expected = result\n",
    "    print(f\"Chi-square statistic: {chi2}\")\n",
    "    print(f\"P-value: {p}\")\n",
    "    print(f\"Degrees of freedom: {dof}\")\n",
    "    print(\"Expected frequencies:\")\n",
    "    print(expected)"
   ]
  },
  {
   "cell_type": "markdown",
   "metadata": {},
   "source": [
    "p value of the Chi square test of independence on stroke and Residence_type is 0.2686. Hence we fail to reject the null hypothesis of no association between stroke and Residence type at the 5% significance level."
   ]
  },
  {
   "cell_type": "code",
   "execution_count": 605,
   "metadata": {},
   "outputs": [
    {
     "name": "stdout",
     "output_type": "stream",
     "text": [
      "Chi-square statistic: 5.011184251740086\n",
      "P-value: 0.17098000795349666\n",
      "Degrees of freedom: 3\n",
      "Expected frequencies:\n",
      "[[ 613.16319953  717.05772048 1271.78025198  563.99882801]\n",
      " [  47.83680047   55.94227952   99.21974802   44.00117199]]\n"
     ]
    }
   ],
   "source": [
    "#Stroke and Smoking type\n",
    "result = chi_square(df, 'stroke', 'smoking_status')\n",
    "if result:\n",
    "    chi2, p, dof, expected = result\n",
    "    print(f\"Chi-square statistic: {chi2}\")\n",
    "    print(f\"P-value: {p}\")\n",
    "    print(f\"Degrees of freedom: {dof}\")\n",
    "    print(\"Expected frequencies:\")\n",
    "    print(expected)"
   ]
  },
  {
   "cell_type": "markdown",
   "metadata": {},
   "source": [
    "p value of the Chi square test of independence on stroke and smoking_status is 0.1710. Hence we fail to reject the null hypothesis of no association between stroke and smoking status type at the 5% significance level.\n",
    "\n",
    "However, the smoking status variable is a very interesting variable in that its levels are never smoked, formerly smoked, Unknown and smokes. Let's try doing some other other Chi square tests of independence and see \n",
    "\n",
    "what happens. In the first test we will combine formerly smoked and smokes into one category and have never smoked and Unknown as the other two categories. "
   ]
  },
  {
   "cell_type": "code",
   "execution_count": 606,
   "metadata": {},
   "outputs": [],
   "source": [
    "#  Combines two or three levels of 'smoking_status' into a new level.\n",
    "def combine_smoker_categories(df, new_level, level1, level2, level3 = None):\n",
    "    # Create a mapping dictionary\n",
    "    category_mapping = {level1: new_level, level2: new_level}\n",
    "    if level3 is not None:\n",
    "        category_mapping[level3] = new_level\n",
    "    \n",
    "    # Apply the mapping to the column\n",
    "    df['smoking_status'] = df['smoking_status'].map(category_mapping).fillna(df['smoking_status'])\n",
    "    \n",
    "    # Convert back to categorical and remove unused categories\n",
    "    df['smoking_status'] = df['smoking_status'].astype('category').cat.remove_unused_categories()\n",
    "    \n",
    "    return df\n"
   ]
  },
  {
   "cell_type": "code",
   "execution_count": 607,
   "metadata": {},
   "outputs": [
    {
     "name": "stdout",
     "output_type": "stream",
     "text": [
      "Chi-square statistic: 2.6728070843107927\n",
      "P-value: 0.26278908094368353\n",
      "Degrees of freedom: 2\n",
      "Expected frequencies:\n",
      "[[1281.05654849  613.16319953 1271.78025198]\n",
      " [  99.94345151   47.83680047   99.21974802]]\n"
     ]
    }
   ],
   "source": [
    "df_smoke_test = combine_smoker_categories(df.copy(),'Ever_Smoked', 'smokes', 'formerly smoked')\n",
    "result = chi_square(df_smoke_test, 'stroke', 'smoking_status')\n",
    "if result:\n",
    "    chi2, p, dof, expected = result\n",
    "    print(f\"Chi-square statistic: {chi2}\")\n",
    "    print(f\"P-value: {p}\")\n",
    "    print(f\"Degrees of freedom: {dof}\")\n",
    "    print(\"Expected frequencies:\")\n",
    "    print(expected)"
   ]
  },
  {
   "cell_type": "code",
   "execution_count": 608,
   "metadata": {},
   "outputs": [
    {
     "name": "stdout",
     "output_type": "stream",
     "text": [
      "Chi-square statistic: 1.3807519931334042\n",
      "P-value: 0.2399730970890941\n",
      "Degrees of freedom: 1\n",
      "Expected frequencies:\n",
      "[[1894.21974802 1271.78025198]\n",
      " [ 147.78025198   99.21974802]]\n"
     ]
    }
   ],
   "source": [
    "df_smoke_test_2 = combine_smoker_categories(df.copy(), 'Ever_Smoked', 'smokes', 'formerly smoked', 'Unknown' )\n",
    "result = chi_square(df_smoke_test_2, 'stroke', 'smoking_status')\n",
    "if result:\n",
    "    chi2, p, dof, expected = result\n",
    "    print(f\"Chi-square statistic: {chi2}\")\n",
    "    print(f\"P-value: {p}\")\n",
    "    print(f\"Degrees of freedom: {dof}\")\n",
    "    print(\"Expected frequencies:\")\n",
    "    print(expected)"
   ]
  },
  {
   "cell_type": "markdown",
   "metadata": {},
   "source": [
    "p-values for the Chi square test on stroke and smoking_status continues to remain non-significant even when we combined the levels of the smoking_status variable in all possible (even non-intuitive) ways."
   ]
  },
  {
   "cell_type": "markdown",
   "metadata": {},
   "source": [
    "Our inference so far is: \n",
    "\n",
    "**No association exists between Stroke and the following variables**: Gender, ever_married, work_type, residence_type\n",
    "\n",
    "**An association exists between Stroke and heart risk**, where heart risk is a composite variable obtained by combining the binary variables hypertension and heart_disease\n",
    "\n",
    "A question exists over whether there is any association between Stroke and Smoking status. The Chi Square test of independence is saying there is no association based on the current levels of smoking status which are \n",
    "\n",
    "never smoked, formerly smoked, Unknown, and smokes. Combining the observations corresponding to formerly smoked and smokes into a a single level called Ever_Smoked and doing a Chi Square test of independence on \n",
    "\n",
    "stroke and smoking status yielded an insignificant p value at the 5% significance level. Combining the observations corresponding to formerly smoked, smokes and Unknown into a a single level called Ever_Smoked and \n",
    "\n",
    "doing a Chi Square test of independence on stroke and smoking status also yielded an insignificant p value at the 5% significance level. This second combination of formerly smoked, smokes and Unknown was completely \n",
    "\n",
    "arbitrary and done the assumption that many former smokers would refuse to disclose that they had been smokers previously. The point is that no matter how we frame the Chi Square test of independence, the dataset we \n",
    "\n",
    "have continues to tell us that there is no association between Stroke and smoking status at the 5% significance level.\n",
    "\n",
    "Our revised inference therefore is:\n",
    "\n",
    "**No association exists between Stroke and the following variables**: Gender, ever_married, work_type, residence_type, and smoking_status\n",
    "\n",
    "**An association exists between Stroke and heart risk**, where heart risk is a composite variable obtained by combining the binary variables hypertension and heart_disease\n"
   ]
  },
  {
   "cell_type": "markdown",
   "metadata": {},
   "source": [
    "**Numerical Features**\n",
    "\n",
    "There are three candidate features in this dataset which are numerical variables. These are age, avg_glucose_level, and bmi. Using the VarianceThreshold method we will identify if any of these variables has a \n",
    "\n",
    "variance of 0.9 or more in its variable values in which case it would be useful for any prediction. We will standardize these numerical variables before we apply the VarianceThreshold method on them.\n"
   ]
  },
  {
   "cell_type": "code",
   "execution_count": 609,
   "metadata": {},
   "outputs": [],
   "source": [
    "df_numerical_predictors = df[['age', 'avg_glucose_level', 'bmi']]\n",
    "#numerical_predictors.head(6)"
   ]
  },
  {
   "cell_type": "code",
   "execution_count": 610,
   "metadata": {},
   "outputs": [],
   "source": [
    "def scale_numerical_predictors(df, numerical_predictors):\n",
    "    scaler = StandardScaler()\n",
    "\n",
    "    # Create a copy of the dataframe to avoid modifying the original.\n",
    "    df_scaled = df.copy()\n",
    "\n",
    "    # Scale the numerical columns.\n",
    "    df_scaled[numerical_predictors] = scaler.fit_transform(df_scaled[numerical_predictors])\n",
    "\n",
    "    return df_scaled"
   ]
  },
  {
   "cell_type": "code",
   "execution_count": 611,
   "metadata": {},
   "outputs": [
    {
     "name": "stdout",
     "output_type": "stream",
     "text": [
      "           age  avg_glucose_level       bmi\n",
      "0     0.763532           2.312038  0.887420\n",
      "1     0.343728           1.787070 -0.305926\n",
      "2     1.673108          -0.121883  0.260149\n",
      "3    -0.495881           1.172891  0.550835\n",
      "4     1.603141           1.230185 -1.040292\n",
      "...        ...                ...       ...\n",
      "3408  1.673108          -0.561404 -0.367123\n",
      "3409  1.743076           0.260344  1.407596\n",
      "3410 -1.475424          -0.576471 -0.030538\n",
      "3411 -0.355946           1.074955 -0.795503\n",
      "3412 -0.845718          -0.531072 -0.703707\n",
      "\n",
      "[3413 rows x 3 columns]\n"
     ]
    }
   ],
   "source": [
    "numerical_predictors = ['age', 'avg_glucose_level', 'bmi']\n",
    "df_numerical_predictors_scaled = scale_numerical_predictors(df_numerical_predictors, numerical_predictors)\n",
    "print (df_numerical_predictors_scaled)"
   ]
  },
  {
   "cell_type": "code",
   "execution_count": 612,
   "metadata": {},
   "outputs": [
    {
     "name": "stdout",
     "output_type": "stream",
     "text": [
      "[ True  True  True]\n"
     ]
    }
   ],
   "source": [
    "var_thr = VarianceThreshold(threshold = 0.90)\n",
    "var_thr.fit(df_numerical_predictors_scaled)\n",
    "mask = var_thr.get_support()\n",
    "print (mask)\n"
   ]
  },
  {
   "cell_type": "markdown",
   "metadata": {},
   "source": [
    "Our inference is:\n",
    "\n",
    "All three numerical predictors (age, avg_glucose_level, and bmi) have a variance greater or equal to 0.90 implying sufficient inherent variability for prediction of the binary outcome variable stroke (presence or \n",
    "\n",
    "absence of stroke). Whether these three numerical predictors are significant predictors of the outcome variable will have to be determined by a statistical test or model."
   ]
  },
  {
   "cell_type": "markdown",
   "metadata": {},
   "source": [
    "At this point, we are left with four predictors for stroke. The three numerical variables age, avg_glucose_level and bmi, and also the nominal binary variable heart_risk (which is a composite variable created by \n",
    "\n",
    "combining the hypertension and heart_disease variables.)"
   ]
  }
 ],
 "metadata": {
  "kernelspec": {
   "display_name": "dsi_participant",
   "language": "python",
   "name": "python3"
  },
  "language_info": {
   "codemirror_mode": {
    "name": "ipython",
    "version": 3
   },
   "file_extension": ".py",
   "mimetype": "text/x-python",
   "name": "python",
   "nbconvert_exporter": "python",
   "pygments_lexer": "ipython3",
   "version": "3.9.18"
  }
 },
 "nbformat": 4,
 "nbformat_minor": 2
}
